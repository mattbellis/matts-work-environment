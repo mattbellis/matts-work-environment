{
 "metadata": {
  "name": "",
  "signature": "sha256:f138a8f4cb62e3f945993cebf1aca51a430575d3d70857b573aa5e74c1fea534"
 },
 "nbformat": 3,
 "nbformat_minor": 0,
 "worksheets": [
  {
   "cells": [
    {
     "cell_type": "markdown",
     "metadata": {},
     "source": [
      "$$E = \\frac{(D_\\alpha/D_\\beta) - 1}{\\sqrt{(m_\\beta/m_\\alpha)}-1}$$\n",
      "$$E(\\sqrt{(m_\\beta/m_\\alpha)}-1) = (D_\\alpha/D_\\beta) - 1$$\n",
      "$$E(\\sqrt{(m_\\beta/m_\\alpha)}-1) + 1 = (D_\\alpha/D_\\beta)$$\n",
      "$$D_\\alpha = (E(\\sqrt{(m_\\beta/m_\\alpha)}-1) + 1 )D_\\beta $$"
     ]
    },
    {
     "cell_type": "markdown",
     "metadata": {},
     "source": []
    },
    {
     "cell_type": "code",
     "collapsed": false,
     "input": [
      "print x"
     ],
     "language": "python",
     "metadata": {},
     "outputs": [
      {
       "output_type": "stream",
       "stream": "stdout",
       "text": [
        "10\n"
       ]
      }
     ],
     "prompt_number": 2
    },
    {
     "cell_type": "code",
     "collapsed": false,
     "input": [],
     "language": "python",
     "metadata": {},
     "outputs": []
    }
   ],
   "metadata": {}
  }
 ]
}