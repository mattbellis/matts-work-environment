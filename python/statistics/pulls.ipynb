{
 "metadata": {
  "name": "",
  "signature": "sha256:7699ebeb4c24060086289536c0c438ed673ac9b0e7e6077f5fcda5840198d3ac"
 },
 "nbformat": 3,
 "nbformat_minor": 0,
 "worksheets": [
  {
   "cells": [
    {
     "cell_type": "code",
     "collapsed": false,
     "input": [
      "import numpy as np\n",
      "import matplotlib.pylab as plt\n",
      "import scipy.stats as stats\n",
      "\n",
      "x0 = 5\n",
      "sig0 = 0.5\n",
      "\n",
      "nvals = 100000\n",
      "\n",
      "x = np.random.normal(x0,sig0,nvals)\n",
      "xerr = sig0*np.ones(len(x))\n",
      "\n",
      "lo = -5\n",
      "hi = 5\n",
      "nbins = 50\n",
      "plt.hist((x-x0)/xerr,bins=nbins,range=(lo,hi))\n",
      "\n",
      "binwidth = ((hi-lo)/float(nbins))\n",
      "print binwidth\n",
      "scale = nvals*(binwidth)\n",
      "xpts = np.linspace(-5,5,1000)\n",
      "gauss = stats.norm(loc=0,scale=1)\n",
      "ypts = (scale)*gauss.pdf(xpts)\n",
      "\n",
      "plt.plot(xpts,ypts,linewidth=2,color='red')\n",
      "\n",
      "plt.xlim(lo,hi)\n",
      "\n"
     ],
     "language": "python",
     "metadata": {},
     "outputs": [
      {
       "output_type": "stream",
       "stream": "stdout",
       "text": [
        "0.2\n"
       ]
      },
      {
       "metadata": {},
       "output_type": "pyout",
       "prompt_number": 30,
       "text": [
        "(-5, 5)"
       ]
      },
      {
       "metadata": {},
       "output_type": "display_data",
       "png": "[encoded data removed]",
       "text": [
        "<matplotlib.figure.Figure at 0x7fc39b1d7590>"
       ]
      }
     ],
     "prompt_number": 30
    },
    {
     "cell_type": "code",
     "collapsed": false,
     "input": [],
     "language": "python",
     "metadata": {},
     "outputs": []
    }
   ],
   "metadata": {}
  }
 ]
}