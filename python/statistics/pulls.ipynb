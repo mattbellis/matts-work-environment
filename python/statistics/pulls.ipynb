{
 "metadata": {
  "name": "",
  "signature": "sha256:d65aad556c6b449dc9f4470beaed805d2713f96e0fe2c363089a109064cfb7b4"
 },
 "nbformat": 3,
 "nbformat_minor": 0,
 "worksheets": [
  {
   "cells": [
    {
     "cell_type": "code",
     "collapsed": false,
     "input": [
      "import numpy as np\n",
      "import matplotlib.pylab as plt\n",
      "import scipy.stats as stats\n",
      "\n",
      "x0 = 5\n",
      "sig0 = 0.5\n",
      "\n",
      "nvals = 100000\n",
      "\n",
      "x = np.random.normal(x0,sig0,nvals)\n",
      "#xerr = sig0*np.ones(len(x))\n",
      "xerr = np.random.normal(sig0,0.05,nvals)\n",
      "print xerr\n",
      "\n",
      "lo = -5\n",
      "hi = 5\n",
      "nbins = 50\n",
      "plt.hist((x-x0)/sig0,bins=nbins,range=(lo,hi))\n",
      "\n",
      "binwidth = ((hi-lo)/float(nbins))\n",
      "print binwidth\n",
      "scale = nvals*(binwidth)\n",
      "xpts = np.linspace(-5,5,1000)\n",
      "gauss = stats.norm(loc=0,scale=1)\n",
      "ypts = (scale)*gauss.pdf(xpts)\n",
      "\n",
      "plt.plot(xpts,ypts,linewidth=2,color='red')\n",
      "\n",
      "plt.xlim(lo,hi)\n",
      "\n"
     ],
     "language": "python",
     "metadata": {},
     "outputs": [
      {
       "output_type": "stream",
       "stream": "stdout",
       "text": [
        "[ 0.51667429  0.33713867  0.48540215 ...,  0.58718911  0.45093234\n",
        "  0.47289342]\n",
        "0.2"
       ]
      },
      {
       "output_type": "stream",
       "stream": "stdout",
       "text": [
        "\n"
       ]
      },
      {
       "metadata": {},
       "output_type": "pyout",
       "prompt_number": 7,
       "text": [
        "(-5, 5)"
       ]
      },
      {
       "metadata": {},
       "output_type": "display_data",
       "png": "[encoded data removed]",
       "text": [
        "<matplotlib.figure.Figure at 0x7f906fe99590>"
       ]
      }
     ],
     "prompt_number": 7
    },
    {
     "cell_type": "code",
     "collapsed": false,
     "input": [],
     "language": "python",
     "metadata": {},
     "outputs": []
    }
   ],
   "metadata": {}
  }
 ]
}