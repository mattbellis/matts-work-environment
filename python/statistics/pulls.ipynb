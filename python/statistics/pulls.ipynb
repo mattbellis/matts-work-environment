{
 "metadata": {
  "name": "",
  "signature": "sha256:62f1a0b9e38b404b44911fe48d825e4d55976b940598030a4e629f59197baed0"
 },
 "nbformat": 3,
 "nbformat_minor": 0,
 "worksheets": [
  {
   "cells": [
    {
     "cell_type": "code",
     "collapsed": false,
     "input": [
      "import numpy as np\n",
      "import matplotlib.pylab as plt\n",
      "import scipy.stats as stats\n",
      "\n",
      "x0mean = 100\n",
      "sig0 = 25\n",
      "\n",
      "nvals = 10000\n",
      "\n",
      "x0 = stats.poisson(x0mean).rvs(nvals)\n",
      "\n",
      "x = np.random.normal(x0mean,sig0,nvals)\n",
      "xerr = sig0*np.ones(len(x))\n",
      "\n",
      "lo = -5\n",
      "hi = 5\n",
      "nbins = 50\n",
      "plt.figure()\n",
      "plt.hist((x-x0)/xerr,bins=nbins,range=(lo,hi))\n",
      "\n",
      "binwidth = ((hi-lo)/float(nbins))\n",
      "print binwidth\n",
      "scale = nvals*(binwidth)\n",
      "xpts = np.linspace(-5,5,1000)\n",
      "gauss = stats.norm(loc=0,scale=1)\n",
      "ypts = (scale)*gauss.pdf(xpts)\n",
      "\n",
      "\n",
      "plt.plot(xpts,ypts,linewidth=2,color='red')\n",
      "\n",
      "plt.xlim(lo,hi)\n",
      "\n",
      "plt.figure()\n",
      "plt.hist(x0,bins=nbins)\n",
      "\n",
      "\n"
     ],
     "language": "python",
     "metadata": {},
     "outputs": [
      {
       "output_type": "stream",
       "stream": "stdout",
       "text": [
        "0.2\n"
       ]
      },
      {
       "metadata": {},
       "output_type": "pyout",
       "prompt_number": 13,
       "text": [
        "(array([   2.,    1.,    4.,    4.,   12.,    6.,   24.,   14.,   72.,\n",
        "          40.,  125.,   80.,   87.,  245.,  162.,  371.,  248.,  528.,\n",
        "         306.,  616.,  373.,  740.,  387.,  797.,  383.,  394.,  769.,\n",
        "         344.,  632.,  277.,  523.,  204.,  354.,  137.,  217.,  109.,\n",
        "         145.,   55.,   41.,   57.,   24.,   38.,   15.,   22.,    2.,\n",
        "           5.,    3.,    4.,    0.,    2.]),\n",
        " array([  65.  ,   66.46,   67.92,   69.38,   70.84,   72.3 ,   73.76,\n",
        "          75.22,   76.68,   78.14,   79.6 ,   81.06,   82.52,   83.98,\n",
        "          85.44,   86.9 ,   88.36,   89.82,   91.28,   92.74,   94.2 ,\n",
        "          95.66,   97.12,   98.58,  100.04,  101.5 ,  102.96,  104.42,\n",
        "         105.88,  107.34,  108.8 ,  110.26,  111.72,  113.18,  114.64,\n",
        "         116.1 ,  117.56,  119.02,  120.48,  121.94,  123.4 ,  124.86,\n",
        "         126.32,  127.78,  129.24,  130.7 ,  132.16,  133.62,  135.08,\n",
        "         136.54,  138.  ]),\n",
        " <a list of 50 Patch objects>)"
       ]
      },
      {
       "metadata": {},
       "output_type": "display_data",
       "png": "[encoded data removed]",
       "text": [
        "<matplotlib.figure.Figure at 0x7f3ff6cd5a50>"
       ]
      },
      {
       "metadata": {},
       "output_type": "display_data",
       "png": "[encoded data removed]",
       "text": [
        "<matplotlib.figure.Figure at 0x7f3ff6400150>"
       ]
      }
     ],
     "prompt_number": 13
    },
    {
     "cell_type": "code",
     "collapsed": false,
     "input": [],
     "language": "python",
     "metadata": {},
     "outputs": [],
     "prompt_number": 9
    },
    {
     "cell_type": "code",
     "collapsed": false,
     "input": [],
     "language": "python",
     "metadata": {},
     "outputs": []
    }
   ],
   "metadata": {}
  }
 ]
}