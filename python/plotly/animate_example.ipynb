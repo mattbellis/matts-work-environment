{
 "cells": [
  {
   "cell_type": "code",
   "execution_count": null,
   "metadata": {},
   "outputs": [],
   "source": [
    "import plotly\n",
    "\n",
    "from plotly.offline import download_plotlyjs, init_notebook_mode, plot, iplot\n",
    "\n",
    "init_notebook_mode(connected=True)\n",
    "plotly.__version__\n",
    "\n",
    "# Doesn't work yet. Needs plotly 1.12.12"
   ]
  },
  {
   "cell_type": "code",
   "execution_count": null,
   "metadata": {},
   "outputs": [],
   "source": [
    "import plotly.plotly as py\n",
    "from plotly.grid_objs import Grid, Column\n",
    "\n",
    "import time\n",
    "\n",
    "column_1 = Column([0.5], 'x')\n",
    "column_2 = Column([0.5], 'y')\n",
    "column_3 = Column([1.5], 'x2')\n",
    "column_4 = Column([1.5], 'y2')\n",
    "\n",
    "grid = Grid([column_1, column_2, column_3, column_4])\n"
   ]
  },
  {
   "cell_type": "code",
   "execution_count": null,
   "metadata": {},
   "outputs": [],
   "source": [
    "#grid.get_column(1)\n"
   ]
  },
  {
   "cell_type": "code",
   "execution_count": null,
   "metadata": {},
   "outputs": [],
   "source": [
    "figure = {\n",
    "    'data': [\n",
    "        {\n",
    "            'xsrc': grid.get_column_reference('x'),\n",
    "            'ysrc': grid.get_column_reference('y'),\n",
    "            'mode': 'markers',\n",
    "        }\n",
    "    ],\n",
    "    'layout': {'title': 'Ping Pong Animation',\n",
    "               'xaxis': {'range': [0, 2], 'autorange': False},\n",
    "               'yaxis': {'range': [0, 2], 'autorange': False},\n",
    "               'updatemenus': [{\n",
    "                   'buttons': [\n",
    "                       {'args': [None],\n",
    "                        'label': 'Play',\n",
    "                        'method': 'animate'}\n",
    "               ],\n",
    "               'pad': {'r': 10, 't': 87},\n",
    "               'showactive': False,\n",
    "               'type': 'buttons'\n",
    "                }]},\n",
    "    'frames': [\n",
    "        {\n",
    "            'data': [\n",
    "                {\n",
    "                    'xsrc': grid.get_column_reference('x2'),\n",
    "                    'ysrc': grid.get_column_reference('y2'),\n",
    "                    'mode': 'markers',\n",
    "                }\n",
    "            ]\n",
    "        },\n",
    "        {\n",
    "            'data': [\n",
    "                {\n",
    "                    'xsrc': grid.get_column_reference('x'),\n",
    "                    'ysrc': grid.get_column_reference('y'),\n",
    "                    'mode': 'markers',\n",
    "                }\n",
    "            ]\n",
    "        }\n",
    "    ]\n",
    "}\n",
    "\n",
    "py.icreate_animations(figure, 'ping_pong'+str(time.time()))\n"
   ]
  },
  {
   "cell_type": "code",
   "execution_count": null,
   "metadata": {
    "collapsed": true
   },
   "outputs": [],
   "source": []
  }
 ],
 "metadata": {
  "kernelspec": {
   "display_name": "Python 3",
   "language": "python",
   "name": "python3"
  },
  "language_info": {
   "codemirror_mode": {
    "name": "ipython",
    "version": 3
   },
   "file_extension": ".py",
   "mimetype": "text/x-python",
   "name": "python",
   "nbconvert_exporter": "python",
   "pygments_lexer": "ipython3",
   "version": "3.6.1"
  }
 },
 "nbformat": 4,
 "nbformat_minor": 2
}
