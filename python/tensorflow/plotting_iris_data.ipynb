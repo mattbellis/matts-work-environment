{
 "cells": [
  {
   "cell_type": "code",
   "execution_count": null,
   "metadata": {
    "collapsed": true
   },
   "outputs": [],
   "source": [
    "import matplotlib.pylab as plt\n",
    "%matplotlib notebook\n",
    "import numpy as np"
   ]
  },
  {
   "cell_type": "code",
   "execution_count": null,
   "metadata": {},
   "outputs": [],
   "source": [
    "#columns = np.loadtxt('iris_training.csv',delimiter=',',skiprows=1,unpack=True,dtype='bytes')\n",
    "columns = np.loadtxt('iris_test.csv',delimiter=',',skiprows=1,unpack=True,dtype='bytes')\n",
    "\n",
    "\n",
    "data = {}\n",
    "data[\"sepal length\"] = columns[0].astype(float)\n",
    "data[\"sepal width\"] = columns[1].astype(float)\n",
    "data[\"petal length\"] = columns[2].astype(float)\n",
    "data[\"petal width\"] = columns[3].astype(float)\n",
    "data[\"flower type\"] = columns[4].astype(int)\n",
    "\n",
    "# For flower type\n",
    "ftype = [\"setosa\",\"versicolor\",\"virginica\"]\n",
    "\n",
    "plot_combos = []\n",
    "keys = list(data.keys())\n",
    "\n",
    "print(keys)\n",
    "\n",
    "keys.remove(\"flower type\")\n",
    "\n",
    "print(keys)"
   ]
  },
  {
   "cell_type": "code",
   "execution_count": null,
   "metadata": {
    "scrolled": false
   },
   "outputs": [],
   "source": [
    "plt.figure(figsize=(9,9))\n",
    "\n",
    "nkeys = len(keys)\n",
    "\n",
    "for i in range(0,nkeys-1):\n",
    "    \n",
    "    for j in range(i+1,nkeys):\n",
    "        \n",
    "        print(i,j)\n",
    "        \n",
    "        plt.subplot(3,3,i*(nkeys-1) + j )\n",
    "        \n",
    "        for k in range(0,3):\n",
    "            \n",
    "            index = data[\"flower type\"] == k\n",
    "            \n",
    "            x = data[keys[i]][index]\n",
    "            y = data[keys[j]][index]\n",
    "\n",
    "            plt.plot(x,y, 'o', label = ftype[k])\n",
    "            \n",
    "            plt.xlabel(keys[i])\n",
    "            plt.ylabel(keys[j])\n",
    "            \n",
    "            plt.legend()\n",
    "\n",
    "\n",
    "\n",
    "plt.tight_layout()"
   ]
  },
  {
   "cell_type": "code",
   "execution_count": null,
   "metadata": {
    "collapsed": true
   },
   "outputs": [],
   "source": []
  }
 ],
 "metadata": {
  "kernelspec": {
   "display_name": "Python 3",
   "language": "python",
   "name": "python3"
  },
  "language_info": {
   "codemirror_mode": {
    "name": "ipython",
    "version": 3
   },
   "file_extension": ".py",
   "mimetype": "text/x-python",
   "name": "python",
   "nbconvert_exporter": "python",
   "pygments_lexer": "ipython3",
   "version": "3.6.2"
  }
 },
 "nbformat": 4,
 "nbformat_minor": 2
}
