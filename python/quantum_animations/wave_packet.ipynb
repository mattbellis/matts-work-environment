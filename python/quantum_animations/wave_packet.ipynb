{
 "cells": [
  {
   "cell_type": "code",
   "execution_count": null,
   "metadata": {
    "collapsed": true
   },
   "outputs": [],
   "source": [
    "import numpy as np\n",
    "\n",
    "import matplotlib.pylab as plt\n",
    "\n",
    "%matplotlib notebook"
   ]
  },
  {
   "cell_type": "code",
   "execution_count": null,
   "metadata": {
    "collapsed": true
   },
   "outputs": [],
   "source": [
    "c = 1\n",
    "\n",
    "def func(x,t,wavelength=1):\n",
    "    \n",
    "    p0 = np.exp(-(x-c*t)**2)\n",
    "    p1 = np.cos(2*np.pi*(x-c*t)/wavelength)\n",
    "    p2 = np.sin(2*np.pi*(x-c*t)/wavelength)\n",
    "    \n",
    "    return p0,p1,p2"
   ]
  },
  {
   "cell_type": "code",
   "execution_count": null,
   "metadata": {},
   "outputs": [],
   "source": [
    "# NOT WORKING\n",
    "def func_sum(x,t,k=0,wavelength=1):\n",
    "    \n",
    "    A = (1/np.sqrt(2)) * 1\n",
    "    p0 = np.exp(-(x-c*t)**2)\n",
    "    p1 = np.cos(2*np.pi*(x-c*t)/wavelength)\n",
    "    p2 = np.sin(2*np.pi*(x-c*t)/wavelength)\n",
    "    \n",
    "    return p0,p1,p2"
   ]
  },
  {
   "cell_type": "code",
   "execution_count": null,
   "metadata": {},
   "outputs": [],
   "source": [
    "x = np.linspace(0,10,1000)\n",
    "t = 5\n",
    "\n",
    "p0,p1,p2 = func(x,t)\n",
    "\n",
    "y = p0*p1\n",
    "\n",
    "\n",
    "plt.figure(figsize=(7,7))\n",
    "\n",
    "plt.subplot(2,2,1)\n",
    "plt.plot(x,y)\n",
    "\n",
    "plt.subplot(2,2,2)\n",
    "plt.plot(x,y**2)\n",
    "\n",
    "plt.subplot(2,2,3)\n",
    "y2 = p0**2 * (p1**2 + p2**2)\n",
    "plt.plot(x,y2)\n",
    "\n",
    "\n",
    "plt.tight_layout()"
   ]
  },
  {
   "cell_type": "code",
   "execution_count": null,
   "metadata": {
    "collapsed": true
   },
   "outputs": [],
   "source": []
  }
 ],
 "metadata": {
  "kernelspec": {
   "display_name": "Python 3",
   "language": "python",
   "name": "python3"
  },
  "language_info": {
   "codemirror_mode": {
    "name": "ipython",
    "version": 3
   },
   "file_extension": ".py",
   "mimetype": "text/x-python",
   "name": "python",
   "nbconvert_exporter": "python",
   "pygments_lexer": "ipython3",
   "version": "3.6.2"
  }
 },
 "nbformat": 4,
 "nbformat_minor": 2
}
