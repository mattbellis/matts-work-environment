{
 "cells": [
  {
   "cell_type": "code",
   "execution_count": null,
   "metadata": {
    "collapsed": true
   },
   "outputs": [],
   "source": [
    "import numpy as np\n",
    "import matplotlib.pylab as plt\n",
    "\n",
    "%matplotlib notebook"
   ]
  },
  {
   "cell_type": "code",
   "execution_count": null,
   "metadata": {
    "collapsed": true
   },
   "outputs": [],
   "source": [
    "x = np.linspace(-10,10,1000)"
   ]
  },
  {
   "cell_type": "code",
   "execution_count": null,
   "metadata": {},
   "outputs": [],
   "source": [
    "t = 0\n",
    "\n",
    "# Wave 0\n",
    "k0 = 1\n",
    "w0 = 1\n",
    "y0 = np.sin(k0*x - w0*t)\n",
    "\n",
    "# Wave 1\n",
    "k1 = 2\n",
    "w1 = 4\n",
    "y1 = np.sin(k1*x - w1*t)\n",
    "\n",
    "# Sum of waves\n",
    "ysum = y0 + y1\n",
    "\n",
    "plt.figure(figsize=(10,4))\n",
    "\n",
    "plt.subplot(3,1,1)\n",
    "plt.plot(x,y0,label='Wave 0',alpha=0.5)\n",
    "plt.plot(x,y1,label='Wave 1',alpha=0.5)\n",
    "plt.plot(x,ysum,label='Sum of waves')\n",
    "\n",
    "\n",
    "t = 0.5\n",
    "y0 = np.sin(k0*x - w0*t)\n",
    "y1 = np.sin(k1*x - w1*t)\n",
    "ysum = y0 + y1\n",
    "\n",
    "plt.subplot(3,1,2)\n",
    "plt.plot(x,y0,label='Wave 0',alpha=0.5)\n",
    "plt.plot(x,y1,label='Wave 1',alpha=0.5)\n",
    "plt.plot(x,ysum,label='Sum of waves')\n",
    "\n",
    "\n",
    "t = 1.0\n",
    "y0 = np.sin(k0*x - w0*t)\n",
    "y1 = np.sin(k1*x - w1*t)\n",
    "ysum = y0 + y1\n",
    "\n",
    "plt.subplot(3,1,3)\n",
    "plt.plot(x,y0,label='Wave 0',alpha=0.5)\n",
    "plt.plot(x,y1,label='Wave 1',alpha=0.5)\n",
    "plt.plot(x,ysum,label='Sum of waves')\n"
   ]
  },
  {
   "cell_type": "code",
   "execution_count": null,
   "metadata": {
    "collapsed": true
   },
   "outputs": [],
   "source": []
  }
 ],
 "metadata": {
  "kernelspec": {
   "display_name": "Python 3",
   "language": "python",
   "name": "python3"
  },
  "language_info": {
   "codemirror_mode": {
    "name": "ipython",
    "version": 3
   },
   "file_extension": ".py",
   "mimetype": "text/x-python",
   "name": "python",
   "nbconvert_exporter": "python",
   "pygments_lexer": "ipython3",
   "version": "3.6.2"
  }
 },
 "nbformat": 4,
 "nbformat_minor": 2
}
