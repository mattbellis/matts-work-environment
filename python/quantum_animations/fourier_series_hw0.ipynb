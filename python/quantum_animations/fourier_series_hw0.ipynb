{
 "cells": [
  {
   "cell_type": "code",
   "execution_count": null,
   "metadata": {
    "collapsed": true
   },
   "outputs": [],
   "source": [
    "import matplotlib.pylab as plt\n",
    "%matplotlib notebook\n",
    "import numpy as np\n",
    "from numpy import pi,sin,cos"
   ]
  },
  {
   "cell_type": "code",
   "execution_count": null,
   "metadata": {},
   "outputs": [],
   "source": [
    "# Make some dummy points on the x-axis from -4 to 4\n",
    "\n",
    "x = np.linspace(-4,4,1000)\n",
    "y = x\n",
    "\n",
    "plt.figure()\n",
    "plt.plot(x,y)"
   ]
  },
  {
   "cell_type": "code",
   "execution_count": null,
   "metadata": {},
   "outputs": [],
   "source": [
    "# a\n",
    "plt.figure(figsize=(8,3))\n",
    "y1 = (4/pi)*sin(pi*x) \n",
    "y2 = (4/pi)*sin(pi*x) + (4/pi)*cos(pi*x) \n",
    "y3 = (4/pi)*sin(pi*x) + (4/pi)*cos(pi*x) + (4/(3*pi))*sin(3*pi*x)\n",
    "y4 = (4/pi)*sin(pi*x) + (4/pi)*cos(pi*x) + (4/(3*pi))*sin(3*pi*x) + (4/(3*pi))*cos(3*pi*x) \n",
    "\n",
    "plt.plot(x,y1,label='y1')\n",
    "#plt.plot(x,y2,label='y2')\n",
    "#plt.plot(x,y3,label='y3')\n",
    "#plt.plot(x,y4,label='y4')\n",
    "\n",
    "plt.legend()"
   ]
  },
  {
   "cell_type": "code",
   "execution_count": null,
   "metadata": {},
   "outputs": [],
   "source": [
    "# b\n",
    "plt.figure(figsize=(8,3))\n",
    "y1 = 1 + (4/pi)*sin(pi*x) \n",
    "y2 = 1 + (4/pi)*sin(pi*x) + (4/pi)*cos(pi*x) \n",
    "y3 = 1 + (4/pi)*sin(pi*x) + (4/pi)*cos(pi*x) + (4/(3*pi))*sin(3*pi*x)\n",
    "y4 = 1 + (4/pi)*sin(pi*x) + (4/pi)*cos(pi*x) + (4/(3*pi))*sin(3*pi*x) + (4/(3*pi))*cos(3*pi*x) \n",
    "\n",
    "plt.plot(x,y1,label='y1')\n",
    "plt.plot(x,y2,label='y2')\n",
    "plt.plot(x,y3,label='y3')\n",
    "plt.plot(x,y4,label='y4')\n",
    "\n",
    "plt.legend()"
   ]
  },
  {
   "cell_type": "code",
   "execution_count": null,
   "metadata": {},
   "outputs": [],
   "source": [
    "# c\n",
    "plt.figure(figsize=(8,3))\n",
    "y1 = (4/pi)*cos(pi*x)  \n",
    "y2 = (4/pi)*cos(pi*x) + (4/(3*pi))*cos(2*pi*x)\n",
    "y3 = (4/pi)*cos(pi*x) + (4/(3*pi))*cos(2*pi*x) + (4/(5*pi))*cos(5*pi*x)\n",
    "y4 = (4/pi)*cos(pi*x) + (4/(3*pi))*cos(2*pi*x) + (4/(5*pi))*cos(5*pi*x) + (4/(7*pi))*cos(7*pi*x) \n",
    "\n",
    "plt.plot(x,y1,label='y1')\n",
    "plt.plot(x,y2,label='y2')\n",
    "plt.plot(x,y3,label='y3')\n",
    "plt.plot(x,y4,label='y4')\n",
    "\n",
    "plt.legend()"
   ]
  },
  {
   "cell_type": "code",
   "execution_count": null,
   "metadata": {},
   "outputs": [],
   "source": [
    "# e\n",
    "plt.figure(figsize=(8,3))\n",
    "y1 = (4/pi)*sin(pi*x) \n",
    "y2 = (4/pi)*sin(pi*x) + (4/(3*pi))*sin(2*pi*x)\n",
    "y3 = (4/pi)*sin(pi*x) + (4/(3*pi))*sin(2*pi*x) + (4/(5*pi))*sin(5*pi*x)\n",
    "y4 = (4/pi)*sin(pi*x) + (4/(3*pi))*sin(2*pi*x) + (4/(5*pi))*sin(5*pi*x) + (4/(7*pi))*sin(7*pi*x) \n",
    "\n",
    "plt.plot(x,y1,label='y1')\n",
    "plt.plot(x,y2,label='y2')\n",
    "plt.plot(x,y3,label='y3')\n",
    "plt.plot(x,y4,label='y4')\n",
    "\n",
    "plt.legend()"
   ]
  },
  {
   "cell_type": "code",
   "execution_count": null,
   "metadata": {
    "collapsed": true
   },
   "outputs": [],
   "source": []
  }
 ],
 "metadata": {
  "kernelspec": {
   "display_name": "Python 3",
   "language": "python",
   "name": "python3"
  },
  "language_info": {
   "codemirror_mode": {
    "name": "ipython",
    "version": 3
   },
   "file_extension": ".py",
   "mimetype": "text/x-python",
   "name": "python",
   "nbconvert_exporter": "python",
   "pygments_lexer": "ipython3",
   "version": "3.6.2"
  }
 },
 "nbformat": 4,
 "nbformat_minor": 2
}
