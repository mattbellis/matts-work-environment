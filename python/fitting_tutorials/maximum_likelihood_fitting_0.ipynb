{
 "cells": [
  {
   "cell_type": "code",
   "execution_count": null,
   "metadata": {
    "collapsed": true
   },
   "outputs": [],
   "source": [
    "import matplotlib.pylab as plt\n",
    "import numpy as np\n",
    "\n",
    "%matplotlib notebook"
   ]
  },
  {
   "cell_type": "markdown",
   "metadata": {},
   "source": [
    "Suppose you are trying to determine the mass of some new particle that has been reconstructed from it's decay to two muons. \n",
    "\n",
    "There was no background and you have already calculated the values for the mass. \n",
    "\n",
    "Your theory predicts that this particle has zero-width, naturally. That is, if your detector had infinite resolution, it would record every value at the same mass. However, because of the finite nature of your apparatus, the values you record for the mass are distributed as a Gaussian of some fixed width. "
   ]
  },
  {
   "cell_type": "code",
   "execution_count": null,
   "metadata": {
    "collapsed": true
   },
   "outputs": [],
   "source": [
    "masses = [ 69.35509179,  69.76998107,  83.30270512,  71.73586091, 67.59026453,  75.2068911 ,  73.84291601,  72.39871308, 73.37955978,  70.82639104,  74.51940028,  70.1918043 , 79.25550148,  80.97988605,  81.28038927,  82.6504196 ,\n",
    "        70.32781785,  72.13090639,  73.61299772,  72.62194332]"
   ]
  },
  {
   "cell_type": "code",
   "execution_count": null,
   "metadata": {
    "collapsed": false
   },
   "outputs": [],
   "source": [
    "# There are a couple of ways we could display this data.\n",
    "\n",
    "plt.figure(figsize=(8,4))\n",
    "plt.subplot(1,2,1)\n",
    "plt.plot(masses,np.zeros(len(masses)),\"o\",markersize=20,alpha=0.3)\n",
    "plt.xlabel(r\"Mass (GeV/c$^2$)\",fontsize=18)\n",
    "plt.ylabel(\"Arbitrary\",fontsize=18)\n",
    "plt.tight_layout()\n",
    "\n",
    "plt.subplot(1,2,2)\n",
    "plt.hist(masses)\n",
    "plt.xlabel(r\"Mass (GeV/c$^2$)\",fontsize=18)\n",
    "plt.ylabel(\"# Entries\",fontsize=18)\n",
    "plt.tight_layout()"
   ]
  },
  {
   "cell_type": "markdown",
   "metadata": {},
   "source": [
    "You can fit these data using a *maximum likelihood method*. We want to determine the *mass* (mean) of the particle and the resolution (width) of the Gaussian that best describes this data.\n",
    "\n",
    "$$\\mathcal{L} = \\Pi_i^N p_i(\\vec{x_i};\\vec{\\tau})$$\n",
    "\n",
    "Where $p_i$ is the probability of recording the $i^{\\rm th}$ event, assuming that you measured some set of values $\\vec{x}_i$ (for *this particular measurement* $\\vec{x}_i$ is just the mass of the $i^{\\rm th}$ event), and $\\vec{\\tau_i}$ are parameters that define the function you are using to calulate the probability (for us this will be the $\\mu$ and $\\sigma$ of the Gaussian), referred to as the *probability density function* or *PDF*.\n",
    "\n",
    "First, remind yourself that the functional form of a Gaussian of mean $\\mu$ and width $\\sigma$ is written as\n",
    "\n",
    "$$y = \\frac{1}{2\\pi\\sigma^2} e^{-\\frac{(x-\\mu)^2}{2\\sigma^2}}$$\n",
    "\n",
    "You will use this to fit the data and determine the mass of the particle and resolution of the detector. \n",
    "\n",
    "*What is the point of the part of the function in front, $\\frac{1}{2\\pi\\sigma^2}$? Is it necessary for the maximum likelihood method?\n",
    "\n",
    "* Write a function that takes in a value (or values) for $x$, $\\mu$, and $\\sigma$ and returns the probability of measuring that value of $x$.\n",
    "* Use this function to calculate $\\mathcal{L}$ for some values of $\\mu$ and $\\sigma$ that seem reasonable.\n",
    "\n",
    "There is a good chance that this number will be too small. Why? Keep this part of your code. \n",
    "\n",
    "Then...\n",
    "\n",
    "* Because the above procedure usually returns too small of a number to work with, try calculating the log of the likelihood. *Make sure you understand the following derivation*.\n",
    "\n",
    "\\begin{eqnarray}\n",
    "\\mathcal{L} &=& \\Pi_i^N p_i(\\vec{x_i};\\vec{\\tau}) \\\\\n",
    "\\ln \\mathcal{L} &=& \\ln (\\Pi_i^N p_i(\\vec{x_i};\\vec{\\tau})) \\\\\n",
    " &=& \\sum_i^N \\ln p_i(\\vec{x_i};\\vec{\\tau})\n",
    "\\end{eqnarray}\n",
    "\n",
    "* Use *this* function to scan over values for both $\\mu$ and $\\sigma$ simultaneously to figure out the maximum of the log of the likelihood. \n",
    "    * In practice, instead of looping over the values manually, you would use a minimizing function like MINUIT. Because that function wants to minimize things, you would actually pass it the *negative* of the log likelihood. \n",
    "    \n",
    "What are the values you found for $\\mu$ and $\\sigma$?\n"
   ]
  },
  {
   "cell_type": "code",
   "execution_count": null,
   "metadata": {
    "collapsed": true
   },
   "outputs": [],
   "source": []
  }
 ],
 "metadata": {
  "kernelspec": {
   "display_name": "Python 3",
   "language": "python",
   "name": "python3"
  },
  "language_info": {
   "codemirror_mode": {
    "name": "ipython",
    "version": 3
   },
   "file_extension": ".py",
   "mimetype": "text/x-python",
   "name": "python",
   "nbconvert_exporter": "python",
   "pygments_lexer": "ipython3",
   "version": "3.6.0"
  }
 },
 "nbformat": 4,
 "nbformat_minor": 2
}
