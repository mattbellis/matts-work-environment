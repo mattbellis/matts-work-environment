{
 "cells": [
  {
   "cell_type": "code",
   "execution_count": null,
   "metadata": {},
   "outputs": [],
   "source": [
    "import matplotlib.pylab as plt\n",
    "import numpy as np"
   ]
  },
  {
   "cell_type": "markdown",
   "metadata": {},
   "source": [
    "\\begin{eqnarray}\n",
    "\\vec{F}_B &=& q\\vec{v} \\times \\vec{B} \\\\ \n",
    "\\vec{F}_E &=& q\\vec{E}\n",
    "\\end{eqnarray}"
   ]
  },
  {
   "cell_type": "code",
   "execution_count": null,
   "metadata": {},
   "outputs": [],
   "source": [
    "class particle:\n",
    "    def __init__(self, x, v, a, mass=1,q=1):\n",
    "        if type(x) != np.ndarray:\n",
    "            print(\"x should be a numpy array!\")\n",
    "        self.x = x\n",
    "        self.v = v\n",
    "        self.a = a\n",
    "        self.mass = mass\n",
    "        self.q = q\n",
    "        \n",
    "    def update(self, dt, F=None):\n",
    "        if F is not None:\n",
    "            self.a = F/self.mass\n",
    "        #self.v += dt*self.a\n",
    "        #self.x += dt*self.v\n",
    "        self.x += self.v*dt + (0.5*self.a*dt*dt)\n",
    "        self.v += dt*self.a\n",
    "        \n",
    "        \n",
    "        "
   ]
  },
  {
   "cell_type": "code",
   "execution_count": null,
   "metadata": {},
   "outputs": [],
   "source": [
    "def swim(p, t0=0, t1=10, dt=0.1, F=None):\n",
    "\n",
    "    times=[]\n",
    "    xpts=[]\n",
    "    vpts=[]\n",
    "    apts=[]\n",
    "    \n",
    "    t=t0\n",
    "    while t<t1:\n",
    "        times.append(t)\n",
    "        p.update(dt,F)\n",
    "        xpts.append(p.x.copy())\n",
    "        vpts.append(p.v.copy())\n",
    "        apts.append(p.a.copy())\n",
    "\n",
    "        t += dt\n",
    "\n",
    "    xpts = np.array(xpts)\n",
    "    vpts = np.array(vpts)\n",
    "    apts = np.array(apts)\n",
    "\n",
    "    return times,xpts,vpts,apts"
   ]
  },
  {
   "cell_type": "code",
   "execution_count": null,
   "metadata": {},
   "outputs": [],
   "source": [
    "def mag(vec):\n",
    "    if type(vec)==np.ndarray and type(vec[0])==float:\n",
    "        return np.sqrt(vec[0]*vec[0] + vec[1]*vec[1] + vec[2]*vec[2])\n",
    "    \n",
    "    if type(vec)==np.ndarray and type(vec[0])==np.ndarray:\n",
    "        m = []\n",
    "        for v in vec:\n",
    "            m.append(np.sqrt(v[0]*v[0] + v[1]*v[1] + v[2]*v[2]))\n",
    "        m = np.array(m)\n",
    "        return m\n",
    "\n",
    "def plot_position_velocity_acceleration(times,xpts,vpts,apts):\n",
    "    coordinates = ['x','y','z']\n",
    "\n",
    "    for pts,label in zip([xpts,vpts, apts],['position','velocity','acceleration']):\n",
    "\n",
    "        plt.figure(figsize=(12,3))\n",
    "        for i in range(0,3):\n",
    "            plt.subplot(1,3,i+1)\n",
    "            plt.plot(times, pts.T[i])\n",
    "            plt.xlabel('Time')\n",
    "            text = '{0} {1}'.format(coordinates[i],label)\n",
    "            plt.ylabel(text)\n",
    "\n",
    "        plt.tight_layout()\n",
    "\n",
    "    for pts,label in zip([xpts,vpts, apts],['position','velocity','acceleration']):\n",
    "\n",
    "        plt.figure(figsize=(12,3))\n",
    "        for i in range(0,3):\n",
    "            plt.subplot(1,3,i+1)\n",
    "            idx0 = i\n",
    "            idx1 = (i+1)%3\n",
    "            plt.plot(pts.T[idx0], pts.T[idx1])\n",
    "            text = '{0} {1}'.format(coordinates[idx0],label)\n",
    "            plt.xlabel(text)\n",
    "            text = '{0} {1}'.format(coordinates[idx1],label)\n",
    "            plt.ylabel(text)\n",
    "\n",
    "        plt.tight_layout()\n",
    "\n",
    "\n",
    "    plt.figure(figsize=(12,3))\n",
    "    i=0\n",
    "    for pts,label in zip([xpts,vpts, apts],['position','velocity','acceleration']):\n",
    "\n",
    "        plt.subplot(1,3,i+1)\n",
    "        plt.plot(times, mag(pts))\n",
    "        plt.xlabel('Time')\n",
    "        text = 'Magnitude of {0}'.format(label)\n",
    "        plt.ylabel(text)\n",
    "        i+=1\n",
    "\n",
    "    plt.tight_layout()"
   ]
  },
  {
   "cell_type": "code",
   "execution_count": null,
   "metadata": {},
   "outputs": [],
   "source": [
    "x = np.array([0.,0.,0.])\n",
    "v = np.array([1.,0.,0.])\n",
    "a = np.array([0.,0.,0.])\n",
    "p = particle(x,v,a)\n",
    "\n",
    "times,xpts,vpts,apts = swim(p, t0=0, t1=10., dt=0.1, F=np.array([1,1,1]))\n",
    "\n",
    "plt.figure()\n",
    "plt.plot(times, xpts.T[0])\n",
    "\n",
    "plt.figure()\n",
    "plt.plot(times, vpts.T[0])\n",
    "\n",
    "plt.figure()\n",
    "plt.plot(times, apts.T[0])"
   ]
  },
  {
   "cell_type": "code",
   "execution_count": null,
   "metadata": {},
   "outputs": [],
   "source": [
    "def swim_through_B_and_E_field(p, t0=0, t1=10, dt=0.1, B=None, E=None):\n",
    "\n",
    "    times=[]\n",
    "    xpts=[]\n",
    "    vpts=[]\n",
    "    apts=[]\n",
    "    \n",
    "    t=t0\n",
    "    while t<t1:\n",
    "        times.append(t)\n",
    "        \n",
    "        F = np.array([0., 0., 0.])\n",
    "\n",
    "        # Magnetic field\n",
    "        if type(B) is np.ndarray:\n",
    "            F = p.q * np.cross(p.v,B)\n",
    "        elif str(type(B)) == \"<class 'function'>\":\n",
    "            F = p.q * np.cross(p.v,B(p.x))\n",
    "\n",
    "            \n",
    "        # Electric field\n",
    "        if type(E) is np.ndarray:\n",
    "            F += p.q * E\n",
    "        elif str(type(E)) == \"<class 'function'>\":\n",
    "            F += p.q * E(p.x)\n",
    " \n",
    "            \n",
    "                    \n",
    "        p.update(dt,F)\n",
    "        xpts.append(p.x.copy())\n",
    "        vpts.append(p.v.copy())\n",
    "        apts.append(p.a.copy())\n",
    "\n",
    "        t += dt\n",
    "\n",
    "    xpts = np.array(xpts)\n",
    "    vpts = np.array(vpts)\n",
    "    apts = np.array(apts)\n",
    "\n",
    "    return times,xpts,vpts,apts"
   ]
  },
  {
   "cell_type": "code",
   "execution_count": null,
   "metadata": {
    "scrolled": false
   },
   "outputs": [],
   "source": [
    "x = np.array([0.,0.,0.])\n",
    "v = np.array([1.,0.,0.])\n",
    "a = np.array([0.,0.,0.])\n",
    "p = particle(x,v,a)\n",
    "\n",
    "times,xpts,vpts,apts = swim_through_B_and_E_field(p, t0=0, t1=10., dt=0.001, B=np.array([0,0,1]), E=np.array([0,-1,0]))\n",
    "\n",
    "plot_position_velocity_acceleration(times,xpts,vpts,apts)\n"
   ]
  },
  {
   "cell_type": "markdown",
   "metadata": {},
   "source": [
    "\n"
   ]
  },
  {
   "cell_type": "code",
   "execution_count": null,
   "metadata": {},
   "outputs": [],
   "source": [
    "def draw_B_field(region,B):\n",
    "    Bmag = mag(B)\n",
    "    \n",
    "    x0 = region[0]\n",
    "    y0 = region[1]\n",
    "\n",
    "    x1 = region[2]\n",
    "    y1 = region[3]\n",
    "\n",
    "    xpts = []\n",
    "    ypts = []\n",
    "    for x in np.linspace(x0,x1,10):\n",
    "        for y in np.linspace(y0,y1,10):\n",
    "            xpts.append(x)\n",
    "            ypts.append(y)\n",
    "            \n",
    "    return xpts,ypts"
   ]
  },
  {
   "cell_type": "code",
   "execution_count": null,
   "metadata": {},
   "outputs": [],
   "source": [
    "Bxpts, Bypts = draw_B_field([2,2,5,5], np.array([0,1,1]))\n",
    "\n",
    "plt.figure()\n",
    "plt.plot(Bxpts,Bypts,'x',markersize=5)\n",
    "plt.xlim(0,7)\n",
    "plt.ylim(0,7)"
   ]
  },
  {
   "cell_type": "code",
   "execution_count": null,
   "metadata": {},
   "outputs": [],
   "source": []
  },
  {
   "cell_type": "code",
   "execution_count": null,
   "metadata": {},
   "outputs": [],
   "source": [
    "def Bfield(x):\n",
    "    xmin = 2\n",
    "    xmax = 5\n",
    "    ymin = 0\n",
    "    ymax = 5\n",
    "    \n",
    "    B = np.array([0., 0., 0.])    \n",
    "    if x[0]>=xmin and x[0]<xmax and \\\n",
    "       x[1]>=ymin and x[1]<ymax:\n",
    "        B = np.array([0., 0., -1.])\n",
    "        \n",
    "    return B\n",
    "\n",
    "def Efield(x):\n",
    "    xmin = 0\n",
    "    xmax = 2\n",
    "    ymin = 0\n",
    "    ymax = 5\n",
    "    \n",
    "    E = np.array([0., 0., 0.])\n",
    "    if x[0]>=xmin and x[0]<xmax and \\\n",
    "       x[1]>=ymin and x[1]<ymax:\n",
    "        E = np.array([1., 0., 0.])\n",
    "        \n",
    "    return E"
   ]
  },
  {
   "cell_type": "code",
   "execution_count": null,
   "metadata": {
    "scrolled": false
   },
   "outputs": [],
   "source": [
    "x = np.array([0.,0.,0.])\n",
    "v = np.array([1.,0.,0.])\n",
    "a = np.array([0.,0.,0.])\n",
    "p = particle(x,v,a)\n",
    "\n",
    "#times,xpts,vpts,apts = swim_through_B_and_E_field(p, t0=0, t1=10., dt=0.001, B=Bfield, E=np.array([0,-1,0]))\n",
    "times,xpts,vpts,apts = swim_through_B_and_E_field(p, t0=0, t1=10., dt=0.001, B=Bfield, E=Efield)\n",
    "\n",
    "\n",
    "\n",
    "plot_position_velocity_acceleration(times,xpts,vpts,apts)"
   ]
  },
  {
   "cell_type": "code",
   "execution_count": null,
   "metadata": {},
   "outputs": [],
   "source": []
  }
 ],
 "metadata": {
  "kernelspec": {
   "display_name": "Python 3",
   "language": "python",
   "name": "python3"
  },
  "language_info": {
   "codemirror_mode": {
    "name": "ipython",
    "version": 3
   },
   "file_extension": ".py",
   "mimetype": "text/x-python",
   "name": "python",
   "nbconvert_exporter": "python",
   "pygments_lexer": "ipython3",
   "version": "3.6.9"
  }
 },
 "nbformat": 4,
 "nbformat_minor": 2
}
