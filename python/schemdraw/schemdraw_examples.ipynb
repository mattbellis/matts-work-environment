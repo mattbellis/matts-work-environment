{
 "cells": [
  {
   "cell_type": "code",
   "execution_count": null,
   "metadata": {},
   "outputs": [],
   "source": [
    "import schemdraw as schem\n",
    "\n",
    "from schemdraw import flow\n",
    "\n",
    "import schemdraw.elements as e\n"
   ]
  },
  {
   "cell_type": "code",
   "execution_count": null,
   "metadata": {},
   "outputs": [],
   "source": [
    "d = schem.Drawing()\n",
    "d.add(flow.Start(w=2, h=1.5, label='START'))\n",
    "d.add(flow.Arrow('down', l=d.unit/3))\n",
    "h = d.add(flow.Decision(w=5.5, h=4, S='YES', label='Hey, wait,\\nthis flowchart\\nis a trap!'))\n",
    "d.add(flow.Line('down', l=d.unit/4))\n",
    "d.add(flow.Line('right', l=d.unit*1.1))\n",
    "d.add(flow.Line('up', toy=h.E))\n",
    "d.add(flow.Arrow('left', tox=h.E))\n",
    "d.draw()\n"
   ]
  },
  {
   "cell_type": "code",
   "execution_count": null,
   "metadata": {},
   "outputs": [],
   "source": [
    "#import schemdraw\n",
    "#import schemdraw.elements as elm\n",
    "\n",
    "d = schem.Drawing()\n",
    "R1 = d.add(e.Resistor(label='1K$\\Omega$'))\n",
    "d.labelI(R1, '1 mA', top=False)\n",
    "d.add(e.Capacitor(d='down', botlabel='0.1$\\mu$F'))\n",
    "d.add(e.Line( d='Left'))\n",
    "d.add(e.Ground)\n",
    "d.add(e.SourceV( d='up', label='10V') )\n",
    "d.save('schematic.svg')\n",
    "d.draw()"
   ]
  },
  {
   "cell_type": "code",
   "execution_count": null,
   "metadata": {},
   "outputs": [],
   "source": []
  },
  {
   "cell_type": "code",
   "execution_count": null,
   "metadata": {},
   "outputs": [],
   "source": [
    "d = schem.Drawing()\n",
    "V1 = d.add(e.SOURCE_V, label='10V')\n",
    "d.add(e.RES, d='right', label='100K$\\Omega$')\n",
    "d.add(e.CAP, d='down', botlabel='0.1$\\mu$F')\n",
    "d.add(e.LINE, to=V1.start)\n",
    "d.add(e.GND)\n",
    "d.draw()"
   ]
  },
  {
   "cell_type": "code",
   "execution_count": null,
   "metadata": {},
   "outputs": [],
   "source": [
    "d = schem.Drawing()\n",
    "o = d.add(e.OPAMP)\n",
    "d.add(e.LINE, xy=o.out, l=.75)\n",
    "d.add(e.LINE, xy=o.in1, d='left', l=.75)\n",
    "d.add(e.LINE, d='up', l=1.5)\n",
    "d.add(e.DOT)\n",
    "R1 = d.add(e.RES, d='left', label='$R_1$')\n",
    "d.add(e.GND)\n",
    "Rf = d.add(e.RES, d='right', xy=R1.start, tox=o.out+.5, label='$R_f$')\n",
    "d.add(e.LINE, d='down', toy=o.out)\n",
    "dot = d.add(e.DOT)\n",
    "d.add(e.LINE, d='left', xy=o.in2, l=.75)\n",
    "d.add(e.DOT)\n",
    "R3 = d.add(e.RES, d='down', label='$R_3$')\n",
    "d.add(e.DOT)\n",
    "d.add(e.GND)\n",
    "R2 = d.add(e.RES, d='left', xy=R3.start, label='$R_2$')\n",
    "d.add(e.SOURCE_V, d='down', reverse=True, label='$v_{in}$')\n",
    "d.add(e.LINE, d='right', tox=Rf.end)#tox=R3.end)\n",
    "d.add(e.GAP_LABEL, d='down', xy=dot.start, toy=R3.end, label=['+','$v_o$','$-$'])\n",
    "d.draw()\n"
   ]
  },
  {
   "cell_type": "code",
   "execution_count": null,
   "metadata": {},
   "outputs": [],
   "source": [
    "d.save('opamp.png')\n"
   ]
  },
  {
   "cell_type": "code",
   "execution_count": null,
   "metadata": {},
   "outputs": [],
   "source": [
    "d = schem.Drawing()\n",
    "V1 = d.add(e.SOURCE_V, label='5V')\n",
    "d.add(e.LINE, d='right', l=d.unit*.75)\n",
    "S1 = d.add(e.SWITCH_SPDT2_CLOSE, d='up', anchor='b', rgtlabel='$t=0$')\n",
    "d.add(e.LINE, d='right', xy=S1.c,  l=d.unit*.75)\n",
    "d.add(e.RES, d='down', label='$100\\Omega$', botlabel=['+','$v_o$','-'])\n",
    "d.add(e.LINE, to=V1.start)\n",
    "d.add(e.CAP, xy=S1.a, d='down', toy=V1.start, label='1$\\mu$F')\n",
    "d.add(e.DOT)\n",
    "d.draw()\n"
   ]
  },
  {
   "cell_type": "code",
   "execution_count": null,
   "metadata": {},
   "outputs": [],
   "source": [
    "d = schem.Drawing()\n",
    "V1 = d.add(e.SOURCE_V, label='10V')\n",
    "d.add(e.RES, d='right', label='100K$\\Omega$')\n",
    "d.add(e.CAP, d='down', botlabel='0.1$\\mu$F')\n",
    "d.add(e.LINE, to=V1.start)\n",
    "d.add(e.GND)\n",
    "d.draw()"
   ]
  },
  {
   "cell_type": "code",
   "execution_count": null,
   "metadata": {},
   "outputs": [],
   "source": [
    "d = schem.Drawing()\n",
    "d.add(flow.Start(w=2, h=1.5, label='START'))\n",
    "d.add(flow.Arrow('down', l=d.unit/3))\n",
    "h = d.add(flow.Decision(w=5.5, h=4, S='YES', label='Hey, wait,\\nthis flowchart\\nis a trap!'))\n",
    "d.add(flow.Line('down', l=d.unit/4))\n",
    "d.add(flow.Line('right', l=d.unit*1.1))\n",
    "d.add(flow.Line('up', toy=h.E))\n",
    "d.add(flow.Arrow('left', tox=h.E))\n",
    "d.draw()"
   ]
  },
  {
   "cell_type": "code",
   "execution_count": null,
   "metadata": {},
   "outputs": [],
   "source": [
    "d = schem.Drawing(fontsize=11)\n",
    "b = d.add(flow.Start(w=2, h=1.5, label='START'))\n",
    "d.add(flow.Arrow('down', l=d.unit/2))\n",
    "d1 = d.add(flow.Decision(w=5, h=3.9, E='YES', S='NO', label='DO YOU\\nUNDERSTAND\\nFLOW CHARTS?'))\n",
    "d.add(flow.Arrow(l=d.unit/2))\n",
    "d2 = d.add(flow.Decision(w=5, h=3.9, E='YES', S='NO', label='OKAY,\\nYOU SEE THE\\nLINE LABELED\\n\"YES\"?'))\n",
    "d.add(flow.Arrow(l=d.unit/2))\n",
    "d3 = d.add(flow.Decision(w=5.2, h=3.9, E='YES', S='NO', label='BUT YOU\\nSEE THE ONES\\nLABELED \"NO\".'))\n",
    "\n",
    "d.add(flow.Arrow('right', xy=d3.E, l=d.unit/2))\n",
    "d.add(flow.Box(w=2, h=1.25, label='WAIT,\\nWHAT?', anchor='W'))\n",
    "d.add(flow.Arrow('down', xy=d3.S, l=d.unit/2))\n",
    "listen = d.add(flow.Box(w=2, h=1, label='LISTEN.'))\n",
    "d.add(flow.Arrow('right', xy=listen.E, l=d.unit/2))\n",
    "hate = d.add(flow.Box(w=2, h=1.25, label='I HATE\\nYOU.', anchor='W'))\n",
    "\n",
    "d.add(flow.Arrow('right', xy=d1.E, l=d.unit*3.5))\n",
    "good = d.add(flow.Box(w=2, h=1, label='GOOD', anchor='W'))\n",
    "d.add(flow.Arrow('right', xy=d2.E, l=d.unit*1.5))\n",
    "d4 = d.add(flow.Decision(w=5.3, h=4.0, E='YES', S='NO', label='...AND YOU CAN\\nSEE THE ONES\\nLABELED \"NO\"?', anchor='W'))\n",
    "\n",
    "d.add(flow.Line('right', xy=d4.E, tox=good.S))\n",
    "d.add(flow.Arrow('up', toy=good.S))\n",
    "d.add(flow.Arrow('down', xy=d4.S, l=d.unit/2))\n",
    "d5 = d.add(flow.Decision(w=5, h=3.6, E='YES', S='NO', label='BUT YOU\\nJUST FOLLOWED\\nTHEM TWICE!'))\n",
    "d.add(flow.Arrow('right', xy=d5.E, l=d.unit))\n",
    "question = d.add(flow.Box(w=3.5, h=1.75, label=\"(THAT WASN'T\\nA QUESTION.)\", anchor='W'))\n",
    "d.add(flow.Line('down', xy=d5.S, l=d.unit/3))\n",
    "d.add(flow.Line('right', tox=question.S))\n",
    "d.add(flow.Arrow('up', toy=question.S))\n",
    "\n",
    "d.add(flow.Line('right', xy=good.E, tox=question.S))\n",
    "d.add(flow.Arrow('down', l=d.unit))\n",
    "drink = d.add(flow.Box(w=2.5, h=1.5, label=\"LET'S GO\\nDRINK.\"))\n",
    "d.add(flow.Arrow('right', xy=drink.E, label='6 DRINKS'))\n",
    "d.add(flow.Box(w=3.7, h=2, label='HEY, I SHOULD\\nTRY INSTALLING\\nFREEBSD!', anchor='W'))\n",
    "d.add(flow.Arrow('up', xy=question.N, l=d.unit*.75))\n",
    "screw = d.add(flow.Box(w=2.5, h=1, label='SCREW IT.', anchor='S'))\n",
    "d.add(flow.Arrow('up', xy=screw.N, toy=drink.S))\n",
    "d.draw()"
   ]
  },
  {
   "cell_type": "code",
   "execution_count": null,
   "metadata": {},
   "outputs": [],
   "source": []
  }
 ],
 "metadata": {
  "kernelspec": {
   "display_name": "Python 3",
   "language": "python",
   "name": "python3"
  },
  "language_info": {
   "codemirror_mode": {
    "name": "ipython",
    "version": 3
   },
   "file_extension": ".py",
   "mimetype": "text/x-python",
   "name": "python",
   "nbconvert_exporter": "python",
   "pygments_lexer": "ipython3",
   "version": "3.7.3"
  }
 },
 "nbformat": 4,
 "nbformat_minor": 2
}
