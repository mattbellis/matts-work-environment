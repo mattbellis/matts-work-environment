{
 "cells": [
  {
   "cell_type": "code",
   "execution_count": null,
   "id": "b536a303-6ba2-4436-bb03-84e282f1b469",
   "metadata": {},
   "outputs": [],
   "source": [
    "import requests\n",
    "import bs4\n",
    "\n",
    "from bs4 import BeautifulSoup\n",
    "\n",
    "import pandas as pd"
   ]
  },
  {
   "cell_type": "code",
   "execution_count": null,
   "id": "742ab445-6e02-40c0-925b-fbc6e736baa4",
   "metadata": {},
   "outputs": [],
   "source": [
    "#url = 'https://catalog.siena.edu/content.php?catoid=18&navoid=656'\n",
    "\n",
    "# But we downloaded by hand\n",
    "\n",
    "infilename = 'catalog_source.html'\n",
    "infile = open(infilename)\n",
    "\n",
    "\n",
    "page = infile.read()\n",
    "#print(page)\n",
    "\n",
    "soup = BeautifulSoup(page)\n",
    "\n"
   ]
  },
  {
   "cell_type": "code",
   "execution_count": null,
   "id": "e7b0b3d4-d92b-4787-9209-6b900045280c",
   "metadata": {},
   "outputs": [],
   "source": [
    "#soup"
   ]
  },
  {
   "cell_type": "code",
   "execution_count": null,
   "id": "a96ecd91-9371-4bbc-8f38-184042dbefdc",
   "metadata": {},
   "outputs": [],
   "source": [
    "#soup.body\n",
    "\n",
    "for a in soup.find_all('a', href=True):\n",
    "    if a['href'].find('preview_program')>=0:\n",
    "        print(\"Found the URL:\", a['href'])\n",
    "\n"
   ]
  },
  {
   "cell_type": "code",
   "execution_count": null,
   "id": "eddaa376-0c92-40ff-bd2e-20314078cab5",
   "metadata": {},
   "outputs": [],
   "source": [
    "files = []\n",
    "\n",
    "tables = soup.body.find_all('table')\n",
    "\n",
    "for table in tables:\n",
    "    #print(table)\n",
    "    #print()\n",
    "    \n",
    "    entry = table.find_all('td')\n",
    "    for t in entry:\n",
    "        values = t.find_all('a')\n",
    "        for v in values:\n",
    "            #print(v)\n",
    "            text = str(v)\n",
    "            #print(text)\n",
    "            if text.find('href')>=0:\n",
    "                #print(text)\n",
    "                file = text.split('href=\"')[-1].split('\"')[0]\n",
    "                if file.find('program_preview')>=0 or file.find('csv')>=0:  \n",
    "                    files.append(file)\n"
   ]
  },
  {
   "cell_type": "code",
   "execution_count": null,
   "id": "e34f0f62-3212-4c22-a920-9563ece7da6b",
   "metadata": {},
   "outputs": [],
   "source": [
    "url = 'https://catalog.siena.edu/content.php?catoid=18&navoid=656'\n",
    "\n",
    "dfs = pd.read_html(url)\n",
    "\n",
    "dfs\n"
   ]
  },
  {
   "cell_type": "code",
   "execution_count": null,
   "id": "06767c43-0555-4cab-89f4-7045fbe4f330",
   "metadata": {},
   "outputs": [],
   "source": [
    "dfs[4]"
   ]
  },
  {
   "cell_type": "code",
   "execution_count": null,
   "id": "995898bc-0d26-42da-b424-cae270d4aee4",
   "metadata": {},
   "outputs": [],
   "source": [
    "for i,df in enumerate(dfs):\n",
    "    print(f'{i} --------------------------------')\n",
    "    print(df)\n",
    "    print()\n",
    "    print()"
   ]
  },
  {
   "cell_type": "markdown",
   "id": "48e2f836-db3a-4754-89a5-e98e5f69913f",
   "metadata": {},
   "source": [
    "# Parsing department pages\n"
   ]
  },
  {
   "cell_type": "code",
   "execution_count": null,
   "id": "3e8f730f-1de7-457b-957b-8f922e8d420e",
   "metadata": {},
   "outputs": [],
   "source": [
    "infilename = 'catalog_entry_physics.html'\n",
    "\n",
    "infile = open(infilename)\n",
    "\n",
    "\n",
    "page = infile.read()\n",
    "#print(page)\n",
    "\n",
    "\n",
    "#soup = BeautifulSoup(page, 'lxml')\n",
    "soup = BeautifulSoup(page, 'html.parser')\n",
    "\n",
    "\n",
    "#soup = soup.prettify()\n",
    "\n"
   ]
  },
  {
   "cell_type": "code",
   "execution_count": null,
   "id": "ca70bc71-d84f-4014-9c68-fc560d5a9d7d",
   "metadata": {},
   "outputs": [],
   "source": [
    "soup"
   ]
  },
  {
   "cell_type": "code",
   "execution_count": null,
   "id": "abdc1a01-a6a1-43c3-8af7-4c9d094d009d",
   "metadata": {},
   "outputs": [],
   "source": [
    "#soup.find_all(\"div\", class_=\"acalog-core\")\n",
    "\n",
    "soup.find_all(\"div\", {\"class\":\"acalog-core\"})"
   ]
  },
  {
   "cell_type": "code",
   "execution_count": null,
   "id": "425b8f17-a846-47d6-b37c-8093d2efff3e",
   "metadata": {},
   "outputs": [],
   "source": [
    "#soup"
   ]
  },
  {
   "cell_type": "code",
   "execution_count": null,
   "id": "8034098d-3a30-4a65-a15c-f2a75beab159",
   "metadata": {},
   "outputs": [],
   "source": [
    "# Physics\n",
    "url = 'https://catalog.siena.edu/preview_program.php?catoid=18&poid=2806&returnto=656'\n",
    "\n",
    "r = requests.get(url)\n",
    "\n",
    "soup = BeautifulSoup(r.content, \"lxml\")\n",
    "\n",
    "data = soup.find_all(\"div\", {\"class\": \"acalog-core\"})\n"
   ]
  },
  {
   "cell_type": "code",
   "execution_count": null,
   "id": "949587e6-7930-4119-b78d-552a840df314",
   "metadata": {},
   "outputs": [],
   "source": [
    "for d in data:\n",
    "    print(d)\n",
    "    print(\"\\n-----------------------------------\\n\")"
   ]
  },
  {
   "cell_type": "code",
   "execution_count": null,
   "id": "a666aadf-ed9a-47b3-aebe-00724c2967ff",
   "metadata": {},
   "outputs": [],
   "source": [
    "d = data[0]\n",
    "d"
   ]
  },
  {
   "cell_type": "code",
   "execution_count": null,
   "id": "735b4c1d-bb58-43c3-85a1-846d73a6e8a7",
   "metadata": {},
   "outputs": [],
   "source": [
    "type(d)"
   ]
  },
  {
   "cell_type": "code",
   "execution_count": null,
   "id": "c42ac776-eb6b-4d97-9bc6-e35fd014947b",
   "metadata": {},
   "outputs": [],
   "source": [
    "d.text"
   ]
  },
  {
   "cell_type": "code",
   "execution_count": null,
   "id": "c4e33a30-3deb-48f0-88cd-4cb1cb9b4dc0",
   "metadata": {},
   "outputs": [],
   "source": [
    "type(d.contents)"
   ]
  },
  {
   "cell_type": "code",
   "execution_count": null,
   "id": "d49effd1-b80c-440c-a942-e102d5cf0cef",
   "metadata": {},
   "outputs": [],
   "source": [
    "d.contents[0].text"
   ]
  },
  {
   "cell_type": "code",
   "execution_count": null,
   "id": "f3c9686e-ef2d-409f-8c01-dabb20738d89",
   "metadata": {},
   "outputs": [],
   "source": [
    "d.contents[0]"
   ]
  },
  {
   "cell_type": "code",
   "execution_count": null,
   "id": "5a0841f0-ff45-4afe-bd0d-796e67f73e60",
   "metadata": {},
   "outputs": [],
   "source": [
    "d.contents[0].find_all('a')"
   ]
  },
  {
   "cell_type": "code",
   "execution_count": null,
   "id": "e418f1e7-669a-41a2-9712-a1056ee64df7",
   "metadata": {},
   "outputs": [],
   "source": [
    "for i,d in enumerate(data):\n",
    "    #x = d.contents[0].text\n",
    "    print(f'{i} -----------')\n",
    "    for con in d.contents:\n",
    "        x = con.text\n",
    "        #print(type(x))\n",
    "        print(x)\n",
    "        print()"
   ]
  },
  {
   "cell_type": "code",
   "execution_count": null,
   "id": "5d5224e9-9914-46cb-a942-96305283e716",
   "metadata": {},
   "outputs": [],
   "source": [
    "d.contents[2].findAll('a')"
   ]
  },
  {
   "cell_type": "code",
   "execution_count": null,
   "id": "08db6d58-3e6e-4154-b855-a3223ce0a49a",
   "metadata": {},
   "outputs": [],
   "source": [
    "d.contents[2].text"
   ]
  },
  {
   "cell_type": "code",
   "execution_count": null,
   "id": "f12ef738-2eb6-4379-807a-c057718a1dbe",
   "metadata": {},
   "outputs": [],
   "source": [
    "\n",
    "'''\n",
    "for i,d in enumerate(data):\n",
    "    #x = d.contents[0].text\n",
    "    print(f'{i} -----------')\n",
    "    for con in d.contents:\n",
    "        x = con.text\n",
    "        #print(type(x))\n",
    "        print(x)\n",
    "        print()\n",
    "''';\n",
    "\n",
    "text = data[0].contents[0].text\n",
    "\n",
    "print(text)\n",
    "\n",
    "program = text.split('Requirements for the ')[1].split('(')[0]\n",
    "print(program)\n",
    "\n"
   ]
  },
  {
   "cell_type": "code",
   "execution_count": null,
   "id": "323153e7-e580-4ccd-b0de-09b1b2ef42f4",
   "metadata": {},
   "outputs": [],
   "source": [
    "# Use the h2 tag to find when credits are listed\n",
    "\n",
    "def extract_info(data):\n",
    "    \n",
    "    program_name = None\n",
    "    program_type = None\n",
    "    major_credits = []\n",
    "    aux_credits = None\n",
    "    major_or_minor = None\n",
    "    \n",
    "    for d in data:\n",
    "    \n",
    "        h2s = d.find_all('h2')\n",
    "        if len(h2s) == 1:\n",
    "\n",
    "            # Most every program has the Auxilary as h2 header, but not some of them \n",
    "            # like American studies who has it as h3 (shrug)\n",
    "            texts = h2s[0].contents\n",
    "            for text in texts:\n",
    "                # text is a bs4.element.tag, not a string\n",
    "                #print(text)\n",
    "                #print(type(text))\n",
    "                #print(text.find(\"Requirements\"))\n",
    "                if str(text).find(\"Requirements for\")>=0:\n",
    "                    print(str(text))\n",
    "                    print()\n",
    "                    #program_name = text.split(' in ')[1].split(' ')[0]\n",
    "                    program_name = None#text.split('Requirements for the ')[1].split('(')[0]\n",
    "                    major_credits.append(text.split('(')[-1].split(' ')[0])\n",
    "                    major_or_minor = None\n",
    "                    if str(text).find('Major')>=0:\n",
    "                        major_or_minor = 'Major'\n",
    "                    elif str(text).find('Minor')>=0:\n",
    "                        major_or_minor = 'Minor'\n",
    "\n",
    "                    program_type = None\n",
    "                    if str(text).find('B.S.')>=0:\n",
    "                        program_type = 'B.S.'\n",
    "                    elif str(text).find('B.A.')>=0:\n",
    "                        program_type = 'B.A.'\n",
    "    \n",
    "                elif str(text).find(\"Auxiliary \")>=0:\n",
    "                    print()\n",
    "                    print(text)\n",
    "                    print()\n",
    "                    aux_credits = text.split('(')[1].split(' ')[0]\n",
    "\n",
    "    return program_name,  major_or_minor, program_type, major_credits, aux_credits \n",
    "    \n",
    "\n",
    "program_name,  major_or_minor, program_type, major_credits, aux_credits = extract_info(data)\n",
    "    \n",
    "print(program_name)\n",
    "print(major_or_minor)\n",
    "print(program_type)\n",
    "print(major_credits)\n",
    "print(aux_credits)\n"
   ]
  },
  {
   "cell_type": "code",
   "execution_count": null,
   "id": "4c885db0-d1e1-4f0c-8322-aaf4bb1f52c5",
   "metadata": {},
   "outputs": [],
   "source": [
    "text"
   ]
  },
  {
   "cell_type": "code",
   "execution_count": null,
   "id": "9b7de64a-b951-4449-bf54-094257206fd3",
   "metadata": {},
   "outputs": [],
   "source": [
    "str(text).find(\"Requirements\")"
   ]
  },
  {
   "cell_type": "markdown",
   "id": "823b10a9-105c-4e82-9f11-4340a5d0e0c3",
   "metadata": {},
   "source": [
    "# This seems to be working!\n",
    "\n",
    "Note that I started by downloading the HTML for the listing of the \"Academic Programs\" and saved it as `catalog_source.html`."
   ]
  },
  {
   "cell_type": "code",
   "execution_count": null,
   "id": "146bba16-47e3-4479-9a65-8101e5e4b622",
   "metadata": {
    "scrolled": true
   },
   "outputs": [],
   "source": [
    "# Try to scrape many more\n",
    "\n",
    "mydict = {}\n",
    "mydict['Program name'] = []\n",
    "mydict['Major/Minor'] = []\n",
    "mydict['Program type'] = []\n",
    "mydict['Major credits'] = []\n",
    "mydict['Auxiliary credits'] = []\n",
    "mydict['Total credits'] = []\n",
    "\n",
    "mydict['Major credits (lo)'] = []\n",
    "mydict['Major credits (hi)'] = []\n",
    "\n",
    "mydict['Auxiliary credits (lo)'] = []\n",
    "mydict['Auxiliary credits (hi)'] = []\n",
    "\n",
    "\n",
    "infilename = 'catalog_source.html'\n",
    "infile = open(infilename)\n",
    "\n",
    "\n",
    "page = infile.read()\n",
    "#print(page)\n",
    "\n",
    "soup = BeautifulSoup(page)\n",
    "\n",
    "MAX_PAGES = 30000\n",
    "\n",
    "icount = 0\n",
    "for a in soup.find_all('a', href=True):\n",
    "    if a['href'].find('preview_program')>=0:\n",
    "        print(\"Found the URL:\", a['href'])\n",
    "\n",
    "        #url = 'https://catalog.siena.edu/preview_program.php?catoid=18&poid=2806&returnto=656'\n",
    "        url = a['href']\n",
    "        \n",
    "        r = requests.get(url)\n",
    "        soup_program = BeautifulSoup(r.content, \"lxml\")\n",
    "        data = soup_program.find_all(\"div\", {\"class\": \"acalog-core\"})\n",
    "\n",
    "        program_name,  major_or_minor, program_type, major_credits, aux_credits = extract_info(data)\n",
    "        \n",
    "        program_name = soup_program.find_all('h1')[0].text\n",
    "\n",
    "        #x[0].text\n",
    "            \n",
    "        print(program_name)\n",
    "        print(major_or_minor)\n",
    "        print(program_type)\n",
    "        print(major_credits)\n",
    "        print(aux_credits)\n",
    "\n",
    "        mydict['Program name'].append(program_name)\n",
    "        mydict['Major/Minor'].append(major_or_minor)\n",
    "        mydict['Program type'].append(program_type)\n",
    "\n",
    "        credlo = 0\n",
    "        credhi = 0\n",
    "        cred = 0\n",
    "        for c in major_credits:\n",
    "            if c.find('-')>=0:\n",
    "                clo = c.split('-')[0]\n",
    "                chi = c.split('-')[1]\n",
    "                if clo.isnumeric() and chi.isnumeric():\n",
    "                    clo = int(clo)\n",
    "                    chi = int(chi)\n",
    "                else:\n",
    "                    clo,chi = 0,0\n",
    "            else:\n",
    "                if c.isnumeric() is False:\n",
    "                    c = '0'\n",
    "                clo = int(c)\n",
    "                chi = int(c)\n",
    "            credlo += clo\n",
    "            credhi += chi\n",
    "        cred = (credlo+credhi)/2\n",
    "\n",
    "        aclo=0\n",
    "        achi=0\n",
    "        acredlo = 0\n",
    "        acredhi = 0\n",
    "        acred= 0\n",
    "        if aux_credits is None:\n",
    "            aux_credits = '0'\n",
    "        c = aux_credits\n",
    "        if c.find('-')>=0:\n",
    "            aclo = int(c.split('-')[0])\n",
    "            achi = int(c.split('-')[1])\n",
    "        else:\n",
    "            aclo = int(c)\n",
    "            achi = int(c)\n",
    "        acredlo += aclo\n",
    "        acredhi += achi\n",
    "        acred = (acredlo+acredhi)/2\n",
    "\n",
    "        total_credits = acred + cred\n",
    "\n",
    "        \n",
    "        mydict['Major credits'].append(cred)\n",
    "        mydict['Auxiliary credits'].append(acred)\n",
    "        \n",
    "        mydict['Major credits (lo)'].append(credlo)\n",
    "        mydict['Major credits (hi)'].append(credhi)\n",
    "        \n",
    "        mydict['Auxiliary credits (lo)'].append(acredlo)\n",
    "        mydict['Auxiliary credits (hi)'].append(acredhi)\n",
    "\n",
    "        mydict['Total credits'].append(total_credits)\n",
    "        \n",
    "\n",
    "        icount += 1\n",
    "\n",
    "    if icount>=MAX_PAGES:\n",
    "        break\n"
   ]
  },
  {
   "cell_type": "code",
   "execution_count": null,
   "id": "e0f8577f-3a57-4035-bfb7-698b0fb24ae1",
   "metadata": {},
   "outputs": [],
   "source": []
  },
  {
   "cell_type": "code",
   "execution_count": null,
   "id": "aca943f4-7daa-4b3e-8a79-2797024dbbbe",
   "metadata": {},
   "outputs": [],
   "source": [
    "for key,val in mydict.items():\n",
    "    print(key,len(val))"
   ]
  },
  {
   "cell_type": "code",
   "execution_count": null,
   "id": "2702a35f-c6ab-43e0-92a3-8cd488a9a0ca",
   "metadata": {},
   "outputs": [],
   "source": [
    "print(mydict['Program name'])\n",
    "print()\n",
    "print(mydict['Major credits'])"
   ]
  },
  {
   "cell_type": "code",
   "execution_count": null,
   "id": "c1d3f624-93e2-4a49-9cc3-867cf4c40682",
   "metadata": {},
   "outputs": [],
   "source": [
    "df = pd.DataFrame.from_dict(mydict)\n",
    "\n",
    "df"
   ]
  },
  {
   "cell_type": "code",
   "execution_count": null,
   "id": "173f6a2a-66c2-41d7-92ed-1ed3affc2826",
   "metadata": {},
   "outputs": [],
   "source": [
    "df.to_csv('programs.csv')"
   ]
  },
  {
   "cell_type": "code",
   "execution_count": null,
   "id": "fac5f3d8-b685-4436-925b-4de4791e294b",
   "metadata": {},
   "outputs": [],
   "source": [
    "# Get the program name\n",
    "x = soup_program.find_all('h1')\n",
    "\n",
    "x[0].text"
   ]
  },
  {
   "cell_type": "code",
   "execution_count": null,
   "id": "be0e74c8-4b68-4742-90ec-dd734a5fbb87",
   "metadata": {},
   "outputs": [],
   "source": []
  }
 ],
 "metadata": {
  "kernelspec": {
   "display_name": "Python 3 (ipykernel)",
   "language": "python",
   "name": "python3"
  },
  "language_info": {
   "codemirror_mode": {
    "name": "ipython",
    "version": 3
   },
   "file_extension": ".py",
   "mimetype": "text/x-python",
   "name": "python",
   "nbconvert_exporter": "python",
   "pygments_lexer": "ipython3",
   "version": "3.11.7"
  }
 },
 "nbformat": 4,
 "nbformat_minor": 5
}
