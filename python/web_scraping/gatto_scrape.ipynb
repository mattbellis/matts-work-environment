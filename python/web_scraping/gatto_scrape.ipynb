{
 "cells": [
  {
   "cell_type": "code",
   "execution_count": null,
   "id": "e1d751f8",
   "metadata": {},
   "outputs": [],
   "source": [
    "import requests\n",
    "import bs4\n",
    "\n",
    "from bs4 import BeautifulSoup\n",
    "\n",
    "import pandas as pd"
   ]
  },
  {
   "cell_type": "code",
   "execution_count": null,
   "id": "33453e97",
   "metadata": {},
   "outputs": [],
   "source": [
    "#url = 'https://nces.ed.gov/ipeds/datacenter/DataFiles.aspx?gotoReportId=7&fromIpeds=true&sid=5f3008b8-5ae6-4595-8373-a8267bf6c19e&rtid=7'\n",
    "# This is not working right now\n",
    "\n",
    "#page = requests.get(url)\n",
    "\n",
    "#page"
   ]
  },
  {
   "cell_type": "code",
   "execution_count": null,
   "id": "be17ac58",
   "metadata": {},
   "outputs": [],
   "source": [
    "#page.text\n",
    "#soup = BeautifulSoup(page.text)\n",
    "\n",
    "# But we downloaded by hand\n",
    "infile = open('pagesource.txt')\n",
    "\n",
    "page = infile.read()\n",
    "#print(page)\n",
    "\n",
    "soup = BeautifulSoup(page)\n",
    "\n"
   ]
  },
  {
   "cell_type": "code",
   "execution_count": null,
   "id": "b7edb2c7",
   "metadata": {},
   "outputs": [],
   "source": [
    "page.find('HD2022')"
   ]
  },
  {
   "cell_type": "code",
   "execution_count": null,
   "id": "f82253f0",
   "metadata": {},
   "outputs": [],
   "source": [
    "tables = soup.body.find_all('table')\n",
    "\n",
    "#print(tables)\n",
    "\n",
    "files = []\n",
    "\n",
    "tables = soup.body.find_all('table')\n",
    "for table in tables:    \n",
    "    entry = table.find_all('td')\n",
    "    for t in entry:\n",
    "        values = t.find_all('a')\n",
    "        for v in values:\n",
    "            #print(v)\n",
    "            text = str(v)\n",
    "            #print(text)\n",
    "            if text.find('href')>=0:\n",
    "                #print(text)\n",
    "                file = text.split('href=\"')[-1].split('\"')[0]\n",
    "                if file.find('zip')>=0 or file.find('csv')>=0:  \n",
    "                    files.append(file)\n"
   ]
  },
  {
   "cell_type": "code",
   "execution_count": null,
   "id": "48021164",
   "metadata": {},
   "outputs": [],
   "source": [
    "files"
   ]
  },
  {
   "cell_type": "code",
   "execution_count": null,
   "id": "8e932bf1",
   "metadata": {},
   "outputs": [],
   "source": [
    "for file in files[0:5]:\n",
    "    print(file)\n",
    "    final_file = file.split('/')[-1]\n",
    "    print(final_file)\n",
    "    r = requests.get(file,allow_redirects=True)\n",
    "    print(r.headers.get('content-type'))\n",
    "    downloadfile = open(final_file, 'wb')\n",
    "    downloadfile.write(r.content)\n",
    "    downloadfile.close()"
   ]
  },
  {
   "cell_type": "code",
   "execution_count": null,
   "id": "9a019248",
   "metadata": {},
   "outputs": [],
   "source": []
  }
 ],
 "metadata": {
  "kernelspec": {
   "display_name": "Python 3 (ipykernel)",
   "language": "python",
   "name": "python3"
  },
  "language_info": {
   "codemirror_mode": {
    "name": "ipython",
    "version": 3
   },
   "file_extension": ".py",
   "mimetype": "text/x-python",
   "name": "python",
   "nbconvert_exporter": "python",
   "pygments_lexer": "ipython3",
   "version": "3.11.7"
  }
 },
 "nbformat": 4,
 "nbformat_minor": 5
}
