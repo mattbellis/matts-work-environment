{
 "cells": [
  {
   "cell_type": "code",
   "execution_count": null,
   "id": "4b3d1d1b",
   "metadata": {},
   "outputs": [],
   "source": [
    "import matplotlib.pylab as plt\n",
    "import numpy as np\n",
    "\n",
    "import pandas as pd\n",
    "\n",
    "import tabula"
   ]
  },
  {
   "cell_type": "code",
   "execution_count": null,
   "id": "149002f2",
   "metadata": {},
   "outputs": [],
   "source": [
    "filename = 'gre-guide-table-2.pdf'\n",
    "#filename = 'gre-guide-table-1a.pdf'\n",
    "\n",
    "df = tabula.read_pdf(filename, pages='all')\n",
    "\n"
   ]
  },
  {
   "cell_type": "code",
   "execution_count": null,
   "id": "e2183ab7",
   "metadata": {},
   "outputs": [],
   "source": [
    "df[1]"
   ]
  },
  {
   "cell_type": "code",
   "execution_count": null,
   "id": "23a33b17",
   "metadata": {},
   "outputs": [],
   "source": [
    "dfgre = df[1]\n",
    "\n",
    "# For Physics\n",
    "percentile = dfgre['Physicsa,b'].values[1:32]\n",
    "scores = dfgre['Scaled'].values[1:32].astype(int)\n",
    "\n",
    "# For General\n",
    "#scores = dfgre['Scaled\\rScore'].values[2:41]\n",
    "#percentile = dfgre['Verbal Reasoning'].values[2:41].astype(int)\n",
    "\n",
    "#scores = dfgre['Scaled\\rScore'].values[1:40]\n",
    "#percentile = dfgre['Quantitative\\rReasoning'].values[1:40].astype(int)\n",
    "\n",
    "\n",
    "print(percentile)\n",
    "print(scores)"
   ]
  },
  {
   "cell_type": "code",
   "execution_count": null,
   "id": "8f3a9981",
   "metadata": {},
   "outputs": [],
   "source": [
    "tot = 100\n",
    "pct = []\n",
    "for i in range(0,len(percentile)):\n",
    "    p = percentile[i]\n",
    "    x = tot-p\n",
    "    pct.append(x)\n",
    "    tot -= x\n",
    "    \n",
    "pct = np.array(pct)\n",
    "pct"
   ]
  },
  {
   "cell_type": "code",
   "execution_count": null,
   "id": "eccc0fce",
   "metadata": {},
   "outputs": [],
   "source": [
    "plt.figure(figsize=(12,6),facecolor='white')\n",
    "\n",
    "plt.plot(scores,pct,'o',markersize=20,label='N=22,717 (2017-2021)')\n",
    "plt.xlabel('Physics GRE scaled score', fontsize=24)\n",
    "plt.ylabel('Percentage of test-takers',fontsize=24)\n",
    "plt.xticks(fontsize=18)\n",
    "plt.yticks(fontsize=18)\n",
    "plt.gca().set_facecolor(\"white\")\n",
    "plt.legend(fontsize=24,loc='lower right')\n",
    "\n",
    "\n",
    "plt.tight_layout()\n",
    "\n",
    "plt.savefig('gre_2017_2021_physics.png')"
   ]
  },
  {
   "cell_type": "code",
   "execution_count": null,
   "id": "3857c420",
   "metadata": {},
   "outputs": [],
   "source": []
  }
 ],
 "metadata": {
  "kernelspec": {
   "display_name": "Python 3 (ipykernel)",
   "language": "python",
   "name": "python3"
  },
  "language_info": {
   "codemirror_mode": {
    "name": "ipython",
    "version": 3
   },
   "file_extension": ".py",
   "mimetype": "text/x-python",
   "name": "python",
   "nbconvert_exporter": "python",
   "pygments_lexer": "ipython3",
   "version": "3.9.12"
  }
 },
 "nbformat": 4,
 "nbformat_minor": 5
}
