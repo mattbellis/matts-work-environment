{
 "metadata": {
  "name": "",
  "signature": "sha256:36816d9dba284a01ef5563085ca8ce2d969a007c7ecb644d304b88caeb9d5478"
 },
 "nbformat": 3,
 "nbformat_minor": 0,
 "worksheets": [
  {
   "cells": [
    {
     "cell_type": "markdown",
     "metadata": {},
     "source": [
      "Find online where you can get information about the number of people (or households) in the US at different income levels. \n",
      "\n",
      "If you find a website with this information and it is not already in a file, <a href=\"http://docs.python-requests.org/en/latest/\"> use the requests library</a>, to download the file and then parse it into a .csv file. \n",
      "\n",
      "Make a histogram of these data. "
     ]
    },
    {
     "cell_type": "code",
     "collapsed": false,
     "input": [
      "# Your code here"
     ],
     "language": "python",
     "metadata": {},
     "outputs": [],
     "prompt_number": 1
    },
    {
     "cell_type": "markdown",
     "metadata": {},
     "source": [
      "What is the total 2015 (or 2014) budget? 1 trillion dollars? 2 trillion dollars?"
     ]
    },
    {
     "cell_type": "code",
     "collapsed": false,
     "input": [
      "# Your answer here"
     ],
     "language": "python",
     "metadata": {},
     "outputs": [],
     "prompt_number": 2
    },
    {
     "cell_type": "markdown",
     "metadata": {},
     "source": [
      "Come up with a function to tax only income tax (based on household income) that would cover the budget."
     ]
    },
    {
     "cell_type": "code",
     "collapsed": false,
     "input": [
      "# Your code here"
     ],
     "language": "python",
     "metadata": {},
     "outputs": [],
     "prompt_number": 3
    },
    {
     "cell_type": "code",
     "collapsed": false,
     "input": [],
     "language": "python",
     "metadata": {},
     "outputs": []
    }
   ],
   "metadata": {}
  }
 ]
}