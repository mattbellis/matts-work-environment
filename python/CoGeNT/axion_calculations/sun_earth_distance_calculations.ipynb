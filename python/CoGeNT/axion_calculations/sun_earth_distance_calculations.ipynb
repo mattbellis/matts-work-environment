{
 "metadata": {
  "name": "",
  "signature": "sha256:48801f3a5661dfc1a7edaeacb1c36e510b1043f17fe57c48649d1bcbf7923ce4"
 },
 "nbformat": 3,
 "nbformat_minor": 0,
 "worksheets": [
  {
   "cells": [
    {
     "cell_type": "code",
     "collapsed": false,
     "input": [
      "import numpy as np\n",
      "\n",
      "f = 1 # Flux from sun\n",
      "\n",
      "rmin = 147098070.0\n",
      "rmax = 152097700.0 \n",
      "\n",
      "Amin = 4*np.pi*(rmin**2)\n",
      "Amax = 4*np.pi*(rmax**2)\n",
      "\n",
      "\n",
      "print rmin,Amin\n",
      "print rmax,Amax\n",
      "\n",
      "fmax = f/Amin # maximum flux\n",
      "fmin = f/Amax # minimum flux\n",
      "\n",
      "rEarth = 6e6 # radius of earth\n",
      "\n",
      "fEarthmax = fmax*(np.pi*(rEarth**2))\n",
      "fEarthmin = fmin*(np.pi*(rEarth**2))\n",
      "\n",
      "print fEarthmax\n",
      "print fEarthmin\n",
      "\n",
      "ratio = fEarthmax/fEarthmin\n",
      "\n",
      "print \"ratio: %f\" % (ratio)\n"
     ],
     "language": "python",
     "metadata": {},
     "outputs": [
      {
       "output_type": "stream",
       "stream": "stdout",
       "text": [
        "147098070.0 2.71909144352e+17\n",
        "152097700.0 2.90706777884e+17\n",
        "0.000415937962656\n",
        "0.000389042650991\n",
        "ratio: 1.069132\n"
       ]
      }
     ],
     "prompt_number": 6
    },
    {
     "cell_type": "code",
     "collapsed": false,
     "input": [],
     "language": "python",
     "metadata": {},
     "outputs": []
    }
   ],
   "metadata": {}
  }
 ]
}