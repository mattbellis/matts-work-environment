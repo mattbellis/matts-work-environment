{
 "metadata": {
  "name": "",
  "signature": "sha256:df2ead087c72550e1144ced54b21ba335c4a0a1d2a19fe80b4e01bf24182205c"
 },
 "nbformat": 3,
 "nbformat_minor": 0,
 "worksheets": [
  {
   "cells": [
    {
     "cell_type": "markdown",
     "metadata": {},
     "source": [
      "Going to try to do some basic calculations about axion abundances and energy spectra. Referencing <a href=\"http://arxiv.org/pdf/0806.2230v2.pdf\">this paper</a>"
     ]
    },
    {
     "cell_type": "markdown",
     "metadata": {},
     "source": [
      "Eq. 3., solving for the conversion rate $P_{a\\rightarrow \\gamma}$. \n",
      "\n",
      "$$P_{a\\rightarrow \\gamma} = \\left( \\frac{g_{a \\gamma \\gamma} B_\\perp L}{2}\\right)^2 \\left[ \\frac{\\sin(qL/2)}{qL/2}\\right]^2$$\n",
      "\n",
      "where\n",
      "\n",
      "$B_\\perp$ is the strength of the transverse magnetic field.\n",
      "\n",
      "$L$ is the length of the field along the $z$-axis.\n",
      "\n",
      "$q=(m_\\gamma^2 - m_a^2)/2E$ is the momentum transfer by the virtual photon.\n",
      "\n",
      "$m_\\gamma$ is the effective mass of the photon, which goes to 0 in a vacuum. \n",
      "\n"
     ]
    },
    {
     "cell_type": "code",
     "collapsed": false,
     "input": [
      "L = 1e-10 # in meters\n",
      "B = 50 # Tesla?\n",
      "mgamma = 10 # eV\n",
      "ma = 1e-3 # eV\n",
      "q = (mgamma**2 - ma**2)/(2*E)\n",
      "E = 4000 # 4keV\n",
      "gagg = 1e-12 # WHAT IS THIS SUPPOSED TO BE?\n",
      "\n",
      "print q\n",
      "\n",
      "#Pag = ((gagg*B*L/2)**2) * ((sin(q*L/2)/(q*L/2))**2)\n",
      "\n",
      "# Make use of the Taylor expansion\n",
      "Pag = ((gagg*B*L/2)**2) * ((1-((q*L/2)**2)/6)**2)\n",
      "\n",
      "\n",
      "print Pag"
     ],
     "language": "python",
     "metadata": {},
     "outputs": [
      {
       "output_type": "stream",
       "stream": "stdout",
       "text": [
        "0.012499999875\n",
        "6.25e-42\n"
       ]
      }
     ],
     "prompt_number": 21
    },
    {
     "cell_type": "code",
     "collapsed": false,
     "input": [],
     "language": "python",
     "metadata": {},
     "outputs": []
    }
   ],
   "metadata": {}
  }
 ]
}