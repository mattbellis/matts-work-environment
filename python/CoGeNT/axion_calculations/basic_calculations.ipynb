{
 "metadata": {
  "name": "",
  "signature": "sha256:a02f7de24d5ea5804a5f4d73781346064ac287be019b139534cc2830138f3bc0"
 },
 "nbformat": 3,
 "nbformat_minor": 0,
 "worksheets": [
  {
   "cells": [
    {
     "cell_type": "markdown",
     "metadata": {},
     "source": [
      "Calculate the velocity of the electron in a hydrogen atom.\n",
      "\n",
      "\\begin{eqnarray}\n",
      "F_c &=& F_E\\\\\n",
      "\\frac{mv^2}{r} &=& \\frac{Ze^2}{4\\pi\\epsilon_0 r^2}\\\\\n",
      "v &=& \\sqrt{\\frac{Ze^2}{4\\pi \\epsilon_0 r m}}\n",
      "\\end{eqnarray}"
     ]
    },
    {
     "cell_type": "code",
     "collapsed": false,
     "input": [
      "import scipy.constants as sc\n",
      "eps0 = sc.epsilon_0\n",
      "pi = sc.pi\n",
      "Z = 1\n",
      "e = sc.e\n",
      "r = sc.physical_constants[\"Bohr radius\"][0]\n",
      "print \"radius: %e\" % (r)\n",
      "m = sc.physical_constants[\"electron mass\"][0]\n",
      "print \"mass: %e\" % (m)\n",
      "\n",
      "v = np.sqrt((Z*(e**2))/(4*pi*eps0*r*m))\n",
      "\n",
      "print \"velocity: %e\" % (v) # m/s"
     ],
     "language": "python",
     "metadata": {},
     "outputs": [
      {
       "output_type": "stream",
       "stream": "stdout",
       "text": [
        "radius: 5.291772e-11\n",
        "mass: 9.109383e-31\n",
        "velocity: 2.187691e+06\n"
       ]
      }
     ],
     "prompt_number": 1
    },
    {
     "cell_type": "markdown",
     "metadata": {},
     "source": [
      "<hr>\n",
      "\n",
      "Calculate the magnetic field inside a hydrogen atom. Use the formula for the magnetic field at the center of a current carrying loop. "
     ]
    },
    {
     "cell_type": "markdown",
     "metadata": {},
     "source": [
      "$$B = \\frac{\\mu_0 I}{2R}$$"
     ]
    },
    {
     "cell_type": "code",
     "collapsed": false,
     "input": [
      "mu_0 = sc.mu_0\n",
      "\n",
      "t = (2*pi*r)/v # Time to ``orbit\" the nucleus\n",
      "print \"time: %e s\" % (t)\n",
      "\n",
      "I = e/t # Current\n",
      "print \"Current: %e C\" % (I)\n",
      "\n",
      "B = mu_0*I/(2*r)\n",
      "\n",
      "print \"B-field: %f T\" % (B)"
     ],
     "language": "python",
     "metadata": {},
     "outputs": [
      {
       "output_type": "stream",
       "stream": "stdout",
       "text": [
        "time: 1.519830e-16 s\n",
        "Current: 1.054182e-03 C\n",
        "B-field: 12.516824 T\n"
       ]
      }
     ],
     "prompt_number": 2
    },
    {
     "cell_type": "markdown",
     "metadata": {},
     "source": [
      "<hr>\n",
      "\n",
      "Going to try to do some basic calculations about axion abundances and energy spectra. Referencing <a href=\"http://arxiv.org/pdf/0806.2230v2.pdf\">this paper</a>"
     ]
    },
    {
     "cell_type": "markdown",
     "metadata": {},
     "source": [
      "Eq. 3., solving for the conversion rate $P_{a\\rightarrow \\gamma}$. \n",
      "\n",
      "$$P_{a\\rightarrow \\gamma} = \\left( \\frac{g_{a \\gamma \\gamma} B_\\perp L}{2}\\right)^2 \\left[ \\frac{\\sin(qL/2)}{qL/2}\\right]^2$$\n",
      "\n",
      "where\n",
      "\n",
      "$B_\\perp$ is the strength of the transverse magnetic field.\n",
      "\n",
      "$L$ is the length of the field along the $z$-axis.\n",
      "\n",
      "$q=(m_\\gamma^2 - m_a^2)/2E$ is the momentum transfer by the virtual photon.\n",
      "\n",
      "$m_\\gamma$ is the effective mass of the photon, which goes to 0 in a vacuum. \n",
      "\n"
     ]
    },
    {
     "cell_type": "code",
     "collapsed": false,
     "input": [
      "L = r # in meters\n",
      "mgamma = 10 # eV\n",
      "ma = 1 # eV\n",
      "\n",
      "E = 4000 # 4keV\n",
      "\n",
      "q = (mgamma**2 - ma**2)/(2*E)\n",
      "\n",
      "gagg = 1e-10 # WHAT IS THIS SUPPOSED TO BE?\n",
      "\n",
      "print q\n",
      "\n",
      "#Pag = ((gagg*B*L/2)**2) * ((sin(q*L/2)/(q*L/2))**2)\n",
      "\n",
      "# Make use of the Taylor expansion\n",
      "Pag = ((gagg*B*L/2)**2) * ((1-((q*L/2)**2)/6)**2)\n",
      "\n",
      "\n",
      "print Pag"
     ],
     "language": "python",
     "metadata": {},
     "outputs": [
      {
       "output_type": "stream",
       "stream": "stdout",
       "text": [
        "0\n",
        "1.09680786956e-39\n"
       ]
      }
     ],
     "prompt_number": 3
    },
    {
     "cell_type": "markdown",
     "metadata": {},
     "source": [
      "Calculate the axion flux on Earth."
     ]
    },
    {
     "cell_type": "markdown",
     "metadata": {},
     "source": [
      "$$\\frac{d \\Phi_\\alpha}{dE} = 6.02 \\times 10^{10} \\left(\\frac{g_{\\alpha \\gamma \\gamma}}{10^{-10} GeV^{-1}}\\right)^2 \\left( \\frac{E}{keV}\\right)^{2.481} e^{-\\frac{E}{1.205 keV}} \\textrm{axions/cm$^2$/sec/keV}$$"
     ]
    },
    {
     "cell_type": "code",
     "collapsed": false,
     "input": [
      "gagg = 1e-10 # For example\n",
      "E = np.linspace(0,14,1000)\n",
      "\n",
      "dPhidE = 6.02e10*((gagg/1e-10)**2) * ((E)**2.481) * np.exp(-E/1.205)\n"
     ],
     "language": "python",
     "metadata": {},
     "outputs": [],
     "prompt_number": 4
    },
    {
     "cell_type": "code",
     "collapsed": false,
     "input": [
      "plt.plot(E,dPhidE)"
     ],
     "language": "python",
     "metadata": {},
     "outputs": [
      {
       "metadata": {},
       "output_type": "pyout",
       "prompt_number": 5,
       "text": [
        "[<matplotlib.lines.Line2D at 0x7f26993cbe50>]"
       ]
      },
      {
       "metadata": {},
       "output_type": "display_data",
       "png": "[encoded data removed]",
       "text": [
        "<matplotlib.figure.Figure at 0x7f2699cde910>"
       ]
      }
     ],
     "prompt_number": 5
    },
    {
     "cell_type": "code",
     "collapsed": false,
     "input": [
      "from scipy.integrate import cumtrapz\n",
      "\n",
      "N = cumtrapz(dPhidE,E,initial=0)\n",
      "\n",
      "print len(N),len(dPhidE)\n",
      "\n",
      "plt.plot(E,N)"
     ],
     "language": "python",
     "metadata": {},
     "outputs": [
      {
       "output_type": "stream",
       "stream": "stdout",
       "text": [
        "1000 1000\n"
       ]
      },
      {
       "metadata": {},
       "output_type": "pyout",
       "prompt_number": 6,
       "text": [
        "[<matplotlib.lines.Line2D at 0x7f2698173610>]"
       ]
      },
      {
       "metadata": {},
       "output_type": "display_data",
       "png": "[encoded data removed]",
       "text": [
        "<matplotlib.figure.Figure at 0x7f26993a8890>"
       ]
      }
     ],
     "prompt_number": 6
    },
    {
     "cell_type": "code",
     "collapsed": false,
     "input": [
      "# Print the sum of the integral from 0-14 keV\n",
      "totN = N[-1]\n",
      "print totN"
     ],
     "language": "python",
     "metadata": {},
     "outputs": [
      {
       "output_type": "stream",
       "stream": "stdout",
       "text": [
        "374417628479.0\n"
       ]
      }
     ],
     "prompt_number": 7
    },
    {
     "cell_type": "code",
     "collapsed": false,
     "input": [
      "target_size = 0.333 # kg\n",
      "N_A = sc.N_A # Avogadro's number\n",
      "Natoms = 0.333 * N_A / 72.6\n",
      "\n",
      "print \"# atoms in target: %e\" % (Natoms)"
     ],
     "language": "python",
     "metadata": {},
     "outputs": [
      {
       "output_type": "stream",
       "stream": "stdout",
       "text": [
        "# atoms in target: 2.762222e+21\n"
       ]
      }
     ],
     "prompt_number": 8
    },
    {
     "cell_type": "code",
     "collapsed": false,
     "input": [
      "sec_per_year = 365*60.0*60.0*24\n",
      "print \"seconds per year: %.1f\" % (sec_per_year)\n",
      "target_cross_section = 10 # 10 square centimeters?\n",
      "axions_on_target_per_year = totN*sec_per_year*target_cross_section\n",
      "\n",
      "print \"# axions on target: %e\" % (axions_on_target_per_year)\n"
     ],
     "language": "python",
     "metadata": {},
     "outputs": [
      {
       "output_type": "stream",
       "stream": "stdout",
       "text": [
        "seconds per year: 31536000.0\n",
        "# axions on target: 1.180763e+20\n"
       ]
      }
     ],
     "prompt_number": 9
    },
    {
     "cell_type": "code",
     "collapsed": false,
     "input": [
      "N_interactions = Pag*axions_on_target_per_year*Natoms\n",
      "\n",
      "print \"# interactions per year: %f\" % (N_interactions)"
     ],
     "language": "python",
     "metadata": {},
     "outputs": [
      {
       "output_type": "stream",
       "stream": "stdout",
       "text": [
        "# interactions per year: 357.727236\n"
       ]
      }
     ],
     "prompt_number": 10
    },
    {
     "cell_type": "code",
     "collapsed": false,
     "input": [],
     "language": "python",
     "metadata": {},
     "outputs": [],
     "prompt_number": 10
    },
    {
     "cell_type": "code",
     "collapsed": false,
     "input": [],
     "language": "python",
     "metadata": {},
     "outputs": [],
     "prompt_number": 10
    }
   ],
   "metadata": {}
  }
 ]
}