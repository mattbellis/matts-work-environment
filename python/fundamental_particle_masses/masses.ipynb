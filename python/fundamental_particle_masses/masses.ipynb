{
 "cells": [
  {
   "cell_type": "code",
   "execution_count": null,
   "metadata": {},
   "outputs": [],
   "source": [
    "import numpy as np\n",
    "import matplotlib.pylab as plt\n"
   ]
  },
  {
   "cell_type": "code",
   "execution_count": null,
   "metadata": {},
   "outputs": [],
   "source": [
    "x = np.array([1, 2, 3])\n",
    "quq = np.array([2/3, 2/3, 2/3])\n",
    "qdq = np.array([-1/3, -1/3, -1/3])\n",
    "qu = np.array([0.0023, 1.275, 173])\n",
    "qd = np.array([0.0048, 0.95, 4.18])\n",
    "lu = np.array([0.000511, 0.105, 1.776])\n"
   ]
  },
  {
   "cell_type": "code",
   "execution_count": null,
   "metadata": {},
   "outputs": [],
   "source": [
    "plt.figure()\n",
    "plt.plot(x,quq*qu,'o',markersize=30)\n",
    "plt.plot(x,-qdq*qd,'o',markersize=20)\n",
    "plt.plot(x,lu,'o',markersize=10)\n",
    "plt.yscale('log')"
   ]
  },
  {
   "cell_type": "code",
   "execution_count": null,
   "metadata": {},
   "outputs": [],
   "source": [
    "plt.figure()\n",
    "plt.plot(x,qu/quq,'o',markersize=30)\n",
    "plt.plot(x,-qd/qdq,'o',markersize=20)\n",
    "plt.plot(x,lu,'o',markersize=10)\n",
    "plt.yscale('log')"
   ]
  },
  {
   "cell_type": "code",
   "execution_count": null,
   "metadata": {},
   "outputs": [],
   "source": [
    "plt.figure()\n",
    "plt.plot(x,qu,'o',markersize=30)\n",
    "plt.plot(x,qd,'o',markersize=20)\n",
    "plt.plot(x,lu,'o',markersize=10)\n",
    "plt.yscale('log')"
   ]
  },
  {
   "cell_type": "code",
   "execution_count": null,
   "metadata": {},
   "outputs": [],
   "source": [
    "plt.figure()\n",
    "plt.plot(x,quq*qu + qdq*qd,'o',markersize=30)\n",
    "#plt.plot(x,-qdq*qd,'o',markersize=20)\n",
    "plt.plot(x,lu,'o',markersize=10)\n",
    "plt.yscale('log')\n",
    "\n",
    "print(quq*qu + qdq*qd)"
   ]
  },
  {
   "cell_type": "code",
   "execution_count": null,
   "metadata": {},
   "outputs": [],
   "source": [
    "plt.figure()\n",
    "plt.plot(x,quq*qu - qdq*qd,'o',markersize=30)\n",
    "#plt.plot(x,-qdq*qd,'o',markersize=20)\n",
    "plt.plot(x,lu,'o',markersize=10)\n",
    "plt.yscale('log')\n",
    "\n",
    "print(quq*qu - qdq*qd)"
   ]
  },
  {
   "cell_type": "code",
   "execution_count": null,
   "metadata": {},
   "outputs": [],
   "source": [
    "plt.figure()\n",
    "plt.plot(x,quq*qu + np.abs(qdq*qd),'o',markersize=30)\n",
    "#plt.plot(x,-qdq*qd,'o',markersize=20)\n",
    "plt.plot(x,lu,'o',markersize=10)\n",
    "plt.yscale('log')\n",
    "\n",
    "print(quq*qu + np.abs(qdq*qd))"
   ]
  },
  {
   "cell_type": "code",
   "execution_count": null,
   "metadata": {},
   "outputs": [],
   "source": [
    "y = (quq*qu + np.abs(qdq*qd))/lu\n",
    "print(y)\n",
    "\n",
    "plt.figure()\n",
    "plt.plot(x,y,'o',markersize=30)\n",
    "plt.yscale('log')\n"
   ]
  },
  {
   "cell_type": "code",
   "execution_count": null,
   "metadata": {},
   "outputs": [],
   "source": [
    "y = (quq*qu + qdq*qd)/lu\n",
    "print(y)\n",
    "print(y[1]/y[0], y[2]/y[1], y[2]/y[0])\n",
    "\n",
    "\n",
    "plt.figure()\n",
    "plt.plot(x,y,'o',markersize=30)\n",
    "plt.yscale('log')"
   ]
  },
  {
   "cell_type": "code",
   "execution_count": null,
   "metadata": {},
   "outputs": [],
   "source": [
    "y = (quq*qu - qdq*qd)/lu\n",
    "print(y)\n",
    "print(y[1]/y[0], y[2]/y[1], y[2]/y[0])\n",
    "\n",
    "\n",
    "plt.figure()\n",
    "plt.plot(x,y,'o',markersize=30)\n",
    "plt.yscale('log')"
   ]
  },
  {
   "cell_type": "code",
   "execution_count": null,
   "metadata": {},
   "outputs": [],
   "source": [
    "y = (quq*qu + np.abs(qdq*qd))/lu\n",
    "print(y)\n",
    "print(y[1]/y[0], y[2]/y[1], y[2]/y[0])\n",
    "\n",
    "\n",
    "plt.figure()\n",
    "plt.plot(x,y,'o',markersize=30)\n",
    "plt.yscale('log')"
   ]
  },
  {
   "cell_type": "code",
   "execution_count": null,
   "metadata": {},
   "outputs": [],
   "source": [
    "y = (qu + qd)/lu\n",
    "print(y)\n",
    "print(y[1]/y[0], y[2]/y[1], y[2]/y[0])\n",
    "\n",
    "plt.figure()\n",
    "plt.plot(x,y,'o',markersize=30)\n",
    "plt.yscale('log')"
   ]
  },
  {
   "cell_type": "code",
   "execution_count": null,
   "metadata": {},
   "outputs": [],
   "source": [
    "y = (qu/quq - qd/qdq)\n",
    "print(y)\n",
    "print(y[1]/y[0], y[2]/y[1], y[2]/y[0])\n",
    "\n",
    "plt.figure()\n",
    "plt.plot(x,y,'o',markersize=30)\n",
    "plt.yscale('log')"
   ]
  },
  {
   "cell_type": "code",
   "execution_count": null,
   "metadata": {},
   "outputs": [],
   "source": [
    "y = (qu/quq - qd/qdq)/lu\n",
    "print(y)\n",
    "print(y[1]/y[0], y[2]/y[1], y[2]/y[0])\n",
    "\n",
    "plt.figure()\n",
    "plt.plot(x,y,'o',markersize=30)\n",
    "plt.yscale('log')"
   ]
  },
  {
   "cell_type": "code",
   "execution_count": null,
   "metadata": {},
   "outputs": [],
   "source": [
    "print(lu)\n",
    "print(qu)\n",
    "print(qd)"
   ]
  },
  {
   "cell_type": "code",
   "execution_count": null,
   "metadata": {},
   "outputs": [],
   "source": [
    "for a,b,c in zip(qu,qd,lu):\n",
    "    print(a,b,c,np.mean([a,b,c]))"
   ]
  },
  {
   "cell_type": "code",
   "execution_count": null,
   "metadata": {},
   "outputs": [],
   "source": [
    "for a,b,c,q1,q2 in zip(qu,qd,lu, quq, qdq):\n",
    "    print(a,b,c,q1,q2,np.mean([q1*a,q2*b,c]))"
   ]
  },
  {
   "cell_type": "code",
   "execution_count": null,
   "metadata": {},
   "outputs": [],
   "source": [
    "for a,b,c,q1,q2 in zip(qu,qd,lu, quq, qdq):\n",
    "    print(a,b,c,q1,q2,np.mean([q1*a,-q2*b,c]))"
   ]
  },
  {
   "cell_type": "code",
   "execution_count": null,
   "metadata": {},
   "outputs": [],
   "source": [
    "for a,b,c,q1,q2 in zip(qu,qd,lu, quq, qdq):\n",
    "    print(a,b,c,q1,q2,np.mean([a/q1,b/q2,c]))"
   ]
  },
  {
   "cell_type": "code",
   "execution_count": null,
   "metadata": {},
   "outputs": [],
   "source": [
    "for a,b,c,q1,q2 in zip(qu,qd,lu, quq, qdq):\n",
    "    print(a,b,c,q1,q2,np.mean([a/q1,-b/q2,c]))"
   ]
  },
  {
   "cell_type": "markdown",
   "metadata": {},
   "source": [
    "# W and Z boson\n",
    "\n",
    "https://en.wikipedia.org/wiki/W_and_Z_bosons\n",
    "\n",
    "$$\\frac{m_t\\frac{3}{2} - m_b\\frac{3}{1}+ m_{\\tau}}{3} = 82.9$$\n",
    "\n",
    "$$\\frac{m_t\\frac{3}{2} + m_b\\frac{3}{1}+ m_{\\tau}}{3} = 91.272$$"
   ]
  },
  {
   "cell_type": "code",
   "execution_count": null,
   "metadata": {},
   "outputs": [],
   "source": [
    "print(qu/quq)\n",
    "print(qu*quq)"
   ]
  },
  {
   "cell_type": "code",
   "execution_count": null,
   "metadata": {},
   "outputs": [],
   "source": [
    "ckm = np.array([[0.97427, 0.22534, 0.00351], [0.22520, 0.97344, 0.0412], [0.00867,0.0404,0.999146]])"
   ]
  },
  {
   "cell_type": "code",
   "execution_count": null,
   "metadata": {},
   "outputs": [],
   "source": [
    "ckm\n"
   ]
  },
  {
   "cell_type": "code",
   "execution_count": null,
   "metadata": {},
   "outputs": [],
   "source": [
    "ckm * 91"
   ]
  },
  {
   "cell_type": "code",
   "execution_count": null,
   "metadata": {},
   "outputs": [],
   "source": [
    "ckm * 82"
   ]
  },
  {
   "cell_type": "code",
   "execution_count": null,
   "metadata": {},
   "outputs": [],
   "source": [
    "np.mean([qu[0]/quq[0],-qd[2]/qdq[2],-lu[2]])/np.mean([qu[2]*quq[2],-qd[0]*qdq[0]])"
   ]
  },
  {
   "cell_type": "code",
   "execution_count": null,
   "metadata": {},
   "outputs": [],
   "source": [
    "np.mean([qu[0]/quq[0],-qd[1]/qdq[1],-lu[1]])/np.mean([qu[1]*quq[1],-qd[0]*qdq[0]])"
   ]
  },
  {
   "cell_type": "code",
   "execution_count": null,
   "metadata": {},
   "outputs": [],
   "source": [
    "np.mean([qu[1]/quq[1],-qd[2]/qdq[2]])/(lu[2]+lu[1])"
   ]
  },
  {
   "cell_type": "code",
   "execution_count": null,
   "metadata": {},
   "outputs": [],
   "source": [
    "np.mean([qu[2]/quq[2],-qd[0]/qdq[0],lu[0]])"
   ]
  },
  {
   "cell_type": "code",
   "execution_count": null,
   "metadata": {},
   "outputs": [],
   "source": [
    "np.mean([qu[2]/quq[2],-qd[2]/qdq[2],lu[2]])"
   ]
  },
  {
   "cell_type": "code",
   "execution_count": null,
   "metadata": {},
   "outputs": [],
   "source": [
    "np.mean([qu[2]/quq[2],-qd[0]/qdq[0],-lu[0],0,0,0,0,0])"
   ]
  },
  {
   "cell_type": "code",
   "execution_count": null,
   "metadata": {},
   "outputs": [],
   "source": [
    "np.mean([qu[1]/quq[1],qd[1]/qdq[1],-lu[1]])"
   ]
  },
  {
   "cell_type": "code",
   "execution_count": null,
   "metadata": {},
   "outputs": [],
   "source": [
    "np.mean([qu[2]/quq[2],qd[2]/qdq[2],-lu[2]])"
   ]
  },
  {
   "cell_type": "code",
   "execution_count": null,
   "metadata": {},
   "outputs": [],
   "source": [
    "np.mean([qu[2]/quq[2],qd[2]/qdq[2],lu[2]])"
   ]
  },
  {
   "cell_type": "code",
   "execution_count": null,
   "metadata": {},
   "outputs": [],
   "source": [
    "np.mean([qu[2]*quq[2],-qd[0]*qdq[0]])"
   ]
  },
  {
   "cell_type": "code",
   "execution_count": null,
   "metadata": {},
   "outputs": [],
   "source": [
    "np.mean([qu[2]*quq[2],qd[1]*qdq[1]])"
   ]
  },
  {
   "cell_type": "code",
   "execution_count": null,
   "metadata": {},
   "outputs": [],
   "source": [
    "qu[2]/quq[2]/(qd[1]/qdq[1])"
   ]
  },
  {
   "cell_type": "code",
   "execution_count": null,
   "metadata": {},
   "outputs": [],
   "source": [
    "qu[2]/quq[2]/(qd[0]/qdq[0])"
   ]
  },
  {
   "cell_type": "code",
   "execution_count": null,
   "metadata": {},
   "outputs": [],
   "source": [
    "qu[2]/quq[2]/(qd[2]/qdq[2])"
   ]
  },
  {
   "cell_type": "code",
   "execution_count": null,
   "metadata": {},
   "outputs": [],
   "source": [
    "qu[2]*quq[2]/(qd[2]*qdq[2])"
   ]
  },
  {
   "cell_type": "code",
   "execution_count": null,
   "metadata": {},
   "outputs": [],
   "source": [
    "qmag = np.sqrt(qu**2 + qd**2)\n",
    "qtheta = np.arctan2(qu,qd)\n",
    "\n",
    "print(qmag)\n",
    "print(qtheta)"
   ]
  },
  {
   "cell_type": "code",
   "execution_count": null,
   "metadata": {},
   "outputs": [],
   "source": [
    "plt.figure(figsize=(12,5))\n",
    "\n",
    "plt.subplot(1,2,1)\n",
    "plt.plot(qtheta,qmag,'o')\n",
    "\n",
    "plt.subplot(1,2,2)\n",
    "plt.plot(qtheta/np.pi,qmag,'o')"
   ]
  },
  {
   "cell_type": "code",
   "execution_count": null,
   "metadata": {},
   "outputs": [],
   "source": [
    "plt.figure(figsize=(14,4))\n",
    "\n",
    "for i in range(0,3):\n",
    "    plt.subplot(1,3,i+1)\n",
    "    plt.plot([0,qd[i]],[0,qu[i]])\n",
    "    plt.xlim(0,max([qd[i],qu[i]]))\n",
    "    plt.ylim(0,max([qd[i],qu[i]]))"
   ]
  },
  {
   "cell_type": "code",
   "execution_count": null,
   "metadata": {},
   "outputs": [],
   "source": [
    "plt.figure(figsize=(12,5))\n",
    "\n",
    "plt.subplot(1,2,1)\n",
    "plt.plot(qtheta,qmag,'o')\n",
    "\n",
    "plt.subplot(1,2,2)\n",
    "plt.plot(qtheta,qmag,'o')\n",
    "plt.yscale('log')"
   ]
  },
  {
   "cell_type": "code",
   "execution_count": null,
   "metadata": {},
   "outputs": [],
   "source": [
    "print(np.log(qmag))\n",
    "print(np.log(qtheta))\n",
    "\n",
    "plt.figure()\n",
    "plt.plot(np.log(qmag), np.log(qtheta),'o')"
   ]
  },
  {
   "cell_type": "code",
   "execution_count": null,
   "metadata": {},
   "outputs": [],
   "source": [
    "qmaghyp = 1000\n",
    "qthetahyp = 0.98*np.pi/2\n",
    "\n",
    "print(qmaghyp*np.sin(qthetahyp))\n",
    "print(qmaghyp*np.cos(qthetahyp))"
   ]
  },
  {
   "cell_type": "markdown",
   "metadata": {},
   "source": [
    "# Quarks and leptons"
   ]
  },
  {
   "cell_type": "code",
   "execution_count": null,
   "metadata": {},
   "outputs": [],
   "source": [
    "qlmag = np.sqrt(qu**2 + lu**2)\n",
    "qltheta = np.arctan2(qu,lu)\n",
    "\n",
    "print(qlmag)\n",
    "print(qltheta)"
   ]
  },
  {
   "cell_type": "code",
   "execution_count": null,
   "metadata": {},
   "outputs": [],
   "source": [
    "plt.figure(figsize=(12,5))\n",
    "\n",
    "plt.subplot(1,2,1)\n",
    "plt.plot(qltheta,qlmag,'o')\n",
    "\n",
    "plt.subplot(1,2,2)\n",
    "plt.plot(qltheta/np.pi,qlmag,'o')"
   ]
  },
  {
   "cell_type": "code",
   "execution_count": null,
   "metadata": {},
   "outputs": [],
   "source": [
    "plt.figure(figsize=(14,4))\n",
    "\n",
    "for i in range(0,3):\n",
    "    plt.subplot(1,3,i+1)\n",
    "    plt.plot([0,lu[i]],[0,qu[i]])\n",
    "    plt.xlim(0,max([lu[i],qu[i]]))\n",
    "    plt.ylim(0,max([lu[i],qu[i]]))"
   ]
  },
  {
   "cell_type": "code",
   "execution_count": null,
   "metadata": {},
   "outputs": [],
   "source": [
    "plt.figure(figsize=(12,5))\n",
    "\n",
    "plt.subplot(1,2,1)\n",
    "plt.plot(qltheta,qlmag,'o')\n",
    "\n",
    "plt.subplot(1,2,2)\n",
    "plt.plot(qltheta,qlmag,'o')\n",
    "plt.yscale('log')"
   ]
  },
  {
   "cell_type": "code",
   "execution_count": null,
   "metadata": {},
   "outputs": [],
   "source": [
    "print(np.log(qlmag))\n",
    "print(np.log(qltheta))\n",
    "\n",
    "plt.figure()\n",
    "plt.plot(np.log(qlmag), np.log(qltheta),'o')"
   ]
  },
  {
   "cell_type": "markdown",
   "metadata": {},
   "source": [
    "# Both quarks and leptons"
   ]
  },
  {
   "cell_type": "code",
   "execution_count": null,
   "metadata": {},
   "outputs": [],
   "source": [
    "qlmag = np.sqrt(qd**2 + qu**2 + lu**2)\n",
    "qlphi = np.arctan2(qu,qd)\n",
    "qltheta = np.arcsin(np.sqrt(qd**2 + qu**2)/qlmag)\n",
    "\n",
    "print(qlmag)\n",
    "print(qlphi)\n",
    "print(qltheta)\n",
    "\n",
    "print()\n",
    "print(qd)\n",
    "print(qu)"
   ]
  },
  {
   "cell_type": "code",
   "execution_count": null,
   "metadata": {},
   "outputs": [],
   "source": [
    "plt.figure(figsize=(16,5))\n",
    "\n",
    "plt.subplot(1,4,1)\n",
    "plt.plot(qltheta,qlmag,'o')\n",
    "plt.plot(qltheta,qlmag,'k')\n",
    "\n",
    "plt.subplot(1,4,2)\n",
    "plt.plot(qltheta,qlmag,'o')\n",
    "plt.plot(qltheta,qlmag,'k')\n",
    "plt.yscale('log')\n",
    "\n",
    "plt.subplot(1,4,3)\n",
    "plt.plot(np.log(qltheta),np.log(qlmag),'o')\n",
    "plt.plot(np.log(qltheta),np.log(qlmag),'k')\n",
    "\n",
    "plt.subplot(1,4,4)\n",
    "plt.plot(qltheta,np.log(qlmag),'o')\n",
    "plt.plot(qltheta,np.log(qlmag),'k')\n",
    "\n",
    "\n",
    "plt.figure(figsize=(16,5))\n",
    "\n",
    "plt.subplot(1,4,1)\n",
    "plt.plot(qlphi,qlmag,'o')\n",
    "plt.plot(qlphi,qlmag,'k')\n",
    "\n",
    "plt.subplot(1,4,2)\n",
    "plt.plot(qlphi,qlmag,'o')\n",
    "plt.plot(qlphi,qlmag,'k')\n",
    "plt.yscale('log')\n",
    "\n",
    "plt.subplot(1,4,3)\n",
    "plt.plot(np.log(qlphi),np.log(qlmag),'o')\n",
    "plt.plot(np.log(qlphi),np.log(qlmag),'k')\n",
    "\n",
    "plt.subplot(1,4,4)\n",
    "plt.plot(qlphi,np.log(qlmag),'o')\n",
    "plt.plot(qlphi,np.log(qlmag),'k')\n",
    "\n",
    "\n",
    "plt.figure(figsize=(16,5))\n",
    "\n",
    "plt.subplot(1,4,1)\n",
    "plt.plot(qltheta,qlphi,'o')\n",
    "plt.plot(qltheta,qlphi,'k')\n",
    "\n",
    "plt.subplot(1,4,2)\n",
    "plt.plot(qltheta,qlphi,'o')\n",
    "plt.plot(qltheta,qlphi,'k')\n",
    "plt.yscale('log')\n",
    "\n",
    "plt.subplot(1,4,3)\n",
    "plt.plot(np.log(qltheta),np.log(qlphi),'o')\n",
    "plt.plot(np.log(qltheta),np.log(qlphi),'k')\n",
    "\n",
    "plt.subplot(1,4,4)\n",
    "plt.plot(qltheta,np.log(qlphi),'o')\n",
    "plt.plot(qltheta,np.log(qlphi),'k')\n",
    "\n"
   ]
  },
  {
   "cell_type": "code",
   "execution_count": null,
   "metadata": {},
   "outputs": [],
   "source": [
    "plt.figure(figsize=(16,5))\n",
    "\n",
    "plt.subplot(1,3,1)\n",
    "plt.plot(qltheta,qlphi**(5/3),'o',markersize=10)\n",
    "plt.plot(qltheta,qlphi**(5/3),'k')\n",
    "\n",
    "plt.subplot(1,3,2)\n",
    "plt.plot(qltheta,qlmag**(1/6),'o',markersize=10)\n",
    "plt.plot(qltheta,qlmag**(1/6),'k')\n",
    "\n",
    "plt.subplot(1,3,3)\n",
    "plt.plot(qlphi**(5/3),qlmag**(1/6),'o',markersize=10)\n",
    "plt.plot(qlphi**(5/3),qlmag**(1/6),'k')\n"
   ]
  },
  {
   "cell_type": "code",
   "execution_count": null,
   "metadata": {},
   "outputs": [],
   "source": [
    "def sph2cart(mag, theta, phi):\n",
    "    x=mag*np.sin(theta)*np.cos(phi) \n",
    "    y=mag*np.sin(theta)*np.sin(phi) \n",
    "    z=mag*np.cos(phi) \n",
    "    return x,y,z\n",
    "    "
   ]
  },
  {
   "cell_type": "code",
   "execution_count": null,
   "metadata": {},
   "outputs": [],
   "source": [
    "slope1 = (qlmag[1]**(1/6) - qlmag[0]**(1/6))/(qltheta[1] - qltheta[0])\n",
    "slope2 = (qlmag[2]**(1/6) - qlmag[1]**(1/6))/(qltheta[2] - qltheta[1])\n",
    "\n",
    "print(slope1, slope2)\n",
    "\n",
    "slope3 = (qlphi[1]**(5/3) - qlphi[0]**(5/3))/(qltheta[1] - qltheta[0])\n",
    "slope4 = (qlphi[2]**(5/3) - qlphi[1]**(5/3))/(qltheta[2] - qltheta[1])\n",
    "\n",
    "print(slope3, slope4)"
   ]
  },
  {
   "cell_type": "code",
   "execution_count": null,
   "metadata": {},
   "outputs": [],
   "source": [
    "qlmag**(1/6)"
   ]
  },
  {
   "cell_type": "code",
   "execution_count": null,
   "metadata": {},
   "outputs": [],
   "source": [
    "d1 = qlmag[1]**(1/6) - qlmag[0]**(1/6)\n",
    "d2 = qlmag[2]**(1/6) - qlmag[1]**(1/6)\n",
    "\n",
    "print(d1,d2)\n",
    "\n",
    "d3 = d2+d1 + qlmag[2]**(1/6)\n",
    "d4 = (d2/d1)*d2 + qlmag[2]**(1/6)\n",
    "\n",
    "print(d3,d4)\n",
    "print()\n",
    "print(d3**6, d4**6)"
   ]
  },
  {
   "cell_type": "code",
   "execution_count": null,
   "metadata": {},
   "outputs": [],
   "source": [
    "b = qlmag[2]**(1/6) - slope2*qltheta[2]\n",
    "print(b)\n",
    "print()\n",
    "print(qlmag[2], qltheta[2])\n",
    "print()\n",
    "\n",
    "newtheta = (d3 - b)/slope2\n",
    "print(newtheta)"
   ]
  },
  {
   "cell_type": "code",
   "execution_count": null,
   "metadata": {},
   "outputs": [],
   "source": [
    "b = qlmag[2]**(1/6) - slope4*(qlphi[2]**(5/3))\n",
    "print(b)\n",
    "print()\n",
    "print(qlmag[2], qlphi[2])\n",
    "print()\n",
    "\n",
    "newphi = ((d3 - b)/slope4)**(3/5)\n",
    "print(newphi)"
   ]
  },
  {
   "cell_type": "code",
   "execution_count": null,
   "metadata": {},
   "outputs": [],
   "source": [
    "x,y,z = sph2cart(d3**6, newtheta, newphi)\n",
    "print(x,y,z)"
   ]
  },
  {
   "cell_type": "code",
   "execution_count": null,
   "metadata": {},
   "outputs": [],
   "source": [
    "4.96**6"
   ]
  },
  {
   "cell_type": "code",
   "execution_count": null,
   "metadata": {},
   "outputs": [],
   "source": []
  }
 ],
 "metadata": {
  "kernelspec": {
   "display_name": "Python 3",
   "language": "python",
   "name": "python3"
  },
  "language_info": {
   "codemirror_mode": {
    "name": "ipython",
    "version": 3
   },
   "file_extension": ".py",
   "mimetype": "text/x-python",
   "name": "python",
   "nbconvert_exporter": "python",
   "pygments_lexer": "ipython3",
   "version": "3.6.10"
  }
 },
 "nbformat": 4,
 "nbformat_minor": 2
}
