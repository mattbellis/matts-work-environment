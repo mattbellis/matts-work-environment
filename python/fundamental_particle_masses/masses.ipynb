{
 "cells": [
  {
   "cell_type": "code",
   "execution_count": null,
   "metadata": {},
   "outputs": [],
   "source": [
    "import numpy as np\n",
    "import matplotlib.pylab as plt\n"
   ]
  },
  {
   "cell_type": "code",
   "execution_count": null,
   "metadata": {},
   "outputs": [],
   "source": [
    "x = np.array([1, 2, 3])\n",
    "quq = np.array([2/3, 2/3, 2/3])\n",
    "qdq = np.array([-1/3, -1/3, -1/3])\n",
    "qu = np.array([0.0023, 1.275, 173])\n",
    "qd = np.array([0.0048, 0.95, 4.18])\n",
    "lu = np.array([0.000511, 0.105, 1.776])\n"
   ]
  },
  {
   "cell_type": "code",
   "execution_count": null,
   "metadata": {},
   "outputs": [],
   "source": [
    "plt.figure()\n",
    "plt.plot(x,quq*qu,'o',markersize=30)\n",
    "plt.plot(x,-qdq*qd,'o',markersize=20)\n",
    "plt.plot(x,lu,'o',markersize=10)\n",
    "plt.yscale('log')"
   ]
  },
  {
   "cell_type": "code",
   "execution_count": null,
   "metadata": {},
   "outputs": [],
   "source": [
    "plt.figure()\n",
    "plt.plot(x,qu/quq,'o',markersize=30)\n",
    "plt.plot(x,-qd/qdq,'o',markersize=20)\n",
    "plt.plot(x,lu,'o',markersize=10)\n",
    "plt.yscale('log')"
   ]
  },
  {
   "cell_type": "code",
   "execution_count": null,
   "metadata": {},
   "outputs": [],
   "source": [
    "plt.figure()\n",
    "plt.plot(x,qu,'o',markersize=30)\n",
    "plt.plot(x,qd,'o',markersize=20)\n",
    "plt.plot(x,lu,'o',markersize=10)\n",
    "plt.yscale('log')"
   ]
  },
  {
   "cell_type": "code",
   "execution_count": null,
   "metadata": {},
   "outputs": [],
   "source": [
    "plt.figure()\n",
    "plt.plot(x,quq*qu + qdq*qd,'o',markersize=30)\n",
    "#plt.plot(x,-qdq*qd,'o',markersize=20)\n",
    "plt.plot(x,lu,'o',markersize=10)\n",
    "plt.yscale('log')\n",
    "\n",
    "print(quq*qu + qdq*qd)"
   ]
  },
  {
   "cell_type": "code",
   "execution_count": null,
   "metadata": {},
   "outputs": [],
   "source": [
    "plt.figure()\n",
    "plt.plot(x,quq*qu - qdq*qd,'o',markersize=30)\n",
    "#plt.plot(x,-qdq*qd,'o',markersize=20)\n",
    "plt.plot(x,lu,'o',markersize=10)\n",
    "plt.yscale('log')\n",
    "\n",
    "print(quq*qu - qdq*qd)"
   ]
  },
  {
   "cell_type": "code",
   "execution_count": null,
   "metadata": {},
   "outputs": [],
   "source": [
    "plt.figure()\n",
    "plt.plot(x,quq*qu + np.abs(qdq*qd),'o',markersize=30)\n",
    "#plt.plot(x,-qdq*qd,'o',markersize=20)\n",
    "plt.plot(x,lu,'o',markersize=10)\n",
    "plt.yscale('log')\n",
    "\n",
    "print(quq*qu + np.abs(qdq*qd))"
   ]
  },
  {
   "cell_type": "code",
   "execution_count": null,
   "metadata": {},
   "outputs": [],
   "source": [
    "y = (quq*qu + np.abs(qdq*qd))/lu\n",
    "print(y)\n",
    "\n",
    "plt.figure()\n",
    "plt.plot(x,y,'o',markersize=30)\n",
    "plt.yscale('log')\n"
   ]
  },
  {
   "cell_type": "code",
   "execution_count": null,
   "metadata": {},
   "outputs": [],
   "source": [
    "y = (quq*qu + qdq*qd)/lu\n",
    "print(y)\n",
    "print(y[1]/y[0], y[2]/y[1], y[2]/y[0])\n",
    "\n",
    "\n",
    "plt.figure()\n",
    "plt.plot(x,y,'o',markersize=30)\n",
    "plt.yscale('log')"
   ]
  },
  {
   "cell_type": "code",
   "execution_count": null,
   "metadata": {},
   "outputs": [],
   "source": [
    "y = (quq*qu - qdq*qd)/lu\n",
    "print(y)\n",
    "print(y[1]/y[0], y[2]/y[1], y[2]/y[0])\n",
    "\n",
    "\n",
    "plt.figure()\n",
    "plt.plot(x,y,'o',markersize=30)\n",
    "plt.yscale('log')"
   ]
  },
  {
   "cell_type": "code",
   "execution_count": null,
   "metadata": {},
   "outputs": [],
   "source": [
    "y = (quq*qu + np.abs(qdq*qd))/lu\n",
    "print(y)\n",
    "print(y[1]/y[0], y[2]/y[1], y[2]/y[0])\n",
    "\n",
    "\n",
    "plt.figure()\n",
    "plt.plot(x,y,'o',markersize=30)\n",
    "plt.yscale('log')"
   ]
  },
  {
   "cell_type": "code",
   "execution_count": null,
   "metadata": {},
   "outputs": [],
   "source": [
    "y = (qu + qd)/lu\n",
    "print(y)\n",
    "print(y[1]/y[0], y[2]/y[1], y[2]/y[0])\n",
    "\n",
    "plt.figure()\n",
    "plt.plot(x,y,'o',markersize=30)\n",
    "plt.yscale('log')"
   ]
  },
  {
   "cell_type": "code",
   "execution_count": null,
   "metadata": {},
   "outputs": [],
   "source": [
    "y = (qu/quq - qd/qdq)\n",
    "print(y)\n",
    "print(y[1]/y[0], y[2]/y[1], y[2]/y[0])\n",
    "\n",
    "plt.figure()\n",
    "plt.plot(x,y,'o',markersize=30)\n",
    "plt.yscale('log')"
   ]
  },
  {
   "cell_type": "code",
   "execution_count": null,
   "metadata": {},
   "outputs": [],
   "source": [
    "y = (qu/quq - qd/qdq)/lu\n",
    "print(y)\n",
    "print(y[1]/y[0], y[2]/y[1], y[2]/y[0])\n",
    "\n",
    "plt.figure()\n",
    "plt.plot(x,y,'o',markersize=30)\n",
    "plt.yscale('log')"
   ]
  },
  {
   "cell_type": "code",
   "execution_count": null,
   "metadata": {},
   "outputs": [],
   "source": [
    "print(lu)\n",
    "print(qu)\n",
    "print(qd)"
   ]
  },
  {
   "cell_type": "code",
   "execution_count": null,
   "metadata": {},
   "outputs": [],
   "source": [
    "for a,b,c in zip(qu,qd,lu):\n",
    "    print(a,b,c,np.mean([a,b,c]))"
   ]
  },
  {
   "cell_type": "code",
   "execution_count": null,
   "metadata": {},
   "outputs": [],
   "source": [
    "for a,b,c,q1,q2 in zip(qu,qd,lu, quq, qdq):\n",
    "    print(a,b,c,q1,q2,np.mean([q1*a,q2*b,c]))"
   ]
  },
  {
   "cell_type": "code",
   "execution_count": null,
   "metadata": {},
   "outputs": [],
   "source": [
    "for a,b,c,q1,q2 in zip(qu,qd,lu, quq, qdq):\n",
    "    print(a,b,c,q1,q2,np.mean([q1*a,-q2*b,c]))"
   ]
  },
  {
   "cell_type": "code",
   "execution_count": null,
   "metadata": {},
   "outputs": [],
   "source": [
    "for a,b,c,q1,q2 in zip(qu,qd,lu, quq, qdq):\n",
    "    print(a,b,c,q1,q2,np.mean([a/q1,b/q2,c]))"
   ]
  },
  {
   "cell_type": "code",
   "execution_count": null,
   "metadata": {},
   "outputs": [],
   "source": [
    "for a,b,c,q1,q2 in zip(qu,qd,lu, quq, qdq):\n",
    "    print(a,b,c,q1,q2,np.mean([a/q1,-b/q2,c]))"
   ]
  },
  {
   "cell_type": "markdown",
   "metadata": {},
   "source": [
    "# W and Z boson\n",
    "\n",
    "https://en.wikipedia.org/wiki/W_and_Z_bosons\n",
    "\n",
    "$$\\frac{m_t\\frac{3}{2} - m_b\\frac{3}{1}+ m_{\\tau}}{3} = 82.9$$\n",
    "\n",
    "$$\\frac{m_t\\frac{3}{2} + m_b\\frac{3}{1}+ m_{\\tau}}{3} = 91.272$$"
   ]
  },
  {
   "cell_type": "code",
   "execution_count": null,
   "metadata": {},
   "outputs": [],
   "source": [
    "print(qu/quq)\n",
    "print(qu*quq)"
   ]
  },
  {
   "cell_type": "code",
   "execution_count": null,
   "metadata": {},
   "outputs": [],
   "source": [
    "ckm = np.array([[0.97427, 0.22534, 0.00351], [0.22520, 0.97344, 0.0412], [0.00867,0.0404,0.999146]])"
   ]
  },
  {
   "cell_type": "code",
   "execution_count": null,
   "metadata": {},
   "outputs": [],
   "source": [
    "ckm\n"
   ]
  },
  {
   "cell_type": "code",
   "execution_count": null,
   "metadata": {},
   "outputs": [],
   "source": [
    "ckm * 91"
   ]
  },
  {
   "cell_type": "code",
   "execution_count": null,
   "metadata": {},
   "outputs": [],
   "source": [
    "ckm * 82"
   ]
  },
  {
   "cell_type": "code",
   "execution_count": null,
   "metadata": {},
   "outputs": [],
   "source": [
    "np.mean([qu[0]/quq[0],-qd[2]/qdq[2],-lu[2]])/np.mean([qu[2]*quq[2],-qd[0]*qdq[0]])"
   ]
  },
  {
   "cell_type": "code",
   "execution_count": null,
   "metadata": {},
   "outputs": [],
   "source": [
    "np.mean([qu[0]/quq[0],-qd[1]/qdq[1],-lu[1]])/np.mean([qu[1]*quq[1],-qd[0]*qdq[0]])"
   ]
  },
  {
   "cell_type": "code",
   "execution_count": null,
   "metadata": {},
   "outputs": [],
   "source": [
    "np.mean([qu[1]/quq[1],-qd[2]/qdq[2]])/(lu[2]+lu[1])"
   ]
  },
  {
   "cell_type": "code",
   "execution_count": null,
   "metadata": {},
   "outputs": [],
   "source": [
    "np.mean([qu[2]/quq[2],-qd[0]/qdq[0],lu[0]])"
   ]
  },
  {
   "cell_type": "code",
   "execution_count": null,
   "metadata": {},
   "outputs": [],
   "source": [
    "np.mean([qu[2]/quq[2],-qd[2]/qdq[2],lu[2]])"
   ]
  },
  {
   "cell_type": "code",
   "execution_count": null,
   "metadata": {},
   "outputs": [],
   "source": [
    "np.mean([qu[2]/quq[2],-qd[0]/qdq[0],-lu[0],0,0,0,0,0])"
   ]
  },
  {
   "cell_type": "code",
   "execution_count": null,
   "metadata": {},
   "outputs": [],
   "source": [
    "np.mean([qu[1]/quq[1],qd[1]/qdq[1],-lu[1]])"
   ]
  },
  {
   "cell_type": "code",
   "execution_count": null,
   "metadata": {},
   "outputs": [],
   "source": [
    "np.mean([qu[2]/quq[2],qd[2]/qdq[2],-lu[2]])"
   ]
  },
  {
   "cell_type": "code",
   "execution_count": null,
   "metadata": {},
   "outputs": [],
   "source": [
    "np.mean([qu[2]/quq[2],qd[2]/qdq[2],lu[2]])"
   ]
  },
  {
   "cell_type": "code",
   "execution_count": null,
   "metadata": {},
   "outputs": [],
   "source": [
    "np.mean([qu[2]*quq[2],-qd[0]*qdq[0]])"
   ]
  },
  {
   "cell_type": "code",
   "execution_count": null,
   "metadata": {},
   "outputs": [],
   "source": [
    "np.mean([qu[2]*quq[2],qd[1]*qdq[1]])"
   ]
  },
  {
   "cell_type": "code",
   "execution_count": null,
   "metadata": {},
   "outputs": [],
   "source": [
    "qu[2]/quq[2]/(qd[1]/qdq[1])"
   ]
  },
  {
   "cell_type": "code",
   "execution_count": null,
   "metadata": {},
   "outputs": [],
   "source": [
    "qu[2]/quq[2]/(qd[0]/qdq[0])"
   ]
  },
  {
   "cell_type": "code",
   "execution_count": null,
   "metadata": {},
   "outputs": [],
   "source": [
    "qu[2]/quq[2]/(qd[2]/qdq[2])"
   ]
  },
  {
   "cell_type": "code",
   "execution_count": null,
   "metadata": {},
   "outputs": [],
   "source": [
    "qu[2]*quq[2]/(qd[2]*qdq[2])"
   ]
  },
  {
   "cell_type": "code",
   "execution_count": null,
   "metadata": {},
   "outputs": [],
   "source": [
    "qmag = np.sqrt(qu**2 + qd**2)\n",
    "qtheta = np.arctan2(qu,qd)\n",
    "\n",
    "print(qmag)\n",
    "print(qtheta)"
   ]
  },
  {
   "cell_type": "code",
   "execution_count": null,
   "metadata": {},
   "outputs": [],
   "source": [
    "plt.figure(figsize=(12,5))\n",
    "\n",
    "plt.subplot(1,2,1)\n",
    "plt.plot(qtheta,qmag,'o')\n",
    "\n",
    "plt.subplot(1,2,2)\n",
    "plt.plot(qtheta/np.pi,qmag,'o')"
   ]
  },
  {
   "cell_type": "code",
   "execution_count": null,
   "metadata": {},
   "outputs": [],
   "source": [
    "plt.figure(figsize=(14,4))\n",
    "\n",
    "for i in range(0,3):\n",
    "    plt.subplot(1,3,i+1)\n",
    "    plt.plot([0,qd[i]],[0,qu[i]])\n",
    "    plt.xlim(0,max([qd[i],qu[i]]))\n",
    "    plt.ylim(0,max([qd[i],qu[i]]))"
   ]
  },
  {
   "cell_type": "code",
   "execution_count": null,
   "metadata": {},
   "outputs": [],
   "source": [
    "plt.figure(figsize=(12,5))\n",
    "\n",
    "plt.subplot(1,2,1)\n",
    "plt.plot(qtheta,qmag,'o')\n",
    "\n",
    "plt.subplot(1,2,2)\n",
    "plt.plot(qtheta,qmag,'o')\n",
    "plt.yscale('log')"
   ]
  },
  {
   "cell_type": "code",
   "execution_count": null,
   "metadata": {},
   "outputs": [],
   "source": []
  }
 ],
 "metadata": {
  "kernelspec": {
   "display_name": "Python 3",
   "language": "python",
   "name": "python3"
  },
  "language_info": {
   "codemirror_mode": {
    "name": "ipython",
    "version": 3
   },
   "file_extension": ".py",
   "mimetype": "text/x-python",
   "name": "python",
   "nbconvert_exporter": "python",
   "pygments_lexer": "ipython3",
   "version": "3.6.10"
  }
 },
 "nbformat": 4,
 "nbformat_minor": 2
}
