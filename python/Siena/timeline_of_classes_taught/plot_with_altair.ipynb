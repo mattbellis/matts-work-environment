{
 "cells": [
  {
   "cell_type": "code",
   "execution_count": null,
   "metadata": {},
   "outputs": [],
   "source": [
    "import matplotlib.pylab as plt\n",
    "import numpy as np\n",
    "\n",
    "import sys\n",
    "\n",
    "import altair as alt\n",
    "\n",
    "import datetime as dt\n",
    "import pandas as pd\n",
    "\n",
    "alt.renderers.enable('default')\n",
    "\n",
    "\n",
    "#alt.renderers.enable('notebook')\n",
    "\n"
   ]
  },
  {
   "cell_type": "code",
   "execution_count": null,
   "metadata": {},
   "outputs": [],
   "source": [
    "\n",
    "\n",
    "courses = []\n",
    "\n",
    "# type: 0 - lecture, 1 - lab, 2 - studio\n",
    "courses.append({'id':'PHYS 110', 'name':'General Physics Ia', 'type':0, 'nstudents':20, 'term':'F12'})\n",
    "courses.append({'id':'PHYS 220', 'name':'Modern Physics', 'type':1, 'nstudents':14, 'term':'F12'})\n",
    "\n",
    "courses.append({'id':'PHYS 120', 'name':'General Physics IIa', 'type':0, 'nstudents':15, 'term':'S13'})\n",
    "courses.append({'id':'PHYS 260', 'name':'Thermal Physics', 'type':0, 'nstudents':25, 'term':'S13'})\n",
    "\n",
    "print(courses)\n",
    "\n",
    "data = pd.DataFrame()\n",
    "end = []\n",
    "start = []\n",
    "classid = []\n",
    "for course in courses:\n",
    "    year = 2000 + int(course['term'][1:])\n",
    "    monthstart = 1\n",
    "    monthend = 5\n",
    "    if course['term'][0] == 'F':\n",
    "        monthstart = 9\n",
    "        monthend = 12\n",
    "    day = 15\n",
    "    year = 2000 + int(course['term'][1:])\n",
    "    start.append(dt.datetime(year, monthstart, day, 0, 0))\n",
    "    end.append(dt.datetime(year, monthend, day, 0, 0))\n",
    "    classid.append(course['id'])\n",
    "\n",
    "data['from'] = start\n",
    "data['to'] = end\n",
    "data['activity'] = classid\n",
    "\n",
    "plt.figure(figsize=(12,6))\n",
    "chart = alt.Chart(data).mark_bar().encode(\n",
    "            x='from',\n",
    "                x2='to',\n",
    "                    y='activity',\n",
    "                        color=alt.Color('activity', scale=alt.Scale(scheme='dark2'))\n",
    "                        ).properties(width=800,height=200)\n",
    "chart\n",
    "#plt.show()\n"
   ]
  },
  {
   "cell_type": "code",
   "execution_count": null,
   "metadata": {},
   "outputs": [],
   "source": []
  }
 ],
 "metadata": {
  "kernelspec": {
   "display_name": "Python 3",
   "language": "python",
   "name": "python3"
  },
  "language_info": {
   "codemirror_mode": {
    "name": "ipython",
    "version": 3
   },
   "file_extension": ".py",
   "mimetype": "text/x-python",
   "name": "python",
   "nbconvert_exporter": "python",
   "pygments_lexer": "ipython3",
   "version": "3.6.10"
  }
 },
 "nbformat": 4,
 "nbformat_minor": 2
}
