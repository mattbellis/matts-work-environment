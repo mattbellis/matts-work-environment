{
 "cells": [
  {
   "cell_type": "code",
   "execution_count": null,
   "id": "bbd5b24c",
   "metadata": {},
   "outputs": [],
   "source": [
    "import numpy as np\n",
    "import matplotlib.pylab as plt\n",
    "\n",
    "import seaborn as sns\n",
    "import pandas as pd"
   ]
  },
  {
   "cell_type": "code",
   "execution_count": null,
   "id": "1f9a7185",
   "metadata": {},
   "outputs": [],
   "source": [
    "infilename = 'file_20240322060006.csv'\n",
    "df = pd.read_csv(infilename)\n",
    "\n",
    "df.sample(5)"
   ]
  },
  {
   "cell_type": "code",
   "execution_count": null,
   "id": "939676e6",
   "metadata": {},
   "outputs": [],
   "source": [
    "prefix = df['subj'].str[0:4]\n",
    "course_num = df['subj'].str[4:]\n",
    "\n",
    "df['prefix'] = prefix\n",
    "df['course_num'] = course_num\n",
    "\n",
    "frac_enrolled = df['ENROLL']/df['MAX_ENROLL']\n",
    "df['pct'] = 100*frac_enrolled"
   ]
  },
  {
   "cell_type": "code",
   "execution_count": null,
   "id": "688f87a0",
   "metadata": {},
   "outputs": [],
   "source": [
    "mask = (df['prefix']=='PHYS')\n",
    "mask = mask | (df['prefix']=='ASTR')\n",
    "mask = mask | (df['prefix']=='APHY')\n",
    "mask = mask | (df['subj']=='SCDV110')\n",
    "mask = mask | (df['subj']=='SCDV001')\n",
    "mask = mask | (df['subj']=='SCDV230')\n",
    "\n",
    "#mask = df['prefix']=='CSIS'\n",
    "#mask = df['prefix']=='CHEM'\n",
    "#mask = df['prefix']=='BIOL'\n",
    "#mask = df['prefix']=='MATH'\n",
    "#mask = df['prefix']=='ENVA'\n",
    "mask = df['prefix']=='NURS'\n",
    "\n",
    "\n",
    "cols = ['subj', 'course', 'MAX_ENROLL', 'ENROLL','pct', 'instructor', 'place', 'days', 'time']\n",
    "\n",
    "df[mask][cols]\n",
    "#df[mask][cols].sort_values(by='pct', ascending=False)"
   ]
  },
  {
   "cell_type": "code",
   "execution_count": null,
   "id": "85b38c76",
   "metadata": {},
   "outputs": [],
   "source": [
    "grouped = df[mask].groupby(['instructor'])"
   ]
  },
  {
   "cell_type": "code",
   "execution_count": null,
   "id": "429135d7",
   "metadata": {},
   "outputs": [],
   "source": [
    "grouped.groups"
   ]
  },
  {
   "cell_type": "code",
   "execution_count": null,
   "id": "009160a8",
   "metadata": {},
   "outputs": [],
   "source": [
    "cols2 = ['subj','TYPE', 'MAX_ENROLL', 'pct', 'instructor']\n",
    "\n",
    "for g in grouped.groups:\n",
    "    print(grouped.get_group(g)[cols2])\n",
    "    print()"
   ]
  },
  {
   "cell_type": "code",
   "execution_count": null,
   "id": "926ddbb1",
   "metadata": {},
   "outputs": [],
   "source": [
    "df['prefix'].unique()"
   ]
  },
  {
   "cell_type": "code",
   "execution_count": null,
   "id": "15fd8b4b",
   "metadata": {},
   "outputs": [],
   "source": []
  }
 ],
 "metadata": {
  "kernelspec": {
   "display_name": "Python 3 (ipykernel)",
   "language": "python",
   "name": "python3"
  },
  "language_info": {
   "codemirror_mode": {
    "name": "ipython",
    "version": 3
   },
   "file_extension": ".py",
   "mimetype": "text/x-python",
   "name": "python",
   "nbconvert_exporter": "python",
   "pygments_lexer": "ipython3",
   "version": "3.11.5"
  }
 },
 "nbformat": 4,
 "nbformat_minor": 5
}
