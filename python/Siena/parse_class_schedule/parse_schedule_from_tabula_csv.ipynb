{
 "cells": [
  {
   "cell_type": "code",
   "execution_count": null,
   "metadata": {},
   "outputs": [],
   "source": [
    "import numpy as np\n",
    "import pandas as pd\n",
    "import matplotlib.pylab as plt\n",
    "import matplotlib.dates as mdates\n",
    "from matplotlib.patches import Rectangle\n",
    "\n",
    "from datetime import date, datetime, timedelta"
   ]
  },
  {
   "cell_type": "code",
   "execution_count": null,
   "metadata": {},
   "outputs": [],
   "source": [
    "infilename = 'tabula-schedule-of-classes-3.csv'\n",
    "\n",
    "#data = np.loadtxt(infilename,unpack=True,dtype=str,delimiter=',')\n",
    "df = pd.read_csv(infilename)"
   ]
  },
  {
   "cell_type": "code",
   "execution_count": null,
   "metadata": {},
   "outputs": [],
   "source": [
    "print(df.shape)\n",
    "df.columns"
   ]
  },
  {
   "cell_type": "code",
   "execution_count": null,
   "metadata": {},
   "outputs": [],
   "source": [
    "df = df.loc[df['COURSE'] != 'Course']\n",
    "print(df.shape)"
   ]
  },
  {
   "cell_type": "code",
   "execution_count": null,
   "metadata": {},
   "outputs": [],
   "source": [
    "df['COURSE']\n",
    "\n",
    "names = []\n",
    "\n",
    "for val in df['COURSE']:\n",
    "    names.append(val[0:4])\n",
    "#print(names)\n",
    "\n",
    "departments = np.unique(names)\n",
    "print(departments)\n",
    "\n",
    "df['Department'] = names"
   ]
  },
  {
   "cell_type": "code",
   "execution_count": null,
   "metadata": {},
   "outputs": [],
   "source": [
    "start_times = []\n",
    "end_times = []\n",
    "duration = []\n",
    "\n",
    "for val in df['Time']:\n",
    "    sdt = None\n",
    "    edt = None\n",
    "    offset = 0\n",
    "    \n",
    "    if val.find('-')<0 or val=='Arranged':\n",
    "        start_times.append(datetime(2021,1,1,1,0))\n",
    "        end_times.append(datetime(2021,1,1,2,0))\n",
    "        duration.append(-1)\n",
    "        continue\n",
    "    \n",
    "    s = val.split('-')[0]\n",
    "    sh,sm = 0,0\n",
    "    if s.find(':')>=0:\n",
    "        sh,sm = s.split(':')\n",
    "        sh = int(sh)\n",
    "        if sm[-1]=='p':\n",
    "            offset = 12\n",
    "            if sh!=12:\n",
    "                sh += offset\n",
    "        sm = int(sm[0:2])\n",
    "\n",
    "        \n",
    "    e = val.split('-')[1]\n",
    "    eh,em = 0,0\n",
    "    if e.find(':')>=0:\n",
    "        eh,em = e.split(':')\n",
    "        eh = int(eh)\n",
    "        em = int(em[0:2])\n",
    "        \n",
    "        if eh<sh:\n",
    "            offset = 12\n",
    "\n",
    "        if eh != 12:\n",
    "            eh += offset\n",
    "        \n",
    "    #print(s,sh,sm)\n",
    "    sdt = datetime(2021,1,1,sh,sm)\n",
    "    edt = datetime(2021,1,1,eh,em)\n",
    "    dur = edt-sdt\n",
    "    \n",
    "    start_times.append(sdt)\n",
    "    end_times.append(edt)\n",
    "    duration.append(dur.total_seconds()/3600.)\n",
    "\n",
    "start_times = np.array(start_times)\n",
    "end_times = np.array(end_times)\n",
    "duration = np.array(duration)\n",
    "\n",
    "df['Start'] = start_times\n",
    "df['End'] = end_times\n",
    "df['Duration'] = duration"
   ]
  },
  {
   "cell_type": "code",
   "execution_count": null,
   "metadata": {},
   "outputs": [],
   "source": [
    "end_times[0],start_times[0]"
   ]
  },
  {
   "cell_type": "code",
   "execution_count": null,
   "metadata": {},
   "outputs": [],
   "source": [
    "x = end_times - start_times\n",
    "\n",
    "plt.figure()\n",
    "plt.hist(duration,bins=8,range=(0,4))\n"
   ]
  },
  {
   "cell_type": "code",
   "execution_count": null,
   "metadata": {},
   "outputs": [],
   "source": [
    "df[df['Department']=='PHYS']"
   ]
  },
  {
   "cell_type": "code",
   "execution_count": null,
   "metadata": {},
   "outputs": [],
   "source": [
    "df[df['COURSE']=='MATH120']"
   ]
  },
  {
   "cell_type": "code",
   "execution_count": null,
   "metadata": {},
   "outputs": [],
   "source": [
    "df[df['CRN']=='40151']"
   ]
  },
  {
   "cell_type": "code",
   "execution_count": null,
   "metadata": {},
   "outputs": [],
   "source": [
    "days_dict = {'M':1, 'T':2, 'W':3, 'R':4, 'F':5}\n",
    "\n",
    "#c = df[df['CRN']=='46792']\n",
    "c = df[df['CRN']=='42697']\n",
    "\n",
    "\n",
    "s = c['Start'].iloc[0]\n",
    "dur = c['Duration'].iloc[0]\n",
    "\n",
    "days = c['Days'].iloc[0]\n",
    "name = c['COURSE'].iloc[0]\n",
    "\n",
    "#print(days)\n",
    "#print(type(days))\n",
    "#days = days.split()\n",
    "#print(days)\n",
    "\n",
    "ytimes = []\n",
    "\n",
    "for i in range(8,22):\n",
    "    d = datetime(2021,1,1,i,0)\n",
    "    ytimes.append(d)\n",
    "\n",
    "    d = datetime(2021,1,1,i,30)\n",
    "    ytimes.append(d)\n",
    "\n",
    "#xtimes = [\"M\", \"T\", \"W\", \"R\", \"F\"]\n",
    "xtimes = np.arange(1,6,1)\n",
    "\n",
    "    \n",
    "plt.figure(figsize=(12,8))\n",
    "#plt.plot([min(xtimes)],[min(ytimes)],'o')\n",
    "#plt.plot([max(xtimes)],[max(ytimes)],'o')\n",
    "\n",
    "#plt.gca().add_patch(Rectangle((0.5,datetime(2021,1,1,17,0)), 1, timedelta(hours=3), alpha=0.4, facecolor='b'))\n",
    "\n",
    "for day in days:\n",
    "    day_num = days_dict[day]-0.5\n",
    "    print(day_num)\n",
    "    plt.gca().add_patch(Rectangle((day_num, s), 1, timedelta(hours=1), alpha=0.1, facecolor='b'))\n",
    "    plt.text(day_num+0.2,s+timedelta(minutes=30),name)\n",
    "\n",
    "\n",
    "#plt.plot(dates,yvals,'o');\n",
    "\n",
    "# Play around with the following lines so you see what they do\n",
    "#plt.gca().xaxis.set_major_locator(mdates.MonthLocator(interval=3))\n",
    "#plt.gca().xaxis.set_major_formatter(mdates.DateFormatter(\"%Y/%m\"))\n",
    "plt.gca().yaxis.set_major_formatter(mdates.DateFormatter(\"%H:%M\"))\n",
    "\n",
    "plt.xticks(rotation=30);\n",
    "plt.xlim(min(xtimes)-1,max(xtimes)+1)\n",
    "plt.ylim(min(ytimes),max(ytimes))\n",
    "plt.gca().invert_yaxis()\n",
    "\n"
   ]
  },
  {
   "cell_type": "code",
   "execution_count": null,
   "metadata": {},
   "outputs": [],
   "source": [
    "end_times[0].hour"
   ]
  },
  {
   "cell_type": "code",
   "execution_count": null,
   "metadata": {},
   "outputs": [],
   "source": [
    "df['Start'][0].hour"
   ]
  },
  {
   "cell_type": "code",
   "execution_count": null,
   "metadata": {},
   "outputs": [],
   "source": []
  }
 ],
 "metadata": {
  "kernelspec": {
   "display_name": "Python 3",
   "language": "python",
   "name": "python3"
  },
  "language_info": {
   "codemirror_mode": {
    "name": "ipython",
    "version": 3
   },
   "file_extension": ".py",
   "mimetype": "text/x-python",
   "name": "python",
   "nbconvert_exporter": "python",
   "pygments_lexer": "ipython3",
   "version": "3.6.10"
  }
 },
 "nbformat": 4,
 "nbformat_minor": 2
}
