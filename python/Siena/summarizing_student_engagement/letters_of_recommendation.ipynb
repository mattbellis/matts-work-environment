{
 "cells": [
  {
   "cell_type": "code",
   "execution_count": null,
   "id": "fd9a4c20",
   "metadata": {},
   "outputs": [],
   "source": [
    "import numpy as np\n",
    "import matplotlib.pylab as plt\n",
    "\n",
    "import os\n",
    "\n",
    "import pandas as pd"
   ]
  },
  {
   "cell_type": "code",
   "execution_count": null,
   "id": "2727b562",
   "metadata": {},
   "outputs": [],
   "source": [
    "topdir = '/home/bellis/latex_projects/LettersOfRecommendation'"
   ]
  },
  {
   "cell_type": "code",
   "execution_count": null,
   "id": "4c8238de",
   "metadata": {
    "scrolled": false
   },
   "outputs": [],
   "source": [
    "dirs = os.listdir(topdir)\n",
    "\n",
    "print(dirs)\n",
    "\n",
    "students = {'names':[], 'nletters':[]}\n",
    "\n",
    "tot = 0\n",
    "for d in dirs:\n",
    "    dir = topdir + \"/\" + d\n",
    "    if os.path.isdir(dir):\n",
    "        letters = os.listdir(dir)\n",
    "        if 'Makefile' in letters:\n",
    "            #print(\"removing Makefile --------------\")\n",
    "            letters.remove('Makefile')\n",
    "        nletters = len(letters)\n",
    "        print(d,nletters)\n",
    "        students['names'].append(d)\n",
    "        students['nletters'].append(nletters)\n",
    "        tot += nletters\n",
    "\n",
    "print(tot)\n",
    "\n",
    "df = pd.DataFrame.from_dict(students)"
   ]
  },
  {
   "cell_type": "code",
   "execution_count": null,
   "id": "de2c3fd8",
   "metadata": {},
   "outputs": [],
   "source": [
    "type(students['nletters'][0])"
   ]
  },
  {
   "cell_type": "code",
   "execution_count": null,
   "id": "d9f25775",
   "metadata": {},
   "outputs": [],
   "source": [
    "df"
   ]
  },
  {
   "cell_type": "code",
   "execution_count": null,
   "id": "dc8fa46e",
   "metadata": {},
   "outputs": [],
   "source": [
    "fig,ax = plt.subplots(figsize=(34,56))\n",
    "\n",
    "df.plot.barh(x='names', y='nletters',ax=ax)"
   ]
  },
  {
   "cell_type": "code",
   "execution_count": null,
   "id": "ab686f12",
   "metadata": {},
   "outputs": [],
   "source": [
    "df.iloc[0:10]['nletters']"
   ]
  },
  {
   "cell_type": "code",
   "execution_count": null,
   "id": "19bfc98f",
   "metadata": {},
   "outputs": [],
   "source": [
    "df1 = pd.DataFrame({'lab': ['A', 'B', 'C'], 'val': [10, 30, 20]})\n",
    "ax = df1.plot.barh(x='lab', y='val')"
   ]
  },
  {
   "cell_type": "code",
   "execution_count": null,
   "id": "92fd8302",
   "metadata": {},
   "outputs": [],
   "source": [
    "df"
   ]
  },
  {
   "cell_type": "code",
   "execution_count": null,
   "id": "58ef65d4",
   "metadata": {},
   "outputs": [],
   "source": []
  }
 ],
 "metadata": {
  "kernelspec": {
   "display_name": "Python 3 (ipykernel)",
   "language": "python",
   "name": "python3"
  },
  "language_info": {
   "codemirror_mode": {
    "name": "ipython",
    "version": 3
   },
   "file_extension": ".py",
   "mimetype": "text/x-python",
   "name": "python",
   "nbconvert_exporter": "python",
   "pygments_lexer": "ipython3",
   "version": "3.9.12"
  }
 },
 "nbformat": 4,
 "nbformat_minor": 5
}
