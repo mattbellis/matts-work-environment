{
 "cells": [
  {
   "cell_type": "code",
   "execution_count": null,
   "id": "f7d9aeb7",
   "metadata": {},
   "outputs": [],
   "source": [
    "from phasespace import GenParticle\n",
    "\n",
    "import numpy as np"
   ]
  },
  {
   "cell_type": "code",
   "execution_count": null,
   "id": "5c014692",
   "metadata": {},
   "outputs": [],
   "source": [
    "B0_MASS = 5279.65\n",
    "KSTARZ_MASS = 895.55\n",
    "PION_MASS = 139.57018\n",
    "KAON_MASS = 493.677\n",
    "\n",
    "kaon = GenPartcle('K+', KAON_MASS)\n",
    "pion = GenParticle('pi-', PION_MASS)\n",
    "kstar = GenParticle('K*', KSTARZ_MASS).set_children(kaon, pion)\n",
    "gamma = GenParticle('gamma', 0)\n",
    "bz = GenParticle('B0', B0_MASS).set_children(kstar, gamma)\n",
    "\n",
    "weights, particles = bz.generate(n_events=1)"
   ]
  },
  {
   "cell_type": "code",
   "execution_count": null,
   "id": "78529039",
   "metadata": {},
   "outputs": [],
   "source": [
    "particles"
   ]
  },
  {
   "cell_type": "code",
   "execution_count": null,
   "id": "281068eb",
   "metadata": {},
   "outputs": [],
   "source": [
    "? GenParticle"
   ]
  },
  {
   "cell_type": "code",
   "execution_count": null,
   "id": "97a23a0b",
   "metadata": {},
   "outputs": [],
   "source": [
    "CM_MASS = 50\n",
    "JPSI_MASS = 3.096\n",
    "MUON_MASS = 0.105\n",
    "\n",
    "mu1 = GenParticle('mu-',MUON_MASS)\n",
    "mu2 = GenParticle('mu+',MUON_MASS)\n",
    "\n",
    "jpsi1 = GenParticle('Jpsi1',JPSI_MASS).set_children(mu1,mu2)\n",
    "jpsi2 = GenParticle('Jpsi2',JPSI_MASS)\n",
    "\n",
    "cm = GenParticle('Z', CM_MASS).set_children(jpsi1, jpsi2)\n",
    "\n",
    "weights, particles = cm.generate(n_events=1)"
   ]
  },
  {
   "cell_type": "code",
   "execution_count": null,
   "id": "c8c8e643",
   "metadata": {},
   "outputs": [],
   "source": [
    "particles"
   ]
  },
  {
   "cell_type": "code",
   "execution_count": null,
   "id": "330f3a7e",
   "metadata": {},
   "outputs": [],
   "source": [
    "def invmass(p4s):\n",
    "    E,px,py,pz = 0,0,0,0\n",
    "    \n",
    "    for p4 in p4s:\n",
    "        E += p4[3]\n",
    "        px += p4[0]\n",
    "        py += p4[1]\n",
    "        pz += p4[2]\n",
    "        \n",
    "    m2 = E**2 - (px**2 + py**2 + pz**2)\n",
    "\n",
    "    print(m2)\n",
    "    \n",
    "    m = 0\n",
    "    if m2<0:\n",
    "        m = -np.sqrt(-m2)\n",
    "    else:\n",
    "        m = np.sqrt(m2)\n",
    "        \n",
    "    return m"
   ]
  },
  {
   "cell_type": "code",
   "execution_count": null,
   "id": "f321007d",
   "metadata": {},
   "outputs": [],
   "source": [
    "p41 = particles['mu-'].numpy()[0]\n",
    "p42 = particles['mu+'].numpy()[0]\n",
    "\n",
    "print(p41)\n",
    "print(p42)\n",
    "\n",
    "m = invmass([p41,p42])\n",
    "\n",
    "print(m)\n",
    "\n",
    "p41_tmp = np.around(p41,3)\n",
    "p42_tmp = np.around(p42,3)\n",
    "\n",
    "print(p41_tmp)\n",
    "print(p42_tmp)\n",
    "\n",
    "print(p41_tmp + p42_tmp)\n",
    "\n",
    "m = invmass([p41_tmp,p42_tmp])\n",
    "\n",
    "print(m)\n"
   ]
  },
  {
   "cell_type": "code",
   "execution_count": null,
   "id": "b9dfdbd7",
   "metadata": {},
   "outputs": [],
   "source": []
  }
 ],
 "metadata": {
  "kernelspec": {
   "display_name": "Python 3 (ipykernel)",
   "language": "python",
   "name": "python3"
  },
  "language_info": {
   "codemirror_mode": {
    "name": "ipython",
    "version": 3
   },
   "file_extension": ".py",
   "mimetype": "text/x-python",
   "name": "python",
   "nbconvert_exporter": "python",
   "pygments_lexer": "ipython3",
   "version": "3.10.6"
  }
 },
 "nbformat": 4,
 "nbformat_minor": 5
}
