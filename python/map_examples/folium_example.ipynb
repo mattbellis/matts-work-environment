{
 "cells": [
  {
   "cell_type": "code",
   "execution_count": 1,
   "metadata": {},
   "outputs": [],
   "source": [
    "import folium\n",
    "import math\n",
    "import os\n"
   ]
  },
  {
   "cell_type": "code",
   "execution_count": 2,
   "metadata": {},
   "outputs": [],
   "source": [
    "def gen_gc_pts(pt1, pt2, num_of_segments=10):\n",
    "    \n",
    "    #https://gis.stackexchange.com/questions/47/what-tools-in-python-are-available-for-doing-great-circle-distance-line-creati\n",
    "    \n",
    "\n",
    "    ptlon1 = pt1[1]\n",
    "    ptlat1 = pt1[0]\n",
    "    ptlon2 = pt2[1]\n",
    "    ptlat2 = pt2[0]\n",
    "\n",
    "    numberofsegments = num_of_segments\n",
    "    onelessthansegments = numberofsegments - 1\n",
    "    fractionalincrement = (1.0/onelessthansegments)\n",
    "\n",
    "    ptlon1_radians = math.radians(ptlon1)\n",
    "    ptlat1_radians = math.radians(ptlat1)\n",
    "    ptlon2_radians = math.radians(ptlon2)\n",
    "    ptlat2_radians = math.radians(ptlat2)\n",
    "\n",
    "    distance_radians=2*math.asin(math.sqrt(math.pow((math.sin((ptlat1_radians-ptlat2_radians)/2)),2) + math.cos(ptlat1_radians)*math.cos(ptlat2_radians)*math.pow((math.sin((ptlon1_radians-ptlon2_radians)/2)),2)))\n",
    "    # 6371.009 represents the mean radius of the earth\n",
    "    # shortest path distance\n",
    "    distance_km = 6371.009 * distance_radians\n",
    "\n",
    "    mylats = []\n",
    "    mylons = []\n",
    "\n",
    "    # write the starting coordinates\n",
    "    mylats.append([])\n",
    "    mylons.append([])\n",
    "    mylats[0] = ptlat1\n",
    "    mylons[0] = ptlon1 \n",
    "\n",
    "    f = fractionalincrement\n",
    "    icounter = 1\n",
    "    while (icounter <  onelessthansegments):\n",
    "            icountmin1 = icounter - 1\n",
    "            mylats.append([])\n",
    "            mylons.append([])\n",
    "            # f is expressed as a fraction along the route from point 1 to point 2\n",
    "            A=math.sin((1-f)*distance_radians)/math.sin(distance_radians)\n",
    "            B=math.sin(f*distance_radians)/math.sin(distance_radians)\n",
    "            x = A*math.cos(ptlat1_radians)*math.cos(ptlon1_radians) + B*math.cos(ptlat2_radians)*math.cos(ptlon2_radians)\n",
    "            y = A*math.cos(ptlat1_radians)*math.sin(ptlon1_radians) +  B*math.cos(ptlat2_radians)*math.sin(ptlon2_radians)\n",
    "            z = A*math.sin(ptlat1_radians) + B*math.sin(ptlat2_radians)\n",
    "            newlat=math.atan2(z,math.sqrt(math.pow(x,2)+math.pow(y,2)))\n",
    "            newlon=math.atan2(y,x)\n",
    "            newlat_degrees = math.degrees(newlat)\n",
    "            newlon_degrees = math.degrees(newlon)\n",
    "            mylats[icounter] = newlat_degrees\n",
    "            mylons[icounter] = newlon_degrees\n",
    "            icounter += 1\n",
    "            f = f + fractionalincrement\n",
    "\n",
    "    # write the ending coordinates\n",
    "    mylats.append([])\n",
    "    mylons.append([])\n",
    "    mylats[onelessthansegments] = ptlat2\n",
    "    mylons[onelessthansegments] = ptlon2\n",
    "\n",
    "    points = []\n",
    "    for x,y in zip(mylats,mylons):\n",
    "        points.append([x,y])\n",
    "        \n",
    "    return points\n",
    "\n",
    "    '''    \n",
    "    # Now, the array mylats[] and mylons[] have the coordinate pairs for intermediate points along the geodesic\n",
    "    # My mylat[0],mylat[0] and mylat[num_of_segments-1],mylat[num_of_segments-1] are the geodesic end points\n",
    "\n",
    "    # write a kml of the results\n",
    "    zipcounter = 0\n",
    "    kmlheader = \"<?xml version=\\\"1.0\\\" encoding=\\\"UTF-8\\\"?><kml xmlns=\\\"http://www.opengis.net/kml/2.2\\\"><Document><name>LineString.kml</name><open>1</open><Placemark><name>unextruded</name><LineString><extrude>1</extrude><tessellate>1</tessellate><coordinates>\"\n",
    "    print kmlheader\n",
    "    while (zipcounter < numberofsegments):\n",
    "            outputstuff = repr(mylons[zipcounter]) + \",\" + repr(mylats[zipcounter]) + \",0 \"\n",
    "            print outputstuff\n",
    "            zipcounter += 1\n",
    "    kmlfooter = \"</coordinates></LineString></Placemark></Document></kml>\"\n",
    "    '''"
   ]
  },
  {
   "cell_type": "code",
   "execution_count": 3,
   "metadata": {},
   "outputs": [
    {
     "data": {
      "text/html": [
       "<div style=\"width:100%;\"><div style=\"position:relative;width:100%;height:0;padding-bottom:60%;\"><iframe src=\"data:text/html;charset=utf-8;base64,PCFET0NUWVBFIGh0bWw+CjxoZWFkPiAgICAKICAgIDxtZXRhIGh0dHAtZXF1aXY9ImNvbnRlbnQtdHlwZSIgY29udGVudD0idGV4dC9odG1sOyBjaGFyc2V0PVVURi04IiAvPgogICAgPHNjcmlwdD5MX1BSRUZFUl9DQU5WQVMgPSBmYWxzZTsgTF9OT19UT1VDSCA9IGZhbHNlOyBMX0RJU0FCTEVfM0QgPSBmYWxzZTs8L3NjcmlwdD4KICAgIDxzY3JpcHQgc3JjPSJodHRwczovL3VucGtnLmNvbS9sZWFmbGV0QDEuMC4xL2Rpc3QvbGVhZmxldC5qcyI+PC9zY3JpcHQ+CiAgICA8c2NyaXB0IHNyYz0iaHR0cHM6Ly9hamF4Lmdvb2dsZWFwaXMuY29tL2FqYXgvbGlicy9qcXVlcnkvMS4xMS4xL2pxdWVyeS5taW4uanMiPjwvc2NyaXB0PgogICAgPHNjcmlwdCBzcmM9Imh0dHBzOi8vbWF4Y2RuLmJvb3RzdHJhcGNkbi5jb20vYm9vdHN0cmFwLzMuMi4wL2pzL2Jvb3RzdHJhcC5taW4uanMiPjwvc2NyaXB0PgogICAgPHNjcmlwdCBzcmM9Imh0dHBzOi8vY2RuanMuY2xvdWRmbGFyZS5jb20vYWpheC9saWJzL0xlYWZsZXQuYXdlc29tZS1tYXJrZXJzLzIuMC4yL2xlYWZsZXQuYXdlc29tZS1tYXJrZXJzLmpzIj48L3NjcmlwdD4KICAgIDxzY3JpcHQgc3JjPSJodHRwczovL2NkbmpzLmNsb3VkZmxhcmUuY29tL2FqYXgvbGlicy9sZWFmbGV0Lm1hcmtlcmNsdXN0ZXIvMS4wLjAvbGVhZmxldC5tYXJrZXJjbHVzdGVyLXNyYy5qcyI+PC9zY3JpcHQ+CiAgICA8c2NyaXB0IHNyYz0iaHR0cHM6Ly9jZG5qcy5jbG91ZGZsYXJlLmNvbS9hamF4L2xpYnMvbGVhZmxldC5tYXJrZXJjbHVzdGVyLzEuMC4wL2xlYWZsZXQubWFya2VyY2x1c3Rlci5qcyI+PC9zY3JpcHQ+CiAgICA8bGluayByZWw9InN0eWxlc2hlZXQiIGhyZWY9Imh0dHBzOi8vdW5wa2cuY29tL2xlYWZsZXRAMS4wLjEvZGlzdC9sZWFmbGV0LmNzcyIgLz4KICAgIDxsaW5rIHJlbD0ic3R5bGVzaGVldCIgaHJlZj0iaHR0cHM6Ly9tYXhjZG4uYm9vdHN0cmFwY2RuLmNvbS9ib290c3RyYXAvMy4yLjAvY3NzL2Jvb3RzdHJhcC5taW4uY3NzIiAvPgogICAgPGxpbmsgcmVsPSJzdHlsZXNoZWV0IiBocmVmPSJodHRwczovL21heGNkbi5ib290c3RyYXBjZG4uY29tL2Jvb3RzdHJhcC8zLjIuMC9jc3MvYm9vdHN0cmFwLXRoZW1lLm1pbi5jc3MiIC8+CiAgICA8bGluayByZWw9InN0eWxlc2hlZXQiIGhyZWY9Imh0dHBzOi8vbWF4Y2RuLmJvb3RzdHJhcGNkbi5jb20vZm9udC1hd2Vzb21lLzQuNi4zL2Nzcy9mb250LWF3ZXNvbWUubWluLmNzcyIgLz4KICAgIDxsaW5rIHJlbD0ic3R5bGVzaGVldCIgaHJlZj0iaHR0cHM6Ly9jZG5qcy5jbG91ZGZsYXJlLmNvbS9hamF4L2xpYnMvTGVhZmxldC5hd2Vzb21lLW1hcmtlcnMvMi4wLjIvbGVhZmxldC5hd2Vzb21lLW1hcmtlcnMuY3NzIiAvPgogICAgPGxpbmsgcmVsPSJzdHlsZXNoZWV0IiBocmVmPSJodHRwczovL2NkbmpzLmNsb3VkZmxhcmUuY29tL2FqYXgvbGlicy9sZWFmbGV0Lm1hcmtlcmNsdXN0ZXIvMS4wLjAvTWFya2VyQ2x1c3Rlci5EZWZhdWx0LmNzcyIgLz4KICAgIDxsaW5rIHJlbD0ic3R5bGVzaGVldCIgaHJlZj0iaHR0cHM6Ly9jZG5qcy5jbG91ZGZsYXJlLmNvbS9hamF4L2xpYnMvbGVhZmxldC5tYXJrZXJjbHVzdGVyLzEuMC4wL01hcmtlckNsdXN0ZXIuY3NzIiAvPgogICAgPGxpbmsgcmVsPSJzdHlsZXNoZWV0IiBocmVmPSJodHRwczovL3Jhd2dpdC5jb20vcHl0aG9uLXZpc3VhbGl6YXRpb24vZm9saXVtL21hc3Rlci9mb2xpdW0vdGVtcGxhdGVzL2xlYWZsZXQuYXdlc29tZS5yb3RhdGUuY3NzIiAvPgogICAgPHN0eWxlPmh0bWwsIGJvZHkge3dpZHRoOiAxMDAlO2hlaWdodDogMTAwJTttYXJnaW46IDA7cGFkZGluZzogMDt9PC9zdHlsZT4KICAgIDxzdHlsZT4jbWFwIHtwb3NpdGlvbjphYnNvbHV0ZTt0b3A6MDtib3R0b206MDtyaWdodDowO2xlZnQ6MDt9PC9zdHlsZT4KICAgIAogICAgICAgICAgICA8c3R5bGU+ICNtYXBfNGIyOTFmYzI2ZDk4NDhkMjkwODQ3MDA4ZmQ3ZDM0ZWQgewogICAgICAgICAgICAgICAgcG9zaXRpb24gOiByZWxhdGl2ZTsKICAgICAgICAgICAgICAgIHdpZHRoIDogMTAwLjAlOwogICAgICAgICAgICAgICAgaGVpZ2h0OiAxMDAuMCU7CiAgICAgICAgICAgICAgICBsZWZ0OiAwLjAlOwogICAgICAgICAgICAgICAgdG9wOiAwLjAlOwogICAgICAgICAgICAgICAgfQogICAgICAgICAgICA8L3N0eWxlPgogICAgICAgIAo8L2hlYWQ+Cjxib2R5PiAgICAKICAgIAogICAgICAgICAgICA8ZGl2IGNsYXNzPSJmb2xpdW0tbWFwIiBpZD0ibWFwXzRiMjkxZmMyNmQ5ODQ4ZDI5MDg0NzAwOGZkN2QzNGVkIiA+PC9kaXY+CiAgICAgICAgCjwvYm9keT4KPHNjcmlwdD4gICAgCiAgICAKCiAgICAgICAgICAgIAogICAgICAgICAgICAgICAgdmFyIHNvdXRoV2VzdCA9IEwubGF0TG5nKC05MCwgLTE4MCk7CiAgICAgICAgICAgICAgICB2YXIgbm9ydGhFYXN0ID0gTC5sYXRMbmcoOTAsIDE4MCk7CiAgICAgICAgICAgICAgICB2YXIgYm91bmRzID0gTC5sYXRMbmdCb3VuZHMoc291dGhXZXN0LCBub3J0aEVhc3QpOwogICAgICAgICAgICAKCiAgICAgICAgICAgIHZhciBtYXBfNGIyOTFmYzI2ZDk4NDhkMjkwODQ3MDA4ZmQ3ZDM0ZWQgPSBMLm1hcCgKICAgICAgICAgICAgICAgICAgICAgICAgICAgICAgICAgICdtYXBfNGIyOTFmYzI2ZDk4NDhkMjkwODQ3MDA4ZmQ3ZDM0ZWQnLAogICAgICAgICAgICAgICAgICAgICAgICAgICAgICAgICAge2NlbnRlcjogWzM5LjgyODMsLTk4LjU3OTVdLAogICAgICAgICAgICAgICAgICAgICAgICAgICAgICAgICAgem9vbTogNCwKICAgICAgICAgICAgICAgICAgICAgICAgICAgICAgICAgIG1heEJvdW5kczogYm91bmRzLAogICAgICAgICAgICAgICAgICAgICAgICAgICAgICAgICAgbGF5ZXJzOiBbXSwKICAgICAgICAgICAgICAgICAgICAgICAgICAgICAgICAgIHdvcmxkQ29weUp1bXA6IGZhbHNlLAogICAgICAgICAgICAgICAgICAgICAgICAgICAgICAgICAgY3JzOiBMLkNSUy5FUFNHMzg1NwogICAgICAgICAgICAgICAgICAgICAgICAgICAgICAgICB9KTsKICAgICAgICAgICAgCiAgICAgICAgCiAgICAKICAgICAgICAgICAgdmFyIHRpbGVfbGF5ZXJfZjk1Y2I1YTA0OTE2NGU2N2FmZmUyMGFiZjdlNGM0ZjIgPSBMLnRpbGVMYXllcigKICAgICAgICAgICAgICAgICdodHRwczovL3tzfS50aWxlLm9wZW5zdHJlZXRtYXAub3JnL3t6fS97eH0ve3l9LnBuZycsCiAgICAgICAgICAgICAgICB7CiAgICAgICAgICAgICAgICAgICAgbWF4Wm9vbTogMTgsCiAgICAgICAgICAgICAgICAgICAgbWluWm9vbTogMSwKICAgICAgICAgICAgICAgICAgICBjb250aW51b3VzV29ybGQ6IGZhbHNlLAogICAgICAgICAgICAgICAgICAgIG5vV3JhcDogZmFsc2UsCiAgICAgICAgICAgICAgICAgICAgYXR0cmlidXRpb246ICdEYXRhIGJ5IDxhIGhyZWY9Imh0dHA6Ly9vcGVuc3RyZWV0bWFwLm9yZyI+T3BlblN0cmVldE1hcDwvYT4sIHVuZGVyIDxhIGhyZWY9Imh0dHA6Ly93d3cub3BlbnN0cmVldG1hcC5vcmcvY29weXJpZ2h0Ij5PRGJMPC9hPi4nLAogICAgICAgICAgICAgICAgICAgIGRldGVjdFJldGluYTogZmFsc2UKICAgICAgICAgICAgICAgICAgICB9CiAgICAgICAgICAgICAgICApLmFkZFRvKG1hcF80YjI5MWZjMjZkOTg0OGQyOTA4NDcwMDhmZDdkMzRlZCk7CgogICAgICAgIAogICAgCgogICAgICAgICAgICB2YXIgbWFya2VyX2Y4M2Q5ZWIxMjEwYTRhMjJiMDZiZTU0MDE4YjZmY2FhID0gTC5tYXJrZXIoCiAgICAgICAgICAgICAgICBbNDIuNzE4NSwtNzMuNzUyMl0sCiAgICAgICAgICAgICAgICB7CiAgICAgICAgICAgICAgICAgICAgaWNvbjogbmV3IEwuSWNvbi5EZWZhdWx0KCkKICAgICAgICAgICAgICAgICAgICB9CiAgICAgICAgICAgICAgICApCiAgICAgICAgICAgICAgICAuYWRkVG8obWFwXzRiMjkxZmMyNmQ5ODQ4ZDI5MDg0NzAwOGZkN2QzNGVkKTsKICAgICAgICAgICAgCiAgICAKCiAgICAgICAgICAgICAgICB2YXIgaWNvbl9mODcwODViZWNlYTI0ZDhjYjY0YTJlMjBiOTc5ZTI4ZSA9IEwuQXdlc29tZU1hcmtlcnMuaWNvbih7CiAgICAgICAgICAgICAgICAgICAgaWNvbjogJ2luZm8tc2lnbicsCiAgICAgICAgICAgICAgICAgICAgaWNvbkNvbG9yOiAnd2hpdGUnLAogICAgICAgICAgICAgICAgICAgIG1hcmtlckNvbG9yOiAnZ3JlZW4nLAogICAgICAgICAgICAgICAgICAgIHByZWZpeDogJ2dseXBoaWNvbicsCiAgICAgICAgICAgICAgICAgICAgZXh0cmFDbGFzc2VzOiAnZmEtcm90YXRlLTAnCiAgICAgICAgICAgICAgICAgICAgfSk7CiAgICAgICAgICAgICAgICBtYXJrZXJfZjgzZDllYjEyMTBhNGEyMmIwNmJlNTQwMThiNmZjYWEuc2V0SWNvbihpY29uX2Y4NzA4NWJlY2VhMjRkOGNiNjRhMmUyMGI5NzllMjhlKTsKICAgICAgICAgICAgCiAgICAKICAgICAgICAgICAgdmFyIHBvcHVwX2E5MzZmNmU5OTUzMjRmM2E4MmNlMTdkM2I1Yjc2ODYwID0gTC5wb3B1cCh7bWF4V2lkdGg6ICczMDAnfSk7CgogICAgICAgICAgICAKICAgICAgICAgICAgICAgIHZhciBodG1sXzE1ZGEwY2Q0MzlkYTQ2YTNhNTM0NzU0YWFkOWNmYTc1ID0gJCgnPGRpdiBpZD0iaHRtbF8xNWRhMGNkNDM5ZGE0NmEzYTUzNDc1NGFhZDljZmE3NSIgc3R5bGU9IndpZHRoOiAxMDAuMCU7IGhlaWdodDogMTAwLjAlOyI+U2llbmEgQ29sbGVnZTwvZGl2PicpWzBdOwogICAgICAgICAgICAgICAgcG9wdXBfYTkzNmY2ZTk5NTMyNGYzYTgyY2UxN2QzYjViNzY4NjAuc2V0Q29udGVudChodG1sXzE1ZGEwY2Q0MzlkYTQ2YTNhNTM0NzU0YWFkOWNmYTc1KTsKICAgICAgICAgICAgCgogICAgICAgICAgICBtYXJrZXJfZjgzZDllYjEyMTBhNGEyMmIwNmJlNTQwMThiNmZjYWEuYmluZFBvcHVwKHBvcHVwX2E5MzZmNmU5OTUzMjRmM2E4MmNlMTdkM2I1Yjc2ODYwKTsKCiAgICAgICAgICAgIAogICAgICAgIAogICAgCgogICAgICAgICAgICB2YXIgbWFya2VyX2Y1ZDA0NDk4MTgwZTQ2YWY5M2Q5MjhlN2QwMzdiMzY5ID0gTC5tYXJrZXIoCiAgICAgICAgICAgICAgICBbNDEuNjU4LC04My42MTQxXSwKICAgICAgICAgICAgICAgIHsKICAgICAgICAgICAgICAgICAgICBpY29uOiBuZXcgTC5JY29uLkRlZmF1bHQoKQogICAgICAgICAgICAgICAgICAgIH0KICAgICAgICAgICAgICAgICkKICAgICAgICAgICAgICAgIC5hZGRUbyhtYXBfNGIyOTFmYzI2ZDk4NDhkMjkwODQ3MDA4ZmQ3ZDM0ZWQpOwogICAgICAgICAgICAKICAgIAoKICAgICAgICAgICAgICAgIHZhciBpY29uXzZkM2NhN2IwZTViNjQ3MTdiYWQ3Y2JiNjZiODY3ZDEyID0gTC5Bd2Vzb21lTWFya2Vycy5pY29uKHsKICAgICAgICAgICAgICAgICAgICBpY29uOiAnaW5mby1zaWduJywKICAgICAgICAgICAgICAgICAgICBpY29uQ29sb3I6ICd3aGl0ZScsCiAgICAgICAgICAgICAgICAgICAgbWFya2VyQ29sb3I6ICdibHVlJywKICAgICAgICAgICAgICAgICAgICBwcmVmaXg6ICdnbHlwaGljb24nLAogICAgICAgICAgICAgICAgICAgIGV4dHJhQ2xhc3NlczogJ2ZhLXJvdGF0ZS0wJwogICAgICAgICAgICAgICAgICAgIH0pOwogICAgICAgICAgICAgICAgbWFya2VyX2Y1ZDA0NDk4MTgwZTQ2YWY5M2Q5MjhlN2QwMzdiMzY5LnNldEljb24oaWNvbl82ZDNjYTdiMGU1YjY0NzE3YmFkN2NiYjY2Yjg2N2QxMik7CiAgICAgICAgICAgIAogICAgCiAgICAgICAgICAgIHZhciBwb3B1cF80NWYwNmIyODQwMDU0OTM5OTFjNDc0YmQ5NDVlZTY5MCA9IEwucG9wdXAoe21heFdpZHRoOiAnMzAwJ30pOwoKICAgICAgICAgICAgCiAgICAgICAgICAgICAgICB2YXIgaHRtbF83MDE1MTNkY2YyNmQ0NzU3YWNiZjA2NDFjMzk5OGFiZiA9ICQoJzxkaXYgaWQ9Imh0bWxfNzAxNTEzZGNmMjZkNDc1N2FjYmYwNjQxYzM5OThhYmYiIHN0eWxlPSJ3aWR0aDogMTAwLjAlOyBoZWlnaHQ6IDEwMC4wJTsiPlVuaXZlcnNpdHkgb2YgVG9sZWRvPC9kaXY+JylbMF07CiAgICAgICAgICAgICAgICBwb3B1cF80NWYwNmIyODQwMDU0OTM5OTFjNDc0YmQ5NDVlZTY5MC5zZXRDb250ZW50KGh0bWxfNzAxNTEzZGNmMjZkNDc1N2FjYmYwNjQxYzM5OThhYmYpOwogICAgICAgICAgICAKCiAgICAgICAgICAgIG1hcmtlcl9mNWQwNDQ5ODE4MGU0NmFmOTNkOTI4ZTdkMDM3YjM2OS5iaW5kUG9wdXAocG9wdXBfNDVmMDZiMjg0MDA1NDkzOTkxYzQ3NGJkOTQ1ZWU2OTApOwoKICAgICAgICAgICAgCiAgICAgICAgCiAgICAKCiAgICAgICAgICAgIHZhciBtYXJrZXJfOWMyZjY2MmZjMDAzNDc0ZTgyMGEyZDllOGM0YjY1ODEgPSBMLm1hcmtlcigKICAgICAgICAgICAgICAgIFs0MS41MDQzLC04MS42MDg0XSwKICAgICAgICAgICAgICAgIHsKICAgICAgICAgICAgICAgICAgICBpY29uOiBuZXcgTC5JY29uLkRlZmF1bHQoKQogICAgICAgICAgICAgICAgICAgIH0KICAgICAgICAgICAgICAgICkKICAgICAgICAgICAgICAgIC5hZGRUbyhtYXBfNGIyOTFmYzI2ZDk4NDhkMjkwODQ3MDA4ZmQ3ZDM0ZWQpOwogICAgICAgICAgICAKICAgIAoKICAgICAgICAgICAgICAgIHZhciBpY29uX2Q3M2Y2NWIxZWMzYzRjYzZhM2IxNWUzNWY5MjcxMzUxID0gTC5Bd2Vzb21lTWFya2Vycy5pY29uKHsKICAgICAgICAgICAgICAgICAgICBpY29uOiAnaW5mby1zaWduJywKICAgICAgICAgICAgICAgICAgICBpY29uQ29sb3I6ICd3aGl0ZScsCiAgICAgICAgICAgICAgICAgICAgbWFya2VyQ29sb3I6ICdyZWQnLAogICAgICAgICAgICAgICAgICAgIHByZWZpeDogJ2dseXBoaWNvbicsCiAgICAgICAgICAgICAgICAgICAgZXh0cmFDbGFzc2VzOiAnZmEtcm90YXRlLTAnCiAgICAgICAgICAgICAgICAgICAgfSk7CiAgICAgICAgICAgICAgICBtYXJrZXJfOWMyZjY2MmZjMDAzNDc0ZTgyMGEyZDllOGM0YjY1ODEuc2V0SWNvbihpY29uX2Q3M2Y2NWIxZWMzYzRjYzZhM2IxNWUzNWY5MjcxMzUxKTsKICAgICAgICAgICAgCiAgICAKICAgICAgICAgICAgdmFyIHBvcHVwXzllMDE0NjU0YWZhZjQxN2FiMDcwZTQyN2MwZDY5YTA3ID0gTC5wb3B1cCh7bWF4V2lkdGg6ICczMDAnfSk7CgogICAgICAgICAgICAKICAgICAgICAgICAgICAgIHZhciBodG1sX2YzZDllNGNkNDQ3NzRhMWI5ZjU0ZmQzMTU5M2EzYjkwID0gJCgnPGRpdiBpZD0iaHRtbF9mM2Q5ZTRjZDQ0Nzc0YTFiOWY1NGZkMzE1OTNhM2I5MCIgc3R5bGU9IndpZHRoOiAxMDAuMCU7IGhlaWdodDogMTAwLjAlOyI+Q2FzZSBXZXN0ZXJuIFJlc2VydmU8L2Rpdj4nKVswXTsKICAgICAgICAgICAgICAgIHBvcHVwXzllMDE0NjU0YWZhZjQxN2FiMDcwZTQyN2MwZDY5YTA3LnNldENvbnRlbnQoaHRtbF9mM2Q5ZTRjZDQ0Nzc0YTFiOWY1NGZkMzE1OTNhM2I5MCk7CiAgICAgICAgICAgIAoKICAgICAgICAgICAgbWFya2VyXzljMmY2NjJmYzAwMzQ3NGU4MjBhMmQ5ZThjNGI2NTgxLmJpbmRQb3B1cChwb3B1cF85ZTAxNDY1NGFmYWY0MTdhYjA3MGU0MjdjMGQ2OWEwNyk7CgogICAgICAgICAgICAKICAgICAgICAKICAgIAogICAgICAgICAgICAgICAgdmFyIHBvbHlfbGluZV8wYThhYTQyM2I4YzQ0OGRiYTk2MTAwOGJhMGJmYmE3MSA9IEwucG9seWxpbmUoCiAgICAgICAgICAgICAgICAgICAgW1s0Mi43MTg1LCAtNzMuNzUyMl0sIFs0Mi42NDI3OTAxMDU2NTk1NywgLTc0Ljg2Mjc2MDUxOTcxNjgzXSwgWzQyLjU1NjM4MDk4OTcwMzE2LCAtNzUuOTcwNDMxMTE2ODk5OTVdLCBbNDIuNDU5MzM0NTE4OTM3MTUsIC03Ny4wNzQ4NTAzNTU2NzU3OF0sIFs0Mi4zNTE3MTk2NTQyNjIwODQsIC03OC4xNzU2NjU5MjI0MTg2Ml0sIFs0Mi4yMzM2MTIyMjczMDY2NiwgLTc5LjI3MjUzNTQ5MjY2Nzg0XSwgWzQyLjEwNTA5NDY5ODQ3OTA4LCAtODAuMzY1MTI3NTM0MjE1MjhdLCBbNDEuOTY2MjU1ODk4MjEzOTgsIC04MS40NTMxMjIwNDI2NzM4OF0sIFs0MS44MTcxOTA3NTMyNzE0MjYsIC04Mi41MzYyMTEyMDY1OTkxNV0sIFs0MS42NTgsIC04My42MTQxXSwgWzQxLjY1OCwgLTgzLjYxNDFdLCBbNDEuNjQyNjQ1ODM1MDA5OTEsIC04My4zOTA3ODYyMDM5MjI0Nl0sIFs0MS42MjY4NTk2NzM0NzU5NiwgLTgzLjE2NzU4MDMwMTY2MTA2XSwgWzQxLjYxMDY0MTk2NjQ2NTQ0NCwgLTgyLjk0NDQ4NTE2OTQwMjcyXSwgWzQxLjU5Mzk5MzE3Njc4MDE3NCwgLTgyLjcyMTUwMzY3MDgzMzI5XSwgWzQxLjU3NjkxMzc3ODg5NjI2LCAtODIuNDk4NjM4NjU2ODM5N10sIFs0MS41NTk0MDQyNTg5MDIzMiwgLTgyLjI3NTg5Mjk2NTIxNTM2XSwgWzQxLjU0MTQ2NTExNDQzNjM4LCAtODIuMDUzMjY5NDIwMzY5MDNdLCBbNDEuNTIzMDk2ODU0NjIxNTE0LCAtODEuODMwNzcwODMzMDM3MjJdLCBbNDEuNTA0MywgLTgxLjYwODRdXSwKICAgICAgICAgICAgICAgICAgICB7CiAgICAgICAgICAgICAgICAgICAgICAgIAogICAgICAgICAgICAgICAgICAgICAgICAKICAgICAgICAgICAgICAgICAgICAgICAgCiAgICAgICAgICAgICAgICAgICAgICAgIH0pOwogICAgICAgICAgICAgICAgbWFwXzRiMjkxZmMyNmQ5ODQ4ZDI5MDg0NzAwOGZkN2QzNGVkLmFkZExheWVyKHBvbHlfbGluZV8wYThhYTQyM2I4YzQ0OGRiYTk2MTAwOGJhMGJmYmE3MSk7CiAgICAgICAgICAgIAogICAgCiAgICAgICAgICAgIHZhciBwb3B1cF8wNDZiZmI4ZDgwMzA0OTI0OTgwM2RkNmY4OWY2ZjQyZSA9IEwucG9wdXAoe21heFdpZHRoOiAnMzAwJ30pOwoKICAgICAgICAgICAgCiAgICAgICAgICAgICAgICB2YXIgaHRtbF82MTdlOGI0YzU1ZDU0ODQwYTM2YzhkNzQ3YjkwOGFlYiA9ICQoJzxkaXYgaWQ9Imh0bWxfNjE3ZThiNGM1NWQ1NDg0MGEzNmM4ZDc0N2I5MDhhZWIiIHN0eWxlPSJ3aWR0aDogMTAwLjAlOyBoZWlnaHQ6IDEwMC4wJTsiPkplc3MgTXVlbmtlbCAoJiMzOTsxNSk8L2Rpdj4nKVswXTsKICAgICAgICAgICAgICAgIHBvcHVwXzA0NmJmYjhkODAzMDQ5MjQ5ODAzZGQ2Zjg5ZjZmNDJlLnNldENvbnRlbnQoaHRtbF82MTdlOGI0YzU1ZDU0ODQwYTM2YzhkNzQ3YjkwOGFlYik7CiAgICAgICAgICAgIAoKICAgICAgICAgICAgcG9seV9saW5lXzBhOGFhNDIzYjhjNDQ4ZGJhOTYxMDA4YmEwYmZiYTcxLmJpbmRQb3B1cChwb3B1cF8wNDZiZmI4ZDgwMzA0OTI0OTgwM2RkNmY4OWY2ZjQyZSk7CgogICAgICAgICAgICAKICAgICAgICAKICAgIAoKICAgICAgICAgICAgdmFyIG1hcmtlcl9iNGQ4YzljODA1MzM0NDE2YWE5ZGNiZmM4ZWI1ZDE1YiA9IEwubWFya2VyKAogICAgICAgICAgICAgICAgWzM2LjE0NDcsLTg2LjgwMjddLAogICAgICAgICAgICAgICAgewogICAgICAgICAgICAgICAgICAgIGljb246IG5ldyBMLkljb24uRGVmYXVsdCgpCiAgICAgICAgICAgICAgICAgICAgfQogICAgICAgICAgICAgICAgKQogICAgICAgICAgICAgICAgLmFkZFRvKG1hcF80YjI5MWZjMjZkOTg0OGQyOTA4NDcwMDhmZDdkMzRlZCk7CiAgICAgICAgICAgIAogICAgCgogICAgICAgICAgICAgICAgdmFyIGljb25fMjE0YTE4MTk1YTllNDFjZGE3MGRkZTEzMDE1YjI5MjEgPSBMLkF3ZXNvbWVNYXJrZXJzLmljb24oewogICAgICAgICAgICAgICAgICAgIGljb246ICdpbmZvLXNpZ24nLAogICAgICAgICAgICAgICAgICAgIGljb25Db2xvcjogJ3doaXRlJywKICAgICAgICAgICAgICAgICAgICBtYXJrZXJDb2xvcjogJ2JsdWUnLAogICAgICAgICAgICAgICAgICAgIHByZWZpeDogJ2dseXBoaWNvbicsCiAgICAgICAgICAgICAgICAgICAgZXh0cmFDbGFzc2VzOiAnZmEtcm90YXRlLTAnCiAgICAgICAgICAgICAgICAgICAgfSk7CiAgICAgICAgICAgICAgICBtYXJrZXJfYjRkOGM5YzgwNTMzNDQxNmFhOWRjYmZjOGViNWQxNWIuc2V0SWNvbihpY29uXzIxNGExODE5NWE5ZTQxY2RhNzBkZGUxMzAxNWIyOTIxKTsKICAgICAgICAgICAgCiAgICAKICAgICAgICAgICAgdmFyIHBvcHVwX2E1YmE2ZmMwYzVlMDRkNDk5MDE1YTA3YWQ4ZTVkM2RjID0gTC5wb3B1cCh7bWF4V2lkdGg6ICczMDAnfSk7CgogICAgICAgICAgICAKICAgICAgICAgICAgICAgIHZhciBodG1sXzExMzNkNWMyYzNmZDQwZWY5ZDc3ZTY3YzA0ZWJiYWNjID0gJCgnPGRpdiBpZD0iaHRtbF8xMTMzZDVjMmMzZmQ0MGVmOWQ3N2U2N2MwNGViYmFjYyIgc3R5bGU9IndpZHRoOiAxMDAuMCU7IGhlaWdodDogMTAwLjAlOyI+VW5pdmVyc2l0eSBvZiBWYW5kZXJiaWx0PC9kaXY+JylbMF07CiAgICAgICAgICAgICAgICBwb3B1cF9hNWJhNmZjMGM1ZTA0ZDQ5OTAxNWEwN2FkOGU1ZDNkYy5zZXRDb250ZW50KGh0bWxfMTEzM2Q1YzJjM2ZkNDBlZjlkNzdlNjdjMDRlYmJhY2MpOwogICAgICAgICAgICAKCiAgICAgICAgICAgIG1hcmtlcl9iNGQ4YzljODA1MzM0NDE2YWE5ZGNiZmM4ZWI1ZDE1Yi5iaW5kUG9wdXAocG9wdXBfYTViYTZmYzBjNWUwNGQ0OTkwMTVhMDdhZDhlNWQzZGMpOwoKICAgICAgICAgICAgCiAgICAgICAgCiAgICAKCiAgICAgICAgICAgIHZhciBtYXJrZXJfMzk0MjE1N2RmNmM1NDNiNjhhN2MwYWFhNjA1MzA1ZGIgPSBMLm1hcmtlcigKICAgICAgICAgICAgICAgIFszOS45OTQ5LC04My4wMTgxXSwKICAgICAgICAgICAgICAgIHsKICAgICAgICAgICAgICAgICAgICBpY29uOiBuZXcgTC5JY29uLkRlZmF1bHQoKQogICAgICAgICAgICAgICAgICAgIH0KICAgICAgICAgICAgICAgICkKICAgICAgICAgICAgICAgIC5hZGRUbyhtYXBfNGIyOTFmYzI2ZDk4NDhkMjkwODQ3MDA4ZmQ3ZDM0ZWQpOwogICAgICAgICAgICAKICAgIAoKICAgICAgICAgICAgICAgIHZhciBpY29uX2Y4NTU5NDRjYWQ1MjQ1YTY4ZTYxZjNlYjQ4YTA3NWUyID0gTC5Bd2Vzb21lTWFya2Vycy5pY29uKHsKICAgICAgICAgICAgICAgICAgICBpY29uOiAnaW5mby1zaWduJywKICAgICAgICAgICAgICAgICAgICBpY29uQ29sb3I6ICd3aGl0ZScsCiAgICAgICAgICAgICAgICAgICAgbWFya2VyQ29sb3I6ICdyZWQnLAogICAgICAgICAgICAgICAgICAgIHByZWZpeDogJ2dseXBoaWNvbicsCiAgICAgICAgICAgICAgICAgICAgZXh0cmFDbGFzc2VzOiAnZmEtcm90YXRlLTAnCiAgICAgICAgICAgICAgICAgICAgfSk7CiAgICAgICAgICAgICAgICBtYXJrZXJfMzk0MjE1N2RmNmM1NDNiNjhhN2MwYWFhNjA1MzA1ZGIuc2V0SWNvbihpY29uX2Y4NTU5NDRjYWQ1MjQ1YTY4ZTYxZjNlYjQ4YTA3NWUyKTsKICAgICAgICAgICAgCiAgICAKICAgICAgICAgICAgdmFyIHBvcHVwX2Y3ZTkzNzU4MDIzMzQ0OWM4NDY3NjdlODlkMDVlMjFlID0gTC5wb3B1cCh7bWF4V2lkdGg6ICczMDAnfSk7CgogICAgICAgICAgICAKICAgICAgICAgICAgICAgIHZhciBodG1sXzMwODVkMmY3ZmZiNjQxOTU5YjFkNmE2ZmVmZTczY2I5ID0gJCgnPGRpdiBpZD0iaHRtbF8zMDg1ZDJmN2ZmYjY0MTk1OWIxZDZhNmZlZmU3M2NiOSIgc3R5bGU9IndpZHRoOiAxMDAuMCU7IGhlaWdodDogMTAwLjAlOyI+T2hpbyBTdGF0ZSBVbml2ZXJzaXR5IFdleG5lciBNZWRpY2FsIENlbnRlcjwvZGl2PicpWzBdOwogICAgICAgICAgICAgICAgcG9wdXBfZjdlOTM3NTgwMjMzNDQ5Yzg0Njc2N2U4OWQwNWUyMWUuc2V0Q29udGVudChodG1sXzMwODVkMmY3ZmZiNjQxOTU5YjFkNmE2ZmVmZTczY2I5KTsKICAgICAgICAgICAgCgogICAgICAgICAgICBtYXJrZXJfMzk0MjE1N2RmNmM1NDNiNjhhN2MwYWFhNjA1MzA1ZGIuYmluZFBvcHVwKHBvcHVwX2Y3ZTkzNzU4MDIzMzQ0OWM4NDY3NjdlODlkMDVlMjFlKTsKCiAgICAgICAgICAgIAogICAgICAgIAogICAgCiAgICAgICAgICAgICAgICB2YXIgcG9seV9saW5lXzIyYTM0YjViOTdmNjRkOWJiNjMxODgwZTE3NmVlZmM0ID0gTC5wb2x5bGluZSgKICAgICAgICAgICAgICAgICAgICBbWzQyLjcxODUsIC03My43NTIyXSwgWzQyLjA2NDE5MzE4MDkwNDE1NSwgLTc1LjMyNzQ0NjU1MjQ2NDkyXSwgWzQxLjM4ODc4OTg3ODkyNzg5NSwgLTc2Ljg3MDA0NjI5MTYzMTk3XSwgWzQwLjY5MzIxMzIxNzQzMTU4NCwgLTc4LjM4MDQ1ODYzODQ0ODk5XSwgWzM5Ljk3ODM2MzIwNjIxMjk0LCAtNzkuODU5MjM0NjA3MjQwOF0sIFszOS4yNDUxMTQ5MDU5MzIzLCAtODEuMzA3MDAzNzcyNDU2MTZdLCBbMzguNDk0MzE3MDQxMDQ0NTk2LCAtODIuNzI0NDYyMTIxODA4NzFdLCBbMzcuNzI2NzkxMDE0MTExNjEsIC04NC4xMTIzNjA4NTY5MzY4Ml0sIFszNi45NDMzMzAyNzQ5ODMzNywgLTg1LjQ3MTQ5NjE3MDIzNjIxXSwgWzM2LjE0NDcsIC04Ni44MDI3XSwgWzM2LjE0NDcsIC04Ni44MDI3XSwgWzM2LjU3ODMwNTQyMjU0OTM4NCwgLTg2LjQwMTM0NDk3NTA5OTkzXSwgWzM3LjAxMDU1MDIzMTkyOTA2LCAtODUuOTk1NDYzNjMwNDQyMDNdLCBbMzcuNDQxMzk3MTcwNTczNjksIC04NS41ODQ5NDY4MzgzMTY4NV0sIFszNy44NzA4MDc5Mjc5NzIsIC04NS4xNjk2ODMxOTczMzE4NV0sIFszOC4yOTg3NDMxMDYyMDk1NywgLTg0Ljc0OTU1ODk5ODgxNDExXSwgWzM4LjcyNTE2MjE4NDU1NDc1NSwgLTg0LjMyNDQ1ODE5NTIyOF0sIFszOS4xNTAwMjM0ODMwODI0MiwgLTgzLjg5NDI2MjM3MDkwODA4XSwgWzM5LjU3MzI4NDEyNTMzMTk0NSwgLTgzLjQ1ODg1MDcxNTQzMzU2XSwgWzM5Ljk5NDksIC04My4wMTgxXV0sCiAgICAgICAgICAgICAgICAgICAgewogICAgICAgICAgICAgICAgICAgICAgICAKICAgICAgICAgICAgICAgICAgICAgICAgCiAgICAgICAgICAgICAgICAgICAgICAgIAogICAgICAgICAgICAgICAgICAgICAgICB9KTsKICAgICAgICAgICAgICAgIG1hcF80YjI5MWZjMjZkOTg0OGQyOTA4NDcwMDhmZDdkMzRlZC5hZGRMYXllcihwb2x5X2xpbmVfMjJhMzRiNWI5N2Y2NGQ5YmI2MzE4ODBlMTc2ZWVmYzQpOwogICAgICAgICAgICAKICAgIAogICAgICAgICAgICB2YXIgcG9wdXBfMGMyY2FiYmRjNjljNGNhNGIzMzNjMDM5MTNhMjMwZDYgPSBMLnBvcHVwKHttYXhXaWR0aDogJzMwMCd9KTsKCiAgICAgICAgICAgIAogICAgICAgICAgICAgICAgdmFyIGh0bWxfMzRjNGRjMzA1YWI0NGM3N2E0Mjc5NzQwMjZmMWJhYzAgPSAkKCc8ZGl2IGlkPSJodG1sXzM0YzRkYzMwNWFiNDRjNzdhNDI3OTc0MDI2ZjFiYWMwIiBzdHlsZT0id2lkdGg6IDEwMC4wJTsgaGVpZ2h0OiAxMDAuMCU7Ij5LZWxseSBOZWFsb24gKCYjMzk7MTUpPC9kaXY+JylbMF07CiAgICAgICAgICAgICAgICBwb3B1cF8wYzJjYWJiZGM2OWM0Y2E0YjMzM2MwMzkxM2EyMzBkNi5zZXRDb250ZW50KGh0bWxfMzRjNGRjMzA1YWI0NGM3N2E0Mjc5NzQwMjZmMWJhYzApOwogICAgICAgICAgICAKCiAgICAgICAgICAgIHBvbHlfbGluZV8yMmEzNGI1Yjk3ZjY0ZDliYjYzMTg4MGUxNzZlZWZjNC5iaW5kUG9wdXAocG9wdXBfMGMyY2FiYmRjNjljNGNhNGIzMzNjMDM5MTNhMjMwZDYpOwoKICAgICAgICAgICAgCiAgICAgICAgCjwvc2NyaXB0Pg==\" style=\"position:absolute;width:100%;height:100%;left:0;top:0;border:none !important;\" allowfullscreen webkitallowfullscreen mozallowfullscreen></iframe></div></div>"
      ],
      "text/plain": [
       "<folium.folium.Map at 0x7ff802a9eac8>"
      ]
     },
     "execution_count": 3,
     "metadata": {},
     "output_type": "execute_result"
    }
   ],
   "source": [
    "us = [39.8283, -98.5795]\n",
    "mymap = folium.Map(location=us,zoom_start=4)\n",
    "\n",
    "siena = [42.7185,-73.7522]\n",
    "folium.Marker(siena, popup='Siena College',icon=folium.Icon(color='green')).add_to(mymap)\n",
    "\n",
    "utoledo = [41.6580, -83.6141]\n",
    "folium.Marker(utoledo, popup='University of Toledo',icon=folium.Icon(color='blue')).add_to(mymap)\n",
    "points = gen_gc_pts(siena,utoledo,num_of_segments=10)\n",
    "\n",
    "cwr = [41.5043, -81.6084]\n",
    "folium.Marker(cwr, popup='Case Western Reserve',icon=folium.Icon(color='red')).add_to(mymap)\n",
    "points += gen_gc_pts(utoledo,cwr)\n",
    "\n",
    "folium.PolyLine(points,popup=\"Jess Muenkel ('15)\").add_to(mymap)\n",
    "\n",
    "\n",
    "\n",
    "vanderbilt = [36.1447,-86.8027]\n",
    "folium.Marker(vanderbilt, popup='University of Vanderbilt',icon=folium.Icon(color='blue')).add_to(mymap)\n",
    "points = gen_gc_pts(siena,vanderbilt,num_of_segments=10)\n",
    "\n",
    "osu = [39.9949, -83.0181]\n",
    "folium.Marker(osu, popup='Ohio State University Wexner Medical Center',icon=folium.Icon(color='red')).add_to(mymap)\n",
    "points += gen_gc_pts(vanderbilt,osu)\n",
    "\n",
    "folium.PolyLine(points,popup=\"Kelly Nealon ('15)\").add_to(mymap)\n",
    "\n",
    "mymap.save(os.path.join('./', 'test.html'))\n",
    "\n",
    "\n",
    "mymap"
   ]
  },
  {
   "cell_type": "code",
   "execution_count": null,
   "metadata": {},
   "outputs": [],
   "source": []
  },
  {
   "cell_type": "code",
   "execution_count": null,
   "metadata": {},
   "outputs": [],
   "source": []
  }
 ],
 "metadata": {
  "kernelspec": {
   "display_name": "Python 3",
   "language": "python",
   "name": "python3"
  },
  "language_info": {
   "codemirror_mode": {
    "name": "ipython",
    "version": 3
   },
   "file_extension": ".py",
   "mimetype": "text/x-python",
   "name": "python",
   "nbconvert_exporter": "python",
   "pygments_lexer": "ipython3",
   "version": "3.6.6"
  }
 },
 "nbformat": 4,
 "nbformat_minor": 2
}
