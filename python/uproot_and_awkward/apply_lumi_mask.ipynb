{
 "cells": [
  {
   "cell_type": "code",
   "execution_count": null,
   "id": "05dc5fc1-e2bc-47e3-9cac-642a6839bf7e",
   "metadata": {},
   "outputs": [],
   "source": [
    "import uproot\n",
    "import awkward as ak\n",
    "\n",
    "import numpy as np\n",
    "\n",
    "import json"
   ]
  },
  {
   "cell_type": "code",
   "execution_count": null,
   "id": "44786cac-706b-4ee7-8304-00877008639d",
   "metadata": {},
   "outputs": [],
   "source": [
    "#lumi_info = json.load(open('Cert_271036-284044_13TeV_Legacy2016_Collisions16_JSON.txt'))\n",
    "lumi_info = ak.from_json(open('Cert_271036-284044_13TeV_Legacy2016_Collisions16_JSON.txt', 'rb'))\n",
    "\n",
    "lumi_info['273158']"
   ]
  },
  {
   "cell_type": "code",
   "execution_count": null,
   "id": "f23839fe-87fa-498a-8d7c-2200c46d31d1",
   "metadata": {},
   "outputs": [],
   "source": [
    "f = uproot.open('4E3A26DE-E53B-A844-8048-36376617AE8D.root')\n",
    "\n",
    "t = f['Events']\n",
    "\n",
    "#t.keys()"
   ]
  },
  {
   "cell_type": "code",
   "execution_count": null,
   "id": "d1a409e8-3f03-4625-baaf-e21e3f94d6f8",
   "metadata": {},
   "outputs": [],
   "source": [
    "lumi_info['279760']"
   ]
  },
  {
   "cell_type": "code",
   "execution_count": null,
   "id": "123c687d-b464-4a59-8fa3-5d0c415316bd",
   "metadata": {},
   "outputs": [],
   "source": []
  },
  {
   "cell_type": "code",
   "execution_count": null,
   "id": "d77d80a2-aedf-41e1-886e-2677e1127321",
   "metadata": {},
   "outputs": [],
   "source": [
    "t['run'].array()"
   ]
  },
  {
   "cell_type": "code",
   "execution_count": null,
   "id": "4cc321ba-4102-406a-b02f-cea78d70d740",
   "metadata": {},
   "outputs": [],
   "source": [
    "t['luminosityBlock'].array()"
   ]
  },
  {
   "cell_type": "code",
   "execution_count": null,
   "id": "a9a8189c-a4ce-456f-a04f-0b9e6729e61b",
   "metadata": {},
   "outputs": [],
   "source": [
    "filter = t['run'].array() == 279760\n",
    "\n",
    "print(filter)\n",
    "\n",
    "t['luminosityBlock'].array()[filter]"
   ]
  },
  {
   "cell_type": "markdown",
   "id": "13e8abcb-e28f-41df-a2f6-142c9c97c804",
   "metadata": {},
   "source": [
    "# Tests"
   ]
  },
  {
   "cell_type": "code",
   "execution_count": null,
   "id": "474c4acb-d6cb-4c58-abe7-4dbba7bfa86e",
   "metadata": {},
   "outputs": [],
   "source": [
    "mock_lumi_info = {}\n",
    "mock_lumi_info[10] = [[1,100]]\n",
    "mock_lumi_info[20] = [[2,50], [500,942]]\n",
    "mock_lumi_info[30] = []\n",
    "mock_lumi_info[40] = [[200,500], [520,594], [720,890]]\n",
    "\n",
    "mock_lumi_info"
   ]
  },
  {
   "cell_type": "code",
   "execution_count": null,
   "id": "d6bd6ee7-2a31-4df3-91ca-6ccc4232e844",
   "metadata": {},
   "outputs": [],
   "source": [
    "run = 40\n",
    "#lp = 550 # lumi period\n",
    "lp = 800\n",
    "\n",
    "blocks = mock_lumi_info[run]\n",
    "blocks = np.array(blocks)\n",
    "\n",
    "print(blocks)\n",
    "print()\n",
    "\n",
    "dl0 = lp - blocks.T[0]\n",
    "dl1 = blocks.T[1] - lp\n",
    "\n",
    "print(dl0)\n",
    "print(dl1)\n",
    "print()\n",
    "\n",
    "prod = dl0*dl1\n",
    "test = (dl1>0) & (dl0>0)\n",
    "\n",
    "print(dl0>0)\n",
    "\n",
    "print(prod)\n",
    "print(test)"
   ]
  },
  {
   "cell_type": "code",
   "execution_count": null,
   "id": "d49bdc0d-77d6-42d4-a9da-4dc9fc86153c",
   "metadata": {},
   "outputs": [],
   "source": [
    "runs = np.array([10, 10, 10, 30, 40, 40])\n",
    "\n",
    "print(runs)"
   ]
  },
  {
   "cell_type": "code",
   "execution_count": null,
   "id": "a1ced199-3fae-4012-b6a4-75c8f6e1fed0",
   "metadata": {},
   "outputs": [],
   "source": [
    "#keys = np.array(mock_lumi_info.keys())\n",
    "keys = mock_lumi_info.keys()\n",
    "\n",
    "print(keys)\n",
    "print(type(keys))\n",
    "\n",
    "\n",
    "#blocks = keys.tolist().index(runs)\n",
    "#print(blocks)"
   ]
  },
  {
   "cell_type": "code",
   "execution_count": null,
   "id": "e9d68772-dc71-4ccd-9048-d8978fb9f166",
   "metadata": {},
   "outputs": [],
   "source": [
    "x = np.array(list(keys))\n",
    "\n",
    "print(x)\n",
    "print(type(x))\n",
    "\n",
    "idx = np.where(x==40)\n",
    "\n",
    "print(idx)"
   ]
  },
  {
   "cell_type": "code",
   "execution_count": null,
   "id": "674fec44-55d2-439e-8ccf-a89711c0f35b",
   "metadata": {},
   "outputs": [],
   "source": [
    "x = ak.Array(keys)\n",
    "\n",
    "ak.where(x==30)"
   ]
  },
  {
   "cell_type": "code",
   "execution_count": null,
   "id": "f105efc2-f5af-4080-b8a7-30c813ca7897",
   "metadata": {},
   "outputs": [],
   "source": [
    "#ak.local_index(x, runs)"
   ]
  },
  {
   "cell_type": "code",
   "execution_count": null,
   "id": "271e9058-5005-4fd2-a562-62a34c505064",
   "metadata": {},
   "outputs": [],
   "source": [
    "? list.index"
   ]
  },
  {
   "cell_type": "code",
   "execution_count": null,
   "id": "4cf32375-be8d-4572-b9ad-7116418fca1e",
   "metadata": {},
   "outputs": [],
   "source": [
    "? ak.index"
   ]
  },
  {
   "cell_type": "code",
   "execution_count": null,
   "id": "e461eb08-3e88-4b8b-abf8-509e6fce3715",
   "metadata": {},
   "outputs": [],
   "source": [
    "akindex = ak.index"
   ]
  },
  {
   "cell_type": "code",
   "execution_count": null,
   "id": "cb73532f-b6f7-440c-a68e-5ccd190fa49d",
   "metadata": {},
   "outputs": [],
   "source": [
    "akindex.Index"
   ]
  },
  {
   "cell_type": "code",
   "execution_count": null,
   "id": "a6dacba3-a342-42d5-8d89-f9ce5fd4eab5",
   "metadata": {},
   "outputs": [],
   "source": [
    "# From ChatGPT\n",
    "\n",
    "def find_indices(arr1, arr2):\n",
    "    index_map = {value: index for index, value in enumerate(arr1)}\n",
    "    return [index_map.get(value, -1) for value in arr2]\n",
    "\n"
   ]
  },
  {
   "cell_type": "code",
   "execution_count": null,
   "id": "09213433-1878-4c22-8ffd-493f37b057dd",
   "metadata": {},
   "outputs": [],
   "source": [
    "arr1 = np.array([10, 40, 50, 60])\n",
    "arr2 = np.array([40, 40, 40, 60, 50])\n",
    "\n",
    "result = find_indices(arr1, arr2)\n",
    "print(result)"
   ]
  },
  {
   "cell_type": "code",
   "execution_count": null,
   "id": "f8513e6f-026d-450f-9239-247e684927bf",
   "metadata": {},
   "outputs": [],
   "source": [
    "lumi_runs = np.array(lumi_info.fields).astype(int)\n",
    "print(lumi_runs[0:10])\n",
    "\n",
    "runs = t['run'].array().to_numpy()\n",
    "print(runs[0:10])"
   ]
  },
  {
   "cell_type": "code",
   "execution_count": null,
   "id": "7abbaefb-59e2-4da9-81a3-54ed0e61a440",
   "metadata": {},
   "outputs": [],
   "source": [
    "result = find_indices(lumi_runs, runs)\n",
    "#print(result)\n",
    "print(len(runs))\n",
    "print(len(result))\n",
    "print()\n",
    "\n",
    "print(result[10])\n",
    "print(runs[10])\n",
    "\n",
    "print(lumi_runs[272])\n",
    "#lumi_runs"
   ]
  },
  {
   "cell_type": "code",
   "execution_count": null,
   "id": "43f3f076-2a8e-470c-a43e-7aca9e0bce64",
   "metadata": {},
   "outputs": [],
   "source": [
    "lumi_runs[result]"
   ]
  },
  {
   "cell_type": "code",
   "execution_count": null,
   "id": "b7df39a9-0952-47da-8c07-44ae73b22b03",
   "metadata": {},
   "outputs": [],
   "source": [
    "#lumi_info[result]\n",
    "subset = lumi_info[['273158', '273302', '273302']]\n",
    "\n",
    "print(type(subset))\n"
   ]
  },
  {
   "cell_type": "code",
   "execution_count": null,
   "id": "553a7ff8-b551-4e60-9afa-6bb9651726aa",
   "metadata": {},
   "outputs": [],
   "source": []
  }
 ],
 "metadata": {
  "kernelspec": {
   "display_name": "Python 3 (ipykernel)",
   "language": "python",
   "name": "python3"
  },
  "language_info": {
   "codemirror_mode": {
    "name": "ipython",
    "version": 3
   },
   "file_extension": ".py",
   "mimetype": "text/x-python",
   "name": "python",
   "nbconvert_exporter": "python",
   "pygments_lexer": "ipython3",
   "version": "3.11.7"
  }
 },
 "nbformat": 4,
 "nbformat_minor": 5
}
