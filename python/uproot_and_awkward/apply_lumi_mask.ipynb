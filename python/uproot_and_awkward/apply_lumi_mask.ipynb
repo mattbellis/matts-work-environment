{
 "cells": [
  {
   "cell_type": "code",
   "execution_count": null,
   "id": "05dc5fc1-e2bc-47e3-9cac-642a6839bf7e",
   "metadata": {},
   "outputs": [],
   "source": [
    "import uproot\n",
    "import awkward as ak\n",
    "\n",
    "import numpy as np\n",
    "\n",
    "import json\n",
    "\n",
    "import time"
   ]
  },
  {
   "cell_type": "markdown",
   "id": "fb65fd04-c964-4e8f-8e42-667cc76986eb",
   "metadata": {},
   "source": [
    "# Download the files\n",
    "\n",
    "## lumi file\n",
    "\n",
    "https://opendata.cern.ch/record/14220\n",
    "\n",
    "https://opendata.cern.ch/record/14220/files/Cert_271036-284044_13TeV_Legacy2016_Collisions16_JSON.txt\n",
    "\n",
    "## Data file\n",
    "\n",
    "https://opendata.cern.ch/record/30522\n",
    "\n",
    "I grabbed this one because it's smaller and easier to prototype with\n",
    "\n",
    "4E3A26DE-E53B-A844-8048-36376617AE8D.root\n",
    "\n",
    "Grabbed this one for testing with larger files\n",
    "\n",
    "3B20EB8F-4FD1-D041-9513-1A82351756E1.root\n",
    "\n"
   ]
  },
  {
   "cell_type": "code",
   "execution_count": null,
   "id": "2e4f9c6e-99ea-4bd1-a2db-fa69ab2d319e",
   "metadata": {},
   "outputs": [],
   "source": [
    "#!wget https://opendata.cern.ch/record/14220/files/Cert_271036-284044_13TeV_Legacy2016_Collisions16_JSON.txt"
   ]
  },
  {
   "cell_type": "code",
   "execution_count": null,
   "id": "ad591b33-a2be-47a6-aea4-3e525c2ba014",
   "metadata": {},
   "outputs": [],
   "source": [
    "# Uncomment to download NanoAOD files\n",
    "\n",
    "# Small file (~60 MB)\n",
    "#!wget --no-check-certificate https://eospublic.cern.ch//eos/opendata/cms/Run2016G/DoubleMuon/NANOAOD/UL2016_MiniAODv2_NanoAODv9-v2/2430000/4E3A26DE-E53B-A844-8048-36376617AE8D.root\n",
    "\n",
    "# Big file (~1 GB)\n",
    "#!wget --no-check-certificate https://eospublic.cern.ch//eos/opendata/cms/Run2016G/DoubleMuon/NANOAOD/UL2016_MiniAODv2_NanoAODv9-v2/2430000/3B20EB8F-4FD1-D041-9513-1A82351756E1.root\n"
   ]
  },
  {
   "cell_type": "code",
   "execution_count": null,
   "id": "44786cac-706b-4ee7-8304-00877008639d",
   "metadata": {},
   "outputs": [],
   "source": [
    "# Read in the JSON file with the lumi sections\n",
    "# I use awkward for this. \n",
    "\n",
    "good_luminosity_sections = ak.from_json(open('Cert_271036-284044_13TeV_Legacy2016_Collisions16_JSON.txt', 'rb'))\n",
    "\n",
    "good_luminosity_sections['273158']"
   ]
  },
  {
   "cell_type": "code",
   "execution_count": null,
   "id": "f23839fe-87fa-498a-8d7c-2200c46d31d1",
   "metadata": {},
   "outputs": [],
   "source": [
    "# Small file for testing\n",
    "f = uproot.open('4E3A26DE-E53B-A844-8048-36376617AE8D.root')\n",
    "\n",
    "# Larger file\n",
    "#f = uproot.open('3B20EB8F-4FD1-D041-9513-1A82351756E1.root')\n",
    "\n",
    "t = f['Events']"
   ]
  },
  {
   "cell_type": "markdown",
   "id": "724666ab-36c9-4d25-af68-2208c0a19bb9",
   "metadata": {},
   "source": [
    "# Slow test\n",
    "\n",
    "Here is a way to build a mask using a very explicit, but slow approach with standard python loops. "
   ]
  },
  {
   "cell_type": "code",
   "execution_count": null,
   "id": "64bf34ad-2824-4854-b70c-ef35fb9e056b",
   "metadata": {},
   "outputs": [],
   "source": [
    "# Pull out the number of entries\n",
    "nevents = t.num_entries\n",
    "print(f\"nevents: {nevents}\\n\")\n",
    "\n",
    "# Get the run and luminosity block info from the TTree\n",
    "run = t['run'].array()\n",
    "lumiBlock = t['luminosityBlock'].array()\n",
    "\n",
    "print(run[0:10])\n",
    "print(lumiBlock[0:10])\n",
    "print()\n",
    "print(len(run), len(lumiBlock))"
   ]
  },
  {
   "cell_type": "code",
   "execution_count": null,
   "id": "d1a409e8-3f03-4625-baaf-e21e3f94d6f8",
   "metadata": {},
   "outputs": [],
   "source": [
    "# Loop over the entries in the TTree and see if they are \n",
    "# in the luminosity file\n",
    "\n",
    "# Time it\n",
    "start = time.time()\n",
    "\n",
    "# This is our mask we will create\n",
    "mask_slow_test = np.zeros(nevents, dtype=int)\n",
    "\n",
    "for idx,(r,lb) in enumerate(zip(run,lumiBlock)):\n",
    "\n",
    "    if idx%10000==0:\n",
    "        print(f\"{idx} out of {nevents}\")\n",
    "\n",
    "    #print(r,lb,idx)\n",
    "    \n",
    "    # r is an integer but appears as a string in the Awkward array \n",
    "    # of good luminosity sections\n",
    "    good_blocks = good_luminosity_sections[str(r)]\n",
    "    #print(good_blocks)\n",
    "\n",
    "    # For debugging\n",
    "    if idx<0:\n",
    "        print(r,lb,idx,good_blocks)\n",
    "\n",
    "    for good_block in good_blocks:\n",
    "        if lb>=good_block[0] and lb<=good_block[1]:\n",
    "            mask_slow_test[idx] = 1\n",
    "\n",
    "print(f\"Time to run: {time.time() - start:.4f} seconds\")\n",
    "\n",
    "mask_slow_test = mask_slow_test.astype(bool)\n",
    "mask_slow_test"
   ]
  },
  {
   "cell_type": "code",
   "execution_count": null,
   "id": "74029d95-4231-4339-b35d-64cd4f8af4fc",
   "metadata": {},
   "outputs": [],
   "source": [
    "# Here's how I would use the mask on an array\n",
    "t['Muon_charge'].array()[mask_slow_test]"
   ]
  },
  {
   "cell_type": "markdown",
   "id": "bf308465-d3e8-4931-bc9e-66fd405c3fe8",
   "metadata": {},
   "source": [
    "# Faster\n",
    "\n",
    "Here we've built a function to handle the masking using cool tricks in `awkward`."
   ]
  },
  {
   "cell_type": "code",
   "execution_count": null,
   "id": "1445ce7f-4305-4a1d-811a-f96cd37d90aa",
   "metadata": {},
   "outputs": [],
   "source": [
    "def build_lumi_mask(lumifile, tree, verbose=False):\n",
    "    # lumifile should be the name/path of the file\n",
    "    good_luminosity_sections = ak.from_json(open(lumifile, 'rb'))\n",
    "\n",
    "    # Pull out the good runs as integers\n",
    "    good_runs = np.array(good_luminosity_sections.fields).astype(int)\n",
    "    #good_runs\n",
    "\n",
    "    # Get the good blocks as an awkward array\n",
    "    # First loop over to get them as a list\n",
    "    all_good_blocks = []\n",
    "    for field in good_luminosity_sections.fields:\n",
    "        all_good_blocks.append(good_luminosity_sections[field])\n",
    "\n",
    "    # Turn the list into an awkward array\n",
    "    all_good_blocks = ak.Array(all_good_blocks)\n",
    "    all_good_blocks[11]\n",
    "\n",
    "    # Assume that tree is a NanoAOD Events tree\n",
    "    nevents = tree.num_entries\n",
    "    if verbose:\n",
    "        print(f\"nevents: {nevents}\")\n",
    "        print()\n",
    "        print(\"All good runs\")\n",
    "        print(good_runs)\n",
    "        print()\n",
    "        print(\"All good blocks\")\n",
    "        print(all_good_blocks)\n",
    "        print()\n",
    "\n",
    "    # Get the runs and luminosity blocks from the tree\n",
    "    run = t['run'].array()\n",
    "    lumiBlock = t['luminosityBlock'].array()\n",
    "\n",
    "    if verbose:\n",
    "        print(\"Runs from the tree\")\n",
    "        print(run)\n",
    "        print()\n",
    "        print(\"Luminosity blocks from the tree\")\n",
    "        print(lumiBlock)\n",
    "        print()\n",
    "\n",
    "    # ChatGPT helped me with this part!\n",
    "    # Find index of values in arr2 if those values appear in arr1\n",
    "\n",
    "    def find_indices(arr1, arr2):\n",
    "        index_map = {value: index for index, value in enumerate(arr1)}\n",
    "        return [index_map.get(value, -1) for value in arr2]\n",
    "\n",
    "    # Get the indices that say where the good runs are in the lumi file\n",
    "    # for the runs that appear in the tree\n",
    "    good_runs_indices = find_indices(good_runs, run)\n",
    "\n",
    "    # For each event, calculate the difference between the luminosity block for that event\n",
    "    # and the good luminosity blocks for that run for that event\n",
    "    diff = lumiBlock - all_good_blocks[good_runs_indices]\n",
    "\n",
    "    if verbose:\n",
    "        print(\"difference between event lumi blocks and the good lumi blocks\")\n",
    "        print(diff)\n",
    "        print()\n",
    "\n",
    "    # If the lumi block appears between any of those good block numbers, \n",
    "    # then one difference will be positive and the other will be negative\n",
    "    # \n",
    "    # If it it outside of the range, both differences will be positive or \n",
    "    # both negative.\n",
    "    #\n",
    "    # The product will be negagive if the lumi block is in the range\n",
    "    # and positive if it is not in the range\n",
    "    prod_diff = ak.prod(diff, axis=2)\n",
    "\n",
    "    if verbose:\n",
    "        print(\"product of the differences\")\n",
    "        print(prod_diff)\n",
    "        print()\n",
    "\n",
    "    mask = ak.any(prod_diff<=0, axis=1)\n",
    "\n",
    "    return mask"
   ]
  },
  {
   "cell_type": "code",
   "execution_count": null,
   "id": "77a87367-11d2-4909-81d7-0328b168d202",
   "metadata": {},
   "outputs": [],
   "source": [
    "# Use the function to build the mask\n",
    "\n",
    "start = time.time()\n",
    "\n",
    "mask_fast_test = build_lumi_mask('Cert_271036-284044_13TeV_Legacy2016_Collisions16_JSON.txt', t)#, verbose=True)\n",
    "\n",
    "print(f\"Time to run: {time.time() - start:.4f} seconds\")"
   ]
  },
  {
   "cell_type": "code",
   "execution_count": null,
   "id": "45967fd1-9785-463c-819b-671f8400079d",
   "metadata": {},
   "outputs": [],
   "source": [
    "# Check the fast mask against the slower, naive way of doing things\n",
    "\n",
    "num = ak.num(t['Electron_eta'].array(), axis=0)\n",
    "print(f\"no mask:   {num}\")\n",
    "\n",
    "num = ak.num(t['Electron_eta'].array()[mask_slow_test], axis=0)\n",
    "print(f\"slow mask: {num}\")\n",
    "\n",
    "num = ak.num(t['Electron_eta'].array()[mask_fast_test], axis=0)\n",
    "print(f\"fast mask: {num}\")"
   ]
  },
  {
   "cell_type": "code",
   "execution_count": null,
   "id": "8d058ba5-f856-4be7-aa73-004cf10ed003",
   "metadata": {},
   "outputs": [],
   "source": [
    "# That mask can be used on individual awkward arrays\n",
    "\n",
    "# AFAIK, you can't just apply the mask to the TTree object, but\n",
    "# you an load the TTree into memory as an awkward array and then \n",
    "# mask the entire thing. \n",
    "\n",
    "# It can take a while just to load it into memory! \n",
    "# Maybe 2 min for a 1 million events\n",
    "\n",
    "# Load the TTree into memory as an awkward array\n",
    "\n",
    "start = time.time()\n",
    "\n",
    "tree_array = t.arrays()\n",
    "tree_array\n",
    "\n",
    "print(f\"Time to run: {time.time() - start:.4f} seconds\")"
   ]
  },
  {
   "cell_type": "code",
   "execution_count": null,
   "id": "f41c5246-3d9e-4bce-b099-4a791a2de7ae",
   "metadata": {},
   "outputs": [],
   "source": [
    "# Then you can just mask the tree\n",
    "tree_array[mask_fast_test]['Jet_area']"
   ]
  },
  {
   "cell_type": "code",
   "execution_count": null,
   "id": "c732114f-cb9c-4550-b529-027db210cb16",
   "metadata": {},
   "outputs": [],
   "source": [
    "masked_tree_array = tree_array[mask_fast_test]\n",
    "\n",
    "masked_tree_array"
   ]
  },
  {
   "cell_type": "markdown",
   "id": "3f774be6-4d0a-4b16-bd2a-39703ca83a14",
   "metadata": {},
   "source": [
    "# Explanation of the fast code\n",
    "\n",
    "Here's how the masking function works. There might be better ways to do this, but this is how I approached it. "
   ]
  },
  {
   "cell_type": "code",
   "execution_count": null,
   "id": "bc9ecdcc-f83b-4291-b5db-497ecfc90fe2",
   "metadata": {},
   "outputs": [],
   "source": [
    "# Here's what we read in from the json file of the good runs and lumi blocks.\n",
    "good_luminosity_sections"
   ]
  },
  {
   "cell_type": "code",
   "execution_count": null,
   "id": "d77d80a2-aedf-41e1-886e-2677e1127321",
   "metadata": {},
   "outputs": [],
   "source": [
    "# Get the good runs from the lumi file\n",
    "\n",
    "good_runs = np.array(good_luminosity_sections.fields).astype(int)\n",
    "good_runs"
   ]
  },
  {
   "cell_type": "code",
   "execution_count": null,
   "id": "4cc321ba-4102-406a-b02f-cea78d70d740",
   "metadata": {},
   "outputs": [],
   "source": [
    "# We'll pull out all the good lumi blocks and put them\n",
    "# into an awkward array. \n",
    "# This will be easier to work with and doesn't take much time. \n",
    "\n",
    "all_good_blocks = []\n",
    "for field in good_luminosity_sections.fields:\n",
    "    all_good_blocks.append(good_luminosity_sections[field])\n",
    "\n",
    "all_good_blocks = ak.Array(all_good_blocks)\n",
    "\n",
    "# For example\n",
    "all_good_blocks[11]"
   ]
  },
  {
   "cell_type": "code",
   "execution_count": null,
   "id": "ffaa771e-8cea-47d1-b032-9f57ba0aa32d",
   "metadata": {},
   "outputs": [],
   "source": [
    "# A helper function!\n",
    "\n",
    "# ChatGPT helped me with this!\n",
    "\n",
    "# Find index of values in arr2 if those values appear in arr1\n",
    "\n",
    "def find_indices(arr1, arr2):\n",
    "    index_map = {value: index for index, value in enumerate(arr1)}\n",
    "    return [index_map.get(value, -1) for value in arr2]\n",
    "\n"
   ]
  },
  {
   "cell_type": "code",
   "execution_count": null,
   "id": "c84d8bbe-9d7a-4e2f-83a7-99a29d82baa5",
   "metadata": {},
   "outputs": [],
   "source": [
    "# Pass in the good runs from the json file and the \n",
    "# runs from the TTree\n",
    "result = find_indices(good_runs, run)\n",
    "\n",
    "# Result is the indices of where to find the runs in the list of good lumi runs/blocks. \n",
    "# We can pass in all the indices to get the good blocks. \n",
    "\n",
    "print(result)\n",
    "print()\n",
    "print(len(run))\n",
    "print(len(result))\n",
    "print()\n",
    "\n",
    "print(result[10])\n",
    "print(run[10])\n",
    "\n",
    "print(good_runs[272])\n",
    "#lumi_runs"
   ]
  },
  {
   "cell_type": "code",
   "execution_count": null,
   "id": "c7168290-c891-4b2c-8156-3d90f596d360",
   "metadata": {},
   "outputs": [],
   "source": [
    "# Pass in all the indices to get the good info from the lumi block\n",
    "# for each run in the TTree (NanoAOD file)\n",
    "good_runs[result]"
   ]
  },
  {
   "cell_type": "code",
   "execution_count": null,
   "id": "5a0dc312-6c3b-4771-8005-83962aa57796",
   "metadata": {},
   "outputs": [],
   "source": [
    "# We can pass in the result indices to get the list of good lumi blocks\n",
    "# for each event in the TTree (NanoAOD file)\n",
    "all_good_blocks[result]\n",
    "\n"
   ]
  },
  {
   "cell_type": "code",
   "execution_count": null,
   "id": "248c746e-92d5-4ecf-81a4-d3adea3f798f",
   "metadata": {},
   "outputs": [],
   "source": [
    "# If I take the difference between each event's lumiBlock\n",
    "# and the list of good blocks for that run, I will get a positive\n",
    "# and negative number if the block is within the range. \n",
    "\n",
    "diff = lumiBlock - all_good_blocks[result]\n",
    "\n",
    "diff[0:5]"
   ]
  },
  {
   "cell_type": "code",
   "execution_count": null,
   "id": "1f9880e8-66f7-4161-93a5-a9eb79cc5ed2",
   "metadata": {},
   "outputs": [],
   "source": [
    "# If I take the produce of those numbers I will get a negative\n",
    "# number if they are different signs\n",
    "\n",
    "prod_diff = ak.prod(diff, axis=2)\n",
    "\n",
    "prod_diff[0:5]"
   ]
  },
  {
   "cell_type": "code",
   "execution_count": null,
   "id": "c51cd68d-d24f-4a35-a882-e3de04e133ea",
   "metadata": {},
   "outputs": [],
   "source": [
    "prod_diff<0"
   ]
  },
  {
   "cell_type": "code",
   "execution_count": null,
   "id": "a0909983-1999-4126-a1a0-ab59a7fb9b55",
   "metadata": {},
   "outputs": [],
   "source": [
    "# I can use ak.any to see which events have a product that is less than 0,\n",
    "# which means it is a good run/lumiBlock!\n",
    "\n",
    "mask2 = ak.any(prod_diff<=0, axis=1)\n",
    "\n",
    "mask2"
   ]
  },
  {
   "cell_type": "code",
   "execution_count": null,
   "id": "1883f915-1d41-42f6-b8b9-8a216ff5ccfc",
   "metadata": {},
   "outputs": [],
   "source": [
    "ak.num(t['Electron_eta'].array(), axis=0)"
   ]
  },
  {
   "cell_type": "code",
   "execution_count": null,
   "id": "89493c3f-f13d-48ce-97d7-249255f2bad0",
   "metadata": {},
   "outputs": [],
   "source": [
    "ak.num(t['Electron_eta'].array()[mask2], axis=0)"
   ]
  },
  {
   "cell_type": "code",
   "execution_count": null,
   "id": "8a101380-1fec-4b2d-9d1c-8f6d77e12020",
   "metadata": {},
   "outputs": [],
   "source": [
    "t['Electron_eta'].array()[mask2]"
   ]
  },
  {
   "cell_type": "markdown",
   "id": "13e8abcb-e28f-41df-a2f6-142c9c97c804",
   "metadata": {},
   "source": [
    "# Tests\n",
    "\n",
    "This is where I prototyped stuff. "
   ]
  },
  {
   "cell_type": "code",
   "execution_count": null,
   "id": "474c4acb-d6cb-4c58-abe7-4dbba7bfa86e",
   "metadata": {},
   "outputs": [],
   "source": [
    "mock_lumi_info = {}\n",
    "mock_lumi_info[10] = [[1,100]]\n",
    "mock_lumi_info[20] = [[2,50], [500,942]]\n",
    "mock_lumi_info[30] = []\n",
    "mock_lumi_info[40] = [[200,500], [520,594], [720,890]]\n",
    "\n",
    "mock_lumi_info"
   ]
  },
  {
   "cell_type": "code",
   "execution_count": null,
   "id": "d6bd6ee7-2a31-4df3-91ca-6ccc4232e844",
   "metadata": {},
   "outputs": [],
   "source": [
    "run = 40\n",
    "#lp = 550 # lumi period\n",
    "lp = 800\n",
    "\n",
    "blocks = mock_lumi_info[run]\n",
    "blocks = np.array(blocks)\n",
    "\n",
    "print(blocks)\n",
    "print()\n",
    "\n",
    "dl0 = lp - blocks.T[0]\n",
    "dl1 = blocks.T[1] - lp\n",
    "\n",
    "print(dl0)\n",
    "print(dl1)\n",
    "print()\n",
    "\n",
    "prod = dl0*dl1\n",
    "test = (dl1>0) & (dl0>0)\n",
    "\n",
    "print(dl0>0)\n",
    "\n",
    "print(prod)\n",
    "print(test)"
   ]
  },
  {
   "cell_type": "code",
   "execution_count": null,
   "id": "d49bdc0d-77d6-42d4-a9da-4dc9fc86153c",
   "metadata": {},
   "outputs": [],
   "source": [
    "runs = np.array([10, 10, 10, 30, 40, 40])\n",
    "\n",
    "print(runs)"
   ]
  },
  {
   "cell_type": "code",
   "execution_count": null,
   "id": "a1ced199-3fae-4012-b6a4-75c8f6e1fed0",
   "metadata": {},
   "outputs": [],
   "source": [
    "#keys = np.array(mock_lumi_info.keys())\n",
    "keys = mock_lumi_info.keys()\n",
    "\n",
    "print(keys)\n",
    "print(type(keys))\n",
    "\n",
    "\n",
    "#blocks = keys.tolist().index(runs)\n",
    "#print(blocks)"
   ]
  },
  {
   "cell_type": "code",
   "execution_count": null,
   "id": "e9d68772-dc71-4ccd-9048-d8978fb9f166",
   "metadata": {},
   "outputs": [],
   "source": [
    "x = np.array(list(keys))\n",
    "\n",
    "print(x)\n",
    "print(type(x))\n",
    "\n",
    "idx = np.where(x==40)\n",
    "\n",
    "print(idx)"
   ]
  },
  {
   "cell_type": "code",
   "execution_count": null,
   "id": "674fec44-55d2-439e-8ccf-a89711c0f35b",
   "metadata": {},
   "outputs": [],
   "source": [
    "x = ak.Array(keys)\n",
    "\n",
    "ak.where(x==30)"
   ]
  },
  {
   "cell_type": "code",
   "execution_count": null,
   "id": "f105efc2-f5af-4080-b8a7-30c813ca7897",
   "metadata": {},
   "outputs": [],
   "source": [
    "#ak.local_index(x, runs)"
   ]
  },
  {
   "cell_type": "code",
   "execution_count": null,
   "id": "271e9058-5005-4fd2-a562-62a34c505064",
   "metadata": {},
   "outputs": [],
   "source": [
    "? list.index"
   ]
  },
  {
   "cell_type": "code",
   "execution_count": null,
   "id": "4cf32375-be8d-4572-b9ad-7116418fca1e",
   "metadata": {},
   "outputs": [],
   "source": [
    "? ak.index"
   ]
  },
  {
   "cell_type": "code",
   "execution_count": null,
   "id": "e461eb08-3e88-4b8b-abf8-509e6fce3715",
   "metadata": {},
   "outputs": [],
   "source": [
    "akindex = ak.index"
   ]
  },
  {
   "cell_type": "code",
   "execution_count": null,
   "id": "cb73532f-b6f7-440c-a68e-5ccd190fa49d",
   "metadata": {},
   "outputs": [],
   "source": [
    "akindex.Index"
   ]
  },
  {
   "cell_type": "code",
   "execution_count": null,
   "id": "a6dacba3-a342-42d5-8d89-f9ce5fd4eab5",
   "metadata": {},
   "outputs": [],
   "source": [
    "# From ChatGPT\n",
    "\n",
    "def find_indices(arr1, arr2):\n",
    "    index_map = {value: index for index, value in enumerate(arr1)}\n",
    "    return [index_map.get(value, -1) for value in arr2]\n",
    "\n"
   ]
  },
  {
   "cell_type": "code",
   "execution_count": null,
   "id": "09213433-1878-4c22-8ffd-493f37b057dd",
   "metadata": {},
   "outputs": [],
   "source": [
    "arr1 = np.array([10, 40, 50, 60])\n",
    "arr2 = np.array([40, 40, 40, 60, 50])\n",
    "\n",
    "result = find_indices(arr1, arr2)\n",
    "print(result)"
   ]
  },
  {
   "cell_type": "code",
   "execution_count": null,
   "id": "620a3194-b98b-4bc6-8497-57710cb0e1b0",
   "metadata": {},
   "outputs": [],
   "source": []
  }
 ],
 "metadata": {
  "kernelspec": {
   "display_name": "Python 3 (ipykernel)",
   "language": "python",
   "name": "python3"
  },
  "language_info": {
   "codemirror_mode": {
    "name": "ipython",
    "version": 3
   },
   "file_extension": ".py",
   "mimetype": "text/x-python",
   "name": "python",
   "nbconvert_exporter": "python",
   "pygments_lexer": "ipython3",
   "version": "3.11.7"
  }
 },
 "nbformat": 4,
 "nbformat_minor": 5
}
