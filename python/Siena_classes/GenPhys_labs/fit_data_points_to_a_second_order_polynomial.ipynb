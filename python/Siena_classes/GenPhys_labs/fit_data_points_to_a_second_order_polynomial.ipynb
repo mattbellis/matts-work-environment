{
 "cells": [
  {
   "cell_type": "markdown",
   "metadata": {},
   "source": [
    "# Fit a set of data to a second-order polynomial"
   ]
  },
  {
   "cell_type": "code",
   "execution_count": 1,
   "metadata": {},
   "outputs": [
    {
     "name": "stdout",
     "output_type": "stream",
     "text": [
      "fit results: \n",
      "a = 7.281754 +/- 0.729598\n",
      "b = -0.920938 +/- 0.822375\n",
      "c = 0.014059 +/- 0.151658\n"
     ]
    },
    {
     "data": {
      "text/plain": [
       "<matplotlib.legend.Legend at 0x7f86c7284828>"
      ]
     },
     "execution_count": 1,
     "metadata": {},
     "output_type": "execute_result"
    },
    {
     "data": {
      "image/png": "[encoded data removed]",
      "text/plain": [
       "<matplotlib.figure.Figure at 0x7f86f005bfd0>"
      ]
     },
     "metadata": {},
     "output_type": "display_data"
    }
   ],
   "source": [
    "###############################################################\n",
    "# This part loads some Python libraries that make plotting and\n",
    "# analyzing your data much easier\n",
    "###############################################################\n",
    "import numpy as np\n",
    "import matplotlib.pylab as plt\n",
    "from scipy.optimize import curve_fit\n",
    "\n",
    "%matplotlib inline\n",
    "\n",
    "# A quadratic function. We will use this function in our fit to the data.\n",
    "# y = ax^2 + bx + c\n",
    "def quadfunc(x,a,b,c):\n",
    "    return a*(x**2) + b*x + c\n",
    "\n",
    "# First create some arrays to hold your data points. \n",
    "# Data points\n",
    "x1 = np.array([0, 0.5, 0.9, 1.4])\n",
    "y1 = np.array([0, 1.5, 4.8, 13.2])\n",
    "y1err = np.array([0.5, 0.8, 1.2, 1.9])\n",
    "\n",
    "# MAKE SURE THERE ARE THE SAME NUMBER OF POINTS IN YOUR X AND Y ARRAY!\n",
    "# This is a common mistake\n",
    "if len(x1)!=len(y1) or len(y1err)!=len(y1):\n",
    "    print(\"These should all be equal! %d %d\" % (len(x1),len(y1)))\n",
    "    \n",
    "# Plot just these two sets of data points\n",
    "plt.figure()\n",
    "plt.errorbar(x1,y1,yerr=y1err,fmt=\"o\",label=\"First set of points\")\n",
    "\n",
    "# Now fit the data! Store the output in two variables:\n",
    "# fitresults and fituncertainties\n",
    "fitresults,fituncertainties = curve_fit(quadfunc,x1,y1,sigma=y1err)\n",
    "\n",
    "print(\"fit results: \")\n",
    "print(\"a = %f +/- %f\" % (fitresults[0],np.sqrt(fituncertainties[0][0])))\n",
    "print(\"b = %f +/- %f\" % (fitresults[1],np.sqrt(fituncertainties[1][1])))\n",
    "print(\"c = %f +/- %f\" % (fitresults[2],np.sqrt(fituncertainties[2][2])))\n",
    "\n",
    "# Plot the results of the fit\n",
    "# We need some x-values for the fit.\n",
    "xfitpts = np.linspace(0,2) # This should span the range of x1\n",
    "\n",
    "# Then we use a helper function, poly1d, which takes the coefficients\n",
    "# of the quadratic function and calculate the y-values\n",
    "fitpolynomial = plt.poly1d(fitresults)\n",
    "yfitpts = fitpolynomial(xfitpts)\n",
    "\n",
    "plt.plot(xfitpts,yfitpts,\"r-\",label=\"Fit results\")\n",
    "\n",
    "# Set the limits (ranges) on the x- and y-axes.\n",
    "plt.xlim(-0.5,2.0)\n",
    "plt.ylim(-1,18)\n",
    "\n",
    "# Put some labels on the axes. Always a good thing! :)\n",
    "plt.xlabel(\"x values\",fontsize=18)\n",
    "plt.ylabel(\"y values\",fontsize=18)\n",
    "\n",
    "# Add a legend. Note that this uses the \"label\" entry that you put \n",
    "# in your plots above.\n",
    "plt.legend(loc=\"upper left\")\n",
    "\n",
    "# Uncomment the following to save the file as a .png format. \n",
    "# Feel free to change the name from \"myfigure.png\"\n",
    "#plt.savefig(\"myfigure.png\")\n",
    "\n",
    "#------ HIT SHIFT-ENTER AFTER YOU TYPE THE ABOVE CODE -------#"
   ]
  },
  {
   "cell_type": "code",
   "execution_count": null,
   "metadata": {
    "collapsed": true
   },
   "outputs": [],
   "source": []
  }
 ],
 "metadata": {
  "kernelspec": {
   "display_name": "Python 3",
   "language": "python",
   "name": "python3"
  },
  "language_info": {
   "codemirror_mode": {
    "name": "ipython",
    "version": 3
   },
   "file_extension": ".py",
   "mimetype": "text/x-python",
   "name": "python",
   "nbconvert_exporter": "python",
   "pygments_lexer": "ipython3",
   "version": "3.6.2"
  }
 },
 "nbformat": 4,
 "nbformat_minor": 1
}
