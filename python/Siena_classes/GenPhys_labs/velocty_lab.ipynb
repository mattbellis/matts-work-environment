{
 "cells": [
  {
   "cell_type": "markdown",
   "metadata": {},
   "source": [
    "# Python analysis for velocity lab"
   ]
  },
  {
   "cell_type": "markdown",
   "metadata": {},
   "source": [
    "Please add the names of the people in your lab group. "
   ]
  },
  {
   "cell_type": "markdown",
   "metadata": {},
   "source": [
    "YOUR NAMES\n",
    "\n",
    "YOUR NAMES\n",
    "\n",
    "YOUR NAMES"
   ]
  },
  {
   "cell_type": "markdown",
   "metadata": {},
   "source": [
    "### Goals\n",
    "\n",
    "The goal of this part of your lab is to (1) create a graph, and (2) to learn some of the basics of how to use a ipython notebook.  (ipython is an interactive version of python.)  You should follow the instructions in this ipython notebook to create a graph and best-fit line of your data, but please read the notebook carefully and take time to test and play.  This is not a race!  Once you have finished the python analysis, return to your lab handout and answer the remaining questions in your analysis."
   ]
  },
  {
   "cell_type": "markdown",
   "metadata": {},
   "source": [
    "### Data: Position and Time Measurements"
   ]
  },
  {
   "cell_type": "code",
   "execution_count": null,
   "metadata": {
    "collapsed": false
   },
   "outputs": [],
   "source": [
    "'''\n",
    "Enter your position and time measurements here for one of the runs.\n",
    "\n",
    "The lists below contain dummy data.  \n",
    "\n",
    "Replace these with your measured values.  \n",
    "\n",
    "Note that anything following a # is considered \n",
    "a comment and is ignored by python.\n",
    "'''\n",
    "\n",
    "t1 = [3,6,9,12,15]   # time values – trial 1   \n",
    "x1 = [2,3.9,5.9,8.1,9.9]  # position values – trial 1  \n",
    "t2 = [3,6,9,12,15]  # time values – trial 2\n",
    "x2 = [1.9,3.9,6.1,7.9,10]  # position values – trial 2"
   ]
  },
  {
   "cell_type": "markdown",
   "metadata": {},
   "source": [
    "### Plot Position vs. Time"
   ]
  },
  {
   "cell_type": "markdown",
   "metadata": {},
   "source": [
    "To create a plot in ipython, we must first import a module that contains most of the plotting functions that we use this year.  The plotting module is called pyplot, and the functions are based on MATLAB.  Type shift-enter in the cell below to import pyplot."
   ]
  },
  {
   "cell_type": "code",
   "execution_count": null,
   "metadata": {
    "collapsed": false
   },
   "outputs": [],
   "source": [
    "import matplotlib.pylab as plt\n",
    "%matplotlib inline"
   ]
  },
  {
   "cell_type": "markdown",
   "metadata": {},
   "source": [
    "** Some background on python: ** \n",
    "\n",
    "To call any of the functions in the pyplot module, we must refer to them as plt.XXX.  For example, plt.plot is the plotting function.  \n",
    "\n",
    "If I had typed \n",
    "\n",
    "    from matplotlib import pyplot\n",
    "\n",
    "instead of \n",
    "\n",
    "    from matplotlib import pyplot as plt\n",
    "\n",
    "then I would refer to all of the functions as pyplot.plot, or pyplot.scatter.  Because we will use the pyplot module extensively, it is nice to assign the module a shorter name, hence the 'plt'.\n",
    "\n",
    "If you want to see a quick list of the functions in pyplot, type \n",
    "help(plt) in the cell below.  Then type shift-Enter to run the cell.\n",
    "\n",
    "Or, to get help on a particular function, type \n",
    "    help(plt.plot) \n",
    "as an example.\n",
    "\n",
    "A nice thing about using an ipython notebook is that you can change your line of code and then type shift-enter again to run the new code."
   ]
  },
  {
   "cell_type": "markdown",
   "metadata": {},
   "source": [
    "Now let's make a graph.  You entered your data as a list, but we will be better off if we convert the list into an array.  We use use another python module for this - ** numpy ** - and we will import it as np.  Numpy is a package used extensively for scientific computing, so the sooner we make friends with it, the better.   Type shift-enter in the cell below to execute your code.  "
   ]
  },
  {
   "cell_type": "code",
   "execution_count": null,
   "metadata": {
    "collapsed": false
   },
   "outputs": [],
   "source": [
    "import numpy as np # import the module numpy (numerical python)\n",
    "# convert position and time lists into arrays\n",
    "x1=np.array(x1,'f')\n",
    "t1=np.array(t1,'f')"
   ]
  },
  {
   "cell_type": "markdown",
   "metadata": {},
   "source": [
    "Read carefully through the cell below.  The comments explain what the pyplot functions do.  Read through a few times, and then type shift-enter in the cell below to create your plot."
   ]
  },
  {
   "cell_type": "code",
   "execution_count": null,
   "metadata": {
    "collapsed": false
   },
   "outputs": [],
   "source": [
    "# create a plot of Position vs Time\n",
    "plt.figure() # open a figure window\n",
    "plt.plot(t1,x1,'bo') # plot x1 versus t1 using blue circles\n",
    "plt.xlabel('Time (sec)',fontsize=14) # label the x axis as Time(sec)\n",
    "plt.ylabel('Position (cm)',fontsize=14) # label the y axis as Position (cm)\n",
    "plt.title ('Position vs time',fontsize=14) # give the plot a title\n",
    "fig=plt.gcf() # store reference to this figure so we can add on to it in another cell\n",
    "ax=plt.gca() # same as above - this will let us plot best-fit line in another cell"
   ]
  },
  {
   "cell_type": "code",
   "execution_count": null,
   "metadata": {
    "collapsed": false
   },
   "outputs": [],
   "source": [
    "# enter your code here!\n"
   ]
  },
  {
   "cell_type": "markdown",
   "metadata": {},
   "source": [
    "When you are finished, save your notebook.  Save the file with a new name.\n",
    "\n",
    "    velocity_lab_YOURNAMEHERE \n",
    "\n",
    "Save it to your username, Desktop, or personal flash drive. You will then upload this to the Classroom website for this assignment/lab.  "
   ]
  },
  {
   "cell_type": "markdown",
   "metadata": {},
   "source": [
    "Answer the other questions from the lab here. \n",
    "\n",
    "* 1\n",
    "\n",
    "* 2\n",
    "\n",
    "* 3"
   ]
  }
 ],
 "metadata": {
  "kernelspec": {
   "display_name": "Python 2",
   "language": "python",
   "name": "python2"
  },
  "language_info": {
   "codemirror_mode": {
    "name": "ipython",
    "version": 2
   },
   "file_extension": ".py",
   "mimetype": "text/x-python",
   "name": "python",
   "nbconvert_exporter": "python",
   "pygments_lexer": "ipython2",
   "version": "2.7.10"
  }
 },
 "nbformat": 4,
 "nbformat_minor": 0
}
