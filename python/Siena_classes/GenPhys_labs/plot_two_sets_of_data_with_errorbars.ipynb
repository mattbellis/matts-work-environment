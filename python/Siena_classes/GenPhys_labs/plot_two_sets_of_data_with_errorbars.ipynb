{
 "cells": [
  {
   "cell_type": "markdown",
   "metadata": {},
   "source": [
    "# Plot two sets of data with error bars on the same figure. "
   ]
  },
  {
   "cell_type": "code",
   "execution_count": 1,
   "metadata": {
    "collapsed": false
   },
   "outputs": [
    {
     "data": {
      "text/plain": [
       "<matplotlib.legend.Legend at 0x7fa9bc9b7210>"
      ]
     },
     "execution_count": 1,
     "metadata": {},
     "output_type": "execute_result"
    },
    {
     "data": {
      "image/png": "[encoded data removed]",
      "text/plain": [
       "<matplotlib.figure.Figure at 0x7fa9e43a4650>"
      ]
     },
     "metadata": {},
     "output_type": "display_data"
    }
   ],
   "source": [
    "###############################################################\n",
    "# This part loads some Python libraries that make plotting and\n",
    "# analyzing your data much easier\n",
    "###############################################################\n",
    "\n",
    "import numpy as np\n",
    "import matplotlib.pylab as plt\n",
    "\n",
    "%matplotlib inline\n",
    "\n",
    "# First create some arrays to hold your data points. \n",
    "\n",
    "# First set of data points\n",
    "x1 = np.array([0, 0.5, 0.9, 1.4])\n",
    "y1 = np.array([0, 1.5, 4.8, 13.2])\n",
    "y1err = np.array([0.5, 0.8, 1.2, 1.9])\n",
    "\n",
    "# Second set of data points\n",
    "x2 = np.array([0.2, 1.0, 2.1])\n",
    "y2 = np.array([0.3, 2.5, 5.1])\n",
    "y2err = np.array([0.5, 1.2, 2.4])\n",
    "\n",
    "# MAKE SURE THERE ARE THE SAME NUMBER OF POINTS IN YOUR X AND Y ARRAY!\n",
    "# This is a common mistake\n",
    "if len(x1)!=len(y1) or len(y1err)!=len(y1) or len(x2)!=len(y2) or len(y2err)!=len(y2):\n",
    "    print \"These should all be equal! %d %d\" % (len(x1),len(y1))\n",
    "    print \"And so should these!        %d %d\" % (len(x2),len(y2))\n",
    "\n",
    "    \n",
    "# Plot just these two sets of data points\n",
    "plt.figure()\n",
    "plt.errorbar(x1,y1,yerr=y1err,fmt='o',label=\"First set of points\")\n",
    "plt.errorbar(x2,y2,yerr=y2err,fmt='o',label=\"Second set of points\")\n",
    "\n",
    "# Set the limits (ranges) on the x- and y-axes.\n",
    "plt.xlim(0,4)\n",
    "plt.ylim(0,18)\n",
    "\n",
    "# Put some labels on the axes. Always a good thing! :)\n",
    "plt.xlabel('x values',fontsize=18)\n",
    "plt.ylabel('y values',fontsize=18)\n",
    "\n",
    "# Add a legend. Note that this uses the \"label\" entry that you put \n",
    "# in your plots above.\n",
    "plt.legend(loc='upper left')\n",
    "\n",
    "# Uncomment the following to save the file as a .png format. \n",
    "# Feel free to change the name from \"myfigure.png\"\n",
    "#plt.savefig('myfigure.png')\n",
    "\n",
    "#------ HIT SHIFT-ENTER AFTER YOU TYPE THE ABOVE CODE -------#"
   ]
  }
 ],
 "metadata": {
  "kernelspec": {
   "display_name": "Python 2",
   "language": "python",
   "name": "python2"
  },
  "language_info": {
   "codemirror_mode": {
    "name": "ipython",
    "version": 2
   },
   "file_extension": ".py",
   "mimetype": "text/x-python",
   "name": "python",
   "nbconvert_exporter": "python",
   "pygments_lexer": "ipython2",
   "version": "2.7.11"
  }
 },
 "nbformat": 4,
 "nbformat_minor": 0
}
