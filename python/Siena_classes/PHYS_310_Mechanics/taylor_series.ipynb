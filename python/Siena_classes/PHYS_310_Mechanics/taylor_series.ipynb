{
 "metadata": {
  "name": "",
  "signature": "sha256:f4366f90fe36d43569b645bcb40c03a5bc4bf2295c0187ed0c95537c9a2144ac"
 },
 "nbformat": 3,
 "nbformat_minor": 0,
 "worksheets": [
  {
   "cells": [
    {
     "cell_type": "code",
     "collapsed": false,
     "input": [
      "import numpy as np\n",
      "import matplotlib.pylab as plt\n",
      "\n",
      "def taylor_exponential(nterms=1,frange=(0,1),exact_func=False):\n",
      "\n",
      "    plt.figure()\n",
      "\n",
      "    x = np.arange(frange[0],frange[1],0.1)\n",
      "    y = np.zeros(len(x))\n",
      "\n",
      "    for n in xrange(nterms):\n",
      "        yterm = x**n/np.math.factorial(n)\n",
      "        y += yterm\n",
      "        term = \"%d\" % (n)\n",
      "        plt.plot(x,yterm,'--',label=term)\n",
      "\n",
      "        plt.plot(x,yterm,'--')\n",
      "\n",
      "    plt.plot(x,y,'b',linewidth=5)\n",
      "\n",
      "    if exact_func==True:\n",
      "        yterm = np.exp(x)\n",
      "        plt.plot(x,yterm,'r--',linewidth=5)\n",
      "\n",
      "    plt.xlabel(\"x\",fontsize=24)\n",
      "    plt.ylabel(\"y\",fontsize=24)\n",
      "    plt.legend(loc='upper left')\n",
      "\n",
      "def taylor_sin(nterms=1,frange=(0,6.28),exact_func=False):\n",
      "\n",
      "    plt.figure()\n",
      "    \n",
      "    x = np.arange(frange[0],frange[1],0.01)\n",
      "    y = np.zeros(len(x))\n",
      "\n",
      "    for n in xrange(nterms):\n",
      "\n",
      "        #print np.math.factorial(2*n+1)\n",
      "        yterm = (((-1.)**n)/np.math.factorial((2*n)+1)) * (x**((2*n)+1))\n",
      "        y += yterm\n",
      "\n",
      "        term = \"%d\" % (n)\n",
      "        plt.plot(x,yterm,'--',label=term)\n",
      "\n",
      "    plt.plot(x,y,'b',linewidth=5)\n",
      "\n",
      "    if exact_func==True:\n",
      "        yterm = np.sin(x)\n",
      "        plt.plot(x,yterm,'r--',linewidth=5)\n",
      "\n",
      "    plt.xlabel(\"x\",fontsize=24)\n",
      "    plt.ylabel(\"y\",fontsize=24)\n",
      "    plt.ylim(-2,2)\n",
      "    plt.legend()\n"
     ],
     "language": "python",
     "metadata": {},
     "outputs": [],
     "prompt_number": 6
    },
    {
     "cell_type": "code",
     "collapsed": false,
     "input": [
      "taylor_exponential(30,frange=(0,10),exact_func=True)"
     ],
     "language": "python",
     "metadata": {},
     "outputs": [],
     "prompt_number": 7
    },
    {
     "cell_type": "code",
     "collapsed": false,
     "input": [
      "taylor_sin(30)"
     ],
     "language": "python",
     "metadata": {},
     "outputs": [],
     "prompt_number": 8
    },
    {
     "cell_type": "code",
     "collapsed": false,
     "input": [],
     "language": "python",
     "metadata": {},
     "outputs": []
    }
   ],
   "metadata": {}
  }
 ]
}