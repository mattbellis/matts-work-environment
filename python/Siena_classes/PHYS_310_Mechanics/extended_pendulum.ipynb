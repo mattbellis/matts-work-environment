{
 "metadata": {
  "name": "",
  "signature": "sha256:d0612057cf035a817f4196f0218c6a4ed893e494114dd35e1c8158c9c1a78e08"
 },
 "nbformat": 3,
 "nbformat_minor": 0,
 "worksheets": [
  {
   "cells": [
    {
     "cell_type": "markdown",
     "metadata": {},
     "source": [
      "\\begin{eqnarray}\n",
      "x_2 &=& -x_1 = -x\\\\\n",
      "y_2 &=& -y_1 = -y \\\\\n",
      "\\dot{x}_2 &=& -\\dot{x}_1 = -\\dot{x} \\\\\n",
      "\\dot{y}_2 &=& -\\dot{y}_1 = -\\dot{y} \\\\\n",
      "T &=& \\frac{1}{2}m_1\\dot{x_1}^2 + \\frac{1}{2}m_1\\dot{y_1}^2 + \\frac{1}{2}m_2\\dot{x_2}^2 + \\frac{1}{2}m_2\\dot{y_2}^2 \\\\\n",
      "p_x &=& \\frac{\\partial \\mathcal{L}}{\\partial\\dot{x}} \\\\\n",
      "    &=& m_1\\dot{x} - m_2\\dot{x}  \\\\\n",
      "p_y &=& \\frac{\\partial \\mathcal{L}}{\\partial\\dot{y}} \\\\\n",
      "    &=& m_1\\dot{y} - m_2\\dot{y}  \\\\\n",
      "H &=& \\frac{p_{x1}^2}{2m_1} + \\frac{p_{y1}^2}{2m_1} + \\frac{p_{x1}^2}{2m_2} + \\frac{p_{y1}^2}{2m_2} + gy_1(m_1 - m_2) \\\\\n",
      "\\frac{\\partial H}{\\partial x_1} = \\dot{p}_{x1} &=& 0 \\\\ \n",
      "\\frac{\\partial H}{\\partial y_1} = \\dot{p}_{y1} &=& -g(m_1 - m_2) \\\\ \n",
      "\\frac{\\partial H}{\\partial p_x} = \\dot{x} &=& \\frac{p_x}{m_1} + \\frac{p_x}{m_2} \\\\ \n",
      "\\frac{\\partial H}{\\partial p_y} = \\dot{y} &=& \\frac{p_y}{m_1} + \\frac{p_y}{m_2} \\\\ \n",
      "\\end{eqnarray}"
     ]
    },
    {
     "cell_type": "markdown",
     "metadata": {},
     "source": [
      "\\begin{eqnarray}\n",
      "    \\ddot{x} &=& \\frac{\\dot{p}_x}{m_1} + \\frac{\\dot{p}_x}{m_2} \\\\ \n",
      "               &=& 0 \\\\\n",
      "    \\ddot{y} &=& \\frac{\\dot{p}_y}{m_1} + \\frac{\\dot{p}_y}{m_2} \\\\ \n",
      "    \\ddot{y} &=& \\frac{-g(m_1-m_2)}{m_1} + \\frac{-g(m_1-m_2)}{m_2} \\\\ \n",
      "\\end{eqnarray}"
     ]
    },
    {
     "cell_type": "markdown",
     "metadata": {},
     "source": [
      "\\begin{eqnarray}\n",
      "    \\ddot{y} &=& \\frac{-g(m_1m_2-m_2^2)}{m_1m_2} + \\frac{-g(m_1^2-m_1m_2)}{m_1m_2} \\\\ \n",
      "&=& \\frac{g(m_2^2-m_1^2)}{m_1m_2}\\\\ \n",
      "\\end{eqnarray}"
     ]
    },
    {
     "cell_type": "heading",
     "level": 1,
     "metadata": {},
     "source": [
      "In terms of $\\theta$"
     ]
    },
    {
     "cell_type": "markdown",
     "metadata": {},
     "source": [
      "\\begin{eqnarray}\n",
      "    p_\\theta &=& m_1\\ell\\dot{\\theta} + m_2\\ell\\dot{\\theta} \\\\ \n",
      "\\end{eqnarray}"
     ]
    },
    {
     "cell_type": "code",
     "collapsed": false,
     "input": [],
     "language": "python",
     "metadata": {},
     "outputs": []
    }
   ],
   "metadata": {}
  }
 ]
}