{
 "metadata": {
  "name": "",
  "signature": "sha256:19528864cea385634e578c069c12bae2be70f9968c9faa59fe404964aa80a316"
 },
 "nbformat": 3,
 "nbformat_minor": 0,
 "worksheets": [
  {
   "cells": [
    {
     "cell_type": "code",
     "collapsed": false,
     "input": [
      "# Kyanite properties\n",
      "Gk = -2443.88e3 # J, at STP\n",
      "Vk = 44.09e-6\n",
      "\n",
      "# Sillaminate properties\n",
      "Gs = -2440.99e3 # J, at STP\n",
      "Vs = 49.9e-6\n",
      "\n",
      "P0 = 1e5 # Pa, Starting pressure.\n",
      "#P0 = 0\n",
      "\n",
      "Ge = None # Gibbs free energy at equillibrium\n",
      "Pe = None # Pressure at equillibrium\n"
     ],
     "language": "python",
     "metadata": {},
     "outputs": [],
     "prompt_number": 1
    },
    {
     "cell_type": "markdown",
     "metadata": {},
     "source": [
      "Rise over run. The volume is equal to the slope of the graph.\n",
      "\n",
      "$$\\frac{G_e - G_0}{P_e - P_0} = V$$\n",
      "\n",
      "$$G_e = VP_e - VP_0 + G_0$$\n",
      "\n",
      "The Gibbs free energy for the two phases is the same at equillibrium. \n",
      "\n",
      "$$V_kP_e - V_kP_0 + G_k = V_sP_e - V_sP_0 + G_s$$\n",
      "\n",
      "$$P_e(V_k - V_s) = V_kP_0 - G_k - V_sP_0 + G_s$$\n",
      "\n",
      "$$P_e= (V_kP_0 - G_k - V_sP_0 + G_s)/(V_k - V_s) $$"
     ]
    },
    {
     "cell_type": "code",
     "collapsed": false,
     "input": [
      "Pe = (Vk*P0 - Gk - Vs*P0 + Gs)/(Vk-Vs)"
     ],
     "language": "python",
     "metadata": {},
     "outputs": [],
     "prompt_number": 2
    },
    {
     "cell_type": "code",
     "collapsed": false,
     "input": [
      "print \"%6.4e Pa\" % (Pe)\n",
      "print \"%6.4f bar\" % (Pe/1e5)"
     ],
     "language": "python",
     "metadata": {},
     "outputs": [
      {
       "output_type": "stream",
       "stream": "stdout",
       "text": [
        "-4.9732e+08 Pa\n",
        "-4973.1824 bar\n"
       ]
      }
     ],
     "prompt_number": 4
    },
    {
     "cell_type": "markdown",
     "metadata": {},
     "source": [
      "This is a negative pressure, which is not physical. Therefore, kyanite will <i>always</i> be more stable at room temperature. "
     ]
    },
    {
     "cell_type": "code",
     "collapsed": false,
     "input": [],
     "language": "python",
     "metadata": {},
     "outputs": []
    }
   ],
   "metadata": {}
  }
 ]
}