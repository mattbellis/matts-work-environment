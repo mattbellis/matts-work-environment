{
 "metadata": {
  "name": "",
  "signature": "sha256:6ee267d35b81a35610540d5b1bbd8925e7460ad263ed877940c108433de5c030"
 },
 "nbformat": 3,
 "nbformat_minor": 0,
 "worksheets": [
  {
   "cells": [
    {
     "cell_type": "code",
     "collapsed": false,
     "input": [
      "# Kyanite properties\n",
      "Gk = -2443.88e3\n",
      "Vk = 44.09e-6\n",
      "\n",
      "# Sillaminate properties\n",
      "Gs = -2440.99e3\n",
      "Vs = 49.9e-6\n",
      "\n",
      "P0 = 1e5\n",
      "#P0 = 0\n"
     ],
     "language": "python",
     "metadata": {},
     "outputs": [],
     "prompt_number": 11
    },
    {
     "cell_type": "markdown",
     "metadata": {},
     "source": [
      "Rise over run\n",
      "\n",
      "$$\\frac{G_e - G_0}{P_e - P_0} = V$$\n",
      "\n",
      "$$G_e = VP_e - VP_0 + G_0$$\n",
      "\n",
      "$$V_kP_e - V_kP_0 + G_k = V_sP_e - V_sP_0 + G_s$$\n",
      "\n",
      "$$P_e(V_k - V_s) = V_kP_0 - G_k - V_sP_0 + G_s$$\n",
      "\n",
      "$$P_e= (V_kP_0 - G_k - V_sP_0 + G_s)/(V_k - V_s) $$"
     ]
    },
    {
     "cell_type": "code",
     "collapsed": false,
     "input": [
      "Pe = (Vk*P0 - Gk - Vs*P0 + Gs)/(Vk-Vs)"
     ],
     "language": "python",
     "metadata": {},
     "outputs": [],
     "prompt_number": 13
    },
    {
     "cell_type": "code",
     "collapsed": false,
     "input": [
      "print Pe\n",
      "print Pe/1e5"
     ],
     "language": "python",
     "metadata": {},
     "outputs": [
      {
       "output_type": "stream",
       "stream": "stdout",
       "text": [
        "-497318244.406\n",
        "-4973.18244406\n"
       ]
      }
     ],
     "prompt_number": 15
    },
    {
     "cell_type": "code",
     "collapsed": false,
     "input": [],
     "language": "python",
     "metadata": {},
     "outputs": []
    }
   ],
   "metadata": {}
  }
 ]
}