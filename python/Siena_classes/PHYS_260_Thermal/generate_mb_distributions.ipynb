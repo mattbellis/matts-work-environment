{
 "cells": [
  {
   "cell_type": "code",
   "execution_count": null,
   "id": "4de7b26b-f529-47b6-8e23-f1b727a0ae2e",
   "metadata": {},
   "outputs": [],
   "source": [
    "import numpy as np\n",
    "import matplotlib.pylab as plt\n",
    "\n",
    "import scipy.constants as cnt\n",
    "\n"
   ]
  },
  {
   "cell_type": "code",
   "execution_count": null,
   "id": "e1c238b7-fc9a-4af9-b711-2f073aa231f0",
   "metadata": {},
   "outputs": [],
   "source": [
    "m = 32./1000/cnt.N_A\n",
    "k = cnt.k\n",
    "T0 = 300 # K\n",
    "T1 = 800 # K\n",
    "pi = np.pi\n",
    "\n",
    "v = np.linspace(0,2000,1000)\n",
    "P0 = np.sqrt((m/(2*pi*k*T0))**3)*4*pi*v**2*np.exp(-m*v*v/(2*k*T0))\n",
    "\n",
    "P1 = np.sqrt((m/(2*pi*k*T1))**3)*4*pi*v**2*np.exp(-m*v*v/(2*k*T1))\n",
    "\n",
    "plt.figure(figsize=(8,5))\n",
    "plt.plot(v,P0,'-',linewidth=3,label='Maxwell-Boltzmann distribution (T=??? K)')\n",
    "plt.plot(v,P1,'--',linewidth=3,label='Maxwell-Boltzmann distribution (T=??? K)')\n",
    "plt.xlabel(r'$v$ (m/s)',fontsize=24)\n",
    "plt.ylabel(r'$D(v)$',fontsize=24)\n",
    "plt.legend(loc='upper right')\n",
    "\n",
    "xticks = np.arange(0,2000,200)\n",
    "yticks = np.arange(0,0.0025,0.00025)\n",
    "plt.xticks(xticks)                                                       \n",
    "plt.yticks(yticks)                                                       \n",
    "\n",
    "plt.grid(which='major')\n",
    "\n",
    "plt.tight_layout()\n",
    "\n",
    "plt.savefig('mb_dist_A.png')\n"
   ]
  },
  {
   "cell_type": "code",
   "execution_count": null,
   "id": "320e9391-dfb4-4fe6-a09e-1201c7d5d313",
   "metadata": {},
   "outputs": [],
   "source": [
    "m = [18./1000/cnt.N_A,54./1000/cnt.N_A]\n",
    "k = cnt.k\n",
    "T0 = 300 # K\n",
    "pi = np.pi\n",
    "\n",
    "v = np.linspace(0,2000,1000)\n",
    "P0 = np.sqrt((m[0]/(2*pi*k*T0))**3)*4*pi*v**2*np.exp(-m[0]*v*v/(2*k*T0))\n",
    "\n",
    "P1 = np.sqrt((m[1]/(2*pi*k*T0))**3)*4*pi*v**2*np.exp(-m[1]*v*v/(2*k*T0))\n",
    "\n",
    "plt.figure(figsize=(8,5))\n",
    "plt.plot(v,P0,'-',linewidth=3,label='M-B distribution for ??? gas')\n",
    "plt.plot(v,P1,'--',linewidth=3,label='M-B distribution for ??? gas')\n",
    "plt.xlabel(r'$v$ (m/s)',fontsize=24)\n",
    "plt.ylabel(r'$D(v)$',fontsize=24)\n",
    "plt.legend(loc='upper right',fontsize=18)\n",
    "\n",
    "xticks = np.arange(0,2000,200)\n",
    "yticks = np.arange(0,0.0025,0.00025)\n",
    "plt.xticks(xticks)                                                       \n",
    "plt.yticks(yticks)                                                       \n",
    "\n",
    "plt.grid(which='major')\n",
    "\n",
    "plt.tight_layout()\n",
    "\n",
    "plt.savefig('mb_dist_diff_atoms_B.png')\n"
   ]
  },
  {
   "cell_type": "code",
   "execution_count": null,
   "id": "bf113606-ee4b-4a09-b10f-4ea77510ab47",
   "metadata": {},
   "outputs": [],
   "source": []
  }
 ],
 "metadata": {
  "kernelspec": {
   "display_name": "Python 3 (ipykernel)",
   "language": "python",
   "name": "python3"
  },
  "language_info": {
   "codemirror_mode": {
    "name": "ipython",
    "version": 3
   },
   "file_extension": ".py",
   "mimetype": "text/x-python",
   "name": "python",
   "nbconvert_exporter": "python",
   "pygments_lexer": "ipython3",
   "version": "3.11.7"
  }
 },
 "nbformat": 4,
 "nbformat_minor": 5
}
