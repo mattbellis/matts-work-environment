{
 "metadata": {
  "name": "",
  "signature": "sha256:3abe870ed56e7651adb7283fc2f19e61f5b501b107225a1cf4e3692b5580ae40"
 },
 "nbformat": 3,
 "nbformat_minor": 0,
 "worksheets": [
  {
   "cells": [
    {
     "cell_type": "code",
     "collapsed": false,
     "input": [
      "# Problem 1"
     ],
     "language": "python",
     "metadata": {},
     "outputs": [],
     "prompt_number": 8
    },
    {
     "cell_type": "code",
     "collapsed": false,
     "input": [
      "v0 = 50 # m/s\n",
      "theta = np.deg2rad(30)\n",
      "\n",
      "v0x = v0*np.cos(theta)\n",
      "v0y = v0*np.sin(theta)\n",
      "\n",
      "print v0x\n",
      "print v0y"
     ],
     "language": "python",
     "metadata": {},
     "outputs": [
      {
       "output_type": "stream",
       "stream": "stdout",
       "text": [
        "43.3012701892\n",
        "25.0\n"
       ]
      }
     ],
     "prompt_number": 9
    },
    {
     "cell_type": "code",
     "collapsed": false,
     "input": [
      "# time to fall\n",
      "x0 = 100\n",
      "\n",
      "# 100 + 25*t + 1/2*9.8*t^2\n",
      "\n",
      "t0 = (-25 + np.sqrt(25**2 + (4*4.9*100)))/(2*-4.9)\n",
      "t1 = (-25 - np.sqrt(25**2 + (4*4.9*100)))/(2*-4.9)\n",
      "\n",
      "print t0\n",
      "print t1"
     ],
     "language": "python",
     "metadata": {},
     "outputs": [
      {
       "output_type": "stream",
       "stream": "stdout",
       "text": [
        "-2.63703013016\n",
        "7.73907094648\n"
       ]
      }
     ],
     "prompt_number": 10
    },
    {
     "cell_type": "code",
     "collapsed": false,
     "input": [
      "vf = v0y + -9.8*t1\n",
      "print vf"
     ],
     "language": "python",
     "metadata": {},
     "outputs": [
      {
       "output_type": "stream",
       "stream": "stdout",
       "text": [
        "-50.8428952755\n"
       ]
      }
     ],
     "prompt_number": 11
    },
    {
     "cell_type": "code",
     "collapsed": false,
     "input": [
      "# Problem 2"
     ],
     "language": "python",
     "metadata": {},
     "outputs": [],
     "prompt_number": 12
    },
    {
     "cell_type": "code",
     "collapsed": false,
     "input": [
      "p1 = 5e-23\n",
      "theta1 = np.deg2rad(45)\n",
      "\n",
      "p2 = 9e-23\n",
      "theta2 = np.deg2rad(-30)\n",
      "\n",
      "p1x = p1*np.cos(theta1)\n",
      "p1y = p1*np.sin(theta1)\n",
      "\n",
      "p2x = p2*np.cos(theta2)\n",
      "p2y = p2*np.sin(theta2)\n",
      "\n",
      "print p1x,p1y\n",
      "print p2x,p2y\n",
      "\n",
      "print p1x + p2x\n",
      "print p1y + p2y"
     ],
     "language": "python",
     "metadata": {},
     "outputs": [
      {
       "output_type": "stream",
       "stream": "stdout",
       "text": [
        "3.53553390593e-23 3.53553390593e-23\n",
        "7.79422863406e-23 -4.5e-23\n",
        "1.132976254e-22\n",
        "-9.64466094067e-24\n"
       ]
      }
     ],
     "prompt_number": 17
    },
    {
     "cell_type": "code",
     "collapsed": false,
     "input": [
      "mag = np.sqrt((p1x+p2x)**2 + (p1y+p2y)**2)\n",
      "print mag"
     ],
     "language": "python",
     "metadata": {},
     "outputs": [
      {
       "output_type": "stream",
       "stream": "stdout",
       "text": [
        "1.13707393805e-22\n"
       ]
      }
     ],
     "prompt_number": 18
    },
    {
     "cell_type": "code",
     "collapsed": false,
     "input": [],
     "language": "python",
     "metadata": {},
     "outputs": []
    },
    {
     "cell_type": "code",
     "collapsed": false,
     "input": [],
     "language": "python",
     "metadata": {},
     "outputs": []
    }
   ],
   "metadata": {}
  }
 ]
}