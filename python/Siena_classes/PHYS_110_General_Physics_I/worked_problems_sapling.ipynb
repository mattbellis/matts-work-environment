{
 "metadata": {
  "name": "",
  "signature": "sha256:32757fea91c3245dee901276b04cf89343de5b4e21e1ba36b7de23a792fdbc8d"
 },
 "nbformat": 3,
 "nbformat_minor": 0,
 "worksheets": [
  {
   "cells": [
    {
     "cell_type": "code",
     "collapsed": false,
     "input": [
      "# Tori Mattick, Sapling #8. Chapter 4\n",
      "sm = 55 # mph\n",
      "df = 155 # feet\n",
      "\n",
      "v = 55*1600/3600.0\n",
      "d = 155.0/3.28\n",
      "\n",
      "print v,d\n"
     ],
     "language": "python",
     "metadata": {},
     "outputs": [
      {
       "output_type": "stream",
       "stream": "stdout",
       "text": [
        "24.4444444444 47.256097561\n"
       ]
      }
     ],
     "prompt_number": 1
    },
    {
     "cell_type": "code",
     "collapsed": false,
     "input": [
      "a = v**2/(2*d)\n",
      "print a"
     ],
     "language": "python",
     "metadata": {},
     "outputs": [
      {
       "output_type": "stream",
       "stream": "stdout",
       "text": [
        "6.32226204699\n"
       ]
      }
     ],
     "prompt_number": 2
    },
    {
     "cell_type": "code",
     "collapsed": false,
     "input": [
      "car0lbs = 1250.0\n",
      "car0 = car0lbs/2.2\n",
      "car1lbs = 8.40e3\n",
      "car1 = car1lbs/2.2\n",
      "\n",
      "print car0,car1"
     ],
     "language": "python",
     "metadata": {},
     "outputs": [
      {
       "output_type": "stream",
       "stream": "stdout",
       "text": [
        "568.181818182 3818.18181818\n"
       ]
      }
     ],
     "prompt_number": 3
    },
    {
     "cell_type": "code",
     "collapsed": false,
     "input": [
      "murolllo = 0.689\n",
      "murollhi = 0.770\n",
      "\n",
      "muskidlo = 0.450\n",
      "muskidhi = 0.617\n"
     ],
     "language": "python",
     "metadata": {},
     "outputs": [],
     "prompt_number": 4
    },
    {
     "cell_type": "code",
     "collapsed": false,
     "input": [
      "F0rolllo = car0*murolllo*9.8\n",
      "F0rollhi = car0*murollhi*9.8\n",
      "\n",
      "F0skidlo = car0*muskidlo*9.8\n",
      "F0skidhi = car0*muskidhi*9.8\n",
      "\n",
      "F1rolllo = car1*murolllo*9.8\n",
      "F1rollhi = car1*murollhi*9.8\n",
      "\n",
      "F1skidlo = car1*muskidlo*9.8\n",
      "F1skidhi = car1*muskidhi*9.8"
     ],
     "language": "python",
     "metadata": {},
     "outputs": [],
     "prompt_number": 5
    },
    {
     "cell_type": "code",
     "collapsed": false,
     "input": [
      "for F in [F0rolllo,F0rollhi,F0skidlo,F0skidhi]:\n",
      "    a = F/car0\n",
      "    \n",
      "    d = v**2/(2*a)\n",
      "    print d*3.3"
     ],
     "language": "python",
     "metadata": {},
     "outputs": [
      {
       "output_type": "stream",
       "stream": "stdout",
       "text": [
        "146.015509897\n",
        "130.655436778\n",
        "223.565969598\n",
        "163.054596951\n"
       ]
      }
     ],
     "prompt_number": 11
    },
    {
     "cell_type": "code",
     "collapsed": false,
     "input": [
      "for F in [F1rolllo,F1rollhi,F1skidlo,F1skidhi]:\n",
      "    a = F/car1\n",
      "    \n",
      "    d = v**2/(2*a)\n",
      "    print d*3.3"
     ],
     "language": "python",
     "metadata": {},
     "outputs": [
      {
       "output_type": "stream",
       "stream": "stdout",
       "text": [
        "146.015509897\n",
        "130.655436778\n",
        "223.565969598\n",
        "163.054596951\n"
       ]
      }
     ],
     "prompt_number": 13
    },
    {
     "cell_type": "code",
     "collapsed": false,
     "input": [],
     "language": "python",
     "metadata": {},
     "outputs": [
      {
       "metadata": {},
       "output_type": "pyout",
       "prompt_number": 8,
       "text": [
        "42.68077601410935"
       ]
      }
     ],
     "prompt_number": 8
    },
    {
     "cell_type": "code",
     "collapsed": false,
     "input": [],
     "language": "python",
     "metadata": {},
     "outputs": [
      {
       "metadata": {},
       "output_type": "pyout",
       "prompt_number": 9,
       "text": [
        "24.444444444444443"
       ]
      }
     ],
     "prompt_number": 9
    },
    {
     "cell_type": "code",
     "collapsed": false,
     "input": [],
     "language": "python",
     "metadata": {},
     "outputs": []
    }
   ],
   "metadata": {}
  }
 ]
}