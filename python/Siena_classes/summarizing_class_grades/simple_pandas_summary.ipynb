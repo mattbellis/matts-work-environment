{
 "cells": [
  {
   "cell_type": "code",
   "execution_count": null,
   "id": "2209e8ed-cf33-478a-8f89-c6a4b1bf89ef",
   "metadata": {},
   "outputs": [],
   "source": [
    "import matplotlib.pylab as plt\n",
    "import numpy as np\n",
    "import pandas as pd"
   ]
  },
  {
   "cell_type": "code",
   "execution_count": null,
   "id": "f8fd1d35-726f-4c79-8e8f-ab197d93fd4d",
   "metadata": {},
   "outputs": [],
   "source": [
    "filename = 'scdv001_s24.csv'\n",
    "dftmp = pd.read_csv(filename)\n",
    "\n",
    "dftmp.sample(4)"
   ]
  },
  {
   "cell_type": "code",
   "execution_count": null,
   "id": "d3af5781-e084-4c91-a96e-5ea4adc15354",
   "metadata": {},
   "outputs": [],
   "source": [
    "df = dftmp[['Student']].copy()\n",
    "\n",
    "columns = dftmp.columns\n",
    "\n",
    "columns\n",
    "\n",
    "for col in columns:\n",
    "    if col.upper().find('HOMEWORK')>=0 and col.find(\"(\")>=0:\n",
    "        #print(col)\n",
    "        df[col] = dftmp[col]\n",
    "\n",
    "df"
   ]
  },
  {
   "cell_type": "code",
   "execution_count": null,
   "id": "03839ced-036c-4a5a-b55c-699aff265939",
   "metadata": {},
   "outputs": [],
   "source": [
    "#tot = df['HOMEWORK - Exploring a dataset with pandas (329201)'].iloc[0]\n",
    "#df['HOMEWORK - Exploring a dataset with pandas (329201)'].iloc[1:]/tot"
   ]
  },
  {
   "cell_type": "code",
   "execution_count": null,
   "id": "32d77c5d-1bda-4532-b0af-8c0aafe8b798",
   "metadata": {},
   "outputs": [],
   "source": [
    "#df['HOMEWORK - Exploring a dataset with pandas (329201)'].iloc[1:] = df['HOMEWORK - Exploring a dataset with pandas (329201)'].iloc[1:]/tot"
   ]
  },
  {
   "cell_type": "code",
   "execution_count": null,
   "id": "693db104-cbec-4de3-90a3-7bc91c194be7",
   "metadata": {},
   "outputs": [],
   "source": [
    "for col in df.columns:\n",
    "    print(col)\n",
    "    if col.upper().find('HOMEWORK')<0:\n",
    "        continue\n",
    "    tot = df[col].iloc[0]\n",
    "    df[col].iloc[1:] = df[col].iloc[1:]/tot"
   ]
  },
  {
   "cell_type": "code",
   "execution_count": null,
   "id": "c03ee11a-c5fe-4774-825f-89bc068ec730",
   "metadata": {},
   "outputs": [],
   "source": [
    "df = df.drop(columns=['HOMEWORK - HTML and PDF (330329)'], axis=1)\n",
    "\n",
    "df"
   ]
  },
  {
   "cell_type": "code",
   "execution_count": null,
   "id": "2ba7a643-704e-44e1-bffe-31722b2ca37c",
   "metadata": {},
   "outputs": [],
   "source": [
    "columns = list(df.columns)\n",
    "\n",
    "columns.remove('Student')\n",
    "\n",
    "columns"
   ]
  },
  {
   "cell_type": "code",
   "execution_count": null,
   "id": "9d389108-4311-4983-af06-dc5c4769c27f",
   "metadata": {},
   "outputs": [],
   "source": [
    "for i in range(1,len(df)):\n",
    "    name = df.iloc[i]['Student']\n",
    "    vals = df.iloc[i][columns]\n",
    "    ave = df.iloc[i][columns].mean()\n",
    "    print(\"---------------------------\")\n",
    "    print(f\"{name:40s} {100*ave:.2f}\")\n",
    "    print()\n",
    "    print(vals)\n"
   ]
  },
  {
   "cell_type": "code",
   "execution_count": null,
   "id": "2c5a8713-404a-4121-9500-e7a935d68cf3",
   "metadata": {},
   "outputs": [],
   "source": [
    "#df.groupby('Student').mean()\n",
    "#df['mean'] = df.mean(axis=1)\n"
   ]
  },
  {
   "cell_type": "code",
   "execution_count": null,
   "id": "c340458c-ac75-4787-bfe9-19a24b69e287",
   "metadata": {},
   "outputs": [],
   "source": []
  }
 ],
 "metadata": {
  "kernelspec": {
   "display_name": "Python 3 (ipykernel)",
   "language": "python",
   "name": "python3"
  },
  "language_info": {
   "codemirror_mode": {
    "name": "ipython",
    "version": 3
   },
   "file_extension": ".py",
   "mimetype": "text/x-python",
   "name": "python",
   "nbconvert_exporter": "python",
   "pygments_lexer": "ipython3",
   "version": "3.11.7"
  }
 },
 "nbformat": 4,
 "nbformat_minor": 5
}
