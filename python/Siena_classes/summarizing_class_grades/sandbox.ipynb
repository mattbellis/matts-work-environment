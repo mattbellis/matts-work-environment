{
 "cells": [
  {
   "cell_type": "code",
   "execution_count": null,
   "id": "7b6b91a4",
   "metadata": {},
   "outputs": [],
   "source": [
    "import numpy as np\n",
    "import matplotlib.pylab as plt\n",
    "import pandas as pd\n",
    "\n",
    "import sys\n",
    "\n",
    "import grade_tools as gt\n",
    "\n",
    "import seaborn as sns\n"
   ]
  },
  {
   "cell_type": "code",
   "execution_count": null,
   "id": "9e3217f3",
   "metadata": {},
   "outputs": [],
   "source": [
    "infile = 'PHYS_260_Thermal_Physics_S23.csv'\n",
    "\n",
    "df = pd.read_csv(infile)"
   ]
  },
  {
   "cell_type": "code",
   "execution_count": null,
   "id": "fd7f7a4e",
   "metadata": {},
   "outputs": [],
   "source": [
    "print(df)\n",
    "\n",
    "# Drop Enzo\n",
    "df = df[~(df['Last Name']=='Morina')]\n",
    "\n",
    "df"
   ]
  },
  {
   "cell_type": "code",
   "execution_count": null,
   "id": "4a5708b5",
   "metadata": {},
   "outputs": [],
   "source": [
    "lnames = df['Last Name'].values\n",
    "fnames = df['First Name'].values\n",
    "\n",
    "print(lnames)\n",
    "print(fnames)"
   ]
  },
  {
   "cell_type": "code",
   "execution_count": null,
   "id": "fb830057",
   "metadata": {},
   "outputs": [],
   "source": [
    "mask = (df['Last Name']=='Cestero') & (df['First Name']=='Anthony')\n",
    "\n",
    "dft = df[mask]\n",
    "\n",
    "print(dft)"
   ]
  },
  {
   "cell_type": "code",
   "execution_count": null,
   "id": "a809a86a",
   "metadata": {},
   "outputs": [],
   "source": [
    "for fname,lname in zip(fnames,lnames):\n",
    "    print(f'{fname} {lname}')\n",
    "    print(f'{type(fname)} {type(lname)}')\n",
    "\n",
    "    if type(lname)!=str or type(fname)!=str:\n",
    "        print(\"Continuing\")\n",
    "        continue\n",
    "    \n",
    "    print(lname,fname)\n",
    "    mask = (df['Last Name']==lname) & (df['First Name']==fname)\n",
    "    print(mask)\n",
    "    dftemp = df[mask]\n",
    "    print(dftemp)\n",
    "    print(df[mask])\n",
    "    print()\n"
   ]
  },
  {
   "cell_type": "code",
   "execution_count": null,
   "id": "f0d923d3",
   "metadata": {},
   "outputs": [],
   "source": [
    "def get_assignments(df):\n",
    "    \n",
    "    maps = {'quiz':['QUIZ'], 'hw':['HW', 'HOMEWORK']}\n",
    "\n",
    "    colnames = df.columns\n",
    "\n",
    "    assignments = {\"name\":[], \"points\":[], \"date\":[], \"type\":[]}\n",
    "    \n",
    "    #assignments['part'] = {'name':[], 'date':[], 'points': []}\n",
    "    #assignments['quiz'] = {'name':[], 'date':[], 'points': []}\n",
    "    #assignments['hw'] = {'name':[], 'date':[], 'points': []}\n",
    "    #assignments['midterm'] = {'name':[], 'date':[], 'points': []}\n",
    "    #assignments['final'] = {'name':[], 'date':[], 'points': []}\n",
    "    #assignments['extracredit'] = {'name':[], 'date':[], 'points': []}\n",
    "\n",
    "    for name in colnames:\n",
    "        #print(name, \" -----\")\n",
    "        for key in maps.keys():\n",
    "            #print(key)\n",
    "            MATCH = False\n",
    "            for val in maps[key]:\n",
    "                #print(val)\n",
    "                if name.find(val)>=0:\n",
    "                    MATCH = True\n",
    "            #print(MATCH,name,key,val)            \n",
    "            if MATCH:\n",
    "                points = df[name].iloc[1]\n",
    "                #print(type(points))\n",
    "                if type(points)!=str:\n",
    "                    continue\n",
    "                assignments['name'].append(name)\n",
    "                assignments['type'].append(key)\n",
    "                assignments['date'].append(df[name].iloc[0])\n",
    "                assignments['points'].append(float(points))\n",
    "    \n",
    "    dfa = pd.DataFrame.from_dict(assignments)\n",
    "    return dfa\n",
    "            \n",
    "'''\n",
    "            hwandquizinfo[name] = []\n",
    "        # EDAV\n",
    "        elif name.find('HW')>=0 or name.find('HOMEWORK')>=0 or name.find('CLASS')>=0:\n",
    "        # Quantum\n",
    "        #elif name.find('HW')>=0 or name.find('HOMEWORK')>=0 or name.find('CODING')>=0:\n",
    "            hwinfo[name] = []\n",
    "            hwandquizinfo[name] = []\n",
    "        elif name.find('PARTICIPATION')>=0 or name.find('PARTICIPATION')>=0:\n",
    "            partinfo[name] = []\n",
    "        elif name.find('EXTRA')>=0:\n",
    "            extracreditinfo[name] = []\n",
    "        elif name.find('MID')>=0:\n",
    "            midterminfo[name] = []\n",
    "        elif name.find('FINAL')>=0:\n",
    "            finalinfo[name] = []\n",
    "'''\n",
    "\n",
    "dfa = get_assignments(df)\n",
    "\n",
    "dfa\n"
   ]
  },
  {
   "cell_type": "code",
   "execution_count": null,
   "id": "505ad779",
   "metadata": {},
   "outputs": [],
   "source": [
    "mask = dfa['type']=='quiz'\n",
    "dfa[mask]"
   ]
  },
  {
   "cell_type": "code",
   "execution_count": null,
   "id": "bb8c0bcf",
   "metadata": {},
   "outputs": [],
   "source": [
    "def represents_float(s):\n",
    "    try: \n",
    "        float(s)\n",
    "    except ValueError:\n",
    "        return False\n",
    "    else:\n",
    "        return True"
   ]
  },
  {
   "cell_type": "code",
   "execution_count": null,
   "id": "b303943c",
   "metadata": {},
   "outputs": [],
   "source": [
    "dfa"
   ]
  },
  {
   "cell_type": "code",
   "execution_count": null,
   "id": "2a90d5a0",
   "metadata": {},
   "outputs": [],
   "source": [
    "names = dfa['name']\n",
    "\n",
    "dfplot = {\"name\":[], \"scores\":[], \"type\":[]}\n",
    "\n",
    "for name in names:\n",
    "    #print(name)\n",
    "    dftemp = df[name]\n",
    "    x = dftemp.values[2:] # Skip first two rows which are date and total points\n",
    "    #print(x[0],represents_float(x[0]))\n",
    "    if represents_float(x[0]):\n",
    "        x = x.astype(float)\n",
    "        #print(x)\n",
    "        #print(len(x))\n",
    "        if x[0]==x[0]:\n",
    "\n",
    "            points = dfa[dfa['name']==name]['points'].values[0]\n",
    "    \n",
    "            \n",
    "            dfplot[\"name\"] += len(x)*[name]\n",
    "            dfplot['scores'] += (x/points).tolist()\n",
    "            \n",
    "            atype = dfa[dfa['name']==name]['type'].values[0]\n",
    "            dfplot['type'] += len(x)*[atype]\n",
    "\n",
    "            #plt.figure()\n",
    "            #plt.hist(x)\n",
    "\n",
    "dfplot = pd.DataFrame.from_dict(dfplot)"
   ]
  },
  {
   "cell_type": "code",
   "execution_count": null,
   "id": "86b9da2a",
   "metadata": {},
   "outputs": [],
   "source": [
    "dfplot"
   ]
  },
  {
   "cell_type": "code",
   "execution_count": null,
   "id": "5230c16a",
   "metadata": {},
   "outputs": [],
   "source": [
    "plt.figure(figsize=(16,4))\n",
    "\n",
    "sns.violinplot(data=dfplot, y=\"scores\", x=\"name\", hue='type', dodge=False);\n",
    "\n",
    "plt.xticks(rotation=90);"
   ]
  },
  {
   "cell_type": "code",
   "execution_count": null,
   "id": "c9f50453",
   "metadata": {},
   "outputs": [],
   "source": [
    "plt.figure(figsize=(16,4))\n",
    "\n",
    "sns.boxplot(data=dfplot, y=\"scores\", x=\"name\", hue='type');\n",
    "\n",
    "plt.xticks(rotation=90);"
   ]
  },
  {
   "cell_type": "code",
   "execution_count": null,
   "id": "46bc086a",
   "metadata": {},
   "outputs": [],
   "source": [
    "plt.figure(figsize=(16,4))\n",
    "\n",
    "sns.boxplot(data=dfplot, y=\"scores\", x=\"name\", hue='type', dodge=False);\n",
    "\n",
    "plt.plot([0],[0.8],'ro',markersize=10);\n",
    "\n",
    "plt.xticks(rotation=270,ha='left');"
   ]
  },
  {
   "cell_type": "code",
   "execution_count": null,
   "id": "9d92d309",
   "metadata": {},
   "outputs": [],
   "source": [
    "anames = np.unique(dfplot['name'])\n",
    "\n",
    "plt.figure(figsize=(16,4))\n",
    "\n",
    "sns.boxplot(data=dfplot, y=\"scores\", x=\"name\", hue='type', dodge=False);\n",
    "\n",
    "xlabels = plt.gca().get_xticklabels(which='both')\n",
    "\n",
    "n = 2\n",
    "\n",
    "xpts = []\n",
    "ypts = []\n",
    "\n",
    "for idx,xlabel in enumerate(xlabels):\n",
    "    print(xlabel)\n",
    "    name = xlabel.get_text()\n",
    "    print(name)\n",
    "    score = float(df.iloc[n][name])\n",
    "    points = dfa[dfa['name']==name]['points'].values[0]\n",
    "    score /= points\n",
    "    xpts.append(name)\n",
    "    ypts.append(score)\n",
    "    \n",
    "lname = df.iloc[n]['Last Name']\n",
    "fname = df.iloc[n]['First Name']\n",
    "\n",
    "plt.plot(xpts,ypts,'ro-',markersize=10, label=f'{fname} {lname}');\n",
    "\n",
    "plt.xticks(rotation=270,ha='left');\n",
    "plt.legend()\n",
    "\n",
    "\n",
    "\n"
   ]
  },
  {
   "cell_type": "code",
   "execution_count": null,
   "id": "df9a3cc3",
   "metadata": {},
   "outputs": [],
   "source": [
    "#xlabel."
   ]
  },
  {
   "cell_type": "code",
   "execution_count": null,
   "id": "b0eb36a9",
   "metadata": {},
   "outputs": [],
   "source": [
    "df.iloc[2]['Last Name']"
   ]
  },
  {
   "cell_type": "code",
   "execution_count": null,
   "id": "5c4e0805",
   "metadata": {},
   "outputs": [],
   "source": [
    "df.iloc[2]"
   ]
  },
  {
   "cell_type": "code",
   "execution_count": null,
   "id": "7061d43d",
   "metadata": {
    "scrolled": false
   },
   "outputs": [],
   "source": [
    "for n in range(2,18):\n",
    "    plt.figure(figsize=(16,4))\n",
    "\n",
    "    sns.boxplot(data=dfplot, y=\"scores\", x=\"name\", hue='type', dodge=False);\n",
    "\n",
    "    xlabels = plt.gca().get_xticklabels(which='both')\n",
    "\n",
    "    xpts = []\n",
    "    ypts = []\n",
    "\n",
    "    for idx,xlabel in enumerate(xlabels):\n",
    "        #print(xlabel)\n",
    "        name = xlabel.get_text()\n",
    "        #print(name)\n",
    "        score = float(df.iloc[n][name])\n",
    "        points = dfa[dfa['name']==name]['points'].values[0]\n",
    "        score /= points\n",
    "        xpts.append(name)\n",
    "        ypts.append(score)\n",
    "\n",
    "    lname = df.iloc[n]['Last Name']\n",
    "    fname = df.iloc[n]['First Name']\n",
    "\n",
    "    plt.plot(xpts,ypts,'ro--',markersize=10, linewidth=5, label=f'{fname} {lname}');\n",
    "\n",
    "    plt.xticks(rotation=270,ha='left');\n",
    "    plt.legend()\n"
   ]
  },
  {
   "cell_type": "code",
   "execution_count": null,
   "id": "7afb992c",
   "metadata": {},
   "outputs": [],
   "source": []
  },
  {
   "cell_type": "code",
   "execution_count": null,
   "id": "34b772eb",
   "metadata": {},
   "outputs": [],
   "source": []
  }
 ],
 "metadata": {
  "kernelspec": {
   "display_name": "Python 3 (ipykernel)",
   "language": "python",
   "name": "python3"
  },
  "language_info": {
   "codemirror_mode": {
    "name": "ipython",
    "version": 3
   },
   "file_extension": ".py",
   "mimetype": "text/x-python",
   "name": "python",
   "nbconvert_exporter": "python",
   "pygments_lexer": "ipython3",
   "version": "3.9.12"
  }
 },
 "nbformat": 4,
 "nbformat_minor": 5
}
