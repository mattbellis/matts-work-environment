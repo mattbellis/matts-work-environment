{
 "cells": [
  {
   "cell_type": "markdown",
   "id": "4b5e0c94",
   "metadata": {},
   "source": [
    "# Downloading the analytics from Perusall\n",
    "\n",
    "Yes! You can go to your library, and then you can click on the text you are using and then you can download the analytics for the entire text/all of its related assignments there! \n"
   ]
  },
  {
   "cell_type": "code",
   "execution_count": null,
   "id": "13e347c3",
   "metadata": {},
   "outputs": [],
   "source": [
    "import pandas as pd\n",
    "import numpy as np\n",
    "import matplotlib.pylab as plt"
   ]
  },
  {
   "cell_type": "code",
   "execution_count": null,
   "id": "336807fe-efba-4375-9c02-83729b507cf3",
   "metadata": {},
   "outputs": [],
   "source": [
    "infilename = 'perusall_analytics.csv'\n",
    "df = pd.read_csv(infilename)\n",
    "\n",
    "df"
   ]
  },
  {
   "cell_type": "code",
   "execution_count": null,
   "id": "11e80238-96cc-450a-90f0-2b5854eef0a6",
   "metadata": {},
   "outputs": [],
   "source": [
    "columns = ['Last name', 'First name', 'Active engagement time', 'Total comments', 'Average words per comment']\n",
    "\n",
    "df[columns]"
   ]
  },
  {
   "cell_type": "code",
   "execution_count": null,
   "id": "e7d4e4ff-d631-48fd-ad48-74c250368d19",
   "metadata": {},
   "outputs": [],
   "source": [
    "df[columns].sort_values(by='Total comments')"
   ]
  },
  {
   "cell_type": "code",
   "execution_count": null,
   "id": "8de78ceb-621f-4c26-a389-0da58c84ce79",
   "metadata": {},
   "outputs": [],
   "source": [
    "df[columns].sort_values(by='Active engagement time')"
   ]
  },
  {
   "cell_type": "code",
   "execution_count": null,
   "id": "61b14a83",
   "metadata": {},
   "outputs": [],
   "source": [
    "aet_dist = df['Active engagement time']/df['Active engagement time'].mean()\n",
    "#print(aet_dist)\n",
    "\n",
    "df['aet_dist'] = aet_dist\n",
    "\n",
    "tc_dist = df['Total comments']/df['Total comments'].mean()\n",
    "#print(tc_dist)\n",
    "\n",
    "\n",
    "df['tc_dist'] = tc_dist\n",
    "\n",
    "\n",
    "myscore = (tc_dist + aet_dist)/2.0\n",
    "df['myscore'] = myscore\n",
    "\n",
    "\n",
    "df[columns + ['aet_dist', 'tc_dist', 'myscore']].sort_values(by='myscore')"
   ]
  },
  {
   "cell_type": "code",
   "execution_count": null,
   "id": "df0182e1",
   "metadata": {},
   "outputs": [],
   "source": []
  }
 ],
 "metadata": {
  "kernelspec": {
   "display_name": "Python 3 (ipykernel)",
   "language": "python",
   "name": "python3"
  },
  "language_info": {
   "codemirror_mode": {
    "name": "ipython",
    "version": 3
   },
   "file_extension": ".py",
   "mimetype": "text/x-python",
   "name": "python",
   "nbconvert_exporter": "python",
   "pygments_lexer": "ipython3",
   "version": "3.11.5"
  }
 },
 "nbformat": 4,
 "nbformat_minor": 5
}
