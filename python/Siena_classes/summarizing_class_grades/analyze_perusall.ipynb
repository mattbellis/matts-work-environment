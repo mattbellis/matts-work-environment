{
 "cells": [
  {
   "cell_type": "code",
   "execution_count": null,
   "id": "e587613a-60fa-493f-a5a9-55770bc0052d",
   "metadata": {},
   "outputs": [],
   "source": [
    "import pandas as pd\n",
    "import numpy as np\n",
    "import matplotlib.pylab as plt"
   ]
  },
  {
   "cell_type": "code",
   "execution_count": null,
   "id": "336807fe-efba-4375-9c02-83729b507cf3",
   "metadata": {},
   "outputs": [],
   "source": [
    "infilename = 'gradebook.csv'\n",
    "df = pd.read_csv(infilename)\n",
    "\n",
    "df"
   ]
  },
  {
   "cell_type": "code",
   "execution_count": null,
   "id": "5e1ef65b-9129-491d-b25a-3433c5205815",
   "metadata": {},
   "outputs": [],
   "source": [
    "df.iloc[:,5:23]"
   ]
  },
  {
   "cell_type": "code",
   "execution_count": null,
   "id": "11e80238-96cc-450a-90f0-2b5854eef0a6",
   "metadata": {},
   "outputs": [],
   "source": [
    "nrows = len(df)\n",
    "\n",
    "print(nrows)\n",
    "data = {\"first\":[], \"last\":[], \"score\":[]}\n",
    "\n",
    "for i in range(2,nrows):\n",
    "\n",
    "    last = df.iloc[i,0]\n",
    "    first = df.iloc[i,1]\n",
    "\n",
    "    x = df.iloc[i,5:23].values.astype(float)\n",
    "    #print(x)\n",
    "    x[x!=x] = 0 # Get rid of NaN\n",
    "    xmean = np.mean(x)\n",
    "    print(last,first, x, xmean)\n",
    "    data['first'].append(first)\n",
    "    data['last'].append(last)\n",
    "    data['score'].append(xmean)\n",
    "\n",
    "dfmy = pd.DataFrame.from_dict(data)\n",
    "\n",
    "dfmy"
   ]
  },
  {
   "cell_type": "code",
   "execution_count": null,
   "id": "e7d4e4ff-d631-48fd-ad48-74c250368d19",
   "metadata": {},
   "outputs": [],
   "source": [
    "dfmy.sort_values(by='score')"
   ]
  },
  {
   "cell_type": "code",
   "execution_count": null,
   "id": "8de78ceb-621f-4c26-a389-0da58c84ce79",
   "metadata": {},
   "outputs": [],
   "source": []
  }
 ],
 "metadata": {
  "kernelspec": {
   "display_name": "Python 3 (ipykernel)",
   "language": "python",
   "name": "python3"
  },
  "language_info": {
   "codemirror_mode": {
    "name": "ipython",
    "version": 3
   },
   "file_extension": ".py",
   "mimetype": "text/x-python",
   "name": "python",
   "nbconvert_exporter": "python",
   "pygments_lexer": "ipython3",
   "version": "3.11.7"
  }
 },
 "nbformat": 4,
 "nbformat_minor": 5
}
