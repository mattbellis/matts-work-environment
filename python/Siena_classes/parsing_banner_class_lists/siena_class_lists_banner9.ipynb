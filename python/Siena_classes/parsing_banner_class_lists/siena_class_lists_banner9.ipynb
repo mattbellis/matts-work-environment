{
 "cells": [
  {
   "cell_type": "code",
   "execution_count": null,
   "id": "3d2d8b74",
   "metadata": {},
   "outputs": [],
   "source": [
    "#!pip install --upgrade beautifulsoup4"
   ]
  },
  {
   "cell_type": "code",
   "execution_count": null,
   "id": "17ac18c0-1d85-4fb4-8fc6-4b59ffbe3874",
   "metadata": {},
   "outputs": [],
   "source": [
    "import requests \n",
    "from bs4 import BeautifulSoup\n",
    "import html.parser\n",
    "from html.parser import HTMLParser\n",
    "import sys\n",
    "import os\n",
    "\n",
    "import subprocess\n"
   ]
  },
  {
   "cell_type": "markdown",
   "id": "9609da37-236d-4c3a-a9a7-3dd5fb807262",
   "metadata": {},
   "source": [
    "Do this\n",
    "\n",
    "```\n",
    "rm -rf Class* ; mv ~/Downloads/Class\\ List* .\n",
    "```"
   ]
  },
  {
   "cell_type": "code",
   "execution_count": null,
   "id": "4e9fb7e9-418f-41aa-a18c-bcce682eab21",
   "metadata": {},
   "outputs": [],
   "source": [
    "# Open the file.\n",
    "r = open('Class List.html')\n",
    "\n",
    "if os.path.exists('./Class List_files'):\n",
    "    os.rename('Class List_files','Class_List_files')\n",
    "\n",
    "dirname = 'Class_List_files'"
   ]
  },
  {
   "cell_type": "code",
   "execution_count": null,
   "id": "23542b82-e10b-4a30-b012-83f521cd78e8",
   "metadata": {},
   "outputs": [],
   "source": [
    "# Rename the figures\n",
    "\n",
    "filelist = os.listdir(dirname)\n",
    "\n",
    "for filename in filelist:\n",
    "    #print(filename)\n",
    "    if filename.find('picture') >= 0 and filename.find('.png')<0:\n",
    "        print(filename)\n",
    "        os.rename(dirname+\"/\"+filename, dirname+\"/\"+filename+'.png')"
   ]
  },
  {
   "cell_type": "code",
   "execution_count": null,
   "id": "eec955b4-5de6-4bee-b45e-8d5d127da4fc",
   "metadata": {},
   "outputs": [],
   "source": []
  },
  {
   "cell_type": "code",
   "execution_count": null,
   "id": "33568ed9-c629-463c-802d-32d894d9a008",
   "metadata": {},
   "outputs": [],
   "source": [
    "#print(output)"
   ]
  },
  {
   "cell_type": "code",
   "execution_count": null,
   "id": "b42fe9e9-a146-487f-8668-8085ccf8f55b",
   "metadata": {},
   "outputs": [],
   "source": [
    "soup = BeautifulSoup(r,\"lxml\")\n"
   ]
  },
  {
   "cell_type": "code",
   "execution_count": null,
   "id": "9fe8785c-e469-4434-82b4-37337720f3f0",
   "metadata": {},
   "outputs": [],
   "source": [
    "#soup.find_all('appData.courseInfo.courseTitleComposite')\n",
    "def get_course_name(soup):\n",
    "\n",
    "    course_name = []\n",
    "    \n",
    "    spans = soup.find_all('span')\n",
    "    for span in spans:\n",
    "        #contents = span.contents\n",
    "        #print(contents)\n",
    "        if 'ng-bind' in list(span.attrs.keys()):\n",
    "            #print(span.attrs)\n",
    "            #print(span['ng-bind'])\n",
    "            if span['ng-bind'] == 'appData.courseInfo.courseTitleComposite':\n",
    "                #print(span.attrs)\n",
    "                #print(span['ng-bind'])\n",
    "                \n",
    "                for content in span.contents:\n",
    "                    #print(content.text)\n",
    "                    course_name.append(content.text)\n",
    "\n",
    "    return course_name\n",
    "\n",
    "course_name = get_course_name(soup)\n",
    "\n",
    "course_name[0] = course_name[0].replace('&','\\&')\n",
    "\n",
    "print(course_name)\n",
    "\n",
    "#span = spans[0]\n",
    "\n",
    "#type(span)\n",
    "\n",
    "#span.contents[0].text"
   ]
  },
  {
   "cell_type": "code",
   "execution_count": null,
   "id": "ae98ed6c-d38e-4c95-9961-7ab59c5929ce",
   "metadata": {},
   "outputs": [],
   "source": [
    "imgs = soup.find_all('img')"
   ]
  },
  {
   "cell_type": "code",
   "execution_count": null,
   "id": "a165130a-a4d9-4175-bd8f-8d1addc2f28f",
   "metadata": {},
   "outputs": [],
   "source": [
    "#img = imgs[0]"
   ]
  },
  {
   "cell_type": "code",
   "execution_count": null,
   "id": "78157989-68f7-4470-a2b4-74bf630bdc00",
   "metadata": {
    "scrolled": true
   },
   "outputs": [],
   "source": [
    "#img"
   ]
  },
  {
   "cell_type": "code",
   "execution_count": null,
   "id": "df72b9a5-c0a8-4f28-a162-3cecd5dfe396",
   "metadata": {},
   "outputs": [],
   "source": [
    "#img = str(img)"
   ]
  },
  {
   "cell_type": "code",
   "execution_count": null,
   "id": "f193ef69-b2f1-4c25-8b3f-13707fcd98d8",
   "metadata": {
    "scrolled": true
   },
   "outputs": [],
   "source": [
    "#img"
   ]
  },
  {
   "cell_type": "code",
   "execution_count": null,
   "id": "1db24d41-abb1-4908-848d-b473d8dc881b",
   "metadata": {},
   "outputs": [],
   "source": [
    "#imgs"
   ]
  },
  {
   "cell_type": "code",
   "execution_count": null,
   "id": "bf355d3f-fb05-42c6-8bf3-bfc7cf6cf4b4",
   "metadata": {},
   "outputs": [],
   "source": [
    "lasts,firsts,pics = [], [], []\n",
    "\n",
    "for img in imgs:\n",
    "    img = str(img)\n",
    "    if img.find('ng-src')>=0:\n",
    "        student_name = img.split('\"')[1]\n",
    "        #print(student_name)\n",
    "        last,first = student_name.split(',')\n",
    "        print(first.strip(),last.strip())\n",
    "\n",
    "        pic = img.split('\"')[-2]\n",
    "        pic = pic.replace(' ','_') + '.png'\n",
    "        print(pic)\n",
    "\n",
    "        lasts.append(last.strip())\n",
    "        firsts.append(first)\n",
    "        pics.append(pic)"
   ]
  },
  {
   "cell_type": "code",
   "execution_count": null,
   "id": "fdcef446-4cd9-4d7a-a8b2-d7c6e5bf935b",
   "metadata": {},
   "outputs": [],
   "source": [
    "#pics"
   ]
  },
  {
   "cell_type": "code",
   "execution_count": null,
   "id": "64fa5eb5-5679-406b-aad1-ecf94c79f2b4",
   "metadata": {},
   "outputs": [],
   "source": [
    "output = \"\"\n",
    "output += \"\\documentclass{article}\\n\"\n",
    "output += \"\\\\usepackage{graphicx}\\n\"\n",
    "output += \"\\\\usepackage{subfig}\\n\"\n",
    "output += \"\\\\usepackage{alphalph}\\n\"\n",
    "output += \"\\\\renewcommand\\\\thesubfigure{\\\\alphalph{\\\\value{subfigure}}}\\n\"\n",
    "\n",
    "output += \"\\hoffset=-1.50in\\n\"\n",
    "output += \"\\setlength{\\\\textwidth}{7.5in}\\n\"\n",
    "output += \"\\setlength{\\\\textheight}{9in}\\n\"\n",
    "output += \"\\setlength{\\\\voffset}{0pt}\\n\"\n",
    "output += \"\\setlength{\\\\topmargin}{0pt}\\n\"\n",
    "output += \"\\setlength{\\headheight}{0pt}\\n\"\n",
    "output += \"\\setlength{\\headsep}{0pt}\\n\"\n",
    "output += \"\\\\begin{document}\\n\"\n",
    "\n",
    "\n",
    "\n",
    "icount = 0\n",
    "rowcount = 0\n",
    "\n",
    "nrows = 4\n",
    "ncols = 5\n",
    "maxsubfigs = nrows*ncols\n",
    "\n",
    "lbr = '{'\n",
    "rbr = '}'\n",
    "\n",
    "closed_figure = False\n",
    "\n",
    "for first,last,pic in zip(firsts, lasts, pics):\n",
    "    if first is not None and pic is not None:# and rowcount==5:\n",
    "        if icount%maxsubfigs==0:\n",
    "            #print(\"\\\\begin{document}\")\n",
    "            output += \"\\n\"\n",
    "            output += \"\\\\begin{figure}\\n\"\n",
    "            output += \"\\centering\\n\"\n",
    "            closed_figure = False\n",
    "\n",
    "        colcount = icount%ncols\n",
    "        rowcount = int(icount/ncols)\n",
    "\n",
    "        print(icount, rowcount, colcount)\n",
    "        \n",
    "        last_part = \"\"\n",
    "        if colcount < ncols-1:\n",
    "            last_part = \"\\\\hfill\\n\"\n",
    "        else:\n",
    "            last_part = \"\\\\\\\\\\n\"\n",
    "            \n",
    "        output += f\"\\subfloat[{first} {last}]{lbr}\\includegraphics[width=0.15\\\\textwidth]{lbr}{pic}{rbr}{rbr}{last_part}\"\n",
    "\n",
    "        if icount%maxsubfigs==maxsubfigs-1:\n",
    "            output += f\"\\caption{lbr}{course_name[0]}{rbr}\\n\"\n",
    "            output += \"\\end{figure}\\n\"\n",
    "            closed_figure = True\n",
    "            icount = -1\n",
    "\n",
    "        \n",
    "        icount += 1\n",
    "\n",
    "if not closed_figure:\n",
    "    output += f\"\\caption{lbr}{course_name[0]}{rbr}\\n\"\n",
    "    output += \"\\end{figure}\\n\"\n",
    "output += \"\\end{document}\\n\"\n",
    "\n",
    "print(output)\n",
    "\n",
    "outfile = open('temp.tex','w')\n",
    "outfile.write(output)\n",
    "outfile.close()\n"
   ]
  },
  {
   "cell_type": "code",
   "execution_count": null,
   "id": "131615b7-1982-4c86-a92e-f59da1980552",
   "metadata": {},
   "outputs": [],
   "source": [
    "# Build th ePF from the LaTeX\n",
    "\n",
    "subprocess.run([\"pdflatex\", \"temp\"]) \n",
    "\n",
    "newname = course_name[0].replace(' ','').replace('?','').replace(':','') + '.pdf'\n",
    "os.rename('temp.pdf', newname)"
   ]
  },
  {
   "cell_type": "code",
   "execution_count": null,
   "id": "6b806044-d62b-4849-b78d-40b3b04eaed5",
   "metadata": {},
   "outputs": [],
   "source": []
  },
  {
   "cell_type": "code",
   "execution_count": null,
   "id": "d10124ac-23c6-4383-80ec-d3a5bbafd0bb",
   "metadata": {},
   "outputs": [],
   "source": []
  },
  {
   "cell_type": "code",
   "execution_count": null,
   "id": "5b2defe0-55f1-4427-bd49-b74bc340b770",
   "metadata": {},
   "outputs": [],
   "source": []
  }
 ],
 "metadata": {
  "kernelspec": {
   "display_name": "Python 3 (ipykernel)",
   "language": "python",
   "name": "python3"
  },
  "language_info": {
   "codemirror_mode": {
    "name": "ipython",
    "version": 3
   },
   "file_extension": ".py",
   "mimetype": "text/x-python",
   "name": "python",
   "nbconvert_exporter": "python",
   "pygments_lexer": "ipython3",
   "version": "3.11.7"
  }
 },
 "nbformat": 4,
 "nbformat_minor": 5
}
