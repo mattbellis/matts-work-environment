{
 "cells": [
  {
   "cell_type": "markdown",
   "id": "4ccf4a62",
   "metadata": {},
   "source": [
    "# Flying Frames examples\n",
    "\n",
    "https://flyingframes.readthedocs.io/en/latest/ch3.html\n",
    "\n",
    "Installed from \"Install plugins\" here\n",
    "\n",
    "https://flyingframes.readthedocs.io/en/latest/ch1.html\n",
    "\n",
    "```\n",
    "!pip install manim-physics\n",
    "```"
   ]
  },
  {
   "cell_type": "code",
   "execution_count": null,
   "id": "92d10b5c",
   "metadata": {},
   "outputs": [],
   "source": [
    "from manim import *\n",
    "config.media_embed = True"
   ]
  },
  {
   "cell_type": "code",
   "execution_count": null,
   "id": "0b4b25f4",
   "metadata": {},
   "outputs": [],
   "source": [
    "#ignore this cell, only for setup\n",
    "param = \"-v WARNING -r 500,100 -s  --disable_caching Example\"\n",
    "parambigger = \"-v WARNING -r 500,120 -s  --disable_caching Example\"\n"
   ]
  },
  {
   "cell_type": "code",
   "execution_count": null,
   "id": "340e0b5a",
   "metadata": {},
   "outputs": [],
   "source": [
    "dORIGIN= Dot(color= BLUE,radius=0.5)\n"
   ]
  },
  {
   "cell_type": "code",
   "execution_count": null,
   "id": "a60d6de7",
   "metadata": {},
   "outputs": [],
   "source": [
    "%%manim $param\n",
    "class Example(Scene):\n",
    "    def construct(self):\n",
    "        d= Dot(color= YELLOW, radius=0.5)\n",
    "        d.shift(2*RIGHT)\n",
    "        self.add(dORIGIN, d)"
   ]
  },
  {
   "cell_type": "code",
   "execution_count": null,
   "id": "e5f85b82",
   "metadata": {},
   "outputs": [],
   "source": [
    "%%manim $param\n",
    "class Example(Scene):\n",
    "    def construct(self):\n",
    "        d= Dot(color= YELLOW, radius=0.5)\n",
    "        d.shift(3*RIGHT+0.8*UP)\n",
    "        self.add(dORIGIN, d)"
   ]
  },
  {
   "cell_type": "code",
   "execution_count": null,
   "id": "a16db76f",
   "metadata": {},
   "outputs": [],
   "source": [
    "arc= Arc(radius=1.0, start_angle=-PI/16, angle=PI, stroke_width=10)\n",
    "d=Dot(color= YELLOW, radius=0.2)\n"
   ]
  },
  {
   "cell_type": "code",
   "execution_count": null,
   "id": "12bbbae0",
   "metadata": {},
   "outputs": [],
   "source": [
    "%%manim $param\n",
    "class Example(Scene):\n",
    "    def construct(self):\n",
    "        pos= arc.get_midpoint()\n",
    "        self.add(arc, d.move_to(pos))"
   ]
  },
  {
   "cell_type": "code",
   "execution_count": null,
   "id": "0e42dda1",
   "metadata": {},
   "outputs": [],
   "source": [
    "%%manim $param\n",
    "class Example(Scene):\n",
    "    def construct(self):\n",
    "        d= Dot(color= YELLOW)\n",
    "        d.scale(10)\n",
    "        self.add(d)"
   ]
  },
  {
   "cell_type": "code",
   "execution_count": null,
   "id": "41508e12",
   "metadata": {},
   "outputs": [],
   "source": [
    "%%manim $param\n",
    "class Example(Scene):\n",
    "    def construct(self):\n",
    "        d= Dot(color= YELLOW)\n",
    "        d.scale(10)\n",
    "        d.stretch(4, dim = 0) # dim = 0 means vertical\n",
    "        self.add(d)"
   ]
  },
  {
   "cell_type": "code",
   "execution_count": null,
   "id": "bcfe2874",
   "metadata": {},
   "outputs": [],
   "source": [
    "#only for setup\n",
    "def create_dots():\n",
    "    blue1_ref= Dot(color= BLUE,       point=[-.3,-.5,0], radius=0.5)\n",
    "    blue2_ref= Dot(color= BLUE_A,     point=[ .3,-.5,0], radius=0.5)\n",
    "    yellow1_ref= Dot(color= YELLOW,   point=[-.3, .5,0], radius=0.5)\n",
    "    yellow2_ref= Dot(color= YELLOW_A, point=[ .3, .5,0], radius=0.5)\n",
    "    return blue1_ref, blue2_ref,yellow1_ref,yellow2_ref"
   ]
  },
  {
   "cell_type": "code",
   "execution_count": null,
   "id": "d946e546",
   "metadata": {},
   "outputs": [],
   "source": [
    "%%manim $param\n",
    "blue1,blue2, yellow1,yellow2 = create_dots()\n",
    "class Example(Scene):  # using VMobject instead\n",
    "    def construct(self):\n",
    "        g= VMobject()\n",
    "        g.add(yellow1,yellow2,blue1,blue2)\n",
    "        g.set_stroke(color=PURPLE_D, width=20)\n",
    "        self.add(g)"
   ]
  },
  {
   "cell_type": "markdown",
   "id": "13eca3c0",
   "metadata": {},
   "source": [
    "# Animations\n",
    "\n",
    "https://flyingframes.readthedocs.io/en/latest/ch4.html"
   ]
  },
  {
   "cell_type": "code",
   "execution_count": null,
   "id": "8c21901e",
   "metadata": {},
   "outputs": [],
   "source": [
    "#ignore this cell, only for setup\n",
    "from manim import *\n",
    "config.media_embed = True\n",
    "\n",
    "param= \"-v WARNING  --progress_bar None  -r  500,200  --disable_caching Example\"\n",
    "\n",
    "NO  = Cross(Square(), stroke_color = RED_D, stroke_width = 38).scale(0.9).to_edge(LEFT, buff=1)\n",
    "#YES = SVGMobject(\"good.svg\").to_edge(LEFT, buff=1)\n",
    "#BEST = YES.copy()\n",
    "#BEST.add(Star(color= YELLOW, fill_opacity=1).scale(0.5).move_to(BEST).shift(0.5*DOWN+0.5*RIGHT));"
   ]
  },
  {
   "cell_type": "code",
   "execution_count": null,
   "id": "2fa1dceb",
   "metadata": {},
   "outputs": [],
   "source": [
    "%%manim $param\n",
    "class Example(Scene):\n",
    "    def construct(self):\n",
    "        dot= Dot(color= YELLOW, radius=0.5)\n",
    "        self.add(dot)\n",
    "        self.wait()\n",
    "        dot.scale(2)\n",
    "        self.wait()\n",
    "        dot.scale(2)\n",
    "        self.wait(2)"
   ]
  },
  {
   "cell_type": "code",
   "execution_count": null,
   "id": "0697f3f3",
   "metadata": {},
   "outputs": [],
   "source": [
    "%%manim $param\n",
    "class Example(Scene):\n",
    "    def construct(self):\n",
    "        dot= Dot(color= YELLOW, radius=0.5)\n",
    "        self.play(dot.animate.scale(2))"
   ]
  },
  {
   "cell_type": "markdown",
   "id": "09496599",
   "metadata": {},
   "source": [
    "# Text examples"
   ]
  },
  {
   "cell_type": "code",
   "execution_count": null,
   "id": "1102a595",
   "metadata": {},
   "outputs": [],
   "source": [
    "mob = MathTex(r\"e^x\", substrings_to_isolate=\"x\")  \n",
    "mob.set_color_by_tex(\"x\", YELLOW)  "
   ]
  },
  {
   "cell_type": "code",
   "execution_count": null,
   "id": "5f40a387",
   "metadata": {},
   "outputs": [],
   "source": [
    "%%manim $param\n",
    "class Example(Scene):\n",
    "    def construct(self):\n",
    "        #mob = MathTex(r\"e^x\", substrings_to_isolate=\"x\")  \n",
    "        #mob.set_color_by_tex(\"x\", YELLOW)  \n",
    "        \n",
    "        mob = MathTex(\"E^2 = (mc)^2 + ((p_xc)^2 + (p_yc)^2 + (p_zc)^2)\", substrings_to_isolate=\"c\", font_size=72)\n",
    "        self.add(mob)\n",
    "        self.wait(5)\n",
    "        \n",
    "        mob.set_color_by_tex(\"c\",PINK)\n",
    "        self.add(mob)\n",
    "        self.wait(5)\n",
    "        \n",
    "        #mob2 = MathTex(\"E^2 = (m\",\"c)^2 + ((p_xc)^2 + (p_yc)^2 + (p_zc)^2)\", font_size=72)\n",
    "\n",
    "        #self.play(FadeOut(mob))\n",
    "        \n",
    "        mob2 = MathTex(\"E^2 = m^2 + (p_x^2 + p_y^2 + p_z^2)\", substrings_to_isolate=\"c\", font_size=72)\n",
    "        #self.play(FadeOut(mob),FadeIn(mob2))\n",
    "        self.play(FadeTransform(mob,mob2))\n",
    "\n",
    "        \n",
    "        #self.add(mob)\n",
    "        self.wait(5)\n",
    "\n",
    "        mob3 = MathTex(\"E^2 = m^2 + p^2\", substrings_to_isolate=\"c\", font_size=72)\n",
    "        self.play(FadeTransform(mob2,mob3))\n",
    "        self.wait(5)\n",
    "        \n",
    " \n",
    "        self.play(FadeTransform(mob3,mob2))\n",
    "        self.wait(2)       \n",
    "\n",
    "        self.play(FadeTransform(mob2,mob3))\n",
    "        self.wait(2)       \n"
   ]
  },
  {
   "cell_type": "code",
   "execution_count": null,
   "id": "c7140b14",
   "metadata": {},
   "outputs": [],
   "source": []
  }
 ],
 "metadata": {
  "kernelspec": {
   "display_name": "Python 3 (ipykernel)",
   "language": "python",
   "name": "python3"
  },
  "language_info": {
   "codemirror_mode": {
    "name": "ipython",
    "version": 3
   },
   "file_extension": ".py",
   "mimetype": "text/x-python",
   "name": "python",
   "nbconvert_exporter": "python",
   "pygments_lexer": "ipython3",
   "version": "3.12.9"
  }
 },
 "nbformat": 4,
 "nbformat_minor": 5
}
