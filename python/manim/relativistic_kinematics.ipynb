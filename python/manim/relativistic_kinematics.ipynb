{
 "cells": [
  {
   "cell_type": "code",
   "execution_count": null,
   "id": "60b2cff8",
   "metadata": {},
   "outputs": [],
   "source": [
    "from manim import *\n",
    "config.media_embed = True\n",
    "\n",
    "#ignore this cell, only for setup\n",
    "param= \"-v WARNING  --progress_bar None  -r  500,200  --disable_caching Example\"\n"
   ]
  },
  {
   "cell_type": "code",
   "execution_count": null,
   "id": "51b89cbf",
   "metadata": {},
   "outputs": [],
   "source": [
    "%%manim $param\n",
    "class Example(Scene):\n",
    "    def construct(self):\n",
    "        #mob = MathTex(r\"e^x\", substrings_to_isolate=\"x\")  \n",
    "        #mob.set_color_by_tex(\"x\", YELLOW)  \n",
    "        \n",
    "        mob = MathTex(\"E^2 = (mc)^2 + ((p_xc)^2 + (p_yc)^2 + (p_zc)^2)\", substrings_to_isolate=\"c\", font_size=72)\n",
    "        self.add(mob)\n",
    "        self.wait(5)\n",
    "        \n",
    "        mob.set_color_by_tex(\"c\",PINK)\n",
    "        self.add(mob)\n",
    "        self.wait(5)\n",
    "        \n",
    "        #mob2 = MathTex(\"E^2 = (m\",\"c)^2 + ((p_xc)^2 + (p_yc)^2 + (p_zc)^2)\", font_size=72)\n",
    "\n",
    "        #self.play(FadeOut(mob))\n",
    "        \n",
    "        mob2 = MathTex(\"E^2 = m^2 + (p_x^2 + p_y^2 + p_z^2)\", substrings_to_isolate=\"c\", font_size=72)\n",
    "        #self.play(FadeOut(mob),FadeIn(mob2))\n",
    "        self.play(FadeTransform(mob,mob2))\n",
    "\n",
    "        \n",
    "        #self.add(mob)\n",
    "        self.wait(5)\n",
    "\n",
    "        mob3 = MathTex(\"E^2 = m^2 + p^2\", substrings_to_isolate=\"c\", font_size=72)\n",
    "        self.play(FadeTransform(mob2,mob3))\n",
    "        self.wait(5)\n",
    "        \n",
    " \n",
    "        self.play(FadeTransform(mob3,mob2))\n",
    "        self.wait(2)       \n",
    "\n",
    "        self.play(FadeTransform(mob2,mob3))\n",
    "        self.wait(2)       \n"
   ]
  },
  {
   "cell_type": "code",
   "execution_count": null,
   "id": "6193d7bb",
   "metadata": {},
   "outputs": [],
   "source": []
  }
 ],
 "metadata": {
  "kernelspec": {
   "display_name": "Python 3 (ipykernel)",
   "language": "python",
   "name": "python3"
  },
  "language_info": {
   "codemirror_mode": {
    "name": "ipython",
    "version": 3
   },
   "file_extension": ".py",
   "mimetype": "text/x-python",
   "name": "python",
   "nbconvert_exporter": "python",
   "pygments_lexer": "ipython3",
   "version": "3.9.12"
  }
 },
 "nbformat": 4,
 "nbformat_minor": 5
}
