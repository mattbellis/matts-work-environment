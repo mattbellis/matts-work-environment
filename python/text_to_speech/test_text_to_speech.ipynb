{
 "cells": [
  {
   "cell_type": "markdown",
   "id": "bc9d03f6",
   "metadata": {},
   "source": [
    "https://www.geeksforgeeks.org/convert-text-speech-python/\n",
    "\n",
    "https://gtts.readthedocs.io/en/latest/module.html#localized-accents"
   ]
  },
  {
   "cell_type": "code",
   "execution_count": null,
   "id": "ff2f13ea",
   "metadata": {},
   "outputs": [],
   "source": [
    "# Import the required module for text\n",
    "# to speech conversion\n",
    "from gtts import gTTS\n",
    "\n",
    "# This module is imported so that we can\n",
    "# play the converted audio\n",
    "import os\n",
    "\n",
    "from IPython.display import Video\n"
   ]
  },
  {
   "cell_type": "code",
   "execution_count": null,
   "id": "3e1b1226",
   "metadata": {},
   "outputs": [],
   "source": [
    "# The text that you want to convert to audio\n",
    "#mytext = \"Don't worry. Differential equations is hard.\"\n",
    "mytext = \"I can give you another 5 to 10 minutes.\"\n",
    "\n",
    "# Language in which you want to convert\n",
    "language = 'en'\n",
    "tld='com.au'\n",
    "\n",
    "#language = 'fr'\n",
    "#tld='fr'\n",
    "\n",
    "#language = 'en'\n",
    "#tld='co.in'\n",
    "\n",
    "\n",
    "# Passing the text and language to the engine,\n",
    "# here we have marked slow=False. Which tells\n",
    "# the module that the converted audio should\n",
    "# have a high speed\n",
    "myobj = gTTS(text=mytext, lang=language, tld=tld, slow=False)\n",
    "\n",
    "print(myobj)\n",
    "\n",
    "# Saving the converted audio in a mp3 file named\n",
    "# welcome\n",
    "myobj.save(\"welcome.mp3\")\n",
    "\n",
    "# Playing the converted file\n",
    "Video(\"welcome.mp3\")"
   ]
  },
  {
   "cell_type": "code",
   "execution_count": null,
   "id": "b7987dc1",
   "metadata": {},
   "outputs": [],
   "source": [
    "#myobj."
   ]
  },
  {
   "cell_type": "code",
   "execution_count": null,
   "id": "7cfb463e",
   "metadata": {},
   "outputs": [],
   "source": []
  }
 ],
 "metadata": {
  "kernelspec": {
   "display_name": "Python 3",
   "language": "python",
   "name": "python3"
  },
  "language_info": {
   "codemirror_mode": {
    "name": "ipython",
    "version": 3
   },
   "file_extension": ".py",
   "mimetype": "text/x-python",
   "name": "python",
   "nbconvert_exporter": "python",
   "pygments_lexer": "ipython3",
   "version": "3.8.8"
  }
 },
 "nbformat": 4,
 "nbformat_minor": 5
}
