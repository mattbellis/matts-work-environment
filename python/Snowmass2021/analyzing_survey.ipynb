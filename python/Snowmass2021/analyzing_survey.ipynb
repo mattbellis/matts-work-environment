{
 "cells": [
  {
   "cell_type": "code",
   "execution_count": null,
   "id": "aggregate-cookie",
   "metadata": {},
   "outputs": [],
   "source": [
    "import matplotlib.pylab as plt\n",
    "import numpy as np\n",
    "\n",
    "import pandas as pd"
   ]
  },
  {
   "cell_type": "code",
   "execution_count": null,
   "id": "varied-monitor",
   "metadata": {},
   "outputs": [],
   "source": [
    "df = pd.read_csv('Snowmass2021Survey_CEF.csv')"
   ]
  },
  {
   "cell_type": "code",
   "execution_count": null,
   "id": "associate-coupon",
   "metadata": {},
   "outputs": [],
   "source": [
    "df"
   ]
  },
  {
   "cell_type": "code",
   "execution_count": null,
   "id": "fifteen-interface",
   "metadata": {},
   "outputs": [],
   "source": [
    "df.columns"
   ]
  },
  {
   "cell_type": "code",
   "execution_count": null,
   "id": "secondary-seafood",
   "metadata": {},
   "outputs": [],
   "source": [
    "df['Q8'].dropna().hist()\n",
    "plt.xticks(rotation=90);"
   ]
  },
  {
   "cell_type": "code",
   "execution_count": null,
   "id": "consolidated-architecture",
   "metadata": {},
   "outputs": [],
   "source": [
    "df['Q8_7_TEXT'].unique()\n"
   ]
  },
  {
   "cell_type": "code",
   "execution_count": null,
   "id": "brave-requirement",
   "metadata": {},
   "outputs": [],
   "source": [
    "df['Q10_1'].unique()"
   ]
  },
  {
   "cell_type": "code",
   "execution_count": null,
   "id": "brutal-glass",
   "metadata": {},
   "outputs": [],
   "source": [
    "df['Q10_2'].unique()"
   ]
  },
  {
   "cell_type": "code",
   "execution_count": null,
   "id": "blessed-argument",
   "metadata": {},
   "outputs": [],
   "source": [
    "df['Q10_4_TEXT'].unique()"
   ]
  },
  {
   "cell_type": "code",
   "execution_count": null,
   "id": "overhead-citizen",
   "metadata": {},
   "outputs": [],
   "source": [
    "df['Q10_4'].unique()"
   ]
  },
  {
   "cell_type": "code",
   "execution_count": null,
   "id": "arbitrary-eating",
   "metadata": {},
   "outputs": [],
   "source": []
  }
 ],
 "metadata": {
  "kernelspec": {
   "display_name": "Python 3",
   "language": "python",
   "name": "python3"
  },
  "language_info": {
   "codemirror_mode": {
    "name": "ipython",
    "version": 3
   },
   "file_extension": ".py",
   "mimetype": "text/x-python",
   "name": "python",
   "nbconvert_exporter": "python",
   "pygments_lexer": "ipython3",
   "version": "3.7.9"
  }
 },
 "nbformat": 4,
 "nbformat_minor": 5
}
