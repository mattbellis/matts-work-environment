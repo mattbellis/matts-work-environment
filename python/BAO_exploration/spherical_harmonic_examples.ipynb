{
 "cells": [
  {
   "cell_type": "code",
   "execution_count": null,
   "metadata": {
    "collapsed": true
   },
   "outputs": [],
   "source": [
    "import numpy as np\n",
    "import scipy.special as ss\n",
    "\n",
    "import matplotlib.pylab as plt\n",
    "from matplotlib import cm\n",
    "%matplotlib notebook"
   ]
  },
  {
   "cell_type": "code",
   "execution_count": null,
   "metadata": {
    "collapsed": true
   },
   "outputs": [],
   "source": [
    "theta = np.linspace(0,2*np.pi,100)\n",
    "phi = np.linspace(0,np.pi,100)"
   ]
  },
  {
   "cell_type": "code",
   "execution_count": null,
   "metadata": {
    "collapsed": true
   },
   "outputs": [],
   "source": [
    "yml = []\n",
    "for p in phi:\n",
    "    yml.append(ss.sph_harm(-6,20,theta,p))"
   ]
  },
  {
   "cell_type": "code",
   "execution_count": null,
   "metadata": {},
   "outputs": [],
   "source": [
    "x = yml[10][10]\n",
    "xstar = np.conj(x)\n",
    "print(x,xstar)\n",
    "print(x*xstar)"
   ]
  },
  {
   "cell_type": "code",
   "execution_count": null,
   "metadata": {},
   "outputs": [],
   "source": [
    "len(yml[0])"
   ]
  },
  {
   "cell_type": "code",
   "execution_count": null,
   "metadata": {},
   "outputs": [],
   "source": [
    "cmap = cm.Blues\n",
    "\n",
    "plt.figure()\n",
    "X,Y = np.meshgrid(theta,phi)\n",
    "#Z = yml*np.conj(yml)\n",
    "Z = yml\n",
    "cp = plt.contourf(X,Y,Z,40,cmap=cmap)\n",
    "plt.colorbar(cp)\n"
   ]
  },
  {
   "cell_type": "code",
   "execution_count": null,
   "metadata": {
    "scrolled": false
   },
   "outputs": [],
   "source": [
    "for l in range(0,6):\n",
    "    plt.figure(figsize=(10,4))\n",
    "    mcount = 0\n",
    "    for m in range(-l,l+1,1):\n",
    "        mcount += 1\n",
    "        print(mcount,m,l)\n",
    "        plt.subplot(1,2*l+1,mcount)\n",
    "        \n",
    "        yml = []\n",
    "        \n",
    "        for p in phi:\n",
    "            yml.append(ss.sph_harm(m,l,theta,p))\n",
    "            \n",
    "        X,Y = np.meshgrid(theta,phi)\n",
    "        #Z = yml*np.conj(yml)\n",
    "        Z = yml.copy() # Will plot the real part\n",
    "        cp = plt.contourf(X,Y,Z,40,cmap=cmap)\n",
    "        plt.colorbar(cp)"
   ]
  },
  {
   "cell_type": "code",
   "execution_count": null,
   "metadata": {
    "collapsed": true
   },
   "outputs": [],
   "source": [
    "lms = [(-1,1), (-1,2), (3,3),(-6,10)]\n",
    "coeff = [1, 3, 2, 0.5]\n",
    "\n",
    "yml = []\n",
    "\n",
    "for p in phi:\n",
    "    y = np.zeros(len(theta)).astype(np.complex128)\n",
    "\n",
    "    for lm,c in zip(lms,coeff):\n",
    "        ytemp = ss.sph_harm(lm[0],lm[1],theta,p)\n",
    "        #print(ytemp[10])\n",
    "        #if (ytemp[50] != ytemp[50]):\n",
    "            #print(ytemp)\n",
    "\n",
    "        y += c*ytemp\n",
    "        #print(y[10])\n",
    "\n",
    "    yml.append(y)\n",
    "\n"
   ]
  },
  {
   "cell_type": "code",
   "execution_count": null,
   "metadata": {},
   "outputs": [],
   "source": [
    "X,Y = np.meshgrid(theta,phi)\n",
    "#Z = yml*np.conj(yml)\n",
    "Z = yml # Will plot the real part\n",
    "\n",
    "plt.figure()\n",
    "cp = plt.contourf(X,Y,Z,40,cmap=cmap)\n",
    "plt.colorbar(cp)"
   ]
  },
  {
   "cell_type": "code",
   "execution_count": null,
   "metadata": {
    "collapsed": true
   },
   "outputs": [],
   "source": []
  }
 ],
 "metadata": {
  "kernelspec": {
   "display_name": "Python 3",
   "language": "python",
   "name": "python3"
  },
  "language_info": {
   "codemirror_mode": {
    "name": "ipython",
    "version": 3
   },
   "file_extension": ".py",
   "mimetype": "text/x-python",
   "name": "python",
   "nbconvert_exporter": "python",
   "pygments_lexer": "ipython3",
   "version": "3.6.2"
  }
 },
 "nbformat": 4,
 "nbformat_minor": 2
}
