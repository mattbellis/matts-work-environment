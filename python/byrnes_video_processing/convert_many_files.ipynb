{
 "cells": [
  {
   "cell_type": "code",
   "execution_count": null,
   "metadata": {},
   "outputs": [],
   "source": [
    "# Just bring in some extra libraries\n",
    "\n",
    "import numpy as np\n",
    "import matplotlib.pylab as plt\n",
    "\n",
    "%matplotlib notebook"
   ]
  },
  {
   "cell_type": "code",
   "execution_count": null,
   "metadata": {
    "collapsed": true
   },
   "outputs": [],
   "source": [
    "# Here is where the data lives\n",
    "data_directory = \"./ForMB\""
   ]
  },
  {
   "cell_type": "code",
   "execution_count": null,
   "metadata": {},
   "outputs": [],
   "source": [
    "# Get the labels\n",
    "labelfilename = \"%s/ja_labels.csv\" % (data_directory)\n",
    "labelfile = open(labelfilename,\"r\")\n",
    "\n",
    "labels = labelfile.readline()\n",
    "\n",
    "labels = labels.split(',')\n",
    "\n",
    "#'''\n",
    "print(labels)\n",
    "\n",
    "for i in range(0,len(labels)):\n",
    "    print(\"%2d %s \" % (i,labels[i]))\n",
    "#''';"
   ]
  },
  {
   "cell_type": "code",
   "execution_count": null,
   "metadata": {
    "collapsed": true
   },
   "outputs": [],
   "source": [
    "# Get the start and stop parts\n",
    "stridefilename = \"%s/strides_smooth.csv\" % (data_directory)\n",
    "stridevals = np.loadtxt(stridefilename,skiprows=1,unpack=True,dtype=bytes,delimiter=',')\n",
    "\n",
    "filenames = stridevals[0].astype(str)\n",
    "\n",
    "# Subtract 1 from these because the values in the file assume that the frames start at 1, not 0\n",
    "firstdigitized = stridevals[1].astype(int) - 1\n",
    "rstart = stridevals[2].astype(int) - 1\n",
    "rend = stridevals[3].astype(int) - 1"
   ]
  },
  {
   "cell_type": "code",
   "execution_count": null,
   "metadata": {},
   "outputs": [],
   "source": [
    "# Get the start and stop parts\n",
    "roughstridefilename = \"%s/strides_rough.csv\" % (data_directory)\n",
    "roughstridevals = np.loadtxt(roughstridefilename,skiprows=1,unpack=True,dtype=bytes,delimiter=',')\n",
    "\n",
    "roughfilenames = roughstridevals[0].astype(str)\n",
    "\n",
    "#print(roughstridevals[1].astype(int))\n",
    "\n",
    "\n",
    "# Subtract 1 from these because the values in the file assume that the frames start at 1, not 0\n",
    "roughfirstdigitized = roughstridevals[1].astype(int) - 1\n",
    "rstartrough = roughstridevals[2].astype(int) - 1\n",
    "rendrough = roughstridevals[3].astype(int) - 1"
   ]
  },
  {
   "cell_type": "code",
   "execution_count": null,
   "metadata": {},
   "outputs": [],
   "source": [
    "uniquefilenames = np.unique(filenames)\n",
    "#print(filenames)\n",
    "print(uniquefilenames)"
   ]
  },
  {
   "cell_type": "code",
   "execution_count": null,
   "metadata": {},
   "outputs": [],
   "source": [
    "# Make a master dictionary with all the data\n",
    "\n",
    "alldata = {}\n",
    "for i,label in enumerate(labels):\n",
    "    print(label)\n",
    "    alldata[label] = {}\n",
    "    \n",
    "    # Do the smooth data\n",
    "    for ufilename in uniquefilenames:\n",
    "        \n",
    "        jafilename = \"%s/JointAnglesFiles/%s\" % (data_directory,ufilename)\n",
    "        javals = np.loadtxt(jafilename,skiprows=0,unpack=True,dtype=bytes,delimiter=',')\n",
    "\n",
    "        data = {}\n",
    "        for key,val in zip(labels,javals):\n",
    "            data[key] = val.astype(float)\n",
    "\n",
    "        \n",
    "        index = filenames==ufilename\n",
    "\n",
    "        # Loop over the strides\n",
    "        istride = 0\n",
    "        for offset,start,end in zip(firstdigitized[index],rstart[index],rend[index]):\n",
    "\n",
    "            header = \"%s:%d:%s\" % (ufilename,istride,\"smooth\")\n",
    "            alldata[label][header] = []\n",
    "\n",
    "            s = start\n",
    "            e = end\n",
    "            x = data[label][s:e]\n",
    "\n",
    "            alldata[label][header] = x\n",
    "            \n",
    "            istride += 1\n",
    "\n",
    "    # Now do the rough data\n",
    "    for ufilename in uniquefilenames:\n",
    "        \n",
    "        jafilename = \"%s/JointAnglesFiles/%s\" % (data_directory,ufilename)\n",
    "        javals = np.loadtxt(jafilename,skiprows=0,unpack=True,dtype=bytes,delimiter=',')\n",
    "\n",
    "        data = {}\n",
    "        for key,val in zip(labels,javals):\n",
    "            data[key] = val.astype(float)\n",
    "\n",
    "\n",
    "        index = roughfilenames==ufilename\n",
    "\n",
    "        istride = 0\n",
    "        for offset,start,end in zip(roughfirstdigitized[index],rstartrough[index],rendrough[index]):\n",
    "\n",
    "            header = \"%s:%d:%s\" % (ufilename,istride,\"rough\")\n",
    "            alldata[label][header] = []\n",
    "\n",
    "            s = start\n",
    "            e = end\n",
    "            x = data[label][s:e]\n",
    "\n",
    "            alldata[label][header] = x\n",
    "            \n",
    "            istride += 1\n",
    "\n",
    "\n",
    " "
   ]
  },
  {
   "cell_type": "code",
   "execution_count": null,
   "metadata": {},
   "outputs": [],
   "source": [
    "# Write it out to files\n",
    "\n",
    "for label in labels:\n",
    "    print(label)\n",
    "    keys = alldata[label].keys()\n",
    "    maxval = -1\n",
    "    nkeys = len(keys)\n",
    "    \n",
    "    # Find the person/trial/stride with the most frames\n",
    "    for key in keys:\n",
    "        data = alldata[label][key]\n",
    "        nvals = len(data)\n",
    "        if nvals>maxval:\n",
    "            maxval = nvals\n",
    "\n",
    "    # Write it out\n",
    "    output = \",\".join(keys)\n",
    "    output += \"\\n\"\n",
    "    for i in range(0,maxval):\n",
    "        for j,key in enumerate(keys):\n",
    "            nvalskey = len(alldata[label][key])\n",
    "            if i>=nvalskey:\n",
    "                output += \" \" % ()\n",
    "            else:\n",
    "                output += \"%s\" % (alldata[label][key][i])\n",
    "            \n",
    "            if j<nkeys-1:\n",
    "                output += \",\"\n",
    "        \n",
    "        output += \"\\n\"\n",
    "    outfilename = \"variable_files/%s.csv\" % (label)\n",
    "    outfile = open(outfilename,\"w\")\n",
    "    outfile.write(output)\n",
    "    outfile.close()\n",
    "    #print(output)"
   ]
  },
  {
   "cell_type": "code",
   "execution_count": null,
   "metadata": {},
   "outputs": [],
   "source": [
    "plt.figure()\n",
    "\n",
    "data = alldata['RArmAdd']\n",
    "\n",
    "keys = data.keys()\n",
    "for key in keys:\n",
    "    \n",
    "    y = data[key]\n",
    "    \n",
    "    if \"smooth\" in key and '5_01' in key:\n",
    "        #plt.plot(y,'.',alpha=0.05,color='r')\n",
    "        plt.plot(y,'.',alpha=0.5,label=key)\n",
    "\n",
    "    #elif \"rough\" in key:\n",
    "        #plt.plot(y,'o',alpha=0.2,color='k')\n",
    "    \n",
    "plt.legend()\n",
    "#plt.xlabel('Person',fontsize=18)\n",
    "#plt.ylabel('Right elbow angle (degrees)',fontsize=18)\n",
    "#plt.ylim(0,180)\n",
    "\n",
    "    \n"
   ]
  },
  {
   "cell_type": "code",
   "execution_count": null,
   "metadata": {},
   "outputs": [],
   "source": [
    "vals = np.loadtxt('./ForMB/JointAnglesFiles/5_01_xyzpts_ja.txt',unpack=True,delimiter=',',dtype=bytes)\n",
    "y = vals[13].astype(float)\n",
    "\n",
    "plt.figure()\n",
    "plt.plot(y)"
   ]
  },
  {
   "cell_type": "code",
   "execution_count": null,
   "metadata": {
    "collapsed": true
   },
   "outputs": [],
   "source": []
  }
 ],
 "metadata": {
  "kernelspec": {
   "display_name": "Python 3",
   "language": "python",
   "name": "python3"
  },
  "language_info": {
   "codemirror_mode": {
    "name": "ipython",
    "version": 3
   },
   "file_extension": ".py",
   "mimetype": "text/x-python",
   "name": "python",
   "nbconvert_exporter": "python",
   "pygments_lexer": "ipython3",
   "version": "3.6.1"
  }
 },
 "nbformat": 4,
 "nbformat_minor": 2
}
