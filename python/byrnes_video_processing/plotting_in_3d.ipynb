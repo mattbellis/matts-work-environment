{
 "cells": [
  {
   "cell_type": "code",
   "execution_count": null,
   "metadata": {
    "collapsed": false
   },
   "outputs": [],
   "source": [
    "import sys\n",
    "import numpy as np\n",
    "\n",
    "from mpl_toolkits.mplot3d import Axes3D\n",
    "\n",
    "import matplotlib.pylab as plt\n",
    "%matplotlib notebook"
   ]
  },
  {
   "cell_type": "code",
   "execution_count": null,
   "metadata": {
    "collapsed": false
   },
   "outputs": [],
   "source": [
    "infilename = ['2_01_xyzpts.csv']\n",
    "#anglefilename = ['sdkfjdklsjf']\n",
    "\n",
    "\n",
    "outfilename = \"%s_OUT.csv\" % (infilename[0].split('.')[0])\n",
    "\n",
    "data = np.loadtxt(infilename[0],unpack=True,delimiter=',',skiprows=1,dtype=bytes)\n",
    "#dataangle = np.loadtxt(angleinfilename[0],unpack=True,delimiter=',',skiprows=1,dtype=bytes)\n",
    "\n"
   ]
  },
  {
   "cell_type": "code",
   "execution_count": null,
   "metadata": {
    "collapsed": false
   },
   "outputs": [],
   "source": [
    "fig = plt.figure(figsize=(12,8))\n",
    "ax1 = fig.add_subplot(221, projection='3d')\n",
    "ax2 = fig.add_subplot(222, projection='3d')\n",
    "ax3 = fig.add_subplot(223, projection='3d')\n",
    "ax4 = fig.add_subplot(224, projection='3d')\n",
    "\n",
    "for i in range(0,len(data),3):\n",
    "    print(i)\n",
    "    xpts = data[i].astype(float)\n",
    "    ypts = data[i+1].astype(float)\n",
    "    zpts = data[i+2].astype(float)\n",
    "    \n",
    "    index = xpts==xpts\n",
    "    index *= ypts==ypts\n",
    "    index *= zpts==zpts\n",
    "    \n",
    "    xpts = xpts[index]\n",
    "    ypts = ypts[index]\n",
    "    zpts = zpts[index]\n",
    "    \n",
    "    t = np.arange(0,len(xpts),1)\n",
    "\n",
    "    ax1.plot(t,xpts,ypts)\n",
    "    ax1.set_xlabel('Frame',fontsize=18)\n",
    "    ax1.set_ylabel('X',fontsize=18)\n",
    "    ax1.set_zlabel('Y',fontsize=18)\n",
    "\n",
    "    ax2.plot(t,xpts,zpts)\n",
    "    ax2.set_xlabel('Frame',fontsize=18)\n",
    "    ax2.set_ylabel('X',fontsize=18)\n",
    "    ax2.set_zlabel('Z',fontsize=18)\n",
    "\n",
    "\n",
    "    ax3.plot(t,ypts,zpts)\n",
    "    ax3.set_xlabel('Frame',fontsize=18)\n",
    "    ax3.set_ylabel('Y',fontsize=18)\n",
    "    ax3.set_zlabel('Z',fontsize=18)\n",
    "\n",
    "\n",
    "    ax4.plot(xpts,ypts,zpts)\n",
    "    ax4.set_xlabel('X',fontsize=18)\n",
    "    ax4.set_ylabel('Y',fontsize=18)\n",
    "    ax4.set_zlabel('Y',fontsize=18)\n",
    "\n",
    "\n",
    "    \n",
    "plt.tight_layout()\n",
    "plt.savefig('positions.png')"
   ]
  },
  {
   "cell_type": "code",
   "execution_count": null,
   "metadata": {
    "collapsed": true
   },
   "outputs": [],
   "source": []
  }
 ],
 "metadata": {
  "kernelspec": {
   "display_name": "Python [default]",
   "language": "python",
   "name": "python3"
  },
  "language_info": {
   "codemirror_mode": {
    "name": "ipython",
    "version": 3
   },
   "file_extension": ".py",
   "mimetype": "text/x-python",
   "name": "python",
   "nbconvert_exporter": "python",
   "pygments_lexer": "ipython3",
   "version": "3.5.2"
  }
 },
 "nbformat": 4,
 "nbformat_minor": 2
}
