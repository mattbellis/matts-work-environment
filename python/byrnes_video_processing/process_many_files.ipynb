{
 "cells": [
  {
   "cell_type": "code",
   "execution_count": null,
   "metadata": {
    "collapsed": true
   },
   "outputs": [],
   "source": [
    "# Just bring in some extra libraries\n",
    "\n",
    "import numpy as np\n",
    "import matplotlib.pylab as plt\n",
    "\n",
    "%matplotlib notebook"
   ]
  },
  {
   "cell_type": "code",
   "execution_count": null,
   "metadata": {
    "collapsed": true
   },
   "outputs": [],
   "source": [
    "# Here is where the data lives\n",
    "data_directory = \"./ForMB\""
   ]
  },
  {
   "cell_type": "code",
   "execution_count": null,
   "metadata": {},
   "outputs": [],
   "source": [
    "# Get the labels\n",
    "labelfilename = \"%s/ja_labels.csv\" % (data_directory)\n",
    "labelfile = open(labelfilename,\"r\")\n",
    "\n",
    "labels = labelfile.readline()\n",
    "\n",
    "labels = labels.split(',')\n",
    "\n",
    "print(labels)\n",
    "\n",
    "for i in range(0,len(labels)):\n",
    "    print(\"%2d %s \" % (i,labels[i]))"
   ]
  },
  {
   "cell_type": "code",
   "execution_count": null,
   "metadata": {
    "collapsed": true
   },
   "outputs": [],
   "source": [
    "# Get the start and stop parts\n",
    "stridefilename = \"%s/strides_smooth.csv\" % (data_directory)\n",
    "stridevals = np.loadtxt(stridefilename,skiprows=1,unpack=True,dtype=bytes,delimiter=',')\n",
    "\n",
    "filenames = stridevals[0].astype(str)\n",
    "\n",
    "# Subtract 1 from these because the values in the file assume that the frames start at 1, not 0\n",
    "firstdigitized = stridevals[1].astype(int) - 1\n",
    "rstart = stridevals[2].astype(int) - 1\n",
    "rend = stridevals[3].astype(int) - 1"
   ]
  },
  {
   "cell_type": "code",
   "execution_count": null,
   "metadata": {
    "collapsed": true
   },
   "outputs": [],
   "source": [
    "# Get the start and stop parts\n",
    "roughstridefilename = \"%s/strides_rough.csv\" % (data_directory)\n",
    "roughstridevals = np.loadtxt(roughstridefilename,skiprows=1,unpack=True,dtype=bytes,delimiter=',')\n",
    "\n",
    "roughfilenames = roughstridevals[0].astype(str)\n",
    "\n",
    "#print(roughstridevals[1].astype(int))\n",
    "\n",
    "\n",
    "# Subtract 1 from these because the values in the file assume that the frames start at 1, not 0\n",
    "roughfirstdigitized = roughstridevals[1].astype(int) - 1\n",
    "rstartrough = roughstridevals[2].astype(int) - 1\n",
    "rendrough = roughstridevals[3].astype(int) - 1"
   ]
  },
  {
   "cell_type": "code",
   "execution_count": null,
   "metadata": {},
   "outputs": [],
   "source": [
    "uniquefilenames = np.unique(filenames)\n",
    "#print(filenames)\n",
    "print(uniquefilenames)"
   ]
  },
  {
   "cell_type": "code",
   "execution_count": null,
   "metadata": {
    "collapsed": true
   },
   "outputs": [],
   "source": [
    "angles = {}\n",
    "\n",
    "for ufilename in uniquefilenames:\n",
    "    \n",
    "    #print(ufilename)\n",
    "    \n",
    "    jafilename = \"%s/JointAnglesFiles/%s\" % (data_directory,ufilename)\n",
    "    javals = np.loadtxt(jafilename,skiprows=0,unpack=True,dtype=bytes,delimiter=',')\n",
    "    \n",
    "    data = {}\n",
    "    for key,val in zip(labels,javals):\n",
    "        data[key] = val.astype(float)\n",
    "    \n",
    "    index = filenames==ufilename\n",
    "    \n",
    "    angles[ufilename] = {}\n",
    "    angles[ufilename]['means'] = []\n",
    "    angles[ufilename]['stds'] = []\n",
    "    angles[ufilename]['max'] = []\n",
    "    angles[ufilename]['min'] = []\n",
    "\n",
    "    \n",
    "    \n",
    "    # Loop over the strides\n",
    "    \n",
    "    for offset,start,end in zip(firstdigitized[index],rstart[index],rend[index]):\n",
    "        #print(offset,start,end)\n",
    "        \n",
    "        s = start# - offset\n",
    "        e = end# - offset\n",
    "        x = data['LArmAdd'][s:e]\n",
    "        \n",
    "        #print(np.mean(x))\n",
    "        \n",
    "        angles[ufilename]['means'].append(np.mean(x))\n",
    "        angles[ufilename]['stds'].append(np.std(x))\n",
    "\n",
    "        errval = -999\n",
    "        if len(x)!=0:\n",
    "            angles[ufilename]['max'].append(max(x))\n",
    "            angles[ufilename]['min'].append(min(x))\n",
    "        else:\n",
    "            angles[ufilename]['max'].append(errval)\n",
    "            angles[ufilename]['min'].append(errval)\n"
   ]
  },
  {
   "cell_type": "code",
   "execution_count": null,
   "metadata": {
    "collapsed": true
   },
   "outputs": [],
   "source": [
    "roughangles = {}\n",
    "\n",
    "for ufilename in uniquefilenames:\n",
    "    \n",
    "    #print(ufilename)\n",
    "    \n",
    "    jafilename = \"%s/JointAnglesFiles/%s\" % (data_directory,ufilename)\n",
    "    javals = np.loadtxt(jafilename,skiprows=0,unpack=True,dtype=bytes,delimiter=',')\n",
    "    \n",
    "    data = {}\n",
    "    for key,val in zip(labels,javals):\n",
    "        data[key] = val.astype(float)\n",
    "    \n",
    "    index = roughfilenames==ufilename\n",
    "    \n",
    "    roughangles[ufilename] = {}\n",
    "    roughangles[ufilename]['means'] = []\n",
    "    roughangles[ufilename]['stds'] = []\n",
    "    roughangles[ufilename]['max'] = []\n",
    "    roughangles[ufilename]['min'] = []    \n",
    "    \n",
    "    # Loop over the strides\n",
    "    \n",
    "    #print(ufilename)\n",
    "    #print(roughfirstdigitized[index])\n",
    "    #print(rstartrough[index])\n",
    "    #print(len(rendrough))\n",
    "    #print(len(index))\n",
    "    #print(rendrough[index])\n",
    "    #print(index)\n",
    "\n",
    "    \n",
    "    for offset,start,end in zip(roughfirstdigitized[index],rstartrough[index],rendrough[index]):\n",
    "        \n",
    "        #print(offset,start,end)\n",
    "        \n",
    "        s = start# - offset\n",
    "        e = end# - offset\n",
    "        x = data['RElbow'][s:e]\n",
    "        \n",
    "        #print(np.mean(x))\n",
    "        \n",
    "        roughangles[ufilename]['means'].append(np.mean(x))\n",
    "        roughangles[ufilename]['stds'].append(np.std(x))\n",
    "\n",
    "        errval = -999\n",
    "        if len(x)!=0:\n",
    "            roughangles[ufilename]['max'].append(max(x))\n",
    "            roughangles[ufilename]['min'].append(min(x))\n",
    "        else:\n",
    "            roughangles[ufilename]['max'].append(errval)\n",
    "            roughangles[ufilename]['min'].append(errval)\n"
   ]
  },
  {
   "cell_type": "code",
   "execution_count": null,
   "metadata": {},
   "outputs": [],
   "source": [
    "angles['7_02_xyzpts_ja.txt']"
   ]
  },
  {
   "cell_type": "code",
   "execution_count": null,
   "metadata": {},
   "outputs": [],
   "source": [
    "roughangles['7_02_xyzpts_ja.txt']"
   ]
  },
  {
   "cell_type": "code",
   "execution_count": null,
   "metadata": {
    "scrolled": false
   },
   "outputs": [],
   "source": [
    "plt.figure(figsize=(10,16))\n",
    "\n",
    "toty = 0\n",
    "for i,ufilenames in enumerate(uniquefilenames):\n",
    "    #print(i+1)\n",
    "    person = int(ufilenames.split('_')[0])\n",
    "    persontrial = int(ufilenames.split('_')[1])\n",
    "\n",
    "    location = (person-1)*3 + persontrial\n",
    "    print(location,person,persontrial)\n",
    "    \n",
    "    plt.subplot(9,3,location)\n",
    "    #y = angles[ufilenames]['means']\n",
    "    #yerr = angles[ufilenames]['stds']\n",
    "    ymax = angles[ufilenames]['max']\n",
    "    ymin = angles[ufilenames]['min']\n",
    "\n",
    "    yerr = 0.1\n",
    "\n",
    "    #xpts = np.arange(toty,len(y) + toty)\n",
    "    xpts = np.arange(0,len(ymax))\n",
    "\n",
    "    #print(xpts)\n",
    "    toty += len(ymax)\n",
    "    #print(xpts)\n",
    "    \n",
    "    plt.errorbar(xpts,ymax,yerr=yerr,fmt='o',label=ufilenames)\n",
    "    plt.errorbar(xpts,ymin,yerr=yerr,fmt='o',label=ufilenames)\n",
    "    \n",
    "    #plt.xlim(0,toty+40)\n",
    "    #plt.ylim(50,200)\n",
    "    #plt.legend(fontsize=8)"
   ]
  },
  {
   "cell_type": "code",
   "execution_count": null,
   "metadata": {
    "collapsed": true
   },
   "outputs": [],
   "source": [
    "toty = 0\n",
    "pmax = []\n",
    "pmin = []\n",
    "\n",
    "npeople = 9\n",
    "for i in range(0,npeople):\n",
    "    pmax.append([])\n",
    "    pmin.append([])\n",
    "    \n",
    "\n",
    "for i,ufilenames in enumerate(uniquefilenames):\n",
    "    #print(i+1)\n",
    "    person = int(ufilenames.split('_')[0])\n",
    "    persontrial = int(ufilenames.split('_')[1])\n",
    "\n",
    "    location = (person-1)*3 + persontrial\n",
    "    #print(location,person,persontrial)\n",
    "    \n",
    "    ymax = angles[ufilenames]['max']\n",
    "    ymin = angles[ufilenames]['min']\n",
    "\n",
    "    pmax[person-1] += ymax\n",
    "    pmin[person-1] += ymin\n",
    "    \n",
    "    #plt.errorbar(xpts,ymax,yerr=yerr,fmt='o',label=ufilenames)\n",
    "    #plt.errorbar(xpts,ymin,yerr=yerr,fmt='o',label=ufilenames)\n",
    "    \n"
   ]
  },
  {
   "cell_type": "code",
   "execution_count": null,
   "metadata": {
    "collapsed": true
   },
   "outputs": [],
   "source": [
    "toty = 0\n",
    "pmaxr = []\n",
    "pminr = []\n",
    "\n",
    "npeople = 9\n",
    "for i in range(0,npeople):\n",
    "    pmaxr.append([])\n",
    "    pminr.append([])\n",
    "    \n",
    "\n",
    "for i,ufilenames in enumerate(uniquefilenames):\n",
    "    #print(i+1)\n",
    "    person = int(ufilenames.split('_')[0])\n",
    "    persontrial = int(ufilenames.split('_')[1])\n",
    "\n",
    "    location = (person-1)*3 + persontrial\n",
    "    #print(location,person,persontrial)\n",
    "    \n",
    "    ymax = roughangles[ufilenames]['max']\n",
    "    ymin = roughangles[ufilenames]['min']\n",
    "\n",
    "    pmaxr[person-1] += ymax\n",
    "    pminr[person-1] += ymin\n",
    "    \n",
    "    #plt.errorbar(xpts,ymax,yerr=yerr,fmt='o',label=ufilenames)\n",
    "    #plt.errorbar(xpts,ymin,yerr=yerr,fmt='o',label=ufilenames)\n",
    "    "
   ]
  },
  {
   "cell_type": "code",
   "execution_count": null,
   "metadata": {
    "collapsed": true
   },
   "outputs": [],
   "source": [
    "plt.figure()\n",
    "\n",
    "for i in range(0,npeople):\n",
    "    \n",
    "    plt.errorbar([i+1],np.mean(pmax[i]),yerr=np.std(pmax[i]),fmt='^',label=ufilenames,color='r')\n",
    "    plt.errorbar([i+1],np.mean(pmin[i]),yerr=np.std(pmin[i]),fmt='o',label=ufilenames,color='r')\n",
    "    \n",
    "    plt.errorbar([i+1],np.mean(pmaxr[i]),yerr=np.std(pmaxr[i]),fmt='^',label=ufilenames,color='k')\n",
    "    plt.errorbar([i+1],np.mean(pminr[i]),yerr=np.std(pminr[i]),fmt='o',label=ufilenames,color='k')\n",
    "    \n",
    "    \n",
    "plt.xlabel('Person',fontsize=18)\n",
    "plt.ylabel('Right elbow angle (degrees)',fontsize=18)\n",
    "plt.ylim(0,180)\n",
    "\n",
    "    \n"
   ]
  },
  {
   "cell_type": "code",
   "execution_count": null,
   "metadata": {
    "collapsed": true
   },
   "outputs": [],
   "source": []
  }
 ],
 "metadata": {
  "kernelspec": {
   "display_name": "Python 3",
   "language": "python",
   "name": "python3"
  },
  "language_info": {
   "codemirror_mode": {
    "name": "ipython",
    "version": 3
   },
   "file_extension": ".py",
   "mimetype": "text/x-python",
   "name": "python",
   "nbconvert_exporter": "python",
   "pygments_lexer": "ipython3",
   "version": "3.6.1"
  }
 },
 "nbformat": 4,
 "nbformat_minor": 2
}
