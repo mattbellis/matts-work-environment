{
 "cells": [
  {
   "cell_type": "code",
   "execution_count": null,
   "metadata": {
    "collapsed": true
   },
   "outputs": [],
   "source": [
    "import numpy as np\n",
    "import matplotlib.pylab as plt\n",
    "\n",
    "%matplotlib notebook"
   ]
  },
  {
   "cell_type": "code",
   "execution_count": null,
   "metadata": {
    "collapsed": true
   },
   "outputs": [],
   "source": [
    "data_directory = \"./ForMB\""
   ]
  },
  {
   "cell_type": "code",
   "execution_count": null,
   "metadata": {},
   "outputs": [],
   "source": [
    "# Get the labels\n",
    "labelfilename = \"%s/ja_labels.csv\" % (data_directory)\n",
    "labelfile = open(labelfilename,\"r\")\n",
    "\n",
    "labels = labelfile.readline()\n",
    "\n",
    "labels = labels.split(',')\n",
    "\n",
    "print(labels)\n",
    "\n",
    "for i in range(0,len(labels)):\n",
    "    print(\"%2d %s \" % (i,labels[i]))"
   ]
  },
  {
   "cell_type": "code",
   "execution_count": null,
   "metadata": {},
   "outputs": [],
   "source": [
    "# Get the start and stop parts\n",
    "stridefilename = \"%s/strides_smooth.csv\" % (data_directory)\n",
    "stridevals = np.loadtxt(stridefilename,skiprows=1,unpack=True,dtype=bytes,delimiter=',')\n",
    "\n",
    "filenames = stridevals[0].astype(str)\n",
    "\n",
    "# Subtract 1 from these because the values in the file assume that the frames start at 1, not 0\n",
    "firstdigitized = stridevals[1].astype(int) - 1\n",
    "rstart = stridevals[2].astype(int) - 1\n",
    "rend = stridevals[3].astype(int) - 1"
   ]
  },
  {
   "cell_type": "code",
   "execution_count": null,
   "metadata": {},
   "outputs": [],
   "source": [
    "uniquefilenames = np.unique(filenames)\n",
    "print(uniquefilenames)"
   ]
  },
  {
   "cell_type": "code",
   "execution_count": null,
   "metadata": {},
   "outputs": [],
   "source": [
    "angles = {}\n",
    "\n",
    "\n",
    "for ufilename in uniquefilenames:\n",
    "    \n",
    "    #print(ufilename)\n",
    "    \n",
    "    jafilename = \"%s/JointAnglesFiles/%s\" % (data_directory,ufilename)\n",
    "    javals = np.loadtxt(jafilename,skiprows=0,unpack=True,dtype=bytes,delimiter=',')\n",
    "    \n",
    "    data = {}\n",
    "    for key,val in zip(labels,javals):\n",
    "        data[key] = val.astype(float)\n",
    "    \n",
    "    index = filenames==ufilename\n",
    "    \n",
    "    angles[ufilename] = {}\n",
    "    angles[ufilename]['means'] = []\n",
    "    angles[ufilename]['stds'] = []\n",
    "    \n",
    "    \n",
    "    # Loop over the strides\n",
    "    \n",
    "    for offset,start,end in zip(firstdigitized[index],rstart[index],rend[index]):\n",
    "        #print(offset,start,end)\n",
    "        \n",
    "        s = start - offset\n",
    "        e = end - offset\n",
    "        x = data['Hipang'][s:e]\n",
    "        \n",
    "        #print(np.mean(x))\n",
    "        \n",
    "        angles[ufilename]['means'].append(np.mean(x))\n",
    "        angles[ufilename]['stds'].append(np.std(x))"
   ]
  },
  {
   "cell_type": "code",
   "execution_count": null,
   "metadata": {},
   "outputs": [],
   "source": [
    "angles"
   ]
  },
  {
   "cell_type": "code",
   "execution_count": null,
   "metadata": {},
   "outputs": [],
   "source": [
    "\n",
    "plt.figure(figsize=(10,4))\n",
    "\n",
    "toty = 0\n",
    "for ufilenames in uniquefilenames:\n",
    "    y = angles[ufilenames]['means']\n",
    "    yerr = angles[ufilenames]['stds']\n",
    "\n",
    "    xpts = np.arange(toty,len(y) + toty)\n",
    "    print(xpts)\n",
    "    toty += len(y)\n",
    "    #print(xpts)\n",
    "    \n",
    "    plt.errorbar(xpts,y,yerr=yerr,fmt='o',label=ufilenames)\n",
    "    \n",
    "plt.xlim(0,toty+40)\n",
    "plt.legend(fontsize=8)"
   ]
  },
  {
   "cell_type": "code",
   "execution_count": null,
   "metadata": {
    "collapsed": true
   },
   "outputs": [],
   "source": []
  }
 ],
 "metadata": {
  "kernelspec": {
   "display_name": "Python 3",
   "language": "python",
   "name": "python3"
  },
  "language_info": {
   "codemirror_mode": {
    "name": "ipython",
    "version": 3
   },
   "file_extension": ".py",
   "mimetype": "text/x-python",
   "name": "python",
   "nbconvert_exporter": "python",
   "pygments_lexer": "ipython3",
   "version": "3.6.1"
  }
 },
 "nbformat": 4,
 "nbformat_minor": 2
}
