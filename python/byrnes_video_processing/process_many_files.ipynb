{
 "cells": [
  {
   "cell_type": "code",
   "execution_count": null,
   "metadata": {
    "collapsed": true
   },
   "outputs": [],
   "source": [
    "import numpy as np\n",
    "import matplotlib.pylab as plt\n",
    "\n",
    "%matplotlib notebook"
   ]
  },
  {
   "cell_type": "code",
   "execution_count": null,
   "metadata": {
    "collapsed": true
   },
   "outputs": [],
   "source": [
    "data_directory = \"./ForMB\""
   ]
  },
  {
   "cell_type": "code",
   "execution_count": null,
   "metadata": {
    "collapsed": false
   },
   "outputs": [],
   "source": [
    "# Get the labels\n",
    "labelfilename = \"%s/ja_labels.csv\" % (data_directory)\n",
    "labelfile = open(labelfilename,\"r\")\n",
    "\n",
    "labels = labelfile.readline()\n",
    "\n",
    "labels = labels.split(',')\n",
    "\n",
    "print(labels)\n",
    "\n",
    "for i in range(0,len(labels)):\n",
    "    print(\"%2d %s \")"
   ]
  },
  {
   "cell_type": "code",
   "execution_count": null,
   "metadata": {
    "collapsed": false
   },
   "outputs": [],
   "source": [
    "# Get the start and stop parts\n",
    "stridefilename = \"%s/strides_smooth.csv\" % (data_directory)\n",
    "stridevals = np.loadtxt(stridefilename,skiprows=1,unpack=True,dtype=bytes,delimiter=',')\n",
    "\n",
    "filenames = stridevals[0].astype(str)\n",
    "\n",
    "# Subtract 1 from these because the values in the file assume that the frames start at 1, not 0\n",
    "firstdigitized = stridevals[1].astype(int) - 1\n",
    "rstart = stridevals[2].astype(int) - 1\n",
    "rend = stridevals[3].astype(int) - 1"
   ]
  },
  {
   "cell_type": "code",
   "execution_count": null,
   "metadata": {
    "collapsed": false
   },
   "outputs": [],
   "source": [
    "uniquefilenames = np.unique(filenames)\n",
    "print(uniquefilenames)"
   ]
  },
  {
   "cell_type": "code",
   "execution_count": null,
   "metadata": {
    "collapsed": false
   },
   "outputs": [],
   "source": [
    "means = []\n",
    "stds = []\n",
    "\n",
    "for ufilename in uniquefilenames:\n",
    "    \n",
    "    #print(ufilename)\n",
    "    \n",
    "    jafilename = \"%s/JointAnglesFiles/%s\" % (data_directory,ufilename)\n",
    "    javals = np.loadtxt(jafilename,skiprows=0,unpack=True,dtype=bytes,delimiter=',')\n",
    "    \n",
    "    index = filenames==ufilename\n",
    "    \n",
    "    # Loop over the strides\n",
    "    \n",
    "    for offset,start,end in zip(firstdigitized[index],rstart[index],rend[index]):\n",
    "        #print(offset,start,end)\n",
    "        \n",
    "        s = start - offset\n",
    "        e = end - offset\n",
    "        x = javals[29].astype(float)[s:e]\n",
    "        \n",
    "        #print(np.mean(x))\n",
    "        \n",
    "        means.append(np.mean(x))\n",
    "        stds.append(np.std(x))"
   ]
  },
  {
   "cell_type": "code",
   "execution_count": null,
   "metadata": {
    "collapsed": false
   },
   "outputs": [],
   "source": [
    "xpts = np.arange(0,len(means))\n",
    "print(xpts)\n",
    "\n",
    "plt.figure()\n",
    "plt.errorbar(xpts,means,yerr=stds,fmt='o')"
   ]
  },
  {
   "cell_type": "code",
   "execution_count": null,
   "metadata": {
    "collapsed": true
   },
   "outputs": [],
   "source": []
  }
 ],
 "metadata": {
  "kernelspec": {
   "display_name": "Python [default]",
   "language": "python",
   "name": "python3"
  },
  "language_info": {
   "codemirror_mode": {
    "name": "ipython",
    "version": 3
   },
   "file_extension": ".py",
   "mimetype": "text/x-python",
   "name": "python",
   "nbconvert_exporter": "python",
   "pygments_lexer": "ipython3",
   "version": "3.5.2"
  }
 },
 "nbformat": 4,
 "nbformat_minor": 2
}
