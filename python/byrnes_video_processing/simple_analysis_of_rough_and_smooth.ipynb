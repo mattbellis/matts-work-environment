{
 "cells": [
  {
   "cell_type": "code",
   "execution_count": null,
   "metadata": {},
   "outputs": [],
   "source": [
    "# Just bring in some extra libraries\n",
    "\n",
    "import numpy as np\n",
    "import matplotlib.pylab as plt\n",
    "\n",
    "%matplotlib notebook\n",
    "\n",
    "from scipy.interpolate import interp1d\n",
    "\n",
    "import seaborn as sns\n",
    "sns.set_style()"
   ]
  },
  {
   "cell_type": "code",
   "execution_count": null,
   "metadata": {},
   "outputs": [],
   "source": [
    "# Here is where the data lives\n",
    "data_directory = \"./data\""
   ]
  },
  {
   "cell_type": "code",
   "execution_count": null,
   "metadata": {},
   "outputs": [],
   "source": [
    "# Get the start and stop parts\n",
    "stridefilename = \"%s/strides_smooth.csv\" % (data_directory)\n",
    "stridevals = np.loadtxt(stridefilename,skiprows=1,unpack=True,dtype=bytes,delimiter=',')\n",
    "\n",
    "filenames = stridevals[0].astype(str)\n",
    "\n",
    "# Subtract 1 from these because the values in the file assume that the frames start at 1, not 0\n",
    "firstdigitized = stridevals[1].astype(int) - 1\n",
    "rstart = stridevals[2].astype(int) - 1\n",
    "rend = stridevals[3].astype(int) - 1"
   ]
  },
  {
   "cell_type": "code",
   "execution_count": null,
   "metadata": {},
   "outputs": [],
   "source": [
    "# Get the start and stop parts\n",
    "roughstridefilename = \"%s/strides_rough.csv\" % (data_directory)\n",
    "roughstridevals = np.loadtxt(roughstridefilename,skiprows=1,unpack=True,dtype=bytes,delimiter=',')\n",
    "\n",
    "roughfilenames = roughstridevals[0].astype(str)\n",
    "\n",
    "#print(roughstridevals[1].astype(int))\n",
    "\n",
    "\n",
    "# Subtract 1 from these because the values in the file assume that the frames start at 1, not 0\n",
    "roughfirstdigitized = roughstridevals[1].astype(int) - 1\n",
    "rstartrough = roughstridevals[2].astype(int) - 1\n",
    "rendrough = roughstridevals[3].astype(int) - 1"
   ]
  },
  {
   "cell_type": "code",
   "execution_count": null,
   "metadata": {},
   "outputs": [],
   "source": [
    "#person = \"9_\"\n",
    "\n",
    "plt.figure(figsize=(10,5))\n",
    "\n",
    "for p in range(1,10):\n",
    "    person = \"%d_\" % (p)\n",
    "\n",
    "    sindices = []\n",
    "\n",
    "    for i,f in enumerate(filenames):\n",
    "        if f[0:2]==person:\n",
    "            sindices.append(i)\n",
    "\n",
    "    #print(sindices)\n",
    "\n",
    "    sdts = []\n",
    "    for i in sindices:\n",
    "        dt = rend[i] - rstart[i]\n",
    "        sdts.append(dt)\n",
    "\n",
    "    print(sdts)\n",
    "    print(np.mean(sdts))\n",
    "\n",
    "    rindices = []\n",
    "\n",
    "    for i,f in enumerate(roughfilenames):\n",
    "        if f[0:2]==person:\n",
    "            rindices.append(i)\n",
    "\n",
    "    #print(sindices)\n",
    "\n",
    "    rdts = []\n",
    "    for i in rindices:\n",
    "        dt = rendrough[i] - rstartrough[i]\n",
    "        rdts.append(dt)\n",
    "\n",
    "    print(rdts)\n",
    "    print(np.mean(rdts))\n",
    "    \n",
    "    plt.plot(p*np.ones(len(sdts)),sdts,'bo')\n",
    "    plt.plot((p+0.2)*np.ones(len(rdts)),rdts,'rs')"
   ]
  },
  {
   "cell_type": "code",
   "execution_count": null,
   "metadata": {},
   "outputs": [],
   "source": []
  },
  {
   "cell_type": "code",
   "execution_count": null,
   "metadata": {},
   "outputs": [],
   "source": []
  }
 ],
 "metadata": {
  "kernelspec": {
   "display_name": "Python [default]",
   "language": "python",
   "name": "python3"
  },
  "language_info": {
   "codemirror_mode": {
    "name": "ipython",
    "version": 3
   },
   "file_extension": ".py",
   "mimetype": "text/x-python",
   "name": "python",
   "nbconvert_exporter": "python",
   "pygments_lexer": "ipython3",
   "version": "3.5.4"
  }
 },
 "nbformat": 4,
 "nbformat_minor": 2
}
