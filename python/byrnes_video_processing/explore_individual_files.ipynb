{
 "cells": [
  {
   "cell_type": "code",
   "execution_count": null,
   "metadata": {},
   "outputs": [],
   "source": [
    "# Just bring in some extra libraries\n",
    "\n",
    "import numpy as np\n",
    "import matplotlib.pylab as plt\n",
    "\n",
    "%matplotlib notebook\n",
    "\n",
    "from scipy.interpolate import interp1d"
   ]
  },
  {
   "cell_type": "code",
   "execution_count": null,
   "metadata": {},
   "outputs": [],
   "source": [
    "# Here is where the data lives\n",
    "data_directory = \"./data\""
   ]
  },
  {
   "cell_type": "code",
   "execution_count": null,
   "metadata": {},
   "outputs": [],
   "source": [
    "# Get the start and stop parts\n",
    "stridefilename = \"%s/strides_smooth.csv\" % (data_directory)\n",
    "stridevals = np.loadtxt(stridefilename,skiprows=1,unpack=True,dtype=bytes,delimiter=',')\n",
    "\n",
    "filenames = stridevals[0].astype(str)\n",
    "\n",
    "# Subtract 1 from these because the values in the file assume that the frames start at 1, not 0\n",
    "firstdigitized = stridevals[1].astype(int) - 1\n",
    "rstart = stridevals[2].astype(int) - 1\n",
    "rend = stridevals[3].astype(int) - 1"
   ]
  },
  {
   "cell_type": "code",
   "execution_count": null,
   "metadata": {},
   "outputs": [],
   "source": [
    "filenames"
   ]
  },
  {
   "cell_type": "code",
   "execution_count": null,
   "metadata": {},
   "outputs": [],
   "source": [
    "datas = []\n",
    "labels = []\n",
    "\n",
    "for i in range(1,4):\n",
    "\n",
    "    filename = \"9_0%d_xyzpts_ja2.txt\" % (i)\n",
    "    \n",
    "    fullfilename = \"%s/JointAnglesFiles/%s\" % (data_directory,filename)\n",
    "    data = np.loadtxt(fullfilename,delimiter=',',unpack=True,dtype=float)\n",
    "    \n",
    "    for f,start,end in zip(filenames,rstart,rend):\n",
    "        if f==filename:\n",
    "            com = data[0][start:end]\n",
    "        \n",
    "            datas.append(com)\n",
    "            \n",
    "            label = \"%s %d\" % (filename,start)\n",
    "            labels.append(label)"
   ]
  },
  {
   "cell_type": "code",
   "execution_count": null,
   "metadata": {},
   "outputs": [],
   "source": [
    "plt.figure(figsize=(9,6))\n",
    "\n",
    "for i,com in enumerate(datas):\n",
    "\n",
    "    label = \"%d\" % (i+1)\n",
    "    plt.plot(com,label=labels[i],linewidth=i+1)\n",
    "    \n",
    "plt.legend()"
   ]
  },
  {
   "cell_type": "code",
   "execution_count": null,
   "metadata": {},
   "outputs": [],
   "source": []
  }
 ],
 "metadata": {
  "kernelspec": {
   "display_name": "Python [default]",
   "language": "python",
   "name": "python3"
  },
  "language_info": {
   "codemirror_mode": {
    "name": "ipython",
    "version": 3
   },
   "file_extension": ".py",
   "mimetype": "text/x-python",
   "name": "python",
   "nbconvert_exporter": "python",
   "pygments_lexer": "ipython3",
   "version": "3.5.4"
  }
 },
 "nbformat": 4,
 "nbformat_minor": 2
}
