{
 "cells": [
  {
   "cell_type": "code",
   "execution_count": null,
   "metadata": {
    "collapsed": true
   },
   "outputs": [],
   "source": [
    "import sys\n",
    "import numpy as np\n",
    "\n",
    "import matplotlib.pylab as plt\n",
    "%matplotlib notebook"
   ]
  },
  {
   "cell_type": "code",
   "execution_count": null,
   "metadata": {
    "collapsed": false
   },
   "outputs": [],
   "source": [
    "infilename = ['2_01_xyzpts.csv']\n",
    "#anglefilename = ['sdkfjdklsjf']\n",
    "\n",
    "\n",
    "outfilename = \"%s_OUT.csv\" % (infilename[0].split('.')[0])\n",
    "\n",
    "data = np.loadtxt(infilename[0],unpack=True,delimiter=',',skiprows=1,dtype=bytes)\n",
    "#dataangle = np.loadtxt(angleinfilename[0],unpack=True,delimiter=',',skiprows=1,dtype=bytes)\n",
    "\n"
   ]
  },
  {
   "cell_type": "markdown",
   "metadata": {},
   "source": [
    "Hey Greg, this is python.\n",
    "\n",
    "Don't forget! \n",
    "\n",
    "$$v = \\frac{\\Delta x}{\\Delta t}$$"
   ]
  },
  {
   "cell_type": "code",
   "execution_count": null,
   "metadata": {
    "collapsed": false
   },
   "outputs": [],
   "source": [
    "x = data[27].astype(float)\n",
    "y = data[28].astype(float)\n",
    "z = data[29].astype(float)"
   ]
  },
  {
   "cell_type": "code",
   "execution_count": null,
   "metadata": {
    "collapsed": false
   },
   "outputs": [],
   "source": [
    "plt.figure()\n",
    "plt.plot(z)"
   ]
  },
  {
   "cell_type": "code",
   "execution_count": null,
   "metadata": {
    "collapsed": false
   },
   "outputs": [],
   "source": [
    "# Get the starting point\n",
    "minz = min(z[z==z][0:460])\n",
    "print(minz)\n",
    "\n",
    "index = z.tolist().index(minz)\n",
    "print(index)\n",
    "\n",
    "stridewidth = 80\n",
    "maxz = 0.0\n",
    "\n",
    "\n",
    "lowpoints = []\n",
    "for i in range(10):\n",
    "\n",
    "    start = index+25\n",
    "    end =   index+stridewidth\n",
    "    \n",
    "    lowpoint= min(z[start:end])\n",
    "    newindex = z.tolist().index(lowpoint)\n",
    "    \n",
    "    lowpoints.append(newindex)\n",
    "    \n",
    "    print(lowpoint,newindex)\n",
    "\n",
    "    \n",
    "    index = newindex"
   ]
  },
  {
   "cell_type": "code",
   "execution_count": null,
   "metadata": {
    "collapsed": false
   },
   "outputs": [],
   "source": [
    "plt.figure(figsize=(10,5))\n",
    "plt.plot(z)\n",
    "\n",
    "for i in lowpoints:\n",
    "    print(i)\n",
    "    plt.plot([i,i],[0.,0.4])\n"
   ]
  },
  {
   "cell_type": "code",
   "execution_count": null,
   "metadata": {
    "collapsed": false
   },
   "outputs": [],
   "source": [
    "ndivs = len(lowpoints)\n",
    "\n",
    "for i in range(0,ndivs-1):\n",
    "    \n",
    "    vals = z[lowpoints[i]:lowpoints[i+1]]\n",
    "    \n",
    "    print(np.mean(vals))"
   ]
  },
  {
   "cell_type": "code",
   "execution_count": null,
   "metadata": {
    "collapsed": false
   },
   "outputs": [],
   "source": [
    "from scipy.signal import savgol_filter"
   ]
  },
  {
   "cell_type": "code",
   "execution_count": null,
   "metadata": {
    "collapsed": false
   },
   "outputs": [],
   "source": [
    "zhat = savgol_filter(z[z==z], 21, 3)"
   ]
  },
  {
   "cell_type": "code",
   "execution_count": null,
   "metadata": {
    "collapsed": false
   },
   "outputs": [],
   "source": [
    "plt.figure(figsize=(10,5))\n",
    "plt.plot(z[z==z])\n",
    "plt.plot(zhat)"
   ]
  },
  {
   "cell_type": "code",
   "execution_count": null,
   "metadata": {
    "collapsed": false
   },
   "outputs": [],
   "source": [
    "plt.figure(figsize=(10,5))\n",
    "diff = zhat[0:-1] - zhat[1:]\n",
    "diff[zhat[0:-1]>0.15] = 0\n",
    "#padded = np.zeros(len(diff) + )\n",
    "plt.plot(diff)"
   ]
  },
  {
   "cell_type": "code",
   "execution_count": null,
   "metadata": {
    "collapsed": true
   },
   "outputs": [],
   "source": []
  }
 ],
 "metadata": {
  "kernelspec": {
   "display_name": "Python [default]",
   "language": "python",
   "name": "python3"
  },
  "language_info": {
   "codemirror_mode": {
    "name": "ipython",
    "version": 3
   },
   "file_extension": ".py",
   "mimetype": "text/x-python",
   "name": "python",
   "nbconvert_exporter": "python",
   "pygments_lexer": "ipython3",
   "version": "3.5.2"
  }
 },
 "nbformat": 4,
 "nbformat_minor": 2
}
