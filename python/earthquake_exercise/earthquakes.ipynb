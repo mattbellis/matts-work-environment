{
 "cells": [
  {
   "cell_type": "code",
   "execution_count": null,
   "metadata": {
    "collapsed": true
   },
   "outputs": [],
   "source": [
    "import numpy as np\n",
    "import matplotlib.pylab as plt\n",
    "%matplotlib notebook\n",
    "\n",
    "from eq_tools import *"
   ]
  },
  {
   "cell_type": "code",
   "execution_count": null,
   "metadata": {
    "collapsed": true
   },
   "outputs": [],
   "source": [
    "radii = [1.0, 0.5] #, 0.2, 0.1] # Outer is always first\n",
    "#radii = np.arange(1.0,0.05,-0.05)\n",
    "\n",
    "velocities = [1.0, 0.7]"
   ]
  },
  {
   "cell_type": "code",
   "execution_count": null,
   "metadata": {
    "collapsed": false,
    "scrolled": false
   },
   "outputs": [],
   "source": [
    "fig = plt.figure(figsize=(6,6))\n",
    "ax = fig.add_subplot(1,1,1)\n",
    "x = draw_earth(radii)"
   ]
  },
  {
   "cell_type": "code",
   "execution_count": null,
   "metadata": {
    "collapsed": false
   },
   "outputs": [],
   "source": [
    "rel_angle(1,1, 0,1)"
   ]
  },
  {
   "cell_type": "code",
   "execution_count": null,
   "metadata": {
    "collapsed": false
   },
   "outputs": [],
   "source": [
    "vector_representation(3,3,  4,4)"
   ]
  },
  {
   "cell_type": "code",
   "execution_count": null,
   "metadata": {
    "collapsed": false
   },
   "outputs": [],
   "source": [
    "intersection(0.0,-1.0, 0.0, -0.9, 0.5)"
   ]
  },
  {
   "cell_type": "code",
   "execution_count": null,
   "metadata": {
    "collapsed": false,
    "scrolled": false
   },
   "outputs": [],
   "source": [
    "intercept = -1.0\n",
    "angle = np.pi/2. - np.deg2rad(15.0)\n",
    "slope = np.tan(angle)\n",
    "print \"ONE\"\n",
    "\n",
    "print slope\n",
    "x0 = 0.0\n",
    "y0 = intercept\n",
    "x = 1.0\n",
    "y = new_y(x0,y0,x,angle)\n",
    "\n",
    "rays = []\n",
    "\n",
    "pts = intersection(x0,y0,x,y,radii[1])\n",
    "if pts is not None:\n",
    "    print pts\n",
    "    closest = None\n",
    "    if len(pts)==1:\n",
    "        closest = pts[0]\n",
    "    if len(pts)>1:\n",
    "        d0 = mag(x0-pts[0][0],y0-pts[0][1])\n",
    "        d1 = mag(x0-pts[1][0],y0-pts[1][1])\n",
    "        if d0<d1:\n",
    "            closest = pts[0]\n",
    "        else:\n",
    "            closest = pts[1]\n",
    "            \n",
    "        print \"first: \",closest\n",
    "ray = [[x0,closest[0]],[y0,closest[1]]]\n",
    "rays.append(ray)\n",
    "rd0 = radial_pts(closest[0],closest[1])\n",
    "\n",
    "\n",
    "# Next layer\n",
    "print \"TWO\"\n",
    "vx,vy = vector_representation(ray[0][1],ray[1][1],x0,y0)\n",
    "cx = ray[0][1] # Circle x\n",
    "cy = ray[1][1] # Circle y\n",
    "t0 = rel_angle(cx,cy,vx,vy)\n",
    "\n",
    "t1 = snells(t0,velocities[0],velocities[1])\n",
    "norm_angle = rel_angle(cx,cy,1.0, 0.0)\n",
    "print \"norm: \",np.rad2deg(norm_angle)\n",
    "print \"t0: \",np.rad2deg(t0)\n",
    "print \"t1: \",np.rad2deg(t1)\n",
    "angle -= (t1-t0) # Change in angle is the difference between t0 and t1\n",
    "#angle = norm_angle - t1\n",
    "print np.rad2deg(angle)\n",
    "\n",
    "\n",
    "\n",
    "# Get the new point\n",
    "x0 = closest[0]\n",
    "y0 = closest[1]\n",
    "x = x0 + 1.0\n",
    "y = new_y(x0,y0,x,angle)\n",
    "\n",
    "print \"pts\"\n",
    "pts = intersection(x0,y0,x,y,radii[1])\n",
    "if pts is not None:\n",
    "    print pts\n",
    "    furthest = None\n",
    "    if len(pts)==1:\n",
    "        furthest = pts[0]\n",
    "    if len(pts)>1:\n",
    "        d0 = mag(x0-pts[0][0],y0-pts[0][1])\n",
    "        d1 = mag(x0-pts[1][0],y0-pts[1][1])\n",
    "        if d0<d1:\n",
    "            furthest = pts[1]\n",
    "        else:\n",
    "            furthest = pts[0]\n",
    "            \n",
    "        print furthest\n",
    "ray[0].append(furthest[0])\n",
    "ray[1].append(furthest[1])\n",
    "\n",
    "rd1 = radial_pts(furthest[0],furthest[1])\n",
    "\n",
    "\n",
    "print ray\n",
    "\n",
    "# Get to outside layer\n",
    "print \"THREE\"\n",
    "x0 = ray[0][-2]\n",
    "y0 = ray[1][-2]\n",
    "x = ray[0][-1]\n",
    "y = ray[1][-1]\n",
    "cx = x\n",
    "cy = y\n",
    "vx,vy = vector_representation(x0,y0, x,y)\n",
    "t0 = rel_angle(-cx,-cy,-vx,-vy)\n",
    "t1 = snells(t0,velocities[1],velocities[0])\n",
    "radial_angle = rel_angle(1.0, 0.0, cx,cy)\n",
    "print \"radial angle: \",np.rad2deg(radial_angle)\n",
    "print \"t0: \",np.rad2deg(t0)\n",
    "print \"t1: \",np.rad2deg(t1)\n",
    "print t0,t1\n",
    "#angle += (t0-t1)\n",
    "angle = radial_angle+t1\n",
    "print np.rad2deg(angle)\n",
    "\n",
    "\n",
    "x1 = x + 1\n",
    "y1 = new_y(x,y,x1,angle)\n",
    "\n",
    "pts = intersection(x,y,x1,y1,radii[0])\n",
    "if pts is not None:\n",
    "    print pts\n",
    "    closest = None\n",
    "    if len(pts)==1:\n",
    "        closest = pts[0]\n",
    "    if len(pts)>1:\n",
    "        d0 = mag(x-pts[0][0],y-pts[0][1])\n",
    "        d1 = mag(x-pts[1][0],y-pts[1][1])\n",
    "        if d0<d1:\n",
    "            closest = pts[0]\n",
    "        else:\n",
    "            closest = pts[1]\n",
    "            \n",
    "        print closest\n",
    "\n",
    "ray[0].append(closest[0])\n",
    "ray[1].append(closest[1])"
   ]
  },
  {
   "cell_type": "code",
   "execution_count": null,
   "metadata": {
    "collapsed": false,
    "scrolled": false
   },
   "outputs": [],
   "source": [
    "fig = plt.figure(figsize=(6,6))\n",
    "draw_earth(radii)\n",
    "plt.plot(ray[0],ray[1],'r-',linewidth=5)\n",
    "plt.plot([0,rd0[0]],[0.0,rd0[1]])\n",
    "plt.plot([0,rd1[0]],[0.0,rd1[1]])\n",
    "\n",
    "#plt.plot([0, 0.04391337],[0, -0.49806788])\n",
    "#plt.plot([0, 0.29225], [0, 0.4057])"
   ]
  },
  {
   "cell_type": "code",
   "execution_count": null,
   "metadata": {
    "collapsed": false
   },
   "outputs": [],
   "source": [
    "rays = []\n",
    "\n",
    "for a in [5.0, 10.0, 15.0, 20.0,25.0, 27.0]:\n",
    "    intercept = -1.0\n",
    "    angle = np.pi/2. - np.deg2rad(a)\n",
    "    slope = np.tan(angle)\n",
    "    print \"ONE\"\n",
    "\n",
    "    print slope\n",
    "    x0 = 0.0\n",
    "    y0 = intercept\n",
    "    x = 1.0\n",
    "    y = new_y(x0,y0,x,angle)\n",
    "\n",
    "    pts = intersection(x0,y0,x,y,radii[1])\n",
    "    if pts is not None:\n",
    "        print pts\n",
    "        closest = None\n",
    "        if len(pts)==1:\n",
    "            closest = pts[0]\n",
    "        if len(pts)>1:\n",
    "            d0 = mag(x0-pts[0][0],y0-pts[0][1])\n",
    "            d1 = mag(x0-pts[1][0],y0-pts[1][1])\n",
    "            if d0<d1:\n",
    "                closest = pts[0]\n",
    "            else:\n",
    "                closest = pts[1]\n",
    "\n",
    "            print \"first: \",closest\n",
    "    ray = [[x0,closest[0]],[y0,closest[1]]]\n",
    "    rd0 = radial_pts(closest[0],closest[1])\n",
    "\n",
    "\n",
    "    # Next layer\n",
    "    print \"TWO\"\n",
    "    vx,vy = vector_representation(ray[0][1],ray[1][1],x0,y0)\n",
    "    cx = ray[0][1] # Circle x\n",
    "    cy = ray[1][1] # Circle y\n",
    "    t0 = rel_angle(cx,cy,vx,vy)\n",
    "\n",
    "    t1 = snells(t0,velocities[0],velocities[1])\n",
    "    norm_angle = rel_angle(cx,cy,1.0, 0.0)\n",
    "    print \"norm: \",np.rad2deg(norm_angle)\n",
    "    print \"t0: \",np.rad2deg(t0)\n",
    "    print \"t1: \",np.rad2deg(t1)\n",
    "    angle -= (t1-t0) # Change in angle is the difference between t0 and t1\n",
    "    #angle = norm_angle - t1\n",
    "    print np.rad2deg(angle)\n",
    "\n",
    "\n",
    "\n",
    "    # Get the new point\n",
    "    x0 = closest[0]\n",
    "    y0 = closest[1]\n",
    "    x = x0 + 1.0\n",
    "    y = new_y(x0,y0,x,angle)\n",
    "\n",
    "    print \"pts\"\n",
    "    pts = intersection(x0,y0,x,y,radii[1])\n",
    "    if pts is not None:\n",
    "        print pts\n",
    "        furthest = None\n",
    "        if len(pts)==1:\n",
    "            furthest = pts[0]\n",
    "        if len(pts)>1:\n",
    "            d0 = mag(x0-pts[0][0],y0-pts[0][1])\n",
    "            d1 = mag(x0-pts[1][0],y0-pts[1][1])\n",
    "            if d0<d1:\n",
    "                furthest = pts[1]\n",
    "            else:\n",
    "                furthest = pts[0]\n",
    "\n",
    "            print furthest\n",
    "    ray[0].append(furthest[0])\n",
    "    ray[1].append(furthest[1])\n",
    "\n",
    "    rd1 = radial_pts(furthest[0],furthest[1])\n",
    "\n",
    "\n",
    "    print ray\n",
    "\n",
    "    # Get to outside layer\n",
    "    print \"THREE\"\n",
    "    x0 = ray[0][-2]\n",
    "    y0 = ray[1][-2]\n",
    "    x = ray[0][-1]\n",
    "    y = ray[1][-1]\n",
    "    cx = x\n",
    "    cy = y\n",
    "    vx,vy = vector_representation(x0,y0, x,y)\n",
    "    t0 = rel_angle(-cx,-cy,-vx,-vy)\n",
    "    t1 = snells(t0,velocities[1],velocities[0])\n",
    "    radial_angle = rel_angle(1.0, 0.0, cx,cy)\n",
    "    print \"radial angle: \",np.rad2deg(radial_angle)\n",
    "    print \"t0: \",np.rad2deg(t0)\n",
    "    print \"t1: \",np.rad2deg(t1)\n",
    "    print t0,t1\n",
    "    #angle += (t0-t1)\n",
    "    angle = radial_angle+t1\n",
    "    print np.rad2deg(angle)\n",
    "\n",
    "\n",
    "    x1 = x + 1\n",
    "    y1 = new_y(x,y,x1,angle)\n",
    "\n",
    "    pts = intersection(x,y,x1,y1,radii[0])\n",
    "    if pts is not None:\n",
    "        print pts\n",
    "        closest = None\n",
    "        if len(pts)==1:\n",
    "            closest = pts[0]\n",
    "        if len(pts)>1:\n",
    "            d0 = mag(x-pts[0][0],y-pts[0][1])\n",
    "            d1 = mag(x-pts[1][0],y-pts[1][1])\n",
    "            if d0<d1:\n",
    "                closest = pts[0]\n",
    "            else:\n",
    "                closest = pts[1]\n",
    "\n",
    "            print closest\n",
    "\n",
    "    ray[0].append(closest[0])\n",
    "    ray[1].append(closest[1])\n",
    "    \n",
    "    rays.append(ray)"
   ]
  },
  {
   "cell_type": "code",
   "execution_count": null,
   "metadata": {
    "collapsed": false
   },
   "outputs": [],
   "source": [
    "fig = plt.figure(figsize=(6,6))\n",
    "draw_earth(radii)\n",
    "for ray in rays:\n",
    "    plt.plot(ray[0],ray[1],'r-',linewidth=2)\n",
    "#plt.plot([0,rd0[0]],[0.0,rd0[1]])\n",
    "#plt.plot([0,rd1[0]],[0.0,rd1[1]])\n"
   ]
  },
  {
   "cell_type": "code",
   "execution_count": null,
   "metadata": {
    "collapsed": false
   },
   "outputs": [],
   "source": [
    "rays"
   ]
  },
  {
   "cell_type": "code",
   "execution_count": null,
   "metadata": {
    "collapsed": false,
    "scrolled": false
   },
   "outputs": [],
   "source": [
    "radii = [1.0, 0.5]\n",
    "velocities = [1.0, 0.7]\n",
    "\n",
    "rays = []\n",
    "#ray = [[0.0, 1.0],[1.0, new_y(0,1,1,np.deg2rad(-85.))]]\n",
    "#rays.append(ray)\n",
    "\n",
    "origin = [0.0, 1.0]\n",
    "\n",
    "#angles = [-87., -85., -80., -75., -70., -65]\n",
    "angles = [-80.]\n",
    "\n",
    "for a in angles:\n",
    "    x,y,angle = trace_to_radius(origin[0],origin[1], np.deg2rad(a), radii[0],radii[1], velocities[0], velocities[1])\n",
    "    print x,y,angle\n",
    "\n",
    "    ray = [[origin[0],x],[origin[1],y]]\n",
    "    rays.append(ray)\n",
    "    \n",
    "    #print \"ANGLE: \",angle,np.deg2rad\n",
    "    x1,y1,angle1 = trace_to_radius(x,y, angle, radii[1],radii[1],velocities[1], velocities[0])\n",
    "    \n",
    "    ray = [[x,x1],[y,y1]]\n",
    "    rays.append(ray)\n",
    "    \n",
    "    x2,y2,angle2 = trace_to_radius(x1,y1, angle1, radii[1],radii[0],velocities[1], velocities[0])\n",
    "    \n",
    "    ray = [[x1,y2],[y1,y2]]\n",
    "    rays.append(ray)\n",
    "\n",
    "plt.figure(figsize=(6,6))\n",
    "draw_earth(radii)\n",
    "for ray in rays:\n",
    "    plt.plot(ray[0],ray[1],'r-',linewidth=1)\n",
    "\n"
   ]
  },
  {
   "cell_type": "code",
   "execution_count": null,
   "metadata": {
    "collapsed": false
   },
   "outputs": [],
   "source": [
    "np.deg2rad(-73)"
   ]
  },
  {
   "cell_type": "code",
   "execution_count": null,
   "metadata": {
    "collapsed": false
   },
   "outputs": [],
   "source": [
    "depth = [0, 250, 500, 750, 1000, 1500, 2000, 2500, 2900, 3000, 5000]\n",
    "v = [9, 9.5, 9.75, 10, 10.8, 12, 13, 13.5, 14.0, 8 , 10]\n",
    "\n",
    "plt.figure()\n",
    "plt.plot(depth, v)\n",
    "plt.ylim(0,15)\n",
    "plt.xlabel(\"Depth (km)\",fontsize=18)\n",
    "plt.ylabel(\"Velocity (km/sec)\",fontsize=18)"
   ]
  },
  {
   "cell_type": "code",
   "execution_count": null,
   "metadata": {
    "collapsed": false
   },
   "outputs": [],
   "source": [
    "radii"
   ]
  },
  {
   "cell_type": "code",
   "execution_count": null,
   "metadata": {
    "collapsed": true
   },
   "outputs": [],
   "source": []
  }
 ],
 "metadata": {
  "kernelspec": {
   "display_name": "Python 2",
   "language": "python",
   "name": "python2"
  },
  "language_info": {
   "codemirror_mode": {
    "name": "ipython",
    "version": 2
   },
   "file_extension": ".py",
   "mimetype": "text/x-python",
   "name": "python",
   "nbconvert_exporter": "python",
   "pygments_lexer": "ipython2",
   "version": "2.7.12"
  }
 },
 "nbformat": 4,
 "nbformat_minor": 0
}
